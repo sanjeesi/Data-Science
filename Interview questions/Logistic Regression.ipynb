{
 "cells": [
  {
   "cell_type": "markdown",
   "metadata": {},
   "source": [
    "# 5 common interview questions on **Logistic Regression**\n",
    "- by Unfold Data Science\n",
    "1. Can logistic regression be used for multiclass classification?  \n",
    "Yes, it can be used. But the problem is: it is not simple to use, either we have to use one-vs-all or multinomial implementation.  \n",
    "In both these cases the learning ability of the model will come down.  \n",
    "To make the model's life easy, we will go for **Ensemble** models, bagging-boosting or neural networks.\n",
    "\n",
    "2. How logistic regression works?  \n",
    "In classification we can not use a normal linear regression because y cannot be any real number, but here y is 0 & 1.  \n",
    "Here we do not predict the y directly rather we predict the probabilities, for predicting probabilities we use **logit** function (sigmoid) and **odds ratio**.\n",
    "\n",
    "3. Meaning of coefficients in Logistic regression\n",
    "- Linear regression: For every unit shift in x, the odds in favour of y shifts by m units.\n",
    "- Logistic regression: For every unit shift in x, the odds in favour of y shifts by $ e^m $.\n",
    "\n",
    "4. When logistic regression is used?\n",
    "- If you want a mathematical model\n",
    "- If you want the interpretation of the model more than the prediction power.\n",
    "- If you do not have high end infrastructure to run other models (e.g.: SVM, NN). Logistic Regression is simple but effective model.\n",
    "\n",
    "5. Why logistic regression is called regression?  \n",
    "It is also internally using regression. But does not directly predict y. But predicts **$ log(\\frac{p}{1-p}) $**, where p is the probability."
   ]
  },
  {
   "cell_type": "markdown",
   "metadata": {},
   "source": []
  }
 ],
 "metadata": {
  "language_info": {
   "name": "python"
  },
  "orig_nbformat": 4
 },
 "nbformat": 4,
 "nbformat_minor": 2
}
