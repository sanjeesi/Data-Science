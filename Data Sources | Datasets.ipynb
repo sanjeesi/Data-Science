{
 "cells": [
  {
   "cell_type": "markdown",
   "id": "832f7da9",
   "metadata": {
    "papermill": {
     "duration": 0.002653,
     "end_time": "2022-06-10T23:25:32.989539",
     "exception": false,
     "start_time": "2022-06-10T23:25:32.986886",
     "status": "completed"
    },
    "tags": []
   },
   "source": [
    "# Data Sources - Datasets\n",
    "- National Data & Analytics Platform\n",
    "  - https://ndap.niti.gov.in/\n",
    "  \n",
    "- TDS - Discover data Notebook\n",
    "  - https://github.com/sanjeesi/Data-Science/blob/master/Data%20Science%20IITM/TDS/Module1:%20Discover%20the%20Data/Discover%20the%20Data.ipynb"
   ]
  },
  {
   "cell_type": "code",
   "execution_count": null,
   "id": "15c2b56f",
   "metadata": {
    "papermill": {
     "duration": 0.001353,
     "end_time": "2022-06-10T23:25:32.992786",
     "exception": false,
     "start_time": "2022-06-10T23:25:32.991433",
     "status": "completed"
    },
    "tags": []
   },
   "outputs": [],
   "source": []
  }
 ],
 "metadata": {
  "kernelspec": {
   "display_name": "Python 3",
   "language": "python",
   "name": "python3"
  },
  "language_info": {
   "codemirror_mode": {
    "name": "ipython",
    "version": 3
   },
   "file_extension": ".py",
   "mimetype": "text/x-python",
   "name": "python",
   "nbconvert_exporter": "python",
   "pygments_lexer": "ipython3",
   "version": "3.7.12"
  },
  "papermill": {
   "default_parameters": {},
   "duration": 10.48855,
   "end_time": "2022-06-10T23:25:33.617198",
   "environment_variables": {},
   "exception": null,
   "input_path": "__notebook__.ipynb",
   "output_path": "__notebook__.ipynb",
   "parameters": {},
   "start_time": "2022-06-10T23:25:23.128648",
   "version": "2.3.4"
  }
 },
 "nbformat": 4,
 "nbformat_minor": 5
}
