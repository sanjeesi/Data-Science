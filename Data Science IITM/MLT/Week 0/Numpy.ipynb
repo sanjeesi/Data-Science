{
  "cells": [
    {
      "cell_type": "markdown",
      "metadata": {
        "id": "EqHdxrQWB96c"
      },
      "source": [
        "# NumPy  \n",
        "\n",
        "## by Code with Harry\n",
        ">YouTube video link: https://www.youtube.com/watch?v=Rbh1rieb3zc"
      ]
    },
    {
      "cell_type": "markdown",
      "metadata": {
        "id": "-bckbrqbC6Xo"
      },
      "source": [
        "### Why Numpy?\n",
        "* Numpy provides efficient storage\n",
        "  * uses relatively less memory to store data\n",
        "* It's fast\n",
        "* Unlike lists **randomly accessible**  \n"
      ]
    },
    {
      "cell_type": "code",
      "execution_count": 1,
      "metadata": {
        "id": "LRJA89BcFJOp"
      },
      "outputs": [],
      "source": [
        "import numpy as np"
      ]
    },
    {
      "cell_type": "code",
      "execution_count": null,
      "metadata": {
        "id": "UfX2KV2bFKsC"
      },
      "outputs": [],
      "source": [
        "myarr = np.array([[3,6,3266646, 7]], np.int32)"
      ]
    },
    {
      "cell_type": "code",
      "execution_count": null,
      "metadata": {
        "colab": {
          "base_uri": "https://localhost:8080/"
        },
        "id": "DZ8YI1a9ZdZ9",
        "outputId": "3dba5781-2276-4ff2-a23e-e6610985a0a0"
      },
      "outputs": [
        {
          "data": {
            "text/plain": [
              "6"
            ]
          },
          "execution_count": 16,
          "metadata": {},
          "output_type": "execute_result"
        }
      ],
      "source": [
        "myarr[0,1]"
      ]
    },
    {
      "cell_type": "code",
      "execution_count": null,
      "metadata": {
        "colab": {
          "base_uri": "https://localhost:8080/"
        },
        "id": "gtAEWTe3ZmkU",
        "outputId": "f4722981-0683-4422-c1fa-67c99ae95fa8"
      },
      "outputs": [
        {
          "data": {
            "text/plain": [
              "(1, 4)"
            ]
          },
          "execution_count": 17,
          "metadata": {},
          "output_type": "execute_result"
        }
      ],
      "source": [
        "myarr.shape"
      ]
    },
    {
      "cell_type": "code",
      "execution_count": null,
      "metadata": {
        "colab": {
          "base_uri": "https://localhost:8080/"
        },
        "id": "DwtfUpH_Zpn7",
        "outputId": "7881eeb3-8c59-4f47-afdc-f0e479a24c9b"
      },
      "outputs": [
        {
          "data": {
            "text/plain": [
              "dtype('int32')"
            ]
          },
          "execution_count": 18,
          "metadata": {},
          "output_type": "execute_result"
        }
      ],
      "source": [
        "myarr.dtype"
      ]
    },
    {
      "cell_type": "code",
      "execution_count": null,
      "metadata": {
        "colab": {
          "base_uri": "https://localhost:8080/"
        },
        "id": "xMnKs-W1ZrmS",
        "outputId": "d776509c-ac5c-4ad3-a9b0-5599da6037b5"
      },
      "outputs": [
        {
          "data": {
            "text/plain": [
              "array([[      3,       6, 3266646,       7]], dtype=int32)"
            ]
          },
          "execution_count": 19,
          "metadata": {},
          "output_type": "execute_result"
        }
      ],
      "source": [
        "myarr"
      ]
    },
    {
      "cell_type": "markdown",
      "metadata": {
        "id": "jihhvJIRZ6eD"
      },
      "source": [
        "### Array creation: Conversion from other Python structures"
      ]
    },
    {
      "cell_type": "code",
      "execution_count": null,
      "metadata": {
        "id": "cwgxtLE7ae_x"
      },
      "outputs": [],
      "source": [
        "listarray = np.array([[1,2,3], [5,8,5], [8,0,3]])"
      ]
    },
    {
      "cell_type": "code",
      "execution_count": null,
      "metadata": {
        "colab": {
          "base_uri": "https://localhost:8080/"
        },
        "id": "Y9Z03EC9avZo",
        "outputId": "89deb204-d26e-47b6-f938-b33a08a09093"
      },
      "outputs": [
        {
          "data": {
            "text/plain": [
              "array([[1, 2, 3],\n",
              "       [5, 8, 5],\n",
              "       [8, 0, 3]])"
            ]
          },
          "execution_count": 22,
          "metadata": {},
          "output_type": "execute_result"
        }
      ],
      "source": [
        "listarray"
      ]
    },
    {
      "cell_type": "code",
      "execution_count": null,
      "metadata": {
        "colab": {
          "base_uri": "https://localhost:8080/"
        },
        "id": "WAf_bVc0a1Kb",
        "outputId": "1ccfad23-c9b6-4fd7-d04b-21fd012b28ef"
      },
      "outputs": [
        {
          "data": {
            "text/plain": [
              "dtype('int64')"
            ]
          },
          "execution_count": 24,
          "metadata": {},
          "output_type": "execute_result"
        }
      ],
      "source": [
        "\n",
        "listarray.dtype"
      ]
    },
    {
      "cell_type": "code",
      "execution_count": null,
      "metadata": {
        "colab": {
          "base_uri": "https://localhost:8080/"
        },
        "id": "O0y9Eftsa6tS",
        "outputId": "0a572645-bdb2-484c-8b67-9208a2758d61"
      },
      "outputs": [
        {
          "data": {
            "text/plain": [
              "(3, 3)"
            ]
          },
          "execution_count": 27,
          "metadata": {},
          "output_type": "execute_result"
        }
      ],
      "source": [
        "listarray.shape"
      ]
    },
    {
      "cell_type": "code",
      "execution_count": null,
      "metadata": {
        "colab": {
          "base_uri": "https://localhost:8080/"
        },
        "id": "IAZAPYIZa923",
        "outputId": "d29374df-7f6f-4261-92ef-ebabd067e50d"
      },
      "outputs": [
        {
          "data": {
            "text/plain": [
              "9"
            ]
          },
          "execution_count": 28,
          "metadata": {},
          "output_type": "execute_result"
        }
      ],
      "source": [
        "listarray.size"
      ]
    },
    {
      "cell_type": "code",
      "execution_count": null,
      "metadata": {
        "colab": {
          "base_uri": "https://localhost:8080/"
        },
        "id": "a_UDNidMbAMA",
        "outputId": "f50c58ce-5763-4b1a-bf07-028ab20c5365"
      },
      "outputs": [
        {
          "data": {
            "text/plain": [
              "array({34, 21, 23}, dtype=object)"
            ]
          },
          "execution_count": 31,
          "metadata": {},
          "output_type": "execute_result"
        }
      ],
      "source": [
        "np.array({34,21,23})\n",
        "# objects not efficient for calculations"
      ]
    },
    {
      "cell_type": "code",
      "execution_count": null,
      "metadata": {
        "colab": {
          "base_uri": "https://localhost:8080/"
        },
        "id": "O6H6gyLLbKhv",
        "outputId": "c1c29fc0-5f83-496c-80f2-2d7ac9856964"
      },
      "outputs": [
        {
          "data": {
            "text/plain": [
              "array([[0., 0., 0., 0.],\n",
              "       [0., 0., 0., 0.]])"
            ]
          },
          "execution_count": 33,
          "metadata": {},
          "output_type": "execute_result"
        }
      ],
      "source": [
        "# \n",
        "zeros = np.zeros((2,4))\n",
        "zeros"
      ]
    },
    {
      "cell_type": "code",
      "execution_count": null,
      "metadata": {
        "colab": {
          "base_uri": "https://localhost:8080/"
        },
        "id": "SaEv9jq7bbgX",
        "outputId": "0078a185-e684-483b-d03d-5260af14e146"
      },
      "outputs": [
        {
          "data": {
            "text/plain": [
              "dtype('float64')"
            ]
          },
          "execution_count": 34,
          "metadata": {},
          "output_type": "execute_result"
        }
      ],
      "source": [
        "zeros.dtype"
      ]
    },
    {
      "cell_type": "code",
      "execution_count": null,
      "metadata": {
        "colab": {
          "base_uri": "https://localhost:8080/"
        },
        "id": "fNeT5X0tbzSE",
        "outputId": "1e6e90ab-1e6a-4384-d5ef-8994a1dcad56"
      },
      "outputs": [
        {
          "data": {
            "text/plain": [
              "array([ 0,  1,  2,  3,  4,  5,  6,  7,  8,  9, 10, 11, 12, 13, 14])"
            ]
          },
          "execution_count": 37,
          "metadata": {},
          "output_type": "execute_result"
        }
      ],
      "source": [
        "rng = np.arange(15)\n",
        "rng"
      ]
    },
    {
      "cell_type": "code",
      "execution_count": null,
      "metadata": {
        "colab": {
          "base_uri": "https://localhost:8080/"
        },
        "id": "5saqzAvTb3Qm",
        "outputId": "c0956912-0b30-41e0-9ed0-652ff0220440"
      },
      "outputs": [
        {
          "data": {
            "text/plain": [
              "array([ 0.,  9., 18., 27., 36.])"
            ]
          },
          "execution_count": 46,
          "metadata": {},
          "output_type": "execute_result"
        }
      ],
      "source": [
        "lspace = np.linspace(0,36,5)\n",
        "lspace"
      ]
    },
    {
      "cell_type": "code",
      "execution_count": null,
      "metadata": {
        "colab": {
          "base_uri": "https://localhost:8080/"
        },
        "id": "QM4tmEgtb35e",
        "outputId": "dad85b85-db04-4a2b-d946-765913a3ddf0"
      },
      "outputs": [
        {
          "data": {
            "text/plain": [
              "array([[4.68298782e-310, 4.68298760e-310, 0.00000000e+000],\n",
              "       [0.00000000e+000, 0.00000000e+000, 6.36598737e-314],\n",
              "       [0.00000000e+000, 0.00000000e+000, 0.00000000e+000],\n",
              "       [0.00000000e+000, 0.00000000e+000, 0.00000000e+000]])"
            ]
          },
          "execution_count": 43,
          "metadata": {},
          "output_type": "execute_result"
        }
      ],
      "source": [
        "emp = np.empty((4,3))\n",
        "emp"
      ]
    },
    {
      "cell_type": "code",
      "execution_count": null,
      "metadata": {
        "colab": {
          "base_uri": "https://localhost:8080/"
        },
        "id": "tU6qWhw5cYUg",
        "outputId": "3c731331-1b41-49f7-c0bd-4568e678f75b"
      },
      "outputs": [
        {
          "data": {
            "text/plain": [
              "array([ 0.,  9., 18., 27., 36.])"
            ]
          },
          "execution_count": 47,
          "metadata": {},
          "output_type": "execute_result"
        }
      ],
      "source": [
        "emp_like = np.empty_like(lspace)\n",
        "emp_like"
      ]
    },
    {
      "cell_type": "code",
      "execution_count": null,
      "metadata": {
        "colab": {
          "base_uri": "https://localhost:8080/"
        },
        "id": "l_4pEMbkcvli",
        "outputId": "61631269-50f6-4799-f8a9-c60cfdd3f047"
      },
      "outputs": [
        {
          "data": {
            "text/plain": [
              "array([[1., 0., 0., 0., 0.],\n",
              "       [0., 1., 0., 0., 0.],\n",
              "       [0., 0., 1., 0., 0.],\n",
              "       [0., 0., 0., 1., 0.],\n",
              "       [0., 0., 0., 0., 1.]])"
            ]
          },
          "execution_count": 50,
          "metadata": {},
          "output_type": "execute_result"
        }
      ],
      "source": [
        "ide = np.identity(5)\n",
        "ide"
      ]
    },
    {
      "cell_type": "code",
      "execution_count": null,
      "metadata": {
        "colab": {
          "base_uri": "https://localhost:8080/"
        },
        "id": "Z2R5ZSRWdDlv",
        "outputId": "24a4be31-71ae-4074-a311-37b2725081b7"
      },
      "outputs": [
        {
          "data": {
            "text/plain": [
              "array([ 0,  1,  2,  3,  4,  5,  6,  7,  8,  9, 10, 11, 12, 13, 14, 15, 16,\n",
              "       17, 18, 19, 20, 21, 22, 23, 24, 25, 26, 27, 28, 29, 30, 31, 32, 33,\n",
              "       34, 35, 36, 37, 38, 39, 40, 41, 42, 43, 44, 45, 46, 47, 48, 49, 50,\n",
              "       51, 52, 53, 54, 55, 56, 57, 58, 59, 60, 61, 62, 63, 64, 65, 66, 67,\n",
              "       68, 69, 70, 71, 72, 73, 74, 75, 76, 77, 78, 79, 80, 81, 82, 83, 84,\n",
              "       85, 86, 87, 88, 89, 90, 91, 92, 93, 94, 95, 96, 97, 98])"
            ]
          },
          "execution_count": 53,
          "metadata": {},
          "output_type": "execute_result"
        }
      ],
      "source": [
        "arr = np.arange(99)\n",
        "arr"
      ]
    },
    {
      "cell_type": "code",
      "execution_count": null,
      "metadata": {
        "colab": {
          "base_uri": "https://localhost:8080/"
        },
        "id": "0fFYzUMxdLjo",
        "outputId": "20471f27-388e-486c-87dd-94001a5d5ccd"
      },
      "outputs": [
        {
          "data": {
            "text/plain": [
              "array([[ 0,  1,  2,  3,  4,  5,  6,  7,  8,  9, 10, 11, 12, 13, 14, 15,\n",
              "        16, 17, 18, 19, 20, 21, 22, 23, 24, 25, 26, 27, 28, 29, 30, 31,\n",
              "        32],\n",
              "       [33, 34, 35, 36, 37, 38, 39, 40, 41, 42, 43, 44, 45, 46, 47, 48,\n",
              "        49, 50, 51, 52, 53, 54, 55, 56, 57, 58, 59, 60, 61, 62, 63, 64,\n",
              "        65],\n",
              "       [66, 67, 68, 69, 70, 71, 72, 73, 74, 75, 76, 77, 78, 79, 80, 81,\n",
              "        82, 83, 84, 85, 86, 87, 88, 89, 90, 91, 92, 93, 94, 95, 96, 97,\n",
              "        98]])"
            ]
          },
          "execution_count": 57,
          "metadata": {},
          "output_type": "execute_result"
        }
      ],
      "source": [
        "arr = arr.reshape(3, 33)\n",
        "arr"
      ]
    },
    {
      "cell_type": "code",
      "execution_count": null,
      "metadata": {
        "colab": {
          "base_uri": "https://localhost:8080/"
        },
        "id": "bCb5wVF4dTs5",
        "outputId": "61217ead-f8df-4290-932f-4256f077000d"
      },
      "outputs": [
        {
          "data": {
            "text/plain": [
              "array([ 0,  1,  2,  3,  4,  5,  6,  7,  8,  9, 10, 11, 12, 13, 14, 15, 16,\n",
              "       17, 18, 19, 20, 21, 22, 23, 24, 25, 26, 27, 28, 29, 30, 31, 32, 33,\n",
              "       34, 35, 36, 37, 38, 39, 40, 41, 42, 43, 44, 45, 46, 47, 48, 49, 50,\n",
              "       51, 52, 53, 54, 55, 56, 57, 58, 59, 60, 61, 62, 63, 64, 65, 66, 67,\n",
              "       68, 69, 70, 71, 72, 73, 74, 75, 76, 77, 78, 79, 80, 81, 82, 83, 84,\n",
              "       85, 86, 87, 88, 89, 90, 91, 92, 93, 94, 95, 96, 97, 98])"
            ]
          },
          "execution_count": 58,
          "metadata": {},
          "output_type": "execute_result"
        }
      ],
      "source": [
        "arr = arr.ravel()\n",
        "arr"
      ]
    },
    {
      "cell_type": "code",
      "execution_count": null,
      "metadata": {
        "colab": {
          "base_uri": "https://localhost:8080/"
        },
        "id": "0uGyMUCPdmBO",
        "outputId": "4236a167-893f-40e2-9d59-b4d85209f9f1"
      },
      "outputs": [
        {
          "data": {
            "text/plain": [
              "(99,)"
            ]
          },
          "execution_count": 59,
          "metadata": {},
          "output_type": "execute_result"
        }
      ],
      "source": [
        "arr.shape"
      ]
    },
    {
      "cell_type": "markdown",
      "metadata": {
        "id": "McB4IsJndnH5"
      },
      "source": [
        "### NUMPY AXIS\n",
        "> Number of axis required to represent the array\n",
        "\n",
        "for a 2D array x is axis0 and y is axis1"
      ]
    },
    {
      "cell_type": "code",
      "execution_count": null,
      "metadata": {
        "id": "Rll-5qDgdvJp"
      },
      "outputs": [],
      "source": [
        "x = listarray"
      ]
    },
    {
      "cell_type": "code",
      "execution_count": null,
      "metadata": {
        "colab": {
          "base_uri": "https://localhost:8080/"
        },
        "id": "5D6bcEnEe6wI",
        "outputId": "51d6414f-83c2-4b97-f3bd-5cc5814948c9"
      },
      "outputs": [
        {
          "data": {
            "text/plain": [
              "array([[1, 2, 3],\n",
              "       [5, 8, 5],\n",
              "       [8, 0, 3]])"
            ]
          },
          "execution_count": 62,
          "metadata": {},
          "output_type": "execute_result"
        }
      ],
      "source": [
        "x"
      ]
    },
    {
      "cell_type": "code",
      "execution_count": null,
      "metadata": {
        "id": "RsSqUTfQe7dv"
      },
      "outputs": [],
      "source": [
        "x[0][0] =0"
      ]
    },
    {
      "cell_type": "code",
      "execution_count": null,
      "metadata": {
        "colab": {
          "base_uri": "https://localhost:8080/"
        },
        "id": "ZIw4vLamfDrJ",
        "outputId": "1b7e1be7-eac1-4a6e-bf35-3adc6a7369d6"
      },
      "outputs": [
        {
          "data": {
            "text/plain": [
              "array([[0, 2, 3],\n",
              "       [5, 8, 5],\n",
              "       [8, 0, 3]])"
            ]
          },
          "execution_count": 64,
          "metadata": {},
          "output_type": "execute_result"
        }
      ],
      "source": [
        "x"
      ]
    },
    {
      "cell_type": "code",
      "execution_count": null,
      "metadata": {
        "colab": {
          "base_uri": "https://localhost:8080/"
        },
        "id": "tqo63eG6fEO2",
        "outputId": "d7549d3d-919f-4eb2-dd68-1725586d73eb"
      },
      "outputs": [
        {
          "data": {
            "text/plain": [
              "array([[0, 2, 3],\n",
              "       [5, 8, 5],\n",
              "       [8, 0, 3]])"
            ]
          },
          "execution_count": 67,
          "metadata": {},
          "output_type": "execute_result"
        }
      ],
      "source": [
        "listarray\n",
        "# x points to listarray"
      ]
    },
    {
      "cell_type": "code",
      "execution_count": null,
      "metadata": {
        "colab": {
          "base_uri": "https://localhost:8080/"
        },
        "id": "-b11GchAfFzF",
        "outputId": "1d88b40a-35f7-44e1-ec51-9102765e5da0"
      },
      "outputs": [
        {
          "data": {
            "text/plain": [
              "array([13, 10, 11])"
            ]
          },
          "execution_count": 68,
          "metadata": {},
          "output_type": "execute_result"
        }
      ],
      "source": [
        "x.sum(axis=0)"
      ]
    },
    {
      "cell_type": "code",
      "execution_count": null,
      "metadata": {
        "colab": {
          "base_uri": "https://localhost:8080/"
        },
        "id": "Uvu1AzoxfVcZ",
        "outputId": "85eb486c-3ae7-4f19-fe5a-d782e4feae79"
      },
      "outputs": [
        {
          "data": {
            "text/plain": [
              "array([ 5, 18, 11])"
            ]
          },
          "execution_count": 69,
          "metadata": {},
          "output_type": "execute_result"
        }
      ],
      "source": [
        "x.sum(axis=1)"
      ]
    },
    {
      "cell_type": "code",
      "execution_count": null,
      "metadata": {
        "colab": {
          "base_uri": "https://localhost:8080/"
        },
        "id": "T9YZ6oHWfdpY",
        "outputId": "6656856b-a282-4203-e94e-9e4f7f3e10c1"
      },
      "outputs": [
        {
          "data": {
            "text/plain": [
              "array([[0, 5, 8],\n",
              "       [2, 8, 0],\n",
              "       [3, 5, 3]])"
            ]
          },
          "execution_count": 70,
          "metadata": {},
          "output_type": "execute_result"
        }
      ],
      "source": [
        "x.T\n",
        "# transpose"
      ]
    },
    {
      "cell_type": "code",
      "execution_count": null,
      "metadata": {
        "colab": {
          "base_uri": "https://localhost:8080/"
        },
        "id": "S7Cj35JnfhCh",
        "outputId": "1c755175-68e8-47f5-ceb9-5a4577c66503"
      },
      "outputs": [
        {
          "data": {
            "text/plain": [
              "<numpy.flatiter at 0x5634c8df4100>"
            ]
          },
          "execution_count": 72,
          "metadata": {},
          "output_type": "execute_result"
        }
      ],
      "source": [
        "x.flat\n",
        "# gives an iterator"
      ]
    },
    {
      "cell_type": "code",
      "execution_count": null,
      "metadata": {
        "colab": {
          "base_uri": "https://localhost:8080/"
        },
        "id": "eOGdCkUEfnnh",
        "outputId": "1e7eafa8-294d-4e12-c8e2-12cd8edf8bee"
      },
      "outputs": [
        {
          "name": "stdout",
          "output_type": "stream",
          "text": [
            "0\n",
            "2\n",
            "3\n",
            "5\n",
            "8\n",
            "5\n",
            "8\n",
            "0\n",
            "3\n"
          ]
        }
      ],
      "source": [
        "for item in x.flat:\n",
        "  print(item)"
      ]
    },
    {
      "cell_type": "code",
      "execution_count": null,
      "metadata": {
        "colab": {
          "base_uri": "https://localhost:8080/"
        },
        "id": "zjEC9wGLf4XO",
        "outputId": "47e2fcd5-d361-4205-bc6e-1989a485cee9"
      },
      "outputs": [
        {
          "data": {
            "text/plain": [
              "2"
            ]
          },
          "execution_count": 75,
          "metadata": {},
          "output_type": "execute_result"
        }
      ],
      "source": [
        "x.ndim\n",
        "# number of dimension"
      ]
    },
    {
      "cell_type": "code",
      "execution_count": null,
      "metadata": {
        "colab": {
          "base_uri": "https://localhost:8080/"
        },
        "id": "YAu7TwBof8wW",
        "outputId": "ee885ba9-0640-40db-928b-bf0df590b967"
      },
      "outputs": [
        {
          "data": {
            "text/plain": [
              "9"
            ]
          },
          "execution_count": 76,
          "metadata": {},
          "output_type": "execute_result"
        }
      ],
      "source": [
        "x.size\n",
        "# no. of elements"
      ]
    },
    {
      "cell_type": "code",
      "execution_count": null,
      "metadata": {
        "colab": {
          "base_uri": "https://localhost:8080/"
        },
        "id": "mvkgYInVgDeg",
        "outputId": "529f0bda-1c15-4340-e6fe-e16d3221667a"
      },
      "outputs": [
        {
          "data": {
            "text/plain": [
              "72"
            ]
          },
          "execution_count": 77,
          "metadata": {},
          "output_type": "execute_result"
        }
      ],
      "source": [
        "x.nbytes\n",
        "# total bytes consumed"
      ]
    },
    {
      "cell_type": "code",
      "execution_count": null,
      "metadata": {
        "id": "drLQ9VGygI1_"
      },
      "outputs": [],
      "source": [
        "one = np.array([1,3,51,43])"
      ]
    },
    {
      "cell_type": "code",
      "execution_count": null,
      "metadata": {
        "colab": {
          "base_uri": "https://localhost:8080/"
        },
        "id": "foKY6oE1gOxX",
        "outputId": "bd7551c9-c07f-402c-b4d8-3bb3dcf6d9ca"
      },
      "outputs": [
        {
          "data": {
            "text/plain": [
              "2"
            ]
          },
          "execution_count": 85,
          "metadata": {},
          "output_type": "execute_result"
        }
      ],
      "source": [
        "one.argmax()\n",
        "# index of max element"
      ]
    },
    {
      "cell_type": "code",
      "execution_count": null,
      "metadata": {
        "colab": {
          "base_uri": "https://localhost:8080/"
        },
        "id": "nRrHBoSLgRiJ",
        "outputId": "2d19feeb-6ef9-46de-cc4e-fb406d1eefbc"
      },
      "outputs": [
        {
          "data": {
            "text/plain": [
              "0"
            ]
          },
          "execution_count": 86,
          "metadata": {},
          "output_type": "execute_result"
        }
      ],
      "source": [
        "one.argmin()"
      ]
    },
    {
      "cell_type": "code",
      "execution_count": null,
      "metadata": {
        "colab": {
          "base_uri": "https://localhost:8080/"
        },
        "id": "-LyJ8MPXgcIQ",
        "outputId": "2ebc4793-58dc-4ae8-8e63-469c179c6054"
      },
      "outputs": [
        {
          "data": {
            "text/plain": [
              "array([0, 1, 3, 2])"
            ]
          },
          "execution_count": 87,
          "metadata": {},
          "output_type": "execute_result"
        }
      ],
      "source": [
        "one.argsort()\n",
        "# indices in sorted array"
      ]
    },
    {
      "cell_type": "code",
      "execution_count": null,
      "metadata": {
        "colab": {
          "base_uri": "https://localhost:8080/"
        },
        "id": "ffAzp76uge1s",
        "outputId": "28fe871f-9d33-4d21-a91c-cf6586908087"
      },
      "outputs": [
        {
          "data": {
            "text/plain": [
              "4"
            ]
          },
          "execution_count": 88,
          "metadata": {},
          "output_type": "execute_result"
        }
      ],
      "source": [
        "x.argmax()"
      ]
    },
    {
      "cell_type": "code",
      "execution_count": null,
      "metadata": {
        "colab": {
          "base_uri": "https://localhost:8080/"
        },
        "id": "EOH_b_EYg3PH",
        "outputId": "58bc1e6a-0d06-40f5-a1af-29db97afa02b"
      },
      "outputs": [
        {
          "data": {
            "text/plain": [
              "array([[0, 1, 2],\n",
              "       [0, 2, 1],\n",
              "       [1, 2, 0]])"
            ]
          },
          "execution_count": 89,
          "metadata": {},
          "output_type": "execute_result"
        }
      ],
      "source": [
        "x.argsort()"
      ]
    },
    {
      "cell_type": "code",
      "execution_count": null,
      "metadata": {
        "colab": {
          "base_uri": "https://localhost:8080/"
        },
        "id": "NYjz0B-UhtUU",
        "outputId": "4c19a87e-e2b9-4b2f-809f-d4fe1f1b9c96"
      },
      "outputs": [
        {
          "data": {
            "text/plain": [
              "array([[0, 2, 3],\n",
              "       [5, 8, 5],\n",
              "       [8, 0, 3]])"
            ]
          },
          "execution_count": 94,
          "metadata": {},
          "output_type": "execute_result"
        }
      ],
      "source": [
        "x"
      ]
    },
    {
      "cell_type": "code",
      "execution_count": null,
      "metadata": {
        "colab": {
          "base_uri": "https://localhost:8080/"
        },
        "id": "q27UYp-yg89n",
        "outputId": "e91c8611-2781-471a-f5af-a57533c3d693"
      },
      "outputs": [
        {
          "data": {
            "text/plain": [
              "array([2, 1, 1])"
            ]
          },
          "execution_count": 91,
          "metadata": {},
          "output_type": "execute_result"
        }
      ],
      "source": [
        "x.argmax(axis=0)"
      ]
    },
    {
      "cell_type": "code",
      "execution_count": null,
      "metadata": {
        "colab": {
          "base_uri": "https://localhost:8080/"
        },
        "id": "FMPoIExRhM21",
        "outputId": "49367ba3-1a81-41d4-e156-363a78fedab8"
      },
      "outputs": [
        {
          "data": {
            "text/plain": [
              "array([2, 1, 0])"
            ]
          },
          "execution_count": 93,
          "metadata": {},
          "output_type": "execute_result"
        }
      ],
      "source": [
        "x.argmax(axis=1)"
      ]
    },
    {
      "cell_type": "code",
      "execution_count": null,
      "metadata": {
        "colab": {
          "base_uri": "https://localhost:8080/"
        },
        "id": "U1tmfZfIhozc",
        "outputId": "273eac49-8ced-42b1-beb0-8fa4be8fc87c"
      },
      "outputs": [
        {
          "data": {
            "text/plain": [
              "array([[0, 5, 8],\n",
              "       [2, 8, 0],\n",
              "       [3, 5, 3]])"
            ]
          },
          "execution_count": 96,
          "metadata": {},
          "output_type": "execute_result"
        }
      ],
      "source": [
        "y = x.T\n",
        "y"
      ]
    },
    {
      "cell_type": "markdown",
      "metadata": {
        "id": "Mzt8GvljiKO4"
      },
      "source": [
        "### Mathematical Operations"
      ]
    },
    {
      "cell_type": "code",
      "execution_count": null,
      "metadata": {
        "colab": {
          "base_uri": "https://localhost:8080/"
        },
        "id": "PJwkFzrtiDg8",
        "outputId": "ea056a93-f6f0-42d5-eb3b-49e4f00600bc"
      },
      "outputs": [
        {
          "data": {
            "text/plain": [
              "array([[ 0,  7, 11],\n",
              "       [ 7, 16,  5],\n",
              "       [11,  5,  6]])"
            ]
          },
          "execution_count": 98,
          "metadata": {},
          "output_type": "execute_result"
        }
      ],
      "source": [
        "x + y"
      ]
    },
    {
      "cell_type": "code",
      "execution_count": null,
      "metadata": {
        "colab": {
          "base_uri": "https://localhost:8080/"
        },
        "id": "dkVXUC9_iIhT",
        "outputId": "f1197dfd-a1c9-4114-d337-24fbcd6acebe"
      },
      "outputs": [
        {
          "data": {
            "text/plain": [
              "array([[ 0, 10, 24],\n",
              "       [10, 64,  0],\n",
              "       [24,  0,  9]])"
            ]
          },
          "execution_count": 99,
          "metadata": {},
          "output_type": "execute_result"
        }
      ],
      "source": [
        "x*y\n",
        "# element wise multiplecation"
      ]
    },
    {
      "cell_type": "code",
      "execution_count": null,
      "metadata": {
        "colab": {
          "base_uri": "https://localhost:8080/"
        },
        "id": "Cb3zWG62iU9k",
        "outputId": "682937da-e352-4bd7-dc8d-b7fde6f6b56b"
      },
      "outputs": [
        {
          "data": {
            "text/plain": [
              "array([[0.        , 1.41421356, 1.73205081],\n",
              "       [2.23606798, 2.82842712, 2.23606798],\n",
              "       [2.82842712, 0.        , 1.73205081]])"
            ]
          },
          "execution_count": 101,
          "metadata": {},
          "output_type": "execute_result"
        }
      ],
      "source": [
        "np.sqrt(x)\n",
        "# element wise sqrt"
      ]
    },
    {
      "cell_type": "code",
      "execution_count": null,
      "metadata": {
        "colab": {
          "base_uri": "https://localhost:8080/"
        },
        "id": "dlG5odUNiXeU",
        "outputId": "213cc51e-21b7-4f9c-fbf2-077e238924f9"
      },
      "outputs": [
        {
          "data": {
            "text/plain": [
              "34"
            ]
          },
          "execution_count": 103,
          "metadata": {},
          "output_type": "execute_result"
        }
      ],
      "source": [
        "x.sum()"
      ]
    },
    {
      "cell_type": "code",
      "execution_count": null,
      "metadata": {
        "colab": {
          "base_uri": "https://localhost:8080/"
        },
        "id": "PHk9uigrieBo",
        "outputId": "cfecd778-de9d-42cd-de30-ce748cb9c88e"
      },
      "outputs": [
        {
          "data": {
            "text/plain": [
              "8"
            ]
          },
          "execution_count": 104,
          "metadata": {},
          "output_type": "execute_result"
        }
      ],
      "source": [
        "x.max()"
      ]
    },
    {
      "cell_type": "code",
      "execution_count": null,
      "metadata": {
        "colab": {
          "base_uri": "https://localhost:8080/"
        },
        "id": "I7tKuYe1ijMF",
        "outputId": "101330a9-9276-4bce-9040-b9ff52ee2e2e"
      },
      "outputs": [
        {
          "data": {
            "text/plain": [
              "(array([1, 2]), array([1, 0]))"
            ]
          },
          "execution_count": 105,
          "metadata": {},
          "output_type": "execute_result"
        }
      ],
      "source": [
        "np.where(x>5)"
      ]
    },
    {
      "cell_type": "code",
      "execution_count": null,
      "metadata": {
        "colab": {
          "base_uri": "https://localhost:8080/"
        },
        "id": "fczmtp8aimmH",
        "outputId": "c0dd3eee-e3fe-41d6-f847-68a58d539059"
      },
      "outputs": [
        {
          "data": {
            "text/plain": [
              "tuple"
            ]
          },
          "execution_count": 106,
          "metadata": {},
          "output_type": "execute_result"
        }
      ],
      "source": [
        "type(np.where(x>5))"
      ]
    },
    {
      "cell_type": "code",
      "execution_count": null,
      "metadata": {
        "colab": {
          "base_uri": "https://localhost:8080/"
        },
        "id": "hUqUB9KJi4gP",
        "outputId": "b8967e21-24f4-4a03-9dad-c1e2f9fa6f96"
      },
      "outputs": [
        {
          "data": {
            "text/plain": [
              "7"
            ]
          },
          "execution_count": 107,
          "metadata": {},
          "output_type": "execute_result"
        }
      ],
      "source": [
        "np.count_nonzero(x)"
      ]
    },
    {
      "cell_type": "code",
      "execution_count": null,
      "metadata": {
        "colab": {
          "base_uri": "https://localhost:8080/"
        },
        "id": "i9mYIUaHi74O",
        "outputId": "978e57e2-b99c-4baa-dd1a-fec864884c56"
      },
      "outputs": [
        {
          "data": {
            "text/plain": [
              "(array([0, 0, 1, 1, 1, 2, 2]), array([1, 2, 0, 1, 2, 0, 2]))"
            ]
          },
          "execution_count": 108,
          "metadata": {},
          "output_type": "execute_result"
        }
      ],
      "source": [
        "np.nonzero(x)"
      ]
    },
    {
      "cell_type": "markdown",
      "metadata": {
        "id": "6-Sv7Dokj0Wg"
      },
      "source": [
        "### Numpy storage comparision"
      ]
    },
    {
      "cell_type": "code",
      "execution_count": null,
      "metadata": {
        "id": "-7Scgt4UjAeb"
      },
      "outputs": [],
      "source": [
        "import sys\n",
        "\n",
        "list_ar = [0,45, 5, 5]"
      ]
    },
    {
      "cell_type": "code",
      "execution_count": null,
      "metadata": {
        "id": "2wjWb-z6jUhy"
      },
      "outputs": [],
      "source": [
        "np_ar = np.array(list_ar)"
      ]
    },
    {
      "cell_type": "code",
      "execution_count": null,
      "metadata": {
        "colab": {
          "base_uri": "https://localhost:8080/"
        },
        "id": "HWTQs7lNjdbP",
        "outputId": "86541dfc-9a0b-4a5b-9811-b137634d036b"
      },
      "outputs": [
        {
          "data": {
            "text/plain": [
              "112"
            ]
          },
          "execution_count": 112,
          "metadata": {},
          "output_type": "execute_result"
        }
      ],
      "source": [
        "sys.getsizeof(1) * len(list_ar)"
      ]
    },
    {
      "cell_type": "code",
      "execution_count": null,
      "metadata": {
        "colab": {
          "base_uri": "https://localhost:8080/"
        },
        "id": "A7ciADahjjCe",
        "outputId": "2d01b215-a37d-4a9c-d085-1e9f5edc480e"
      },
      "outputs": [
        {
          "data": {
            "text/plain": [
              "32"
            ]
          },
          "execution_count": 114,
          "metadata": {},
          "output_type": "execute_result"
        }
      ],
      "source": [
        "np_ar.itemsize * np_ar.size"
      ]
    },
    {
      "cell_type": "markdown",
      "metadata": {
        "id": "kDLwHkBcjrDk"
      },
      "source": [
        "---"
      ]
    },
    {
      "cell_type": "markdown",
      "metadata": {},
      "source": [
        "\n",
        "# Numpy IITM:\n",
        "## Elementent wise multiplication\n",
        "Element wise multiplication of two vectors is called the **Hadamard product**. The operator corresponding to it is $\\odot$. For example, given two vectors:\n",
        "$$\n",
        "x = \\begin{bmatrix}\n",
        "1\\\\\n",
        "2\\\\\n",
        "3\n",
        "\\end{bmatrix}, y = \\begin{bmatrix}\n",
        "4\\\\\n",
        "5\\\\\n",
        "6\n",
        "\\end{bmatrix}\n",
        "$$\n",
        "we have:\n",
        "$$\n",
        "\\boldsymbol{z} = \\boldsymbol{x} \\odot \\boldsymbol{y}= \\begin{bmatrix}\n",
        "4\\\\\n",
        "10\\\\\n",
        "18\n",
        "\\end{bmatrix}\n",
        "$$\n",
        "In `NumPy` this is expressed as:"
      ]
    },
    {
      "cell_type": "code",
      "execution_count": 2,
      "metadata": {},
      "outputs": [],
      "source": [
        "import numpy as np"
      ]
    },
    {
      "cell_type": "code",
      "execution_count": 3,
      "metadata": {},
      "outputs": [
        {
          "data": {
            "text/plain": [
              "array([ 4, 10, 18])"
            ]
          },
          "execution_count": 3,
          "metadata": {},
          "output_type": "execute_result"
        }
      ],
      "source": [
        "x = np.array([1, 2, 3])\n",
        "y = np.array([4, 5, 6])\n",
        "\n",
        "z = x * y\n",
        "z"
      ]
    },
    {
      "cell_type": "markdown",
      "metadata": {},
      "source": [
        "## Scaling vectors\n",
        "\n",
        "If $\\boldsymbol{x}$ is a vector, scaling it by a constant $k$ is equivalent to element-wise multiplication by $k$. For example, given\n",
        "$$\n",
        "\\boldsymbol{x} = \\begin{bmatrix}\n",
        "1\\\\\n",
        "2\\\\\n",
        "3\n",
        "\\end{bmatrix}\n",
        "$$\n",
        "we have:\n",
        "$$\n",
        "y = 3 \\boldsymbol{x} = \\begin{bmatrix}\n",
        "3\\\\\n",
        "6\\\\\n",
        "9\n",
        "\\end{bmatrix}\n",
        "$$\n",
        "As you might have guessed by now, in `NumPy` this is as simple as:"
      ]
    },
    {
      "cell_type": "code",
      "execution_count": 5,
      "metadata": {},
      "outputs": [
        {
          "data": {
            "text/plain": [
              "array([3, 6, 9])"
            ]
          },
          "execution_count": 5,
          "metadata": {},
          "output_type": "execute_result"
        }
      ],
      "source": [
        "x = np.array([1, 2, 3])\n",
        "y = 3 * x\n",
        "y"
      ]
    },
    {
      "cell_type": "markdown",
      "metadata": {},
      "source": [
        "Again note that this is different from what you would expect with a Python list. The `*` operator for lists would result in replication."
      ]
    },
    {
      "cell_type": "code",
      "execution_count": 8,
      "metadata": {},
      "outputs": [
        {
          "data": {
            "text/plain": [
              "[1, 2, 3, 1, 2, 3, 1, 2, 3, 1, 2, 3, 1, 2, 3, 1, 2, 3]"
            ]
          },
          "execution_count": 8,
          "metadata": {},
          "output_type": "execute_result"
        }
      ],
      "source": [
        "x = [1, 2, 3]\n",
        "y = 6 * x\n",
        "y"
      ]
    },
    {
      "cell_type": "markdown",
      "metadata": {},
      "source": [
        "## Element-wise functions of vectors\n",
        "Scaling a vector $\\boldsymbol{x}$ by a constant $k$ can be seen as the output of the following function:\n",
        "$$\n",
        "f(\\boldsymbol{x}) = \\begin{bmatrix}\n",
        "kx_1\\\\\n",
        "\\cdots\\\\\n",
        "kx_m\n",
        "\\end{bmatrix}\n",
        "$$\n",
        "This is nothing but the function $f(x) = kx$ applied element-wise. `NumPy` extends this feature for any arbitrary function. For example, consider the function $g(x) = x^2$. This can be applied element-wise:\n",
        "$$\n",
        "g(\\boldsymbol{x}) = \\begin{bmatrix}\n",
        "x_1^2\\\\\n",
        "\\cdots\\\\\n",
        "x_m^2\n",
        "\\end{bmatrix}\n",
        "$$\n",
        "In `NumPy`, this translates to:"
      ]
    },
    {
      "cell_type": "code",
      "execution_count": 10,
      "metadata": {},
      "outputs": [
        {
          "data": {
            "text/plain": [
              "array([ 1,  4,  9, 16])"
            ]
          },
          "execution_count": 10,
          "metadata": {},
          "output_type": "execute_result"
        }
      ],
      "source": [
        "x = np.array([1, 2, 3, 4])\n",
        "y = x ** 2\n",
        "y"
      ]
    },
    {
      "cell_type": "markdown",
      "metadata": {},
      "source": [
        "We can take up more complex functions as well. For example, let us take the case of `np.log10`, which is $\\log_{10}$:"
      ]
    },
    {
      "cell_type": "code",
      "execution_count": 11,
      "metadata": {},
      "outputs": [
        {
          "data": {
            "text/plain": [
              "array([0., 1., 2., 3., 4., 5.])"
            ]
          },
          "execution_count": 11,
          "metadata": {},
          "output_type": "execute_result"
        }
      ],
      "source": [
        "x = np.array([1, 10, 100, 1000, 10000, 100000])\n",
        "y = np.log10(x)\n",
        "y"
      ]
    },
    {
      "cell_type": "markdown",
      "metadata": {},
      "source": [
        "Usually, we will stick to the natural logarithm or $\\log_e$. This is given by `np.log`."
      ]
    },
    {
      "cell_type": "code",
      "execution_count": 12,
      "metadata": {},
      "outputs": [
        {
          "data": {
            "text/plain": [
              "array([0., 1., 2.])"
            ]
          },
          "execution_count": 12,
          "metadata": {},
          "output_type": "execute_result"
        }
      ],
      "source": [
        "x = np.array([1, np.e, np.e ** 2])\n",
        "y = np.log(x)\n",
        "y"
      ]
    },
    {
      "cell_type": "markdown",
      "metadata": {},
      "source": [
        "## Dot Product\n",
        "The dot product between two vectors $\\mathbf{x}$ and $\\mathbf{y}$ is given as follows:\n",
        "$$\n",
        "z = \\mathbf{x} \\cdot \\mathbf{y} = \\sum \\limits_{j = 1}^{m} x_j y_j\n",
        "$$\n",
        "In `NumPy`, this could be done as follows:"
      ]
    },
    {
      "cell_type": "code",
      "execution_count": 13,
      "metadata": {},
      "outputs": [
        {
          "data": {
            "text/plain": [
              "-60"
            ]
          },
          "execution_count": 13,
          "metadata": {},
          "output_type": "execute_result"
        }
      ],
      "source": [
        "x = np.array([1, 2, 3, 4])\n",
        "y = np.array([-4, -5, -6, -7])\n",
        "\n",
        "z = np.dot(x, y)\n",
        "z"
      ]
    },
    {
      "cell_type": "markdown",
      "metadata": {},
      "source": [
        "## Vector of zeros or ones\n",
        "On many occassions, we might want to create a `NumPy` array all of whose elements are zeros or ones or some other constant. If we want a vector of zeros, one way would be as follows:"
      ]
    },
    {
      "cell_type": "code",
      "execution_count": 15,
      "metadata": {},
      "outputs": [
        {
          "data": {
            "text/plain": [
              "array([0, 0, 0, 0])"
            ]
          },
          "execution_count": 15,
          "metadata": {},
          "output_type": "execute_result"
        }
      ],
      "source": [
        "x = np.array([0 for _ in range(4)])\n",
        "x"
      ]
    },
    {
      "cell_type": "markdown",
      "metadata": {},
      "source": [
        "Here, `NumPy` provides a method that makes our job even simpler:"
      ]
    },
    {
      "cell_type": "code",
      "execution_count": 16,
      "metadata": {},
      "outputs": [
        {
          "data": {
            "text/plain": [
              "array([0., 0., 0., 0.])"
            ]
          },
          "execution_count": 16,
          "metadata": {},
          "output_type": "execute_result"
        }
      ],
      "source": [
        "x = np.zeros(4)\n",
        "x"
      ]
    },
    {
      "cell_type": "markdown",
      "metadata": {},
      "source": [
        "For a vector of ones, we have"
      ]
    },
    {
      "cell_type": "code",
      "execution_count": 17,
      "metadata": {},
      "outputs": [
        {
          "data": {
            "text/plain": [
              "array([1., 1., 1., 1., 1., 1.])"
            ]
          },
          "execution_count": 17,
          "metadata": {},
          "output_type": "execute_result"
        }
      ],
      "source": [
        "x = np.ones(6)\n",
        "x"
      ]
    },
    {
      "cell_type": "markdown",
      "metadata": {},
      "source": [
        "## Transpose of a matrix\n",
        "Given a matrix $\\textbf{M}$:\n",
        "$$\n",
        "\\textbf{M} = \\begin{bmatrix}\n",
        "1 & 2 & 3\\\\\n",
        "4 & 5 & 6\n",
        "\\end{bmatrix}\n",
        "$$\n",
        "then, its transpose $\\textbf{M}^{T}$ is:\n",
        "$$\n",
        "\\textbf{M}^{T} = \\begin{bmatrix}\n",
        "1 & 4\\\\\n",
        "2 & 5\\\\\n",
        "3 & 6\n",
        "\\end{bmatrix}\n",
        "$$\n",
        "In `NumPy`, this becomes:"
      ]
    },
    {
      "cell_type": "code",
      "execution_count": 18,
      "metadata": {},
      "outputs": [
        {
          "data": {
            "text/plain": [
              "array([[1, 4],\n",
              "       [2, 5],\n",
              "       [3, 6]])"
            ]
          },
          "execution_count": 18,
          "metadata": {},
          "output_type": "execute_result"
        }
      ],
      "source": [
        "M = np.array([[1, 2, 3], [4, 5, 6]])\n",
        "M_t = np.transpose(M)\n",
        "\n",
        "M_t"
      ]
    },
    {
      "cell_type": "markdown",
      "metadata": {},
      "source": [
        "Often, some methods in `NumPy` are also attributes of `NumPy` arrays. For example, this same operation of transposing a matrix can be done as follows:"
      ]
    },
    {
      "cell_type": "code",
      "execution_count": 19,
      "metadata": {},
      "outputs": [
        {
          "data": {
            "text/plain": [
              "array([[1, 4],\n",
              "       [2, 5],\n",
              "       [3, 6]])"
            ]
          },
          "execution_count": 19,
          "metadata": {},
          "output_type": "execute_result"
        }
      ],
      "source": [
        "M = np.array([[1, 2, 3], [4, 5, 6]])\n",
        "M_t = M.T\n",
        "\n",
        "M_t"
      ]
    },
    {
      "cell_type": "markdown",
      "metadata": {},
      "source": [
        "You must be aware of both these ways of transposing a matrix.\n",
        "## Product of two matrices\n",
        "Given two matrices:\n",
        "$$\n",
        "\\textbf{A} = \\begin{bmatrix}\n",
        "1 & 2 & 3\\\\\n",
        "4 & 5 & 6\n",
        "\\end{bmatrix}, \\textbf{B} = \\begin{bmatrix}\n",
        "6 & 7\\\\\n",
        "8 & 9\\\\\n",
        "10 & 11\n",
        "\\end{bmatrix}\n",
        "$$\n",
        "then,\n",
        "$$\n",
        "\\textbf{C} = \\textbf{A} \\times \\textbf{B} = \\begin{bmatrix}\n",
        "52 & 58\\\\\n",
        "124 & 139\n",
        "\\end{bmatrix}\n",
        "$$\n",
        "In `NumPy`, this becomes:"
      ]
    },
    {
      "cell_type": "code",
      "execution_count": 20,
      "metadata": {},
      "outputs": [
        {
          "data": {
            "text/plain": [
              "array([[ 52,  58],\n",
              "       [124, 139]])"
            ]
          },
          "execution_count": 20,
          "metadata": {},
          "output_type": "execute_result"
        }
      ],
      "source": [
        "A = np.array([[1, 2, 3], [4, 5, 6]])\n",
        "B = np.array([[6, 7], [8, 9], [10, 11]])\n",
        "\n",
        "C = A @ B\n",
        "C"
      ]
    },
    {
      "cell_type": "markdown",
      "metadata": {},
      "source": [
        "## Matrix of zeros\n",
        "In many algorithms, we might have to initialize a matrix with zeros. For example, consider a $2 \\times 4$ matrix:\n",
        "$$\n",
        "\\mathbf{M} = \\begin{bmatrix}\n",
        "0 & 0 & 0 & 0\\\\\n",
        "0 & 0 & 0 & 0\n",
        "\\end{bmatrix}\n",
        "$$\n",
        "In `NumPy` this can be done as follows:"
      ]
    },
    {
      "cell_type": "code",
      "execution_count": 21,
      "metadata": {},
      "outputs": [
        {
          "data": {
            "text/plain": [
              "array([[0., 0., 0., 0.],\n",
              "       [0., 0., 0., 0.]])"
            ]
          },
          "execution_count": 21,
          "metadata": {},
          "output_type": "execute_result"
        }
      ],
      "source": [
        "M = np.zeros((2, 4))\n",
        "M"
      ]
    },
    {
      "cell_type": "markdown",
      "metadata": {},
      "source": [
        "Note that the shape of the matrix is $(2, 4)$. Consequently, the argument to the method `np.zeros` should be a tuple if you want to create a matrix of zeros. Specifying it as `np.zeros(2, 4)` will throw an error!"
      ]
    },
    {
      "cell_type": "markdown",
      "metadata": {},
      "source": [
        "## Identity matrix\n",
        "Often, we might have to deal with identity matrices. A $3 \\times 3$ identity matrix is as follows:\n",
        "$$\n",
        "\\mathbf{I} = \\begin{bmatrix}\n",
        "1 & 0 & 0\\\\\n",
        "0 & 1 & 0\\\\\n",
        "0 & 0 & 1\n",
        "\\end{bmatrix}\n",
        "$$\n",
        "In `NumPy` this becomes:"
      ]
    },
    {
      "cell_type": "code",
      "execution_count": 22,
      "metadata": {},
      "outputs": [
        {
          "data": {
            "text/plain": [
              "array([[1., 0., 0.],\n",
              "       [0., 1., 0.],\n",
              "       [0., 0., 1.]])"
            ]
          },
          "execution_count": 22,
          "metadata": {},
          "output_type": "execute_result"
        }
      ],
      "source": [
        "I = np.eye(3)\n",
        "I"
      ]
    },
    {
      "cell_type": "markdown",
      "metadata": {},
      "source": [
        "## Reshaping\n",
        "We can reshape a matrix into another matrix as well. Sometimes, we may not want to specify the dimensions completely. In such cases, we can let `NumPy` figure it out. For example\n",
        "$$\n",
        "\\mathbf{M} = \\begin{bmatrix}\n",
        "1 & 2 & 3\\\\\n",
        "4 & 5 & 6\n",
        "\\end{bmatrix}\n",
        "$$\n",
        "Let us say we want to reshape it in such a way that there are three rows:\n",
        "$$\n",
        "\\mathbf{P} = \\begin{bmatrix}\n",
        "1 & 2\\\\\n",
        "3 & 4\\\\\n",
        "5 & 6\n",
        "\\end{bmatrix}\n",
        "$$"
      ]
    },
    {
      "cell_type": "code",
      "execution_count": 23,
      "metadata": {},
      "outputs": [
        {
          "data": {
            "text/plain": [
              "array([[1, 2],\n",
              "       [3, 4],\n",
              "       [5, 6]])"
            ]
          },
          "execution_count": 23,
          "metadata": {},
          "output_type": "execute_result"
        }
      ],
      "source": [
        "M = np.array([[1, 2, 3], [4, 5, 6]])\n",
        "P = M.reshape((3, -1))\n",
        "P"
      ]
    },
    {
      "cell_type": "markdown",
      "metadata": {},
      "source": [
        "$-1$ refers to the unknown dimension, which we let `NumPy` compute."
      ]
    },
    {
      "cell_type": "markdown",
      "metadata": {},
      "source": [
        "## Matrix-vector addition (broadcasting)\n",
        "In many ML models, we would have to add a vector to each row or column of a matrix. For example, consider the following case for row-wise addition:\n",
        "### Row-wise addition\n",
        "$$\n",
        "\\mathbf{M} = \\begin{bmatrix}\n",
        "1 & 2 & 3 & 4\\\\\n",
        "5 & 6 & 7 & 8\n",
        "\\end{bmatrix}, \\mathbf{b} = \\begin{bmatrix}\n",
        "1 & 1 & 1 & 1\n",
        "\\end{bmatrix}\n",
        "$$\n",
        "This is slight abuse of notation as we can't add a matrix and a vector together. However, the context often makes this clear:\n",
        "$$\n",
        "\\mathbf{M} + \\mathbf{b} = \\begin{bmatrix}\n",
        "2 & 3 & 4 & 5\\\\\n",
        "6 & 7 & 8 & 9\n",
        "\\end{bmatrix}\n",
        "$$\n",
        "In `NumPy` this becomes:"
      ]
    },
    {
      "cell_type": "code",
      "execution_count": 24,
      "metadata": {},
      "outputs": [
        {
          "name": "stdout",
          "output_type": "stream",
          "text": [
            "Shape of M: (2, 4)\n",
            "Shape of b: (4,)\n"
          ]
        },
        {
          "data": {
            "text/plain": [
              "array([[2, 3, 4, 5],\n",
              "       [6, 7, 8, 9]])"
            ]
          },
          "execution_count": 24,
          "metadata": {},
          "output_type": "execute_result"
        }
      ],
      "source": [
        "M = np.array([[1, 2, 3, 4], [5, 6, 7, 8]])\n",
        "b = np.array([1, 1, 1, 1])\n",
        "print('Shape of M:', M.shape)\n",
        "print('Shape of b:', b.shape)\n",
        "\n",
        "M + b"
      ]
    },
    {
      "cell_type": "markdown",
      "metadata": {},
      "source": [
        "Notice how simple this is. Let us now do a slight variation. Let us say we wish to add a vector to each column of $\\mathbf{M}$:\n",
        "## Column-wise addition\n",
        "$$\n",
        "\\mathbf{M} = \\begin{bmatrix}\n",
        "1 & 2 & 3 & 4\\\\\n",
        "5 & 6 & 7 & 8\n",
        "\\end{bmatrix}, \\mathbf{b} = \\begin{bmatrix}\n",
        "1\\\\\n",
        "2\n",
        "\\end{bmatrix}\n",
        "$$\n",
        "In the case, we have:\n",
        "$$\n",
        "\\mathbf{M} + \\mathbf{b} = \\begin{bmatrix}\n",
        "2 & 3 & 4 & 5\\\\\n",
        "7 & 8 & 9 & 10\n",
        "\\end{bmatrix}\n",
        "$$\n",
        "Let us see if the same syntax works:"
      ]
    },
    {
      "cell_type": "code",
      "execution_count": 25,
      "metadata": {},
      "outputs": [
        {
          "name": "stdout",
          "output_type": "stream",
          "text": [
            "Shape of M: (2, 4)\n",
            "Shape of b: (2,)\n"
          ]
        }
      ],
      "source": [
        "M = np.array([[1, 2, 3, 4], [5, 6, 7, 8]])\n",
        "b = np.array([1, 2])\n",
        "print('Shape of M:', M.shape)\n",
        "print('Shape of b:', b.shape)\n",
        "\n",
        "### Caution! ###\n",
        "# You can uncomment the next line and see what happens\n",
        "# M + b\n",
        "### Caution! ###"
      ]
    },
    {
      "cell_type": "markdown",
      "metadata": {},
      "source": [
        "If you uncomment it and run it, you get a ValueError. Notice that the same syntax doesn't work. The error is suggestive:  \n",
        "> operands could not be broadcast together with shapes `(2, 4)` and `(2, )`  \n",
        "\n",
        "We will first discuss a way to fix this and then move onto why this behaviour is observed.  "
      ]
    },
    {
      "cell_type": "code",
      "execution_count": 26,
      "metadata": {},
      "outputs": [
        {
          "name": "stdout",
          "output_type": "stream",
          "text": [
            "Shape of M: (2, 4)\n",
            "Shape of b before adding dimension: (2,)\n",
            "Shape of b after adding dimension: (2, 1)\n"
          ]
        },
        {
          "data": {
            "text/plain": [
              "array([[ 2,  3,  4,  5],\n",
              "       [ 7,  8,  9, 10]])"
            ]
          },
          "execution_count": 26,
          "metadata": {},
          "output_type": "execute_result"
        }
      ],
      "source": [
        "M = np.array([[1, 2, 3, 4], [5, 6, 7, 8]])\n",
        "b = np.array([1, 2])\n",
        "print('Shape of M:', M.shape)\n",
        "print('Shape of b before adding dimension:', b.shape)\n",
        "b = np.expand_dims(b, 1)\n",
        "print('Shape of b after adding dimension:', b.shape)\n",
        "\n",
        "M + b"
      ]
    },
    {
      "cell_type": "markdown",
      "metadata": {},
      "source": [
        "`np.expand_dims` expands the dimension of a `NumPy` array. The first argument is the array and the second argument is the axis along which the array has to be expanded. Here, we want to treat `b` as a column vector. This is nothing but a `(2, 1)` matrix. So, the second argument is 1 (zero-indexing).\n",
        "\n",
        "But why is this necessary? For adding a row vector to a matrix, we just had to use `M + b`. For adding a column vector to a matrix, we had to add an extra dimension to `b` and then add it to `M`. The answer to this lies with something called broadcasting.\n",
        "\n",
        "### Broadcasting\n",
        "When two arrays of different dimensions are combined together using an arithmetic operation such as `+`, `NumPy` sees if it can **broadcast** them. This is best understood with images. Here is an example from the `NumPy` docs on row-wise addition:\n",
        "\n",
        "![](https://numpy.org/doc/stable/_images/broadcasting_2.png)\n",
        "\n",
        "**Source**: https://numpy.org/doc/stable/user/basics.broadcasting.html\n",
        "\n",
        "For column-wise addition, simple addition doesn't work:\n",
        "\n",
        "![](https://numpy.org/doc/stable/_images/broadcasting_3.png)\n",
        "\n",
        "**Source**: https://numpy.org/doc/stable/user/basics.broadcasting.html\n",
        "\n",
        "In this course, we will mainly stick to matrix-vector addition or multiplication. This is the recipe:\n",
        "\n",
        "- Row-wise\n",
        "  - `M + b`\n",
        "- Column-wise: \n",
        "  - Make `b` a column vector or a `(m, 1)` matrix using `np.expand_dims`\n",
        "  - `M + b`"
      ]
    },
    {
      "cell_type": "markdown",
      "metadata": {},
      "source": [
        "## Indexing and Slicing an array\n",
        "Just like lists in Python, `NumPy` arrays can be indexed and sliced. Slicing is useful if we want to work with a portion of an array. For example, consider the matrix $\\mathbf{M}$:\n",
        "$$\n",
        "\\mathbf{M} = \\begin{bmatrix}\n",
        "1 & 2\\\\\n",
        "3 & 4\\\\\n",
        "5 & 6\\\\\n",
        "7 & 8\\\\\n",
        "9 & 10\n",
        "\\end{bmatrix}\n",
        "$$\n",
        "The third row of this matrix is `M[2]`. This is just basic indexing."
      ]
    },
    {
      "cell_type": "code",
      "execution_count": 28,
      "metadata": {},
      "outputs": [
        {
          "data": {
            "text/plain": [
              "array([5, 6])"
            ]
          },
          "execution_count": 28,
          "metadata": {},
          "output_type": "execute_result"
        }
      ],
      "source": [
        "M = np.array([[1, 2], [3, 4], [5, 6], [7, 8], [9, 10]])\n",
        "M[2]"
      ]
    },
    {
      "cell_type": "markdown",
      "metadata": {},
      "source": [
        "This behaviour is similar to what happens with Python lists. Let us say that we wish to extract the second column of this matrix. How would we do this?"
      ]
    },
    {
      "cell_type": "code",
      "execution_count": 29,
      "metadata": {},
      "outputs": [
        {
          "data": {
            "text/plain": [
              "array([ 2,  4,  6,  8, 10])"
            ]
          },
          "execution_count": 29,
          "metadata": {},
          "output_type": "execute_result"
        }
      ],
      "source": [
        "M = np.array([[1, 2], [3, 4], [5, 6], [7, 8], [9, 10]])\n",
        "M[:, 1]"
      ]
    },
    {
      "cell_type": "markdown",
      "metadata": {},
      "source": [
        "An $n$-dimensional array has $n$ axes. In the case of a matrix, a $2$D array, the first axis (index 0) refers to the rows and the second axis (index 1) refers to the columns.\n",
        "\n",
        "In the example given above, `M[:, 1]`, the second axis is fixed as 1 while the first axis is fluid. In more concrete terms, we have selected the second column. Had we wanted a particular element, say the first element, from the second column, we would have used the notation `M[0, 1]`. But, since we want all the elements from the second column, we use the `:` operator without specifiying the start and end indices. Recall that this behaviour is similar to Python lists. If `L` is a list, then `L[:]` represents the completel list.\n",
        "\n",
        "Now, consider the same matrix $\\mathbf{M}$. We want to extract the third and fourth rows of this matrix. How do we do that?"
      ]
    },
    {
      "cell_type": "code",
      "execution_count": 30,
      "metadata": {},
      "outputs": [
        {
          "data": {
            "text/plain": [
              "array([[5, 6],\n",
              "       [7, 8]])"
            ]
          },
          "execution_count": 30,
          "metadata": {},
          "output_type": "execute_result"
        }
      ],
      "source": [
        "M = np.array([[1, 2], [3, 4], [5, 6], [7, 8], [9, 10]])\n",
        "M[2: 4]"
      ]
    },
    {
      "cell_type": "markdown",
      "metadata": {},
      "source": [
        "This is again similar to the Python slicing notation. Now, if we wanted the second and third elements in the first column of the matrix, this is what we would do:"
      ]
    },
    {
      "cell_type": "code",
      "execution_count": 31,
      "metadata": {},
      "outputs": [
        {
          "data": {
            "text/plain": [
              "array([3, 5])"
            ]
          },
          "execution_count": 31,
          "metadata": {},
          "output_type": "execute_result"
        }
      ],
      "source": [
        "M = np.array([[1, 2], [3, 4], [5, 6], [7, 8], [9, 10]])\n",
        "M[1: 3, 0]"
      ]
    },
    {
      "cell_type": "markdown",
      "metadata": {},
      "source": [
        "## Stacking arrays\n",
        "Sometimes, we would want to stack arrays. Consider the two matrices:\n",
        "$$\n",
        "\\mathbf{A} =\n",
        "\\begin{bmatrix}\n",
        "1 & 2\\\\\n",
        "3 & 4\n",
        "\\end{bmatrix},\n",
        "\\mathbf{B} =\n",
        "\\begin{bmatrix}\n",
        "5 & 6\\\\\n",
        "7 & 8\n",
        "\\end{bmatrix}\n",
        "$$\n",
        "There are two ways to stack these two matrices:\n",
        "\n",
        "### Row-wise\n",
        "We could stack the two matrices along the rows, $\\mathbf{A}$ on top of $\\mathbf{B}$:\n",
        "$$\n",
        "\\mathbf{C} =\n",
        "\\begin{bmatrix}\n",
        "1 & 2\\\\\n",
        "3 & 4\\\\\n",
        "5 & 6\\\\\n",
        "7 & 8\n",
        "\\end{bmatrix}\n",
        "$$\n",
        "This would be done as follows:"
      ]
    },
    {
      "cell_type": "code",
      "execution_count": 32,
      "metadata": {},
      "outputs": [
        {
          "name": "stdout",
          "output_type": "stream",
          "text": [
            "(4, 2)\n",
            "[[1 2]\n",
            " [3 4]\n",
            " [5 6]\n",
            " [7 8]]\n"
          ]
        }
      ],
      "source": [
        "A = np.array([[1, 2], [3, 4]])\n",
        "B = np.array([[5, 6], [7, 8]])\n",
        "\n",
        "C = np.concatenate((A, B), axis = 0)\n",
        "print(C.shape)\n",
        "print(C)"
      ]
    },
    {
      "cell_type": "markdown",
      "metadata": {},
      "source": [
        "### Column-wise\n",
        "We could stack the two matrices along the columns, $\\mathbf{A}$ to the left of $\\mathbf{B}$:\n",
        "$$\n",
        "\\mathbf{C} =\n",
        "\\begin{bmatrix}\n",
        "1 & 2 & 5 & 6\\\\\n",
        "3 & 4 & 7 & 8\\\\\n",
        "\\end{bmatrix}\n",
        "$$\n",
        "This would be done as follows:"
      ]
    },
    {
      "cell_type": "code",
      "execution_count": 33,
      "metadata": {},
      "outputs": [
        {
          "name": "stdout",
          "output_type": "stream",
          "text": [
            "(2, 4)\n",
            "[[1 2 5 6]\n",
            " [3 4 7 8]]\n"
          ]
        }
      ],
      "source": [
        "A = np.array([[1, 2], [3, 4]])\n",
        "B = np.array([[5, 6], [7, 8]])\n",
        "\n",
        "C = np.concatenate((A, B), axis = 1)\n",
        "print(C.shape)\n",
        "print(C)"
      ]
    },
    {
      "cell_type": "markdown",
      "metadata": {},
      "source": [
        "## Sum, Mean and Variance\n",
        "Sometimes we may wish to compute the sum of a particular slice of an array. For example, consider the matrix:\n",
        "$$\n",
        "\\mathbf{A} = \\begin{bmatrix}\n",
        "1 & 2 & 3 & 4\\\\\n",
        "5 & 6 & 7 & 8\n",
        "\\end{bmatrix}\n",
        "$$\n",
        "The sum of the rows of the matrix is a vector:\n",
        "$$\n",
        "\\text{rsum}(\\mathbf{A}) = \\begin{bmatrix}\n",
        "10\\\\\n",
        "26\n",
        "\\end{bmatrix}\n",
        "$$\n",
        "In `NumPy` this can be done as follows:"
      ]
    },
    {
      "cell_type": "code",
      "execution_count": 34,
      "metadata": {},
      "outputs": [
        {
          "data": {
            "text/plain": [
              "array([10, 26])"
            ]
          },
          "execution_count": 34,
          "metadata": {},
          "output_type": "execute_result"
        }
      ],
      "source": [
        "A = np.array([[1, 2, 3, 4], [5, 6, 7, 8]])\n",
        "rsum = np.sum(A, axis = 1)\n",
        "rsum"
      ]
    },
    {
      "cell_type": "markdown",
      "metadata": {},
      "source": [
        "We have added the elements of the array along the axis $1$. This has the same effect as summing the rows of the array. Now, we shall move to the column sum:\n",
        "$$\n",
        "\\mathbf{A} = \\begin{bmatrix}\n",
        "1 & 2 & 3 & 4\\\\\n",
        "5 & 6 & 7 & 8\n",
        "\\end{bmatrix}\n",
        "$$\n",
        "The sum of the columns of the matrix is a vector:\n",
        "$$\n",
        "\\text{csum}(\\mathbf{A}) = \\begin{bmatrix}\n",
        "6\\\\\n",
        "8\\\\\n",
        "10\\\\\n",
        "12\n",
        "\\end{bmatrix}\n",
        "$$"
      ]
    },
    {
      "cell_type": "code",
      "execution_count": 35,
      "metadata": {},
      "outputs": [
        {
          "data": {
            "text/plain": [
              "array([ 6,  8, 10, 12])"
            ]
          },
          "execution_count": 35,
          "metadata": {},
          "output_type": "execute_result"
        }
      ],
      "source": [
        "A = np.array([[1, 2, 3, 4], [5, 6, 7, 8]])\n",
        "csum = np.sum(A, axis = 0)\n",
        "csum"
      ]
    },
    {
      "cell_type": "markdown",
      "metadata": {},
      "source": [
        "It is important to note that `sum` is an attribute of `NumPy` arrays. So we can also express this as:"
      ]
    },
    {
      "cell_type": "code",
      "execution_count": 36,
      "metadata": {},
      "outputs": [
        {
          "name": "stdout",
          "output_type": "stream",
          "text": [
            "Sum of the rows: [10 26]\n",
            "Sum of the columns: [ 6  8 10 12]\n"
          ]
        }
      ],
      "source": [
        "A = np.array([[1, 2, 3, 4], [5, 6, 7, 8]])\n",
        "rsum = A.sum(axis = 1)\n",
        "csum = A.sum(axis = 0)\n",
        "\n",
        "print('Sum of the rows:', rsum)\n",
        "print('Sum of the columns:', csum)"
      ]
    },
    {
      "cell_type": "markdown",
      "metadata": {},
      "source": [
        "Just like `sum`, we have `mean` to find out the mean of parts of an array."
      ]
    }
  ],
  "metadata": {
    "colab": {
      "name": "Numpy.ipynb",
      "provenance": [],
      "toc_visible": true
    },
    "interpreter": {
      "hash": "aee8b7b246df8f9039afb4144a1f6fd8d2ca17a180786b69acc140d282b71a49"
    },
    "kernelspec": {
      "display_name": "Python 3.10.4 64-bit",
      "language": "python",
      "name": "python3"
    },
    "language_info": {
      "codemirror_mode": {
        "name": "ipython",
        "version": 3
      },
      "file_extension": ".py",
      "mimetype": "text/x-python",
      "name": "python",
      "nbconvert_exporter": "python",
      "pygments_lexer": "ipython3",
      "version": "3.10.4"
    }
  },
  "nbformat": 4,
  "nbformat_minor": 0
}
