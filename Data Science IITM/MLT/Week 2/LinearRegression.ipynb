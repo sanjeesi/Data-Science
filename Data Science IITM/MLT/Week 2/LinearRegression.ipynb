{
  "cells": [
    {
      "cell_type": "markdown",
      "metadata": {
        "id": "view-in-github",
        "colab_type": "text"
      },
      "source": [
        "<a href=\"https://colab.research.google.com/github/sanjeesi/Notes-Notebooks/blob/master/Data%20Science%20IITM/MLT/Week%202/LinearRegression.ipynb\" target=\"_parent\"><img src=\"https://colab.research.google.com/assets/colab-badge.svg\" alt=\"Open In Colab\"/></a>"
      ]
    },
    {
      "cell_type": "markdown",
      "metadata": {
        "id": "32fTzbkoEt-i"
      },
      "source": [
        "The objective of this notebook is to:\n",
        "- Demonstrate training data and model components of linear regression model.\n",
        "- Demonstrate how simple it is to implement ML components and algorithms."
      ]
    },
    {
      "cell_type": "markdown",
      "metadata": {
        "id": "TUlNtrJ2Et-n"
      },
      "source": [
        "Let's first import the required libraries."
      ]
    },
    {
      "cell_type": "code",
      "execution_count": 79,
      "metadata": {
        "id": "r3mEiywxEt-o"
      },
      "outputs": [],
      "source": [
        "from IPython.display import display, Math, Latex\n",
        "# imported for proper rendering of LaTeX in notebook\n",
        "\n",
        "import numpy as np\n",
        "\n",
        "# import for generating plots\n",
        "import matplotlib.pyplot as plt\n",
        "import seaborn as sns\n",
        "\n",
        "%matplotlib inline"
      ]
    },
    {
      "cell_type": "markdown",
      "metadata": {
        "id": "fOi4RGjCEt-q"
      },
      "source": [
        "1. Training data contains features and label that is real number.\n",
        "2. Model or inference: $y = Xw$"
      ]
    },
    {
      "cell_type": "markdown",
      "metadata": {
        "id": "HBu-aEDaEt-q"
      },
      "source": [
        "# 1. Training Data"
      ]
    },
    {
      "cell_type": "code",
      "execution_count": 80,
      "metadata": {
        "id": "9TXkA0KpEt-r"
      },
      "outputs": [],
      "source": [
        "# Create a dataset of 100 examples with a single feature and a label.\n",
        "# For this construction, we use the following three parameters:\n",
        "w1=3\n",
        "w0=4\n",
        "n=100\n",
        "\n",
        "X = 10*np.random.rand(n,)\n",
        "\n",
        "# Obtain y = 4 + 3x + noise.    Noise is randomly sampled.\n",
        "y = w0 + w1*X + np.random.randn(n,)"
      ]
    },
    {
      "cell_type": "markdown",
      "metadata": {
        "id": "_6mPHvpfEt-s"
      },
      "source": [
        "Let's examine the shapes of training data for sanity check."
      ]
    },
    {
      "cell_type": "code",
      "execution_count": 81,
      "metadata": {
        "id": "VAhZvZ-uEt-s",
        "outputId": "5c3f7fd2-b018-4904-818d-f13ee21e6906",
        "colab": {
          "base_uri": "https://localhost:8080/"
        }
      },
      "outputs": [
        {
          "output_type": "stream",
          "name": "stdout",
          "text": [
            "Shape of the training data feature matrix:  (100,)\n",
            "Shape of label vector:  (100,)\n"
          ]
        }
      ],
      "source": [
        "print(\"Shape of the training data feature matrix: \", X.shape)\n",
        "print(\"Shape of label vector: \", y.shape)"
      ]
    },
    {
      "cell_type": "markdown",
      "metadata": {
        "id": "Px5HirmuEt-u"
      },
      "source": [
        "Let's divide the data into training and test set. We will set aside 20% examples for testing."
      ]
    },
    {
      "cell_type": "code",
      "execution_count": 82,
      "metadata": {
        "id": "FuhNF6qAEt-v"
      },
      "outputs": [],
      "source": [
        "from sklearn.model_selection import train_test_split\n",
        "\n",
        "X_train, X_test, y_train, y_test = train_test_split(X, y, test_size=0.2, random_state=42)"
      ]
    },
    {
      "cell_type": "markdown",
      "metadata": {
        "id": "Sf0r2fQsEt-w"
      },
      "source": [
        "Let's do a quick sanity check to make sure the sizes of feature and labels sets are identical in both training and test sets."
      ]
    },
    {
      "cell_type": "code",
      "execution_count": 83,
      "metadata": {
        "id": "K-ShayRmEt-w",
        "outputId": "08d12e66-e7d3-45f3-b4f3-fc7be5516645",
        "colab": {
          "base_uri": "https://localhost:8080/"
        }
      },
      "outputs": [
        {
          "output_type": "stream",
          "name": "stdout",
          "text": [
            "Shape of training feature matrix:  (80,)\n",
            "Shape of training label vector:  (80,)\n",
            "Shpape of test feature matrix:  (20,)\n",
            "Shape of test label vector:  (20,)\n"
          ]
        }
      ],
      "source": [
        "print(\"Shape of training feature matrix: \", X_train.shape)\n",
        "print(\"Shape of training label vector: \", y_train.shape)\n",
        "\n",
        "print(\"Shpape of test feature matrix: \", X_test.shape)\n",
        "print(\"Shape of test label vector: \", y_test.shape)"
      ]
    },
    {
      "cell_type": "markdown",
      "metadata": {
        "id": "GKhoWT8XEt-w"
      },
      "source": [
        "Let's quickly check the first few examples and labels"
      ]
    },
    {
      "cell_type": "code",
      "execution_count": 84,
      "metadata": {
        "id": "Xkbb2RMbEt-x",
        "outputId": "5a47ece2-c3c0-47a3-f9e2-1960363fa79f",
        "colab": {
          "base_uri": "https://localhost:8080/"
        }
      },
      "outputs": [
        {
          "output_type": "execute_result",
          "data": {
            "text/plain": [
              "array([5.27701973, 0.35608924, 1.85060333, 8.71293553, 0.70217469])"
            ]
          },
          "metadata": {},
          "execution_count": 84
        }
      ],
      "source": [
        "X_train[:5]"
      ]
    },
    {
      "cell_type": "code",
      "execution_count": 85,
      "metadata": {
        "id": "8GC9NQGkEt-x",
        "outputId": "31072f76-5a65-46ec-a6f2-2cc0d303270b",
        "colab": {
          "base_uri": "https://localhost:8080/"
        }
      },
      "outputs": [
        {
          "output_type": "execute_result",
          "data": {
            "text/plain": [
              "array([19.51579901,  4.33927356,  8.75276175, 30.65197436,  5.84976818])"
            ]
          },
          "metadata": {},
          "execution_count": 85
        }
      ],
      "source": [
        "y_train[:5]"
      ]
    },
    {
      "cell_type": "markdown",
      "metadata": {
        "id": "H4PkHncfEt-y"
      },
      "source": [
        "Let's visualize the training set."
      ]
    },
    {
      "cell_type": "code",
      "execution_count": 86,
      "metadata": {
        "id": "hB8lJd6HEt-y",
        "outputId": "64f82287-0b1d-4ca8-9c04-5f2ee4649e37",
        "colab": {
          "base_uri": "https://localhost:8080/",
          "height": 535
        }
      },
      "outputs": [
        {
          "output_type": "display_data",
          "data": {
            "text/plain": [
              "<Figure size 576x576 with 1 Axes>"
            ],
            "image/png": "[encoded data removed]"
          },
          "metadata": {}
        }
      ],
      "source": [
        "sns.set_style(\"white\")\n",
        "f = plt.figure(figsize=(8, 8))\n",
        "sns.set_context(\"notebook\", font_scale=1.5, rc={\"lines.linewidth\": 2.5})\n",
        "\n",
        "plt.plot(X_train, y_train, \"b.\")\n",
        "plt.title(\"Data points\")\n",
        "plt.grid(True)\n",
        "plt.xlabel(\"$x_1$\", fontsize=18)\n",
        "plt.ylabel(\"$y$\", rotation=0, fontsize=18)\n",
        "plt.axis([0, 10, 0, 40])\n",
        "\n",
        "plt.show()"
      ]
    },
    {
      "cell_type": "markdown",
      "metadata": {
        "id": "bNRcv0jQEt-z"
      },
      "source": [
        "We have a training set consisting a single feature so we will fit a simple linear regression model with one feature. It's form is: $y = w_0 + w_1x_1$.  \n",
        "\n",
        "We also add a special dummy feature $x_0$ and set it to 1. We create a helper function for that."
      ]
    },
    {
      "cell_type": "code",
      "execution_count": 87,
      "metadata": {
        "id": "qzWrnzWcEt-z"
      },
      "outputs": [],
      "source": [
        "def add_dummy_feature(x):\n",
        "    ''' Adds a dummy feature to the dataset.\n",
        "    \n",
        "    Args:\n",
        "        x: Training dataset\n",
        "        \n",
        "    Returns:\n",
        "        Training dataset with an addition of dummy feature.\n",
        "    '''\n",
        "    return np.column_stack((np.ones(x.shape[0]), x))"
      ]
    },
    {
      "cell_type": "markdown",
      "metadata": {
        "id": "lPYve-fnEt-0"
      },
      "source": [
        "Let's preprocess the training set to add the dummy feature"
      ]
    },
    {
      "cell_type": "code",
      "execution_count": 88,
      "metadata": {
        "id": "PmwjCtsAEt-0",
        "outputId": "3da0da2d-5287-45d7-f82d-3ddf6c5f5b09",
        "colab": {
          "base_uri": "https://localhost:8080/"
        }
      },
      "outputs": [
        {
          "output_type": "stream",
          "name": "stdout",
          "text": [
            "Before adding dummy feature:\n",
            " [5.27701973 0.35608924 1.85060333 8.71293553 0.70217469]\n",
            "\n",
            "\n",
            "After adding dummy feature:\n",
            " [[1.         5.27701973]\n",
            " [1.         0.35608924]\n",
            " [1.         1.85060333]\n",
            " [1.         8.71293553]\n",
            " [1.         0.70217469]]\n"
          ]
        }
      ],
      "source": [
        "print(\"Before adding dummy feature:\\n\", X_train[:5])\n",
        "print(\"\\n\")\n",
        "\n",
        "X_train = add_dummy_feature(X_train)\n",
        "print(\"After adding dummy feature:\\n\", X_train[:5])"
      ]
    },
    {
      "cell_type": "markdown",
      "metadata": {
        "id": "NLJ7yj6qEt-1"
      },
      "source": [
        "# 2. Model\n",
        "The general vectorized form is as follows:\n",
        "$$\n",
        "y_{n \\times 1} = X_{n \\times (m+1)}w_{(m+1) \\times 1}\n",
        "$$"
      ]
    },
    {
      "cell_type": "code",
      "execution_count": 89,
      "metadata": {
        "id": "djH2MRcnEt-1"
      },
      "outputs": [],
      "source": [
        "def predict(X, w):\n",
        "    '''Prediction of output label for a given input.\n",
        "    \n",
        "    Args:\n",
        "        X: Feature matrix of shape (n, m+1).\n",
        "        w: weight vector of shape (m+1, 1).\n",
        "        \n",
        "    Returns:\n",
        "        y: Predicted label vector of shape (n,).\n",
        "    '''\n",
        "    # Check to make sure that feature matrix and weight vector have compatible shapes.\n",
        "    assert X.shape[1] == w.shape[0], \"X and w don't have compatible dimensions.\"\n",
        "    return X @ w"
      ]
    },
    {
      "cell_type": "markdown",
      "metadata": {
        "id": "A7Y4IDMcEt-2"
      },
      "source": [
        "Since we have not yet trained our model, let's use a random weight vector to get predictions from our model for the given dataset:"
      ]
    },
    {
      "cell_type": "code",
      "execution_count": 90,
      "metadata": {
        "id": "_eyutNAOEt-2",
        "outputId": "ffca8527-ee38-4001-c489-96adfd45f9c2",
        "colab": {
          "base_uri": "https://localhost:8080/"
        }
      },
      "outputs": [
        {
          "output_type": "execute_result",
          "data": {
            "text/plain": [
              "array([0.69806173, 0.01394705])"
            ]
          },
          "metadata": {},
          "execution_count": 90
        }
      ],
      "source": [
        "w=np.random.rand(X_train.shape[1],)\n",
        "w"
      ]
    },
    {
      "cell_type": "code",
      "execution_count": 91,
      "metadata": {
        "id": "VEjVoMPxEt-3"
      },
      "outputs": [],
      "source": [
        "y_hat = predict(X_train, w)"
      ]
    },
    {
      "cell_type": "markdown",
      "metadata": {
        "id": "m5oKNEa7Et-4"
      },
      "source": [
        "Let's compare the prediction with the actual value:"
      ]
    },
    {
      "cell_type": "code",
      "execution_count": 92,
      "metadata": {
        "id": "7zq58-PwEt-4",
        "outputId": "f1de69d5-0cb5-4125-a39b-da58e9e9d4e9",
        "colab": {
          "base_uri": "https://localhost:8080/"
        }
      },
      "outputs": [
        {
          "output_type": "execute_result",
          "data": {
            "text/plain": [
              "array([0.77166061, 0.70302813, 0.7238722 , 0.81958152, 0.707855  ])"
            ]
          },
          "metadata": {},
          "execution_count": 92
        }
      ],
      "source": [
        "y_hat[:5]"
      ]
    },
    {
      "cell_type": "code",
      "execution_count": 93,
      "metadata": {
        "id": "zHO5Wxm6Et-4",
        "outputId": "8073a5c4-6bda-4327-e6e4-b4a08536f431",
        "colab": {
          "base_uri": "https://localhost:8080/"
        }
      },
      "outputs": [
        {
          "output_type": "execute_result",
          "data": {
            "text/plain": [
              "array([19.51579901,  4.33927356,  8.75276175, 30.65197436,  5.84976818])"
            ]
          },
          "metadata": {},
          "execution_count": 93
        }
      ],
      "source": [
        "y_train[:5]"
      ]
    },
    {
      "cell_type": "markdown",
      "metadata": {
        "id": "QEtz42EcEt-5"
      },
      "source": [
        "Since we used a random weight vector w, most of the predicted labels do not match the actual labels."
      ]
    },
    {
      "cell_type": "markdown",
      "metadata": {
        "id": "Q-5O0wGHEt-5"
      },
      "source": [
        "### Comparision of vectorized and non-vectorized version of model inference"
      ]
    },
    {
      "cell_type": "code",
      "execution_count": 94,
      "metadata": {
        "id": "YmYp91zLEt-5"
      },
      "outputs": [],
      "source": [
        "def non_vectorized_predict(X, w):\n",
        "    '''Prediction of output label for a given input.\n",
        "    \n",
        "    Args:\n",
        "        X: Feature matrix of shape (n, m+1).\n",
        "        w: weight vector of shape (m+1, 1).\n",
        "        \n",
        "    Returns:\n",
        "        y: Predicted label vector of shape (n,).\n",
        "    '''\n",
        "    y = []\n",
        "    for i in range(0, X.shape[0]):\n",
        "        y_hat_i = 0\n",
        "        for j in range(0, X.shape[1]):\n",
        "            y_hat_i += X[i][j] * w[j]\n",
        "        y.append(y_hat_i)\n",
        "    return np.array(y)"
      ]
    },
    {
      "cell_type": "markdown",
      "metadata": {
        "id": "eBxqdfJ1Et-5"
      },
      "source": [
        "> For fairly large number of training examples the time of execution for vectorized form as compared to non vectorized form is less.  \n",
        "> And we can actually see this particular phenomenon across different components of the ML models. **The vectorized implementations are far superior in terms of performance than their non-vectorized counterparts.** "
      ]
    },
    {
      "cell_type": "markdown",
      "metadata": {
        "id": "IRCVrxzGEt-6"
      },
      "source": [
        "# 3. Loss function implementation\n",
        "Loss function: $$ J(w) = \\frac{1}{2}(Xw - y)^T(Xw - y) $$"
      ]
    },
    {
      "cell_type": "code",
      "execution_count": 95,
      "metadata": {
        "id": "3xRCLBumEt-7"
      },
      "outputs": [],
      "source": [
        "def loss(X, y, w):\n",
        "    '''Calculates loss for a model based on known labels.\n",
        "    Args:\n",
        "        X: Feature matrix for given inputs.\n",
        "        y: Output label vector as predicted by the given model.\n",
        "        w: Weight vector\n",
        "        \n",
        "    Returns:\n",
        "        Loss\n",
        "    '''\n",
        "    e = predict(X, w) - y\n",
        "    return (1/2) * (np.transpose(e) @ e)"
      ]
    },
    {
      "cell_type": "markdown",
      "metadata": {
        "id": "ey-miK5iEt-8"
      },
      "source": [
        "# 4. Optimization\n",
        "The objective id to implement optimization component of linear regression model.  \n",
        "It is implemented with one of the following two methods:\n",
        "* **Normal Equation method**: Sets the partial derivatives of the loss function w.r.t. weight vector to 0 and solves the resulting equation to obtain the weight vector.\n",
        "* **Gradient Descent method**: iteratively adjusts the weight vector based on the learning rate and the gradient of loss function at the current weight vector."
      ]
    },
    {
      "cell_type": "markdown",
      "metadata": {
        "id": "vIm4XoXCEt-8"
      },
      "source": [
        "## Normal Equation\n",
        "The weight vector is estimated by matrix multiplication of psuedo-inverse of feature matrix and the label vector.  \n",
        "The vectorized implementation is fairly straight forward.\n",
        "- We make use of `np.lialg.pinv` for calculating psuedoinverse of the feature matrix."
      ]
    },
    {
      "cell_type": "code",
      "source": [
        "def normal_equation(X, y):\n",
        "  '''Estimates parameters of the linear regression model with normal equation.\n",
        "\n",
        "    Args:\n",
        "      X: Feature matrix for given inputs.\n",
        "      y: Actual label vector.\n",
        "\n",
        "    Returns:\n",
        "      Weight vector\n",
        "  '''\n",
        "  return np.linalg.pinv(X) @ y\n"
      ],
      "metadata": {
        "id": "4aCL2UnaHtop"
      },
      "execution_count": 96,
      "outputs": []
    },
    {
      "cell_type": "markdown",
      "source": [
        "## Gradient Descent (GD)\n",
        "GD is implemented as follows:\n",
        "- Randomly initialize **w** to **0**.\n",
        "- Iterate until convergence:\n",
        "  - Calculate partial derivative of loss w.r.t. weight vector.\n",
        "  - Calculate new values *simultaneously*.\n",
        "\n",
        "We use number of epochs as a convergence criteria in this implementation.  \n",
        "\n",
        "### Partial derivative of loss function\n",
        "Let's first implement a function to calculate partial derivative of loss function, which is obtained with following equation:\n",
        "$$\n",
        "\\frac{\\delta}{\\delta w}J(w) = X^T(Xw-y)\n",
        "$$\n",
        "The multiplication of transpose of feature matrix with the difference of predicted and actual label vectors."
      ],
      "metadata": {
        "id": "a2TDRCjAIX0R"
      }
    },
    {
      "cell_type": "code",
      "source": [
        "def calculate_gradient(X, y, w):\n",
        "  '''Calculate gradients of loss function w.r.t. weight vector on training set.\n",
        "    \n",
        "    Arguments:\n",
        "      X: feature matrix for training data\n",
        "      y: Label vector for training data\n",
        "      w: Weight vector\n",
        "\n",
        "    Returns:\n",
        "      A vector of gradients.\n",
        "  '''\n",
        "  return np.transpose(X) @ (predict(X, w) - y)"
      ],
      "metadata": {
        "id": "qI2cZsG4I2SY"
      },
      "execution_count": 97,
      "outputs": []
    },
    {
      "cell_type": "markdown",
      "source": [
        "### Weight updates\n",
        "Next let's implement the weight update part:\n",
        "- We obtain the new weight vector from the old one by subtracting gradient weighted by the learning rate."
      ],
      "metadata": {
        "id": "SDUNiu7SMJvq"
      }
    },
    {
      "cell_type": "code",
      "source": [
        "def update_weights(w, grad, lr):\n",
        "  '''Updates the weights based on the gradient of loss function.\n",
        "\n",
        "    Weight updates are carried out with the following formula:\n",
        "      w_new := w_old - lr*grad\n",
        "\n",
        "    Args:\n",
        "      w: weight vector\n",
        "      grad: gradient of loss w.r.t. w\n",
        "      lr: learning rate\n",
        "\n",
        "    Returns:\n",
        "      Updated weight vector\n",
        "  '''\n",
        "  return (w - lr*grad)\n"
      ],
      "metadata": {
        "id": "UB2rf0bKMzlu"
      },
      "execution_count": 98,
      "outputs": []
    },
    {
      "cell_type": "markdown",
      "source": [
        "With these building blocks in place, let's implement gradient descent procedure:"
      ],
      "metadata": {
        "id": "5rvnYtMmNeqW"
      }
    },
    {
      "cell_type": "code",
      "source": [
        "def gradient_descent(X:np.ndarray, y:np.ndarray, lr:float, num_epochs:int):\n",
        "  '''Estimates parameters of linear regression model through gradient descent.\n",
        "\n",
        "    Arguments:\n",
        "      X: Feature matrix for training data.\n",
        "      y: Label vector for training data.\n",
        "      lr: learning rate\n",
        "      num_epochs: Number of training steps\n",
        "\n",
        "    Returns:\n",
        "      Weight vector: Final weight vector\n",
        "      Error vector across different iterations\n",
        "      Weight vectors across different iterations\n",
        "  '''\n",
        "  w_all = []    # all parameters across iterations.\n",
        "  err_all = []    # all errors across iterations.\n",
        "\n",
        "  # Parameter vector initialized to [0, 0]\n",
        "  w = np.zeros(X.shape[1])\n",
        "\n",
        "  # Gradient descent loop\n",
        "  for i in np.arange(0, num_epochs):\n",
        "    w_all.append(w)\n",
        "\n",
        "    # Calculate error due to current weight vector: Note that here we use\n",
        "    # loss function to calculate the loss.\n",
        "    err_all.append(loss(X, y, w))\n",
        "\n",
        "    # Gradient calculation\n",
        "    djdW = calculate_gradient(X, y, w)\n",
        "\n",
        "    # Print stats every 100 iterations\n",
        "    if i%100 == 0:\n",
        "      print('Iteration #: %d, loss: %4.2f'%(i, err_all[-1]))\n",
        "\n",
        "    # Weight vector update.\n",
        "    w = update_weights(w, djdW, lr)\n",
        "\n",
        "  return w, err_all, w_all"
      ],
      "metadata": {
        "id": "JU7tT-aDNuco"
      },
      "execution_count": 104,
      "outputs": []
    },
    {
      "cell_type": "markdown",
      "source": [
        "Since we store weights in each iteration, we can use them to plot intermediate models in order to understand the trajectory taken by GD.  \n",
        "In the following code, \n",
        "- `err_all` contains loss values across all iterations and\n",
        "- `w_all` contains weight vectors across all iterations."
      ],
      "metadata": {
        "id": "GbLXLGnFb-xO"
      }
    },
    {
      "cell_type": "code",
      "source": [
        "w, err_all, w_all = gradient_descent(X_train, y_train, lr=0.00001, num_epochs=1000)"
      ],
      "metadata": {
        "id": "LAQZVhTGcx72",
        "outputId": "45239584-8e76-48e1-b6ed-33f9006068c1",
        "colab": {
          "base_uri": "https://localhost:8080/"
        }
      },
      "execution_count": 107,
      "outputs": [
        {
          "output_type": "stream",
          "name": "stdout",
          "text": [
            "Iteration #: 0, loss: 17362.95\n",
            "Iteration #: 100, loss: 196.71\n",
            "Iteration #: 200, loss: 128.54\n",
            "Iteration #: 300, loss: 125.24\n",
            "Iteration #: 400, loss: 122.31\n",
            "Iteration #: 500, loss: 119.48\n",
            "Iteration #: 600, loss: 116.77\n",
            "Iteration #: 700, loss: 114.15\n",
            "Iteration #: 800, loss: 111.64\n",
            "Iteration #: 900, loss: 109.22\n"
          ]
        }
      ]
    },
    {
      "cell_type": "code",
      "source": [
        "# @title [Plot model trajectory]\n",
        "X_b = np.c_[np.ones((X.shape[0], 1)), X]  # add x0 = 1 to each instance\n",
        "X_new = np.array([[0], [10]])\n",
        "X_new_b = np.c_[np.ones((2,1)), X_new]  # add x0 = 1 to each instance\n",
        "\n",
        "for j in range(0, len(w_all)):\n",
        "  if j%10 != 0: continue\n",
        "  y_hat = predict(X_new_b, w_all[j])\n",
        "  style = \"b-\" if j>0 else \"r--\"\n",
        "  plt.plot(X_new_b[:,1], y_hat, style)\n",
        "\n",
        "plt.plot(X_train[:, 1], y_train, \"b.\")\n",
        "plt.xlabel(\"$x_1$\", fontsize=18)\n",
        "plt.ylabel(\"$y$\", rotation=0, fontsize=18)\n",
        "plt.title('Gradient Descent', fontsize=18)\n",
        "plt.axis([0, 10, 0, 40])\n",
        "plt.show()"
      ],
      "metadata": {
        "id": "hoNnCvC6c-C0",
        "outputId": "5bce8086-f023-4e10-cf5d-cbc5d681f3e6",
        "colab": {
          "base_uri": "https://localhost:8080/",
          "height": 318
        }
      },
      "execution_count": 108,
      "outputs": [
        {
          "output_type": "display_data",
          "data": {
            "text/plain": [
              "<Figure size 432x288 with 1 Axes>"
            ],
            "image/png": "[encoded data removed]"
          },
          "metadata": {}
        }
      ]
    },
    {
      "cell_type": "markdown",
      "source": [
        "Let's plot the learning curves."
      ],
      "metadata": {
        "id": "ZFC9Fy7xfSUm"
      }
    },
    {
      "cell_type": "code",
      "source": [
        "def plot_learning_curves(err_all):\n",
        "  plt.plot(err_all)\n",
        "  plt.xlabel('iteration #')\n",
        "  plt.ylabel('Loss: $J(\\mathbf{w})$')"
      ],
      "metadata": {
        "id": "zcek2MY3fx1n"
      },
      "execution_count": 109,
      "outputs": []
    },
    {
      "cell_type": "code",
      "source": [
        "w, err_all, w_all = gradient_descent(X_train, y_train, lr=0.0001, num_epochs=2000)\n",
        "plot_learning_curves(err_all)"
      ],
      "metadata": {
        "id": "7ds-lq80gQ5I",
        "outputId": "92c30425-8dab-40e7-bf7f-172394b0379f",
        "colab": {
          "base_uri": "https://localhost:8080/",
          "height": 661
        }
      },
      "execution_count": 121,
      "outputs": [
        {
          "output_type": "stream",
          "name": "stdout",
          "text": [
            "Iteration #: 0, loss: 17362.95\n",
            "Iteration #: 100, loss: 106.87\n",
            "Iteration #: 200, loss: 87.90\n",
            "Iteration #: 300, loss: 74.99\n",
            "Iteration #: 400, loss: 66.20\n",
            "Iteration #: 500, loss: 60.23\n",
            "Iteration #: 600, loss: 56.16\n",
            "Iteration #: 700, loss: 53.39\n",
            "Iteration #: 800, loss: 51.51\n",
            "Iteration #: 900, loss: 50.23\n",
            "Iteration #: 1000, loss: 49.35\n",
            "Iteration #: 1100, loss: 48.76\n",
            "Iteration #: 1200, loss: 48.36\n",
            "Iteration #: 1300, loss: 48.08\n",
            "Iteration #: 1400, loss: 47.89\n",
            "Iteration #: 1500, loss: 47.77\n",
            "Iteration #: 1600, loss: 47.68\n",
            "Iteration #: 1700, loss: 47.62\n",
            "Iteration #: 1800, loss: 47.58\n",
            "Iteration #: 1900, loss: 47.55\n"
          ]
        },
        {
          "output_type": "display_data",
          "data": {
            "text/plain": [
              "<Figure size 432x288 with 1 Axes>"
            ],
            "image/png": "[encoded data removed]"
          },
          "metadata": {}
        }
      ]
    },
    {
      "cell_type": "markdown",
      "source": [
        "### Learning rate and convergence\n",
        "Let's vary the learning rate and observe change in the convergence characteristics of GD.  \n",
        "We will use:\n",
        "- $\\alpha = \\{1e-6, 1e-4, 1e-1\\}$ to run GD for 2000 epochs each.\n",
        "- Compare the convergence characteristics."
      ],
      "metadata": {
        "id": "RpLpe9uhgYbd"
      }
    },
    {
      "cell_type": "code",
      "source": [
        "w, err_all, w_all = gradient_descent(X_train, y_train, lr=1e-6, num_epochs=2000)\n",
        "plot_learning_curves(err_all)\n",
        "plt.title('lr=1e-6')"
      ],
      "metadata": {
        "id": "KTP3e8w1lCL3",
        "outputId": "b4e5a5a2-5043-4718-883c-e0c5df7c65ba",
        "colab": {
          "base_uri": "https://localhost:8080/",
          "height": 699
        }
      },
      "execution_count": 123,
      "outputs": [
        {
          "output_type": "stream",
          "name": "stdout",
          "text": [
            "Iteration #: 0, loss: 17362.95\n",
            "Iteration #: 100, loss: 10067.66\n",
            "Iteration #: 200, loss: 5861.29\n",
            "Iteration #: 300, loss: 3435.88\n",
            "Iteration #: 400, loss: 2037.32\n",
            "Iteration #: 500, loss: 1230.82\n",
            "Iteration #: 600, loss: 765.68\n",
            "Iteration #: 700, loss: 497.35\n",
            "Iteration #: 800, loss: 342.51\n",
            "Iteration #: 900, loss: 253.09\n",
            "Iteration #: 1000, loss: 201.40\n",
            "Iteration #: 1100, loss: 171.46\n",
            "Iteration #: 1200, loss: 154.07\n",
            "Iteration #: 1300, loss: 143.90\n",
            "Iteration #: 1400, loss: 137.91\n",
            "Iteration #: 1500, loss: 134.31\n",
            "Iteration #: 1600, loss: 132.11\n",
            "Iteration #: 1700, loss: 130.71\n",
            "Iteration #: 1800, loss: 129.77\n",
            "Iteration #: 1900, loss: 129.09\n"
          ]
        },
        {
          "output_type": "execute_result",
          "data": {
            "text/plain": [
              "Text(0.5, 1.0, 'lr=1e-6')"
            ]
          },
          "metadata": {},
          "execution_count": 123
        },
        {
          "output_type": "display_data",
          "data": {
            "text/plain": [
              "<Figure size 432x288 with 1 Axes>"
            ],
            "image/png": "[encoded data removed]"
          },
          "metadata": {}
        }
      ]
    },
    {
      "cell_type": "code",
      "source": [
        "w, err_all, w_all = gradient_descent(X_train, y_train, lr=1e-4, num_epochs=2000)\n",
        "plot_learning_curves(err_all)\n",
        "plt.title('lr=1e-4')"
      ],
      "metadata": {
        "id": "Keejw_vClk7G",
        "outputId": "bedb4594-7a95-44ed-fa94-7aa982433019",
        "colab": {
          "base_uri": "https://localhost:8080/",
          "height": 699
        }
      },
      "execution_count": 124,
      "outputs": [
        {
          "output_type": "stream",
          "name": "stdout",
          "text": [
            "Iteration #: 0, loss: 17362.95\n",
            "Iteration #: 100, loss: 106.87\n",
            "Iteration #: 200, loss: 87.90\n",
            "Iteration #: 300, loss: 74.99\n",
            "Iteration #: 400, loss: 66.20\n",
            "Iteration #: 500, loss: 60.23\n",
            "Iteration #: 600, loss: 56.16\n",
            "Iteration #: 700, loss: 53.39\n",
            "Iteration #: 800, loss: 51.51\n",
            "Iteration #: 900, loss: 50.23\n",
            "Iteration #: 1000, loss: 49.35\n",
            "Iteration #: 1100, loss: 48.76\n",
            "Iteration #: 1200, loss: 48.36\n",
            "Iteration #: 1300, loss: 48.08\n",
            "Iteration #: 1400, loss: 47.89\n",
            "Iteration #: 1500, loss: 47.77\n",
            "Iteration #: 1600, loss: 47.68\n",
            "Iteration #: 1700, loss: 47.62\n",
            "Iteration #: 1800, loss: 47.58\n",
            "Iteration #: 1900, loss: 47.55\n"
          ]
        },
        {
          "output_type": "execute_result",
          "data": {
            "text/plain": [
              "Text(0.5, 1.0, 'lr=1e-4')"
            ]
          },
          "metadata": {},
          "execution_count": 124
        },
        {
          "output_type": "display_data",
          "data": {
            "text/plain": [
              "<Figure size 432x288 with 1 Axes>"
            ],
            "image/png": "[encoded data removed]"
          },
          "metadata": {}
        }
      ]
    },
    {
      "cell_type": "code",
      "source": [
        "w, err_all, w_all = gradient_descent(X_train, y_train, lr=1e-1, num_epochs=2000)\n",
        "plot_learning_curves(err_all)\n",
        "plt.title('lr=1e-1')"
      ],
      "metadata": {
        "id": "Ic2gbF5pmXNw",
        "outputId": "7721e259-766e-4b68-a4cf-70fba6815943",
        "colab": {
          "base_uri": "https://localhost:8080/",
          "height": 772
        }
      },
      "execution_count": 125,
      "outputs": [
        {
          "output_type": "stream",
          "name": "stdout",
          "text": [
            "Iteration #: 0, loss: 17362.95\n",
            "Iteration #: 100, loss:  inf\n",
            "Iteration #: 200, loss:  nan\n",
            "Iteration #: 300, loss:  nan\n",
            "Iteration #: 400, loss:  nan\n",
            "Iteration #: 500, loss:  nan\n",
            "Iteration #: 600, loss:  nan\n",
            "Iteration #: 700, loss:  nan\n",
            "Iteration #: 800, loss:  nan\n",
            "Iteration #: 900, loss:  nan\n",
            "Iteration #: 1000, loss:  nan\n",
            "Iteration #: 1100, loss:  nan\n",
            "Iteration #: 1200, loss:  nan\n",
            "Iteration #: 1300, loss:  nan\n",
            "Iteration #: 1400, loss:  nan\n",
            "Iteration #: 1500, loss:  nan\n",
            "Iteration #: 1600, loss:  nan\n",
            "Iteration #: 1700, loss:  nan\n",
            "Iteration #: 1800, loss:  nan\n",
            "Iteration #: 1900, loss:  nan\n"
          ]
        },
        {
          "output_type": "stream",
          "name": "stderr",
          "text": [
            "/usr/local/lib/python3.7/dist-packages/ipykernel_launcher.py:12: RuntimeWarning: overflow encountered in matmul\n",
            "  if sys.path[0] == '':\n",
            "/usr/local/lib/python3.7/dist-packages/ipykernel_launcher.py:15: RuntimeWarning: invalid value encountered in subtract\n",
            "  from ipykernel import kernelapp as app\n"
          ]
        },
        {
          "output_type": "execute_result",
          "data": {
            "text/plain": [
              "Text(0.5, 1.0, 'lr=1e-1')"
            ]
          },
          "metadata": {},
          "execution_count": 125
        },
        {
          "output_type": "display_data",
          "data": {
            "text/plain": [
              "<Figure size 432x288 with 1 Axes>"
            ],
            "image/png": "[encoded data removed]"
          },
          "metadata": {}
        }
      ]
    },
    {
      "cell_type": "markdown",
      "source": [
        "## Optimization - Variations of GD (minibatch and stochastic)\n",
        "The objective is to implemant minibatch and stochastic gradient descent."
      ],
      "metadata": {
        "id": "omyDoRekmaU1"
      }
    },
    {
      "cell_type": "markdown",
      "source": [
        "1. Generate data\n",
        "2. Train-Test split\n",
        "3. Add dummy feature"
      ],
      "metadata": {
        "id": "lZ6DFys5n6Ft"
      }
    },
    {
      "cell_type": "markdown",
      "source": [
        "### Mini-batch gradient descent (MBGD)\n",
        "The key idea is to perform weight updates by computing gradient on batches of small number of examples."
      ],
      "metadata": {
        "id": "xyrOGnr5oHBF"
      }
    },
    {
      "cell_type": "code",
      "source": [
        "t0, t1 = 200, 100000\n",
        "def learning_schedule(t):\n",
        "  return t0 / (t + t1)\n",
        "\n",
        "# Learning schedule gradually decreases the learning rate.\n",
        "# We initially start with larger learning rate and the learning_schedule will\n",
        "# gradually decrease it as we make iterations through these procedures."
      ],
      "metadata": {
        "id": "l9JjbstmoeJO"
      },
      "execution_count": 127,
      "outputs": []
    },
    {
      "cell_type": "code",
      "source": [
        "def mini_batch_gd(X:np.ndarray, y:np.ndarray, num_iters:int, minibatch_size:int):\n",
        "  w_all = []\n",
        "  err_all = []\n",
        "\n",
        "  # Parameter vector initialized to [0, 0]\n",
        "  w = np.zeros((X.shape[-1]))\n",
        "  t = 0\n",
        "\n",
        "  for epoch in range(num_iters):\n",
        "    shuffled_indices = np.random.permutation(X.shape[0])\n",
        "    X_shuffled = X[shuffled_indices]\n",
        "    y_shuffled = y[shuffled_indices]\n",
        "    for i in range(0, X.shape[0], minibatch_size):\n",
        "      t += 1\n",
        "      xi = X_shuffled[i:i+minibatch_size]\n",
        "      yi = y_shuffled[i:i+minibatch_size]\n",
        "      err_all.append(loss(xi, yi, w))\n",
        "\n",
        "      gradients = 2/minibatch_size * calculate_gradient(xi, yi, w)\n",
        "      lr = learning_schedule(t)\n",
        "\n",
        "      w = update_weights(w, gradients, lr)\n",
        "      w_all.append(w)\n",
        "  return w, err_all, w_all"
      ],
      "metadata": {
        "id": "NvkrONWTosVj"
      },
      "execution_count": 128,
      "outputs": []
    },
    {
      "cell_type": "markdown",
      "source": [
        "Let's look at the learning curves for mini-batch GD:"
      ],
      "metadata": {
        "id": "9SMDbLC4r7Tu"
      }
    },
    {
      "cell_type": "code",
      "source": [
        "w, err_all, w_all = mini_batch_gd(X_train, y_train, 20, 8)\n",
        "plot_learning_curves(err_all)"
      ],
      "metadata": {
        "id": "y6i0WLrQsIo1",
        "outputId": "64c2ffb0-30af-4e9b-8cea-b3b29fbf8e2b",
        "colab": {
          "base_uri": "https://localhost:8080/",
          "height": 302
        }
      },
      "execution_count": 129,
      "outputs": [
        {
          "output_type": "display_data",
          "data": {
            "text/plain": [
              "<Figure size 432x288 with 1 Axes>"
            ],
            "image/png": "[encoded data removed]"
          },
          "metadata": {}
        }
      ]
    },
    {
      "cell_type": "markdown",
      "source": [
        "### Stochastic gradient descent (SGD)\n",
        "The key idea here is to perform weight updates by computing gradient on one example at a time.  \n",
        "It is infact MBGD with number of example per batch = 1."
      ],
      "metadata": {
        "id": "jsn_l8KdsZhG"
      }
    },
    {
      "cell_type": "code",
      "source": [
        "def sgd(X:np.ndarray, y:np.ndarray, num_epochs:int):\n",
        "  w_all = []\n",
        "  err_all = []\n",
        "\n",
        "  w = np.zeros((X.shape[1]))\n",
        "  for epoch in range(num_epochs):\n",
        "    for i in range(X.shape[0]):\n",
        "      random_index = np.random.randint(X.shape[0])\n",
        "      xi = X[random_index: random_index+1]\n",
        "      yi = y[random_index: random_index+1]\n",
        "      err_all.append(loss(xi, yi, w))\n",
        "\n",
        "      gradients = 2* calculate_gradient(xi, yi, w)\n",
        "      lr = learning_schedule(epoch * X.shape[0] + i)\n",
        "\n",
        "      w = update_weights(w, gradients, lr)\n",
        "      w_all.append(w)\n",
        "  return w, err_all, w_all"
      ],
      "metadata": {
        "id": "SDR0yF8MtPUW"
      },
      "execution_count": 130,
      "outputs": []
    },
    {
      "cell_type": "code",
      "source": [
        "w, err_all, w_all = sgd(X_train, y_train, 10)\n",
        "plot_learning_curves(err_all)"
      ],
      "metadata": {
        "id": "c3NoReFyucPd",
        "outputId": "3e299039-448c-4efe-d0d9-bf428fb658ad",
        "colab": {
          "base_uri": "https://localhost:8080/",
          "height": 301
        }
      },
      "execution_count": 131,
      "outputs": [
        {
          "output_type": "display_data",
          "data": {
            "text/plain": [
              "<Figure size 432x288 with 1 Axes>"
            ],
            "image/png": "[encoded data removed]"
          },
          "metadata": {}
        }
      ]
    },
    {
      "cell_type": "code",
      "source": [
        ""
      ],
      "metadata": {
        "id": "dCvo_r5Tu90F"
      },
      "execution_count": null,
      "outputs": []
    }
  ],
  "metadata": {
    "interpreter": {
      "hash": "aee8b7b246df8f9039afb4144a1f6fd8d2ca17a180786b69acc140d282b71a49"
    },
    "kernelspec": {
      "display_name": "Python 3.10.4 64-bit",
      "language": "python",
      "name": "python3"
    },
    "language_info": {
      "codemirror_mode": {
        "name": "ipython",
        "version": 3
      },
      "file_extension": ".py",
      "mimetype": "text/x-python",
      "name": "python",
      "nbconvert_exporter": "python",
      "pygments_lexer": "ipython3",
      "version": "3.10.4"
    },
    "orig_nbformat": 4,
    "colab": {
      "name": "LinearRegression.ipynb",
      "provenance": [],
      "include_colab_link": true
    }
  },
  "nbformat": 4,
  "nbformat_minor": 0
}