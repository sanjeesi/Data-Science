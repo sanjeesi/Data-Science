{
 "cells": [
  {
   "cell_type": "markdown",
   "metadata": {},
   "source": [
    "# Baseline models\n",
    "In this notebook, we build a linear regression model. We will build a couple of baseline models using `DummyRegression` and `permutaion_test_score`. We will compare perfomance of our linear regression model with these two baselines."
   ]
  },
  {
   "cell_type": "code",
   "execution_count": 3,
   "metadata": {},
   "outputs": [],
   "source": [
    "# imports\n",
    "import pandas as pd\n",
    "import matplotlib.pyplot as plt\n",
    "\n",
    "from sklearn.datasets import fetch_california_housing\n",
    "from sklearn.dummy import DummyRegressor\n",
    "\n",
    "from sklearn.linear_model import LinearRegression\n",
    "\n",
    "from sklearn.model_selection import cross_validate\n",
    "from sklearn.model_selection import ShuffleSplit\n",
    "from sklearn.model_selection import permutation_test_score\n",
    "from sklearn.model_selection import train_test_split\n",
    "\n",
    "from sklearn.pipeline import Pipeline\n",
    "from sklearn.preprocessing import StandardScaler"
   ]
  },
  {
   "cell_type": "markdown",
   "metadata": {},
   "source": [
    "We will use `ShuffleSplit` as a cross validation strategy."
   ]
  },
  {
   "cell_type": "code",
   "execution_count": 4,
   "metadata": {},
   "outputs": [],
   "source": [
    "shuffle_split_cv = ShuffleSplit(n_splits=10, test_size=0.2, random_state=0)"
   ]
  },
  {
   "cell_type": "code",
   "execution_count": 5,
   "metadata": {},
   "outputs": [],
   "source": [
    "# Let's load the data and split it into training and test sets.\n",
    "features, labels = fetch_california_housing(as_frame=True, return_X_y=True)\n",
    "train_features, test_features, train_labels, test_labels = train_test_split(features, labels, random_state=42)"
   ]
  },
  {
   "cell_type": "markdown",
   "metadata": {},
   "source": [
    "## `LinearRegression` Model\n",
    "- Build linear regression model with feature scaling as part of a pipeline.\n",
    "- Train the model with 10-fold cross validation via `ShuffleSplit`.\n",
    "- Capture errors on different folds."
   ]
  },
  {
   "cell_type": "code",
   "execution_count": 6,
   "metadata": {},
   "outputs": [],
   "source": [
    "lin_reg_pipeline = Pipeline([\n",
    "    ('scaler', StandardScaler()),\n",
    "    ('lin_reg', LinearRegression())\n",
    "])\n",
    "lin_reg_cv_results = cross_validate(lin_reg_pipeline, train_features,\n",
    "                                    train_labels, cv=shuffle_split_cv,\n",
    "                                    scoring='neg_mean_absolute_error',\n",
    "                                    n_jobs=2)\n",
    "\n",
    "lin_reg_errors = pd.Series(-lin_reg_cv_results['test_score'],\n",
    "                            name ='Linear regression error')"
   ]
  },
  {
   "cell_type": "markdown",
   "metadata": {},
   "source": [
    "## `DummyRegressor`"
   ]
  },
  {
   "cell_type": "code",
   "execution_count": 7,
   "metadata": {},
   "outputs": [],
   "source": [
    "def dummy_regressor_baseline(strategy, constant_val=None, quantile_val=None):\n",
    "    baseline_model_median = DummyRegressor(strategy=strategy,\n",
    "                                            constant=constant_val,\n",
    "                                            quantile=quantile_val)\n",
    "    baseline_median_cv_results = cross_validate(baseline_model_median,\n",
    "                                                train_features, train_labels,\n",
    "                                                cv=shuffle_split_cv,\n",
    "                                                scoring=\"neg_mean_absolute_error\",\n",
    "                                                n_jobs=2)\n",
    "    return pd.Series(-baseline_median_cv_results['test_score'],\n",
    "                        name='Dummy regressor error')"
   ]
  },
  {
   "cell_type": "code",
   "execution_count": 8,
   "metadata": {},
   "outputs": [],
   "source": [
    "baseline_median_cv_results_errors = dummy_regressor_baseline(strategy='median')\n",
    "baseline_mean_cv_results_errors = dummy_regressor_baseline(strategy='mean')\n",
    "baseline_constant_cv_results_errors = dummy_regressor_baseline(\n",
    "    strategy='constant', constant_val=2)\n",
    "baseline_quantile_cv_results_error = dummy_regressor_baseline(\n",
    "    strategy='quantile', quantile_val=0.55)"
   ]
  },
  {
   "cell_type": "markdown",
   "metadata": {},
   "source": [
    "Let's compare performance of these dummy regressors:"
   ]
  },
  {
   "cell_type": "code",
   "execution_count": 9,
   "metadata": {},
   "outputs": [],
   "source": [
    "dummy_error_df = pd.concat([baseline_median_cv_results_errors,\n",
    "                            baseline_mean_cv_results_errors,\n",
    "                            baseline_constant_cv_results_errors,\n",
    "                            baseline_quantile_cv_results_error],\n",
    "                        axis=1)\n",
    "dummy_error_df.columns = ['Median CV', 'Mean CV', 'Constant CV', 'Quantile CV']"
   ]
  },
  {
   "cell_type": "code",
   "execution_count": 10,
   "metadata": {},
   "outputs": [
    {
     "data": {
      "image/png": "[encoded data removed]",
      "text/plain": [
       "<Figure size 432x288 with 1 Axes>"
      ]
     },
     "metadata": {
      "needs_background": "light"
     },
     "output_type": "display_data"
    }
   ],
   "source": [
    "dummy_error_df.plot.hist(bins=50, density=True, edgecolor='black')\n",
    "plt.legend(bbox_to_anchor=(1.05, 0.8), loc='upper left')\n",
    "plt.xlabel('Mean absolute error (k$)')\n",
    "_ = plt.title('Distribution of the testing errors')"
   ]
  },
  {
   "cell_type": "markdown",
   "metadata": {},
   "source": [
    "## `permutation_test_score`\n",
    "It permutes the target to generate randomized data and computes the empirical p-value against the null hypothesis, that features and targets are independent.  \n",
    "Here we are interested in `permutation_score` returned by this API, which indicates score of the model on different permutations."
   ]
  },
  {
   "cell_type": "code",
   "execution_count": 11,
   "metadata": {},
   "outputs": [],
   "source": [
    "score, permutation_score, pvalue = permutation_test_score(\n",
    "    lin_reg_pipeline, train_features, train_labels,\n",
    "    cv=shuffle_split_cv, scoring='neg_mean_absolute_error',\n",
    "    n_jobs=2, n_permutations=30)\n",
    "permutation_errors = pd.Series(-permutation_score, name='Permuted error')"
   ]
  },
  {
   "cell_type": "code",
   "execution_count": 12,
   "metadata": {},
   "outputs": [
    {
     "name": "stdout",
     "output_type": "stream",
     "text": [
      "[-0.91446539 -0.91608713 -0.91501122 -0.91112203 -0.91326112 -0.91428719\n",
      " -0.91694297 -0.90660687 -0.90873595 -0.91546138 -0.9084695  -0.91174023\n",
      " -0.91857102 -0.91467076 -0.90396709 -0.91239289 -0.91095499 -0.91729623\n",
      " -0.90529415 -0.91436609 -0.91993036 -0.91661883 -0.91104746 -0.91563156\n",
      " -0.91014294 -0.91526135 -0.90680247 -0.90796435 -0.91032999 -0.91545574]\n"
     ]
    }
   ],
   "source": [
    "print(permutation_score)"
   ]
  },
  {
   "cell_type": "markdown",
   "metadata": {},
   "source": [
    "# Model comparison"
   ]
  },
  {
   "cell_type": "code",
   "execution_count": 15,
   "metadata": {},
   "outputs": [],
   "source": [
    "error_df = pd.concat([lin_reg_errors, baseline_median_cv_results_errors, permutation_errors], axis= 1)"
   ]
  },
  {
   "cell_type": "code",
   "execution_count": 17,
   "metadata": {},
   "outputs": [
    {
     "data": {
      "image/png": "[encoded data removed]",
      "text/plain": [
       "<Figure size 432x288 with 1 Axes>"
      ]
     },
     "metadata": {
      "needs_background": "light"
     },
     "output_type": "display_data"
    }
   ],
   "source": [
    "error_df.plot.hist(bins=50, density=True, edgecolor='black')\n",
    "plt.legend(loc='best')\n",
    "plt.xlabel('Mean absolute error (k$)')\n",
    "_ = plt.title('Distribution of the testing errors')"
   ]
  },
  {
   "cell_type": "markdown",
   "metadata": {},
   "source": [
    "Our model has better performance than the two baselines. However our model needs to improve it further.  "
   ]
  },
  {
   "cell_type": "markdown",
   "metadata": {},
   "source": [
    "### Summary\n",
    "We implemented a couple of baselines - based on `DummyRegressor` and `permutation_test_score`.  \n",
    "In this notebook, we used all strategies of `DummyRegressor`. While using this in practice, we need to use only one of these strategies depending on the dataset."
   ]
  },
  {
   "cell_type": "markdown",
   "metadata": {},
   "source": []
  }
 ],
 "metadata": {
  "interpreter": {
   "hash": "aee8b7b246df8f9039afb4144a1f6fd8d2ca17a180786b69acc140d282b71a49"
  },
  "kernelspec": {
   "display_name": "Python 3.10.4 64-bit",
   "language": "python",
   "name": "python3"
  },
  "language_info": {
   "codemirror_mode": {
    "name": "ipython",
    "version": 3
   },
   "file_extension": ".py",
   "mimetype": "text/x-python",
   "name": "python",
   "nbconvert_exporter": "python",
   "pygments_lexer": "ipython3",
   "version": "3.10.4"
  },
  "orig_nbformat": 4
 },
 "nbformat": 4,
 "nbformat_minor": 2
}
