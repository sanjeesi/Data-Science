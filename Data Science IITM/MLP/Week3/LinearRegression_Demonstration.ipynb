{
  "nbformat": 4,
  "nbformat_minor": 0,
  "metadata": {
    "colab": {
      "name": "LinearRegression Demonstration.ipynb",
      "provenance": [],
      "authorship_tag": "ABX9TyP0dYlTbZcEtPXVZZaWylRA",
      "include_colab_link": true
    },
    "kernelspec": {
      "name": "python3",
      "display_name": "Python 3"
    },
    "language_info": {
      "name": "python"
    }
  },
  "cells": [
    {
      "cell_type": "markdown",
      "metadata": {
        "id": "view-in-github",
        "colab_type": "text"
      },
      "source": [
        "<a href=\"https://colab.research.google.com/github/sanjeesi/Notes-Notebooks/blob/master/Data%20Science%20IITM/MLP/Week3/LinearRegression_Demonstration.ipynb\" target=\"_parent\"><img src=\"https://colab.research.google.com/assets/colab-badge.svg\" alt=\"Open In Colab\"/></a>"
      ]
    },
    {
      "cell_type": "markdown",
      "source": [
        "# Linear Regression with sklearn API\n",
        "The objective of this colab is to demonstrate how to build a linear regression model with `sklearn`. We will be using the following set up:\n",
        "1. Dataset: California housing\n",
        "2. Linear regression API: `LinearRegression`\n",
        "3. Training: `fit` (normal equation) and `cross_validation` (normal equation with cross validation).\n",
        "4. Evaluation: `score` (r2 score) and `cross_val_score` with different scoring parameters.\n",
        "\n",
        "We will study the model diagnosis with `LearningCurve` and learn how to examine the learned model or weight vector."
      ],
      "metadata": {
        "id": "xzgBxd3eOYs6"
      }
    },
    {
      "cell_type": "code",
      "source": [
        "# Imports\n",
        "import numpy as np\n",
        "import pandas as pd\n",
        "import matplotlib.pyplot as plt\n",
        "import seaborn as sns\n",
        "\n",
        "from sklearn.datasets import fetch_california_housing\n",
        "from sklearn.linear_model import LinearRegression\n",
        "\n",
        "from sklearn.model_selection import cross_validate\n",
        "from sklearn.model_selection import cross_val_score\n",
        "from sklearn.model_selection import learning_curve\n",
        "from sklearn.model_selection import ShuffleSplit\n",
        "\n",
        "from sklearn.metrics import mean_squared_error\n",
        "\n",
        "from sklearn.pipeline import Pipeline\n",
        "from sklearn.preprocessing import StandardScaler"
      ],
      "metadata": {
        "id": "VhP6S4H_PY3O"
      },
      "execution_count": 4,
      "outputs": []
    },
    {
      "cell_type": "code",
      "source": [
        "np.random.seed(306)\n",
        "plt.style.use('seaborn')"
      ],
      "metadata": {
        "id": "XKkppn1xQUm8"
      },
      "execution_count": 5,
      "outputs": []
    },
    {
      "cell_type": "markdown",
      "source": [
        "We will use `ShuffledSplit` cross validation with:\n",
        "- 10 folds (`n_split`) and\n",
        "- set aside 20% examples as test examples (`test_size`)"
      ],
      "metadata": {
        "id": "t-5uSyLjQ-67"
      }
    },
    {
      "cell_type": "code",
      "source": [
        "shuffle_split_cv = ShuffleSplit(n_splits=10, test_size=0.2, random_state=0)"
      ],
      "metadata": {
        "id": "UBVdPjYFRV8g"
      },
      "execution_count": 7,
      "outputs": []
    },
    {
      "cell_type": "markdown",
      "source": [
        "Creates 10 folds through shuffle split by keeping aside 20% examples as test in each fold."
      ],
      "metadata": {
        "id": "4o2A40BHRh28"
      }
    },
    {
      "cell_type": "markdown",
      "source": [
        "## Step #1: Load the dataset"
      ],
      "metadata": {
        "id": "mCWIWzhYRvp1"
      }
    },
    {
      "cell_type": "code",
      "source": [
        "features, labels = fetch_california_housing(as_frame=True, return_X_y=True)"
      ],
      "metadata": {
        "id": "vlc2YavlR6i6"
      },
      "execution_count": 10,
      "outputs": []
    },
    {
      "cell_type": "code",
      "source": [
        "print('Shape of feature matrix: ', features.shape)\n",
        "print('Shape of label vector: ', labels.shape)"
      ],
      "metadata": {
        "colab": {
          "base_uri": "https://localhost:8080/"
        },
        "id": "symdAZBLSBOj",
        "outputId": "83d84c5e-158c-4b0f-b7b8-1d21d6268741"
      },
      "execution_count": 11,
      "outputs": [
        {
          "output_type": "stream",
          "name": "stdout",
          "text": [
            "Shape of feature matrix:  (20640, 8)\n",
            "Shape of label vector:  (20640,)\n"
          ]
        }
      ]
    },
    {
      "cell_type": "markdown",
      "source": [
        "As a sanity check, make sure that the number of rows in feature matrix and labels match."
      ],
      "metadata": {
        "id": "9J2_dAfKSVGc"
      }
    },
    {
      "cell_type": "code",
      "source": [
        "assert(features.shape[0] == labels.shape[0])"
      ],
      "metadata": {
        "id": "Lk8p16vYSqHP"
      },
      "execution_count": 12,
      "outputs": []
    },
    {
      "cell_type": "markdown",
      "source": [
        "## Step #2: Data exploration\n",
        "Data exploration has been covered in [Introduction to Scikit-Learn](https://github.com/sanjeesi/Notes-Notebooks/blob/master/Data%20Science%20IITM/MLP/Week1/Introduction%20to%20Scikit-Learn.ipynb) notebook."
      ],
      "metadata": {
        "id": "hamS8YonSwsj"
      }
    },
    {
      "cell_type": "markdown",
      "source": [
        "## Step #3: Preprocessing and model building\n",
        "### 3.1 Train test split\n",
        "The first step is to split the training data into training and test set. We do not access the test data till the end. All data exploration and tuning is perfomed on the training set and by setting aside a small portion of training as a dev or validation set."
      ],
      "metadata": {
        "id": "uY62k0MBTtq8"
      }
    },
    {
      "cell_type": "code",
      "source": [
        "from sklearn.model_selection import train_test_split\n",
        "train_features, test_features, train_labels, test_labels = train_test_split(\n",
        "    features, labels, random_state=42)"
      ],
      "metadata": {
        "id": "zGfrGHQpVYkW"
      },
      "execution_count": 13,
      "outputs": []
    },
    {
      "cell_type": "code",
      "source": [
        "print(\"# of training samples: \", train_features.shape[0])\n",
        "print(\"# of test samples: \", test_features.shape[0])"
      ],
      "metadata": {
        "colab": {
          "base_uri": "https://localhost:8080/"
        },
        "id": "eIl05cTMVtgI",
        "outputId": "f5c684b4-e4d7-4f1f-dd2e-df64322f9bef"
      },
      "execution_count": 14,
      "outputs": [
        {
          "output_type": "stream",
          "name": "stdout",
          "text": [
            "# of training samples:  15480\n",
            "# of test samples:  5160\n"
          ]
        }
      ]
    },
    {
      "cell_type": "code",
      "source": [
        "# Sanity check\n",
        "assert(train_features.shape[0] == train_labels.shape[0])\n",
        "assert(test_features.shape[0] == test_labels.shape[0])"
      ],
      "metadata": {
        "id": "Omo1kFgNV7rs"
      },
      "execution_count": 15,
      "outputs": []
    },
    {
      "cell_type": "markdown",
      "source": [
        "### 3.2 Pipeline: preprocessing + model\n",
        "As a first step, build linear regression models with default parameter setting of `LinearRegerssion` APIs.\n",
        "> We will make use of `Pipeline` API for combining data preprocessing and model building.\n",
        "We will use `StandardScaler` feature scaling to bring all features on the same scale followed by a `LinearRegression` model."
      ],
      "metadata": {
        "id": "JfK-8Ph6WNrI"
      }
    },
    {
      "cell_type": "code",
      "source": [
        "# set up the linear regression model.\n",
        "lin_reg_pipeline = Pipeline([(\"feature_scaling\", StandardScaler()),\n",
        "                             (\"lin_reg\", LinearRegression())])\n",
        "\n",
        "# train linear regression model with normal equation.\n",
        "lin_reg_pipeline.fit(train_features, train_labels)"
      ],
      "metadata": {
        "colab": {
          "base_uri": "https://localhost:8080/"
        },
        "id": "oaUeHJcaXI2X",
        "outputId": "c7bd010b-4397-48cb-f5f3-70a36fcd0293"
      },
      "execution_count": 18,
      "outputs": [
        {
          "output_type": "execute_result",
          "data": {
            "text/plain": [
              "Pipeline(steps=[('feature_scaling', StandardScaler()),\n",
              "                ('lin_reg', LinearRegression())])"
            ]
          },
          "metadata": {},
          "execution_count": 18
        }
      ]
    },
    {
      "cell_type": "markdown",
      "source": [
        "Now that we have trained the model, let's check the learnt/estimated weight vectors (`intercept_` and `coef_`)."
      ],
      "metadata": {
        "id": "IB5xNVprXa1t"
      }
    },
    {
      "cell_type": "code",
      "source": [
        "# we can access the 'LinearRegression' object as 'lin_reg_pipeline[-1] which is the last step in the pipeline.\n",
        "print('intercept (w_0): ', lin_reg_pipeline[-1].intercept_)\n",
        "print('weight vector (w_1, ... , w_m: ', lin_reg_pipeline[-1].coef_)"
      ],
      "metadata": {
        "colab": {
          "base_uri": "https://localhost:8080/"
        },
        "id": "2Qh25mHSX2jd",
        "outputId": "d539e561-279c-44f0-9832-34191865d4a8"
      },
      "execution_count": 21,
      "outputs": [
        {
          "output_type": "stream",
          "name": "stdout",
          "text": [
            "intercept (w_0):  2.0703489205426377\n",
            "weight vector (w_1, ... , w_m:  [ 0.85210815  0.12065533 -0.30210555  0.34860575 -0.00164465 -0.04116356\n",
            " -0.89314697 -0.86784046]\n"
          ]
        }
      ]
    },
    {
      "cell_type": "markdown",
      "source": [
        "## Step #4: Model Evaluation\n",
        "#### `Score`\n",
        "Let's use `score` method to obtain train and test errors with twin objectives:\n",
        "- Estimation of model performance as provided by test error.\n",
        "- Comparision of errors for model dignostice purpose (under/over/just right fit)"
      ],
      "metadata": {
        "id": "eWyUI02cYeZm"
      }
    },
    {
      "cell_type": "code",
      "source": [
        "# evaluate model performance on the test set.\n",
        "test_score = lin_reg_pipeline.score(test_features, test_labels)\n",
        "print(\"Model performance on test set: \", test_score)\n",
        "\n",
        "train_score = lin_reg_pipeline.score(train_features, train_labels)\n",
        "print(\"Model performace on train set: \", train_score)"
      ],
      "metadata": {
        "colab": {
          "base_uri": "https://localhost:8080/"
        },
        "id": "78_9n49AaIGR",
        "outputId": "a7633941-ee1c-4eda-967d-e0f92ef77b88"
      },
      "execution_count": 22,
      "outputs": [
        {
          "output_type": "stream",
          "name": "stdout",
          "text": [
            "Model performance on test set:  0.5910509795491352\n",
            "Model performace on train set:  0.609873031052925\n"
          ]
        }
      ]
    },
    {
      "cell_type": "markdown",
      "source": [
        "The `score` method returns `r2` score whose best value is 1. The `r2` scores on training and test are comparable but they are not that high. It points to underfitting issue in model training."
      ],
      "metadata": {
        "id": "5zwCQj4faha3"
      }
    },
    {
      "cell_type": "markdown",
      "source": [
        "#### Cross validated score (`cross_val_score`)\n",
        "Since the `score` was computed on one fold that was selected as a test set, it may not be all that robust. In order to obtain robust estimate of the performance, we use `cross_val_score` that calculates `score` on different test folds through cross validation."
      ],
      "metadata": {
        "id": "WFw8BnxXa040"
      }
    },
    {
      "cell_type": "code",
      "source": [
        "lin_reg_score = cross_val_score(lin_reg_pipeline,\n",
        "                                train_features,\n",
        "                                train_labels,\n",
        "                                scoring='neg_mean_squared_error',\n",
        "                                cv=shuffle_split_cv)\n",
        "# This will return 10 different scores, one for each fold.\n",
        "print(lin_reg_score)\n",
        "\n",
        "# We can take mean and standard deviation of the score and report it.\n",
        "print(f\"\\nScore of linear regression model on the test set:\\n\"\n",
        "      f\"{lin_reg_score.mean():.3f} +/- {lin_reg_score.std():.3f}\")"
      ],
      "metadata": {
        "colab": {
          "base_uri": "https://localhost:8080/"
        },
        "id": "Er2TGELzb402",
        "outputId": "65c066eb-6d4d-4ab4-8758-cacaff42bc1a"
      },
      "execution_count": 24,
      "outputs": [
        {
          "output_type": "stream",
          "name": "stdout",
          "text": [
            "[-0.50009976 -0.52183352 -0.55931218 -0.52110499 -0.56059203 -0.50510767\n",
            " -0.52386194 -0.54775518 -0.5007161  -0.54713448]\n",
            "\n",
            "Score of linear regression model on the test set:\n",
            "-0.529 +/- 0.022\n"
          ]
        }
      ]
    },
    {
      "cell_type": "markdown",
      "source": [
        "Here we got the negative mean squared error as a **score**. We can convert that to **error** as follows:"
      ],
      "metadata": {
        "id": "r0yNhvt4c1J4"
      }
    },
    {
      "cell_type": "code",
      "source": [
        "lin_reg_mse = -lin_reg_score\n",
        "print(f\"\\n MSE of linear regression model on the test set:\\n\"\n",
        "      f\"{lin_reg_mse.mean():.3f} +/- {lin_reg_mse.std():.3f}\")"
      ],
      "metadata": {
        "colab": {
          "base_uri": "https://localhost:8080/"
        },
        "id": "S8Gg9jz8dDYO",
        "outputId": "44ce1018-9597-448e-9d51-eb513fe61a3c"
      },
      "execution_count": 25,
      "outputs": [
        {
          "output_type": "stream",
          "name": "stdout",
          "text": [
            "\n",
            " MSE of linear regression model on the test set:\n",
            "0.529 +/- 0.022\n"
          ]
        }
      ]
    },
    {
      "cell_type": "markdown",
      "source": [
        "We can use other `scoring` parameters and obtain cross validated scores based on that parameter. The following choices are available for `scoring`:\n",
        "- explained_variance\n",
        "- max_error\n",
        "- neg_mean_absolute_error\n",
        "- neg_root_mean_squared_error\n",
        "- neg_mean_squared_log_error\n",
        "- neg_median_absolute_error\n",
        "- neg_mean_absolute_percentage_error\n",
        "- r2"
      ],
      "metadata": {
        "id": "nRVA0STVddJg"
      }
    },
    {
      "cell_type": "markdown",
      "source": [
        "### Cross Validation\n",
        "We just calculated `cross_val_score` based on the cross validation. It however returns only scores for each fold. What if we also need to access the models trained in each fold along with some other statistics like train error for that fold?\n",
        "> `cross_validate` API enables us to obtain them."
      ],
      "metadata": {
        "id": "ulo8qDspeCOn"
      }
    },
    {
      "cell_type": "code",
      "source": [
        "lin_reg_cv_results = cross_validate(lin_reg_pipeline,\n",
        "                                    train_features,\n",
        "                                    train_labels,\n",
        "                                    cv=shuffle_split_cv,\n",
        "                                    scoring='neg_mean_squared_error',\n",
        "                                    return_train_score=True,\n",
        "                                    return_estimator=True)"
      ],
      "metadata": {
        "id": "7P0yQqL9e3XZ"
      },
      "execution_count": 26,
      "outputs": []
    },
    {
      "cell_type": "markdown",
      "source": [
        "The `lin_reg_cv_result` is a dictionary with the following contents:\n",
        "- trained `estimators`,\n",
        "- time taken for fitting (`fit_time`) and scoring (`score_time`) the models in cross validation,\n",
        "- `train_score` and\n",
        "- `test_score`"
      ],
      "metadata": {
        "id": "zq0Z8xzmftop"
      }
    },
    {
      "cell_type": "code",
      "source": [
        "lin_reg_cv_results"
      ],
      "metadata": {
        "colab": {
          "base_uri": "https://localhost:8080/"
        },
        "id": "0orDzDQtgQ4f",
        "outputId": "99db6815-7797-4ca9-8e90-d0177efb7330"
      },
      "execution_count": 27,
      "outputs": [
        {
          "output_type": "execute_result",
          "data": {
            "text/plain": [
              "{'estimator': [Pipeline(steps=[('feature_scaling', StandardScaler()),\n",
              "                  ('lin_reg', LinearRegression())]),\n",
              "  Pipeline(steps=[('feature_scaling', StandardScaler()),\n",
              "                  ('lin_reg', LinearRegression())]),\n",
              "  Pipeline(steps=[('feature_scaling', StandardScaler()),\n",
              "                  ('lin_reg', LinearRegression())]),\n",
              "  Pipeline(steps=[('feature_scaling', StandardScaler()),\n",
              "                  ('lin_reg', LinearRegression())]),\n",
              "  Pipeline(steps=[('feature_scaling', StandardScaler()),\n",
              "                  ('lin_reg', LinearRegression())]),\n",
              "  Pipeline(steps=[('feature_scaling', StandardScaler()),\n",
              "                  ('lin_reg', LinearRegression())]),\n",
              "  Pipeline(steps=[('feature_scaling', StandardScaler()),\n",
              "                  ('lin_reg', LinearRegression())]),\n",
              "  Pipeline(steps=[('feature_scaling', StandardScaler()),\n",
              "                  ('lin_reg', LinearRegression())]),\n",
              "  Pipeline(steps=[('feature_scaling', StandardScaler()),\n",
              "                  ('lin_reg', LinearRegression())]),\n",
              "  Pipeline(steps=[('feature_scaling', StandardScaler()),\n",
              "                  ('lin_reg', LinearRegression())])],\n",
              " 'fit_time': array([0.02589202, 0.0438664 , 0.04955935, 0.02741528, 0.03498459,\n",
              "        0.02533317, 0.0243783 , 0.03189516, 0.0263648 , 0.02386975]),\n",
              " 'score_time': array([0.00736356, 0.01260591, 0.00336385, 0.00679255, 0.0084455 ,\n",
              "        0.00981498, 0.00329733, 0.00342655, 0.00333881, 0.00977731]),\n",
              " 'test_score': array([-0.50009976, -0.52183352, -0.55931218, -0.52110499, -0.56059203,\n",
              "        -0.50510767, -0.52386194, -0.54775518, -0.5007161 , -0.54713448]),\n",
              " 'train_score': array([-0.52578695, -0.52035137, -0.51095597, -0.52049611, -0.51060835,\n",
              "        -0.52453922, -0.51994311, -0.5144039 , -0.52578473, -0.51397105])}"
            ]
          },
          "metadata": {},
          "execution_count": 27
        }
      ]
    },
    {
      "cell_type": "markdown",
      "source": [
        "There are 10 values in each dictionary key. That is because of `cv=10` or 10-fold cross validation that we used.  \n",
        "\n",
        "Let's compare training and test errors.  \n",
        "> Multiply the scores by -1 and convert tham to errors."
      ],
      "metadata": {
        "id": "P5O_JfkvgSue"
      }
    },
    {
      "cell_type": "code",
      "source": [
        "train_error = -1 * lin_reg_cv_results['train_score']\n",
        "test_error = -1 * lin_reg_cv_results['test_score']\n",
        "\n",
        "print(f\"\\n MSE of linear regression model on the train set:\\n\"\n",
        "      f\"{train_error.mean():.3f} +/- {train_error.std():.3f}\")\n",
        "print(f\"\\n MSE of linear regression model on the test set:\\n\"\n",
        "      f\"{test_error.mean():.3f} +/- {test_error.std():.3f}\")"
      ],
      "metadata": {
        "colab": {
          "base_uri": "https://localhost:8080/"
        },
        "id": "I22PoKtXg6Gu",
        "outputId": "9215e238-58b8-46db-f1aa-d20f819b49d2"
      },
      "execution_count": 28,
      "outputs": [
        {
          "output_type": "stream",
          "name": "stdout",
          "text": [
            "\n",
            " MSE of linear regression model on the train set:\n",
            "0.519 +/- 0.006\n",
            "\n",
            " MSE of linear regression model on the test set:\n",
            "0.529 +/- 0.022\n"
          ]
        }
      ]
    },
    {
      "cell_type": "markdown",
      "source": [
        "- The training and test errors are high, which is an indication of underfitting, which we will confirm by plotting the learning curves.\n",
        "- Test error has higher variability across different folds compared to the train error."
      ],
      "metadata": {
        "id": "A79oFEK3hihf"
      }
    },
    {
      "cell_type": "markdown",
      "source": [
        "### Effect of training set size on error\n",
        "Let's understand how the training set size or #samples affect the error. We can use `learning_curve` API that calculates cross validation scores for different #samples as specified in its argument `train_sizes`."
      ],
      "metadata": {
        "id": "Y2BxK5pUiU2Z"
      }
    },
    {
      "cell_type": "code",
      "source": [
        "#@title [Plot leaning curves]\n",
        "def plot_learning_curve(train_sizes, train_scores, test_scores):\n",
        "  train_scores_mean = np.mean(-train_scores, axis=1)\n",
        "  train_scores_std = np.std(-train_scores, axis=1)\n",
        "  test_scores_mean = np.mean(-test_scores, axis=1)\n",
        "  test_scores_std = np.std(-test_scores, axis=1)\n",
        "  fit_times_mean = np.mean(fit_times, axis=1)\n",
        "  fit_times_std = np.std(fit_times, axis=1)\n",
        "\n",
        "  plt.fill_between(\n",
        "      train_sizes,\n",
        "      train_scores_mean - train_scores_std,\n",
        "      train_scores_mean + train_scores_std,\n",
        "      alpha=0.1,\n",
        "      color='r',)\n",
        "  plt.fill_between(\n",
        "      train_sizes,\n",
        "      test_scores_mean - test_scores_std,\n",
        "      test_scores_mean - test_scores_std,\n",
        "      alpha=0.1,\n",
        "      color='g',)\n",
        "  plt.plot(train_sizes, train_scores_mean, 'o-', color='r', linewidth=2)\n",
        "  plt.plot(train_sizes, test_scores_mean, 'o-', color='g', linewidth=2)\n",
        "  plt.xlabel('Training examples')\n",
        "  plt.ylabel('MSE')\n",
        "  plt.legend(loc='best')"
      ],
      "metadata": {
        "cellView": "form",
        "id": "-cUFj0v0jRoP"
      },
      "execution_count": 39,
      "outputs": []
    },
    {
      "cell_type": "code",
      "source": [
        "(train_sizes, train_scores, test_scores, fit_times, score_times) = \\\n",
        "  learning_curve(\n",
        "      lin_reg_pipeline, train_features, train_labels, cv=shuffle_split_cv,\n",
        "      scoring='neg_mean_squared_error', n_jobs=-1,\n",
        "      return_times=True, train_sizes=np.linspace(0.2, 1.0, 10))\n",
        "plot_learning_curve(train_sizes, train_scores, test_scores)"
      ],
      "metadata": {
        "colab": {
          "base_uri": "https://localhost:8080/",
          "height": 378
        },
        "id": "CtZaGPG1jdjP",
        "outputId": "365eadb0-5b42-40ba-c12f-80b05210bc1e"
      },
      "execution_count": 40,
      "outputs": [
        {
          "output_type": "stream",
          "name": "stderr",
          "text": [
            "No handles with labels found to put in legend.\n"
          ]
        },
        {
          "output_type": "display_data",
          "data": {
            "text/plain": [
              "<Figure size 576x396 with 1 Axes>"
            ],
            "image/png": "[encoded data removed]"
          },
          "metadata": {}
        }
      ]
    },
    {
      "cell_type": "markdown",
      "source": [
        "### Selecting best model\n",
        "Let's select the model with the lowest cross validated test error as the best perfoming model."
      ],
      "metadata": {
        "id": "csSwZvXYoWV_"
      }
    },
    {
      "cell_type": "code",
      "source": [
        "# Let's find out the best model that resulted in the least test error.\n",
        "best_model_index = np.argmin(test_error)\n",
        "selected_model = lin_reg_cv_results['estimator'][best_model_index]"
      ],
      "metadata": {
        "id": "59rFj8D8oano"
      },
      "execution_count": 42,
      "outputs": []
    },
    {
      "cell_type": "markdown",
      "source": [
        "Let's examine the model coefficients."
      ],
      "metadata": {
        "id": "8RlHnUWXpdZA"
      }
    },
    {
      "cell_type": "code",
      "source": [
        "print('Intercept (w_0): ', selected_model['lin_reg'].intercept_)\n",
        "print('Coefficients (w_1, ... ,w_m): ', selected_model['lin_reg'].coef_)"
      ],
      "metadata": {
        "colab": {
          "base_uri": "https://localhost:8080/"
        },
        "id": "OS9GGuPppkfo",
        "outputId": "4200fca8-7c2e-4424-9798-aea90e071f92"
      },
      "execution_count": 43,
      "outputs": [
        {
          "output_type": "stream",
          "name": "stdout",
          "text": [
            "Intercept (w_0):  2.0779898917958657\n",
            "Coefficients (w_1, ... ,w_m):  [ 8.44324888e-01  1.18463901e-01 -3.04619574e-01  3.56620503e-01\n",
            "  1.74458509e-04 -4.23964612e-02 -8.96045642e-01 -8.68906479e-01]\n"
          ]
        }
      ]
    },
    {
      "cell_type": "markdown",
      "source": [
        "### Model performance\n",
        "Let's first obtain the predictions for test points in cross validation."
      ],
      "metadata": {
        "id": "7lqyckMNp9hN"
      }
    },
    {
      "cell_type": "code",
      "source": [
        "from sklearn.model_selection import cross_val_predict\n",
        "cv_predictions = cross_val_predict(lin_reg_pipeline, train_features, train_labels)\n",
        "# this API gives us scores for points when they were part of the test set in cross validation"
      ],
      "metadata": {
        "id": "hOIvvZKuqbun"
      },
      "execution_count": 45,
      "outputs": []
    },
    {
      "cell_type": "code",
      "source": [
        "mse_cv = mean_squared_error(train_labels, cv_predictions)\n",
        "\n",
        "plt.scatter(train_labels, cv_predictions, color='blue')\n",
        "plt.plot(train_labels, train_labels, 'r-')\n",
        "plt.title(f\"Mean squared error = {mse_cv:.2f}\", size=24)\n",
        "plt.xlabel('Actual Median House value', size=15)\n",
        "plt.ylabel('Predicted Median House value', size=15)\n",
        "plt.show()"
      ],
      "metadata": {
        "colab": {
          "base_uri": "https://localhost:8080/",
          "height": 388
        },
        "id": "JwT_u_LFqoRo",
        "outputId": "1aa8af62-8510-42db-a14b-e12516fd5e59"
      },
      "execution_count": 46,
      "outputs": [
        {
          "output_type": "display_data",
          "data": {
            "text/plain": [
              "<Figure size 576x396 with 1 Axes>"
            ],
            "image/png": "[encoded data removed]"
          },
          "metadata": {}
        }
      ]
    },
    {
      "cell_type": "markdown",
      "source": [
        "- There are some negative predictions. We can fix this by adding a constraints on the weights to be positive.  \n",
        "> At this stage, we should perform error analysis and check where the predictions are going wrong. We can revisit feature construction, preprocesssing or model stages and make the necessary course corrections to get better performance."
      ],
      "metadata": {
        "id": "wIIo0Cfxr0DT"
      }
    },
    {
      "cell_type": "markdown",
      "source": [
        "## Step #5: Predictions\n",
        "We can use the best performing model from cross validation for getting predictions on the test set."
      ],
      "metadata": {
        "id": "jVlyGxuZsrtx"
      }
    },
    {
      "cell_type": "code",
      "source": [
        "test_predictions_cv = selected_model.predict(test_features)\n",
        "test_predictions_cv[:5]"
      ],
      "metadata": {
        "colab": {
          "base_uri": "https://localhost:8080/"
        },
        "id": "sn5TGxTQtEyw",
        "outputId": "b098f6c7-4686-4fc9-be8b-96334fd9f879"
      },
      "execution_count": 47,
      "outputs": [
        {
          "output_type": "execute_result",
          "data": {
            "text/plain": [
              "array([0.73548515, 1.7725621 , 2.70011199, 2.83716602, 2.60743151])"
            ]
          },
          "metadata": {},
          "execution_count": 47
        }
      ]
    },
    {
      "cell_type": "markdown",
      "source": [
        "We can also obtain predictions using the initial model that we built without cross validation."
      ],
      "metadata": {
        "id": "04nqSU_2tMYK"
      }
    },
    {
      "cell_type": "code",
      "source": [
        "test_predictions = lin_reg_pipeline.predict(test_features)\n",
        "test_predictions[:5]"
      ],
      "metadata": {
        "colab": {
          "base_uri": "https://localhost:8080/"
        },
        "id": "HIH9196otVQQ",
        "outputId": "7c97f75a-25e6-4c04-cbe6-2a266d5b1038"
      },
      "execution_count": 48,
      "outputs": [
        {
          "output_type": "execute_result",
          "data": {
            "text/plain": [
              "array([0.72412832, 1.76677807, 2.71151581, 2.83601179, 2.603755  ])"
            ]
          },
          "metadata": {},
          "execution_count": 48
        }
      ]
    },
    {
      "cell_type": "markdown",
      "source": [
        "## Step #6: Report model performance\n",
        "We report model performance on the test set."
      ],
      "metadata": {
        "id": "iP7nFH27tciA"
      }
    },
    {
      "cell_type": "code",
      "source": [
        "score_cv = selected_model.score(test_features, test_labels)\n",
        "score = lin_reg_pipeline.score(test_features, test_labels)\n",
        "\n",
        "print(\"R2 score for the vest model obtained via cross validation: \", score_cv)\n",
        "print(\"R2 score for model without cv: \", score)"
      ],
      "metadata": {
        "colab": {
          "base_uri": "https://localhost:8080/"
        },
        "id": "rjLQc6extmpS",
        "outputId": "fafc82ab-0dae-4edc-a1c9-01b808bf5921"
      },
      "execution_count": 49,
      "outputs": [
        {
          "output_type": "stream",
          "name": "stdout",
          "text": [
            "R2 score for the vest model obtained via cross validation:  0.5923577635319088\n",
            "R2 score for model without cv:  0.5910509795491352\n"
          ]
        }
      ]
    },
    {
      "cell_type": "markdown",
      "source": [
        "Alternatively we can use any other metric of interest and report performance based on that. For example, the mean squared error is as follows:"
      ],
      "metadata": {
        "id": "JEKZkrUquIh1"
      }
    },
    {
      "cell_type": "code",
      "source": [
        "mse = mean_squared_error(test_labels, test_predictions)\n",
        "mse_cv = mean_squared_error(test_labels, test_predictions_cv)\n",
        "\n",
        "print(\"MSE for the best model obtained via cross validation: \", mse_cv)\n",
        "print(\"MSE for model without cv: \", mse)"
      ],
      "metadata": {
        "colab": {
          "base_uri": "https://localhost:8080/"
        },
        "id": "06_WlKVgumji",
        "outputId": "98a13e44-8749-4d24-fa72-49343acb9679"
      },
      "execution_count": 50,
      "outputs": [
        {
          "output_type": "stream",
          "name": "stdout",
          "text": [
            "MSE for the best model obtained via cross validation:  0.5393995876218523\n",
            "MSE for model without cv:  0.5411287478470688\n"
          ]
        }
      ]
    },
    {
      "cell_type": "markdown",
      "source": [
        "The cross validation based model has slightly lower MSE that the other model and hence better performance."
      ],
      "metadata": {
        "id": "6_9h_6rVu7FJ"
      }
    },
    {
      "cell_type": "code",
      "source": [
        ""
      ],
      "metadata": {
        "id": "1UhmUt6evF66"
      },
      "execution_count": null,
      "outputs": []
    }
  ]
}