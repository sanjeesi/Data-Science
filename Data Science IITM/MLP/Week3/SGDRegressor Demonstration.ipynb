{
 "cells": [
  {
   "cell_type": "markdown",
   "metadata": {},
   "source": [
    "# Linear regression with iterative optimization: `SGDRegressor`\n",
    "In this notebook, we will build linear regression model with `SGDRegressor`. SGD offers a lot of control over optimization procedure through a number of hyperparameters. However, we need to set them to right values in order to make it work for training the model.\n"
   ]
  },
  {
   "cell_type": "code",
   "execution_count": 2,
   "metadata": {},
   "outputs": [],
   "source": [
    "# imports\n",
    "import pandas as pd\n",
    "import numpy as np\n",
    "import matplotlib.pyplot as plt\n",
    "\n",
    "from sklearn.datasets import fetch_california_housing\n",
    "from sklearn.linear_model import SGDRegressor\n",
    "\n",
    "from sklearn.metrics import mean_squared_error\n",
    "from sklearn.metrics import mean_absolute_error\n",
    "\n",
    "from sklearn.model_selection import cross_validate\n",
    "from sklearn.model_selection import cross_val_score\n",
    "from sklearn.model_selection import train_test_split\n",
    "from sklearn.model_selection import ShuffleSplit\n",
    "from sklearn.model_selection import validation_curve\n",
    "\n",
    "from sklearn.pipeline import Pipeline\n",
    "from sklearn.preprocessing import StandardScaler"
   ]
  },
  {
   "cell_type": "code",
   "execution_count": 3,
   "metadata": {},
   "outputs": [],
   "source": [
    "np.random.seed(306)"
   ]
  },
  {
   "cell_type": "code",
   "execution_count": 4,
   "metadata": {},
   "outputs": [],
   "source": [
    "# We will use ShuffleSplit as a cross validation strategy.\n",
    "shuffle_split_cv = ShuffleSplit(n_splits=10, test_size=0.2, random_state=10)"
   ]
  },
  {
   "cell_type": "code",
   "execution_count": 5,
   "metadata": {},
   "outputs": [],
   "source": [
    "# Let's load the data and split it into training and test.\n",
    "features, labels = fetch_california_housing(as_frame=True, return_X_y=True)\n",
    "com_train_features, test_features, com_train_labels, test_labels = train_test_split(\n",
    "    features, labels, random_state=42\n",
    ")"
   ]
  },
  {
   "cell_type": "code",
   "execution_count": 6,
   "metadata": {},
   "outputs": [],
   "source": [
    "# Divide the data into train and dev sets.\n",
    "train_features, dev_features, train_labels, dev_labels = train_test_split(\n",
    "    com_train_features, com_train_labels, random_state=42\n",
    ")"
   ]
  },
  {
   "cell_type": "markdown",
   "metadata": {},
   "source": [
    "## Baseline `SGDRegressor`\n",
    "1. To begin with, we instantiate a baseline `SGDRegressor` model with default parameters.\n",
    "2. Train the model with training feature matrix and labels.\n",
    "3. Obtain the score on the training data and dev data."
   ]
  },
  {
   "cell_type": "code",
   "execution_count": 7,
   "metadata": {},
   "outputs": [
    {
     "name": "stdout",
     "output_type": "stream",
     "text": [
      "Mean absolute error on Training set:  335010457582554.3\n",
      "Mean absolute error on development set:  338216494599083.75\n"
     ]
    }
   ],
   "source": [
    "sgd = SGDRegressor(random_state=42)\n",
    "sgd.fit(train_features, train_labels)\n",
    "\n",
    "train_mae = mean_absolute_error(train_labels, sgd.predict(train_features))\n",
    "dev_mae = mean_absolute_error(dev_labels, sgd.predict(dev_features))\n",
    "print('Mean absolute error on Training set: ', train_mae)\n",
    "print('Mean absolute error on development set: ', dev_mae)"
   ]
  },
  {
   "cell_type": "markdown",
   "metadata": {},
   "source": [
    "We can observe that the mean absolute error is too high. The baseline model does not train well. This may happen due to large learning rate.  \n",
    "Let's investigate this issue by training the model step by step and recording training loss in each step."
   ]
  },
  {
   "cell_type": "markdown",
   "metadata": {},
   "source": [
    "## Adding a feautre scaling step\n",
    "SGD is sensitive to feature scaling. Let's add a feature scaling step and check if we get better MAE."
   ]
  },
  {
   "cell_type": "code",
   "execution_count": 8,
   "metadata": {},
   "outputs": [
    {
     "name": "stdout",
     "output_type": "stream",
     "text": [
      "Mean absolute error on Training set:  0.5135804404077053\n",
      "Mean absolute error on development set:  0.6373131245753219\n"
     ]
    }
   ],
   "source": [
    "sgd_pipeline = Pipeline([('feature_scaling', StandardScaler()),\n",
    "                            ('sgd', SGDRegressor())])\n",
    "sgd_pipeline.fit(train_features, train_labels)\n",
    "\n",
    "train_mae = mean_absolute_error(train_labels, sgd_pipeline.predict(train_features))\n",
    "dev_mae = mean_absolute_error(dev_labels, sgd_pipeline.predict(dev_features))\n",
    "print('Mean absolute error on Training set: ', train_mae)\n",
    "print('Mean absolute error on development set: ', dev_mae)"
   ]
  },
  {
   "cell_type": "markdown",
   "metadata": {},
   "source": [
    "The error is still high, let's run `SGDRegressor` step by step and investicate issues with training."
   ]
  },
  {
   "cell_type": "markdown",
   "metadata": {},
   "source": [
    "## Step-wise training of `SGDRegressor`\n",
    "1. Instantiate `SGDRegressor` with `warm_start=True` and `tol=-np.infty`.\n",
    "2. Train SGD step by step and record regression loss in each step.\n",
    "3. Plot learning curves and see if there are any issues in training.\n"
   ]
  },
  {
   "cell_type": "code",
   "execution_count": 9,
   "metadata": {},
   "outputs": [
    {
     "data": {
      "image/png": "[encoded data removed]",
      "text/plain": [
       "<Figure size 432x288 with 1 Axes>"
      ]
     },
     "metadata": {
      "needs_background": "light"
     },
     "output_type": "display_data"
    }
   ],
   "source": [
    "eta0 = 1e-2\n",
    "sgd_pipeline = Pipeline([('feature_scaling', StandardScaler()),\n",
    "                            ('SGD', SGDRegressor(max_iter=1, tol=-np.infty,\n",
    "                                                    warm_start=True,\n",
    "                                                    random_state=42))])\n",
    "loss = []\n",
    "for epoch in range(100):\n",
    "    sgd_pipeline.fit(train_features, train_labels)  # continues where it left off\n",
    "    loss.append(mean_squared_error(train_labels, sgd_pipeline.predict(train_features)))\n",
    "    plt.plot(np.arange(len(loss)), loss, 'b-')\n",
    "    plt.xlabel('Iteration#')\n",
    "    plt.ylabel('MSE')\n",
    "    plt.title(f'Learning curve: eta0={eta0:.4f}')"
   ]
  },
  {
   "cell_type": "markdown",
   "metadata": {},
   "source": [
    "The loss reduced initially and then increased. This could be due to large learning rates. We will reduce the learning rate by a factor of 10 and retry the training."
   ]
  },
  {
   "cell_type": "code",
   "execution_count": 10,
   "metadata": {},
   "outputs": [
    {
     "data": {
      "text/plain": [
       "Text(0.5, 1.0, 'Learning curve: eta0=0.0010')"
      ]
     },
     "execution_count": 10,
     "metadata": {},
     "output_type": "execute_result"
    },
    {
     "data": {
      "image/png": "[encoded data removed]",
      "text/plain": [
       "<Figure size 432x288 with 1 Axes>"
      ]
     },
     "metadata": {
      "needs_background": "light"
     },
     "output_type": "display_data"
    }
   ],
   "source": [
    "eta0 = 1e-3\n",
    "sgd_pipeline = Pipeline([('feature_sclaing', StandardScaler()),\n",
    "                        ('SGD', SGDRegressor(max_iter=1, tol=-np.infty,\n",
    "                                            warm_start=True, eta0=eta0,\n",
    "                                            random_state=42))])\n",
    "loss = []\n",
    "for epoch in range(100):\n",
    "    sgd_pipeline.fit(train_features, train_labels)  # continues where it left off\n",
    "    loss.append(mean_squared_error(train_labels, sgd_pipeline.predict(train_features)))\n",
    "\n",
    "plt.plot(np.arange(len(loss)), loss, '-b')\n",
    "plt.xlabel('Iteration#')\n",
    "plt.ylabel('MSE')\n",
    "plt.title(f'Learning curve: eta0={eta0:.4f}')"
   ]
  },
  {
   "cell_type": "markdown",
   "metadata": {},
   "source": [
    "This is an ideal learning curve where the train loss reduces monotonically as the training progresses."
   ]
  },
  {
   "cell_type": "code",
   "execution_count": 11,
   "metadata": {},
   "outputs": [
    {
     "name": "stdout",
     "output_type": "stream",
     "text": [
      "#iteration before reaching convergence criteria: 1\n",
      "#weight updates:  11611.0\n"
     ]
    }
   ],
   "source": [
    "print('#iteration before reaching convergence criteria:', sgd_pipeline[-1].n_iter_)\n",
    "print('#weight updates: ', sgd_pipeline[-1].t_)"
   ]
  },
  {
   "cell_type": "code",
   "execution_count": 15,
   "metadata": {},
   "outputs": [
    {
     "name": "stdout",
     "output_type": "stream",
     "text": [
      "Mean absolute error on Training set:  0.5333732983042573\n",
      "Mean absolute error on development set:  0.5190150280908042\n"
     ]
    }
   ],
   "source": [
    "train_mae = mean_absolute_error(train_labels, sgd_pipeline.predict(train_features))\n",
    "dev_mae = mean_absolute_error(dev_labels, sgd_pipeline.predict(dev_features))\n",
    "print('Mean absolute error on Training set: ', train_mae)\n",
    "print('Mean absolute error on development set: ', dev_mae)"
   ]
  },
  {
   "cell_type": "markdown",
   "metadata": {},
   "source": [
    "## Fixing learning rate through validation curves\n",
    "1. Provide the list of values to be tried for a hyper-parameter.\n",
    "2. Instantiate an object of `validation_curve` with estimator, training features and label, Set `scoring` parameter to relavent score.\n",
    "3. Convert scores to error\n",
    "4. Plot validation curve with the value of hyper-parameter on x-axis and error on the y-axis.\n",
    "5. Fix the hyper-parameter value where the test error is the least."
   ]
  },
  {
   "cell_type": "code",
   "execution_count": 17,
   "metadata": {},
   "outputs": [
    {
     "name": "stdout",
     "output_type": "stream",
     "text": [
      "CPU times: user 67.1 ms, sys: 29.9 ms, total: 97.1 ms\n",
      "Wall time: 216 ms\n"
     ]
    }
   ],
   "source": [
    "%%time\n",
    "eta0 = [1e-5, 1e-4, 1e-3, 1e-2]\n",
    "train_scores, test_scores = validation_curve(\n",
    "    sgd_pipeline, com_train_features, com_train_labels, param_name='SGD__eta0',\n",
    "    param_range=eta0, cv=shuffle_split_cv, scoring='neg_mean_squared_error',\n",
    "    n_jobs=2\n",
    ")"
   ]
  },
  {
   "cell_type": "code",
   "execution_count": 22,
   "metadata": {},
   "outputs": [
    {
     "data": {
      "image/png": "[encoded data removed]",
      "text/plain": [
       "<Figure size 432x288 with 1 Axes>"
      ]
     },
     "metadata": {
      "needs_background": "light"
     },
     "output_type": "display_data"
    }
   ],
   "source": [
    "train_errors, test_errors = -train_scores, -test_scores\n",
    "plt.plot(eta0, train_errors.mean(axis=1), 'b-x', label='Training error')\n",
    "plt.plot(eta0, test_errors.mean(axis=1), 'r-x', label='Test error')\n",
    "plt.legend()\n",
    "\n",
    "plt.xlabel('eta0')\n",
    "plt.ylabel('Mean absolute error (k$)')\n",
    "_ = plt.title('Validation curve for SGD')\n",
    "# plt.axis([0, 0.01, 0, 10])"
   ]
  },
  {
   "cell_type": "markdown",
   "metadata": {},
   "source": [
    "For `eta0=1e-3`, the test error is the least and hence we select that value as the value for `eta0`.  \n",
    "Next we also plot standard deviation in errors."
   ]
  },
  {
   "cell_type": "code",
   "execution_count": 23,
   "metadata": {},
   "outputs": [
    {
     "data": {
      "image/png": "[encoded data removed]",
      "text/plain": [
       "<Figure size 432x288 with 1 Axes>"
      ]
     },
     "metadata": {
      "needs_background": "light"
     },
     "output_type": "display_data"
    }
   ],
   "source": [
    "plt.errorbar(eta0, train_errors.mean(axis=1),\n",
    "            yerr=train_errors.std(axis=1), label='Training error')\n",
    "plt.errorbar(eta0, test_errors.mean(axis=1),\n",
    "            yerr=test_errors.std(axis=1), label='Testing error')\n",
    "plt.legend()\n",
    "\n",
    "plt.xlabel('eta0')\n",
    "plt.ylabel('Mean absolute error (k$)')\n",
    "_ = plt.title('Validation curve for SGD')"
   ]
  },
  {
   "cell_type": "markdown",
   "metadata": {},
   "source": [
    "### `SGDRegressor`"
   ]
  },
  {
   "cell_type": "code",
   "execution_count": 25,
   "metadata": {},
   "outputs": [
    {
     "name": "stdout",
     "output_type": "stream",
     "text": [
      "Mean absolute error on Training set:  0.579376454514559\n",
      "Mean absolute error on development set:  0.5689180241137523\n"
     ]
    }
   ],
   "source": [
    "sgd_pipeline = Pipeline([('feature_scaling', StandardScaler()),\n",
    "                        ('sgd', SGDRegressor(max_iter=500,\n",
    "                                            early_stopping=True,\n",
    "                                            eta0=1e-3,\n",
    "                                            tol=1e-3,\n",
    "                                            validation_fraction=0.2,\n",
    "                                            n_iter_no_change=5,\n",
    "                                            average=10,\n",
    "                                            random_state=42)\n",
    "                        )])\n",
    "sgd_pipeline.fit(train_features, train_labels)\n",
    "\n",
    "train_mae = mean_absolute_error(train_labels, sgd_pipeline.predict(train_features))\n",
    "dev_mae = mean_absolute_error(dev_labels, sgd_pipeline.predict(dev_features))\n",
    "print('Mean absolute error on Training set: ', train_mae)\n",
    "print('Mean absolute error on development set: ', dev_mae)"
   ]
  },
  {
   "cell_type": "code",
   "execution_count": 26,
   "metadata": {},
   "outputs": [
    {
     "name": "stdout",
     "output_type": "stream",
     "text": [
      "Number of SGD iterations:  7\n",
      "Number of weight updates:  81271.0\n"
     ]
    }
   ],
   "source": [
    "print('Number of SGD iterations: ', sgd_pipeline[-1].n_iter_)\n",
    "print('Number of weight updates: ', sgd_pipeline[-1].t_)"
   ]
  },
  {
   "cell_type": "code",
   "execution_count": 28,
   "metadata": {},
   "outputs": [
    {
     "name": "stdout",
     "output_type": "stream",
     "text": [
      "Mean absolute error on Training set:  0.5359339681114987\n",
      "Mean absolute error on development set:  0.5151099728924144\n",
      "Number of SGD iterations:  8\n",
      "Number of weight updates:  92881.0\n"
     ]
    }
   ],
   "source": [
    "sgd_pipeline = Pipeline([('feature_scaling', StandardScaler()),\n",
    "                        ('sgd', SGDRegressor(max_iter=500,\n",
    "                                            early_stopping=True,\n",
    "                                            eta0=1e-3,\n",
    "                                            tol=1e-3,\n",
    "                                            learning_rate='constant',\n",
    "                                            validation_fraction=0.2,\n",
    "                                            n_iter_no_change=5,\n",
    "                                            average=10,\n",
    "                                            random_state=42)\n",
    "                        )])\n",
    "sgd_pipeline.fit(train_features, train_labels)\n",
    "\n",
    "train_mae = mean_absolute_error(train_labels, sgd_pipeline.predict(train_features))\n",
    "dev_mae = mean_absolute_error(dev_labels, sgd_pipeline.predict(dev_features))\n",
    "print('Mean absolute error on Training set: ', train_mae)\n",
    "print('Mean absolute error on development set: ', dev_mae)\n",
    "\n",
    "print('Number of SGD iterations: ', sgd_pipeline[-1].n_iter_)\n",
    "print('Number of weight updates: ', sgd_pipeline[-1].t_)"
   ]
  },
  {
   "cell_type": "code",
   "execution_count": 29,
   "metadata": {},
   "outputs": [
    {
     "name": "stdout",
     "output_type": "stream",
     "text": [
      "Mean absolute error on Training set:  0.5340193046836148\n",
      "Mean absolute error on development set:  0.5198356196858102\n",
      "Number of SGD iterations:  33\n",
      "Number of weight updates:  383131.0\n"
     ]
    }
   ],
   "source": [
    "sgd_pipeline = Pipeline([('feature_scaling', StandardScaler()),\n",
    "                        ('sgd', SGDRegressor(max_iter=500,\n",
    "                                            early_stopping=True,\n",
    "                                            eta0=1e-3,\n",
    "                                            tol=1e-3,\n",
    "                                            learning_rate='adaptive',\n",
    "                                            validation_fraction=0.2,\n",
    "                                            n_iter_no_change=5,\n",
    "                                            average=10,\n",
    "                                            random_state=42)\n",
    "                        )])\n",
    "sgd_pipeline.fit(train_features, train_labels)\n",
    "\n",
    "train_mae = mean_absolute_error(train_labels, sgd_pipeline.predict(train_features))\n",
    "dev_mae = mean_absolute_error(dev_labels, sgd_pipeline.predict(dev_features))\n",
    "print('Mean absolute error on Training set: ', train_mae)\n",
    "print('Mean absolute error on development set: ', dev_mae)\n",
    "\n",
    "print('Number of SGD iterations: ', sgd_pipeline[-1].n_iter_)\n",
    "print('Number of weight updates: ', sgd_pipeline[-1].t_)"
   ]
  },
  {
   "cell_type": "markdown",
   "metadata": {},
   "source": [
    "## Setting `max_iters`"
   ]
  },
  {
   "cell_type": "code",
   "execution_count": 31,
   "metadata": {},
   "outputs": [
    {
     "data": {
      "text/plain": [
       "65.0"
      ]
     },
     "execution_count": 31,
     "metadata": {},
     "output_type": "execute_result"
    }
   ],
   "source": [
    "max_iter = np.ceil(1e6/com_train_features.shape[0])\n",
    "max_iter"
   ]
  },
  {
   "cell_type": "code",
   "execution_count": 32,
   "metadata": {},
   "outputs": [
    {
     "name": "stdout",
     "output_type": "stream",
     "text": [
      "Mean absolute error on Training set:  0.5359339681114987\n",
      "Mean absolute error on development set:  0.5151099728924144\n",
      "Number of SGD iterations:  8\n",
      "Number of weight updates:  92881.0\n"
     ]
    }
   ],
   "source": [
    "sgd_pipeline = Pipeline([('feature_scaling', StandardScaler()),\n",
    "                        ('sgd', SGDRegressor(max_iter=max_iter,\n",
    "                                            early_stopping=True,\n",
    "                                            eta0=1e-3,\n",
    "                                            tol=1e-3,\n",
    "                                            learning_rate='constant',\n",
    "                                            validation_fraction=0.2,\n",
    "                                            n_iter_no_change=5,\n",
    "                                            average=10,\n",
    "                                            random_state=42)\n",
    "                        )])\n",
    "sgd_pipeline.fit(train_features, train_labels)\n",
    "\n",
    "train_mae = mean_absolute_error(train_labels, sgd_pipeline.predict(train_features))\n",
    "dev_mae = mean_absolute_error(dev_labels, sgd_pipeline.predict(dev_features))\n",
    "print('Mean absolute error on Training set: ', train_mae)\n",
    "print('Mean absolute error on development set: ', dev_mae)\n",
    "\n",
    "print('Number of SGD iterations: ', sgd_pipeline[-1].n_iter_)\n",
    "print('Number of weight updates: ', sgd_pipeline[-1].t_)"
   ]
  },
  {
   "cell_type": "markdown",
   "metadata": {},
   "source": [
    "## Summary\n",
    "In this notebook, we saw:\n",
    "- how to build `SGDRegressor` model.\n",
    "- how to tune the learning rate.\n",
    "- how to use different `leaning_rate`s and their impact on convergence.\n",
    "- how to euse early stopping and averaged SGD.\n",
    "- how to tune hyperparameters with validation curves."
   ]
  }
 ],
 "metadata": {
  "interpreter": {
   "hash": "aee8b7b246df8f9039afb4144a1f6fd8d2ca17a180786b69acc140d282b71a49"
  },
  "kernelspec": {
   "display_name": "Python 3.10.4 64-bit",
   "language": "python",
   "name": "python3"
  },
  "language_info": {
   "codemirror_mode": {
    "name": "ipython",
    "version": 3
   },
   "file_extension": ".py",
   "mimetype": "text/x-python",
   "name": "python",
   "nbconvert_exporter": "python",
   "pygments_lexer": "ipython3",
   "version": "3.10.4"
  },
  "orig_nbformat": 4
 },
 "nbformat": 4,
 "nbformat_minor": 2
}
