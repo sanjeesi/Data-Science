{
  "nbformat": 4,
  "nbformat_minor": 0,
  "metadata": {
    "colab": {
      "name": "01 Decision trees Intro.ipynb",
      "provenance": [],
      "collapsed_sections": [],
      "authorship_tag": "ABX9TyMp0apHtUBJd9BYDh0ZUG0l",
      "include_colab_link": true
    },
    "kernelspec": {
      "name": "python3",
      "display_name": "Python 3"
    },
    "language_info": {
      "name": "python"
    }
  },
  "cells": [
    {
      "cell_type": "markdown",
      "metadata": {
        "id": "view-in-github",
        "colab_type": "text"
      },
      "source": [
        "<a href=\"https://colab.research.google.com/github/sanjeesi/Data-Science/blob/master/Data%20Science%20IITM/MLP/Week9/01%20Decision_trees_Intro.ipynb\" target=\"_parent\"><img src=\"https://colab.research.google.com/assets/colab-badge.svg\" alt=\"Open In Colab\"/></a>"
      ]
    },
    {
      "cell_type": "markdown",
      "source": [
        "# Decision trees\n",
        "\n",
        "- Predicts label based on **rules** inferred from the **features** in the training set.\n",
        "\n",
        "## Tree algorithms\n",
        "- **ID3**: Iterative Dichotomiser 3\n",
        " - Creates a multiway tree\n",
        "- **C4.5**: Successor to ID3\n",
        " - Converts the trained trees into sets of if-then rules\n",
        "- **C5.0**: Quinlan's latest version release under a proprietary license\n",
        " - Uses less memory and builds smaller rulesets\n",
        "- **CART**: Classification and Regression Trees\n",
        " - Supports numerical target variables (regression) and does not compute rule sets.\n",
        "\n",
        " > scikit-learn uses an optimized version of the **CART algorithm**; however, it does not support *categorical variables* for now.\n",
        "\n",
        "- `sklearn.tree.DecisionTreeClassifier`\n",
        "- `sklearn.tree.DecisionTreeRegressor`\n",
        "\n",
        "## Parameters\n",
        "Both these estimators have the same set of parameters except for `criterion` used for tree splitting.\n",
        "- `splitter, max_depth, min_samples_split, min_samples_leaf`\n",
        "\n",
        "- `Criterion`: Specifies function to measure the quality of a split.\n",
        "\n",
        " Classification\n",
        "  - **gini**\n",
        "  - entropy\n",
        "\n",
        "  Regression\n",
        "  - **squared_error**\n",
        "  - friedman_mse\n",
        "  - absolute_error\n",
        "  - poisson\n",
        "\n",
        "## Tree visualization\n",
        "`sklean.tree.plot_tree`\n",
        "Parameters\n",
        "- decision_tree, max_depth, feature_names, class_names, label\n",
        "\n",
        "## Avoiding overfitting of trees\n",
        "- `Pre-pruning`\n",
        " - Uses hyper-parameter search like `GridSearchCV` for finding the best set of parameters.\n",
        "- `Post-pruning`\n",
        " - First grows trees without any constraints and then uses `cost_complexity_pruning` with `max_depth` and `min_samples_split`.\n",
        "\n",
        "## Tips for practical usage\n",
        "- Decision trees tend to **overfit** data with a **large number of features**. Make sure that we have the **right ratio of samples to number of features**.\n",
        "- Perform **dimensionality reduction* (PCA, or Feature Selection) on a data before using it for training the trees. It gives a better chance of finding discriminative features.\n",
        "- **Visualize** the trained tree by using **max_depth=3** as an initial tree depth to get a feel for the fitment and then increase the depth.\n",
        "- Balance the dataset before training to prevent the tree from being biased toward the classes that are dominant\n",
        "- Use **min_samples_split** or **min_samples_leaf** to ensure that multiple samples influence every decision in the tree, by controlling which splits will be considered.\n",
        " - A very small number will usually mean the tree will overfit.\n",
        " - A large number will prevent the tree from learning the data.\n",
        " "
      ],
      "metadata": {
        "id": "ohjjE_fr02IY"
      }
    },
    {
      "cell_type": "code",
      "execution_count": null,
      "metadata": {
        "id": "TveOLB240rBF"
      },
      "outputs": [],
      "source": [
        ""
      ]
    },
    {
      "cell_type": "markdown",
      "source": [
        ""
      ],
      "metadata": {
        "id": "PAQLhxZc01Jn"
      }
    }
  ]
}