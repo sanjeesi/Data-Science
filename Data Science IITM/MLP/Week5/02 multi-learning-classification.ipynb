{
 "cells": [
  {
   "cell_type": "markdown",
   "id": "86acd241",
   "metadata": {
    "papermill": {
     "duration": 0.002194,
     "end_time": "2022-06-10T23:42:16.797855",
     "exception": false,
     "start_time": "2022-06-10T23:42:16.795661",
     "status": "completed"
    },
    "tags": []
   },
   "source": [
    "# Multi-Learning problems\n",
    "- **Multiclass classification** has **exactly one output label** and the total **number of labels > 2**.\n",
    "- For **more than one output**, there are **two types** of classification models:\n",
    "  - Multilabel: total #labels=2\n",
    "  - Multiclass multioutput: total #labels>2\n",
    "\n",
    "Meta-estimators\n",
    "- sklearn.multiclass\n",
    "  - OneVsRestClassifier (OVR): \n",
    "    - fits **one classifier per class c** - c vs not c.\n",
    "    - this approach is computationalyy efficient and requires only k classifiers.\n",
    "    - OVR also supports **multilabel classification**\n",
    "  - OneVsOneClassifier (OVA)\n",
    "    - Fits **one classifier per pair of classes**. Total classifiers **$ k \\choose 2$**.\n",
    "    - Predicts the class that receives maximum votes.\n",
    "      - The tie among classes is broken by selecting the class with the highest aggregate classification confidence.\n",
    "\n",
    "  - OutputCodeClassifer\n",
    "\n",
    "- sklearn.multioutput\n",
    "  - MultiOutputClassifier\n",
    "    - Fit **one classifier per target**\n",
    "  - ClassifierChain\n",
    "    - output of one classifier is also fed to other classifiers\n",
    "    - capable of **exploring correlations** among targets.\n",
    "\n",
    "> Given a dataset, check if they are suitable for multi-classification\n",
    "> - use `type_of_target(y)`\n",
    "\n",
    "All classifiers in scikit-learn perform multiclass classification out-of-the-box.\n",
    "- Use different sklean.multiclass strategy than the one implemented by default may **affect performance of classifier** in terms of either **generaliztion error** or **computational resource requirement**."
   ]
  }
 ],
 "metadata": {
  "kernelspec": {
   "display_name": "Python 3",
   "language": "python",
   "name": "python3"
  },
  "language_info": {
   "codemirror_mode": {
    "name": "ipython",
    "version": 3
   },
   "file_extension": ".py",
   "mimetype": "text/x-python",
   "name": "python",
   "nbconvert_exporter": "python",
   "pygments_lexer": "ipython3",
   "version": "3.7.12"
  },
  "papermill": {
   "default_parameters": {},
   "duration": 11.230833,
   "end_time": "2022-06-10T23:42:17.422994",
   "environment_variables": {},
   "exception": null,
   "input_path": "__notebook__.ipynb",
   "output_path": "__notebook__.ipynb",
   "parameters": {},
   "start_time": "2022-06-10T23:42:06.192161",
   "version": "2.3.4"
  }
 },
 "nbformat": 4,
 "nbformat_minor": 5
}
