{
 "cells": [
  {
   "cell_type": "markdown",
   "id": "0503601b",
   "metadata": {
    "papermill": {
     "duration": 0.00966,
     "end_time": "2022-06-16T18:03:12.288701",
     "exception": false,
     "start_time": "2022-06-16T18:03:12.279041",
     "status": "completed"
    },
    "tags": []
   },
   "source": [
    "# Handwritten Digit Classification:  \n",
    "- use Perceptron() model to recognize given digit images.\n",
    "- Since a single perceptron could only be used for binary classification, we consider only two classes in the first half. Eventually we extend it to multi-class setting.\n",
    "- Suppose we want to recognize whether the given image is of digit zero or not (digits other than zero). Then the problem could be cast as a binary classification problem.\n",
    "- We will use the standard benchmark dataset called **MNIST**."
   ]
  },
  {
   "cell_type": "code",
   "execution_count": 1,
   "id": "73cd5b26",
   "metadata": {
    "execution": {
     "iopub.execute_input": "2022-06-16T18:03:12.307962Z",
     "iopub.status.busy": "2022-06-16T18:03:12.307360Z",
     "iopub.status.idle": "2022-06-16T18:03:13.962566Z",
     "shell.execute_reply": "2022-06-16T18:03:13.961649Z"
    },
    "papermill": {
     "duration": 1.667348,
     "end_time": "2022-06-16T18:03:13.964772",
     "exception": false,
     "start_time": "2022-06-16T18:03:12.297424",
     "status": "completed"
    },
    "tags": []
   },
   "outputs": [],
   "source": [
    "# Common imports\n",
    "import numpy as np\n",
    "import os\n",
    "import io\n",
    "import warnings\n",
    "\n",
    "# sklearn specific imports\n",
    "from sklearn.datasets import fetch_openml\n",
    "from sklearn.preprocessing import MinMaxScaler\n",
    "from sklearn.dummy import DummyClassifier\n",
    "from sklearn.linear_model import Perceptron\n",
    "from sklearn.metrics import hinge_loss\n",
    "from sklearn.metrics import ConfusionMatrixDisplay, confusion_matrix, precision_recall_curve\n",
    "from sklearn.metrics import precision_score, recall_score, classification_report\n",
    "from sklearn.metrics import make_scorer\n",
    "from sklearn.model_selection import cross_validate, cross_val_predict, GridSearchCV\n",
    "from pprint import pprint\n",
    "\n",
    "# To plot pretty figures\n",
    "import matplotlib.pyplot as plt\n",
    "import seaborn as sns"
   ]
  },
  {
   "cell_type": "markdown",
   "id": "9d9ba499",
   "metadata": {
    "papermill": {
     "duration": 0.008166,
     "end_time": "2022-06-16T18:03:13.981854",
     "exception": false,
     "start_time": "2022-06-16T18:03:13.973688",
     "status": "completed"
    },
    "tags": []
   },
   "source": [
    "## Data Loading and Splitting"
   ]
  },
  {
   "cell_type": "code",
   "execution_count": 2,
   "id": "de38c836",
   "metadata": {
    "execution": {
     "iopub.execute_input": "2022-06-16T18:03:14.000207Z",
     "iopub.status.busy": "2022-06-16T18:03:13.999809Z",
     "iopub.status.idle": "2022-06-16T18:04:21.773495Z",
     "shell.execute_reply": "2022-06-16T18:04:21.772449Z"
    },
    "papermill": {
     "duration": 67.785982,
     "end_time": "2022-06-16T18:04:21.776216",
     "exception": false,
     "start_time": "2022-06-16T18:03:13.990234",
     "status": "completed"
    },
    "tags": []
   },
   "outputs": [],
   "source": [
    "X, y = fetch_openml('mnist_784', version=1, return_X_y=True)\n",
    "# it returns Data and label as a pandas dataframe"
   ]
  },
  {
   "cell_type": "markdown",
   "id": "8ceddd14",
   "metadata": {
    "papermill": {
     "duration": 0.015245,
     "end_time": "2022-06-16T18:04:21.808013",
     "exception": false,
     "start_time": "2022-06-16T18:04:21.792768",
     "status": "completed"
    },
    "tags": []
   },
   "source": [
    "The data matrix X and the respective label vector y need to be converted to the numpy array by calling a `to_numpy` method."
   ]
  },
  {
   "cell_type": "code",
   "execution_count": 3,
   "id": "e2b2640b",
   "metadata": {
    "execution": {
     "iopub.execute_input": "2022-06-16T18:04:21.841053Z",
     "iopub.status.busy": "2022-06-16T18:04:21.840072Z",
     "iopub.status.idle": "2022-06-16T18:04:21.857520Z",
     "shell.execute_reply": "2022-06-16T18:04:21.855420Z"
    },
    "papermill": {
     "duration": 0.038737,
     "end_time": "2022-06-16T18:04:21.862317",
     "exception": false,
     "start_time": "2022-06-16T18:04:21.823580",
     "status": "completed"
    },
    "tags": []
   },
   "outputs": [],
   "source": [
    "X = X.to_numpy()\n",
    "y = y.to_numpy()"
   ]
  },
  {
   "cell_type": "markdown",
   "id": "56dfa740",
   "metadata": {
    "papermill": {
     "duration": 0.016085,
     "end_time": "2022-06-16T18:04:21.904076",
     "exception": false,
     "start_time": "2022-06-16T18:04:21.887991",
     "status": "completed"
    },
    "tags": []
   },
   "source": [
    "- Let's get some information like number of features, number of classes about the dataset.\n",
    "- Observe that the labels are of string data type not integers."
   ]
  },
  {
   "cell_type": "code",
   "execution_count": 4,
   "id": "350d2bef",
   "metadata": {
    "execution": {
     "iopub.execute_input": "2022-06-16T18:04:21.936992Z",
     "iopub.status.busy": "2022-06-16T18:04:21.936134Z",
     "iopub.status.idle": "2022-06-16T18:04:22.083270Z",
     "shell.execute_reply": "2022-06-16T18:04:22.082379Z"
    },
    "papermill": {
     "duration": 0.167063,
     "end_time": "2022-06-16T18:04:22.086683",
     "exception": false,
     "start_time": "2022-06-16T18:04:21.919620",
     "status": "completed"
    },
    "tags": []
   },
   "outputs": [
    {
     "name": "stdout",
     "output_type": "stream",
     "text": [
      "Number of samples: 70000, type:float64\n",
      "Number of features: 784\n",
      "Minimum:0.0, Maximum:255.0\n",
      "Number of classes: 10, type:object\n",
      "Labels: ['0' '1' '2' '3' '4' '5' '6' '7' '8' '9']\n"
     ]
    }
   ],
   "source": [
    "target_names = np.unique(y)\n",
    "print('Number of samples: {0}, type:{1}'.format(X.shape[0], X.dtype))\n",
    "print('Number of features: {0}'.format(X.shape[1]))\n",
    "print('Minimum:{0}, Maximum:{1}'.format(np.min(X), np.max(X)))\n",
    "print('Number of classes: {0}, type:{1}'.format(len(target_names), y.dtype))\n",
    "print('Labels: {0}'.format(target_names))"
   ]
  },
  {
   "cell_type": "code",
   "execution_count": 5,
   "id": "7dbbc697",
   "metadata": {
    "execution": {
     "iopub.execute_input": "2022-06-16T18:04:22.123301Z",
     "iopub.status.busy": "2022-06-16T18:04:22.122318Z",
     "iopub.status.idle": "2022-06-16T18:04:22.565840Z",
     "shell.execute_reply": "2022-06-16T18:04:22.564118Z"
    },
    "papermill": {
     "duration": 0.466207,
     "end_time": "2022-06-16T18:04:22.570780",
     "exception": false,
     "start_time": "2022-06-16T18:04:22.104573",
     "status": "completed"
    },
    "tags": []
   },
   "outputs": [
    {
     "name": "stdout",
     "output_type": "stream",
     "text": [
      "Minimum:0.0, Maximum:1.0\n"
     ]
    }
   ],
   "source": [
    "# feature Normalization\n",
    "X = MinMaxScaler().fit_transform(X)\n",
    "print('Minimum:{0}, Maximum:{1}'.format(np.min(X), np.max(X)))"
   ]
  },
  {
   "cell_type": "markdown",
   "id": "6bc68755",
   "metadata": {
    "papermill": {
     "duration": 0.017813,
     "end_time": "2022-06-16T18:04:22.616160",
     "exception": false,
     "start_time": "2022-06-16T18:04:22.598347",
     "status": "completed"
    },
    "tags": []
   },
   "source": [
    "## Data Visualization\n",
    "Let us pick a few images (already shuffled in the dataset) and display them with their respective labels. The images are stacked as a row vector of size $1 \\times 784$ and therefore must be reshaped to the matrix of size $28 \\times 28$ to display them properly."
   ]
  },
  {
   "cell_type": "code",
   "execution_count": 6,
   "id": "a6f8d411",
   "metadata": {
    "execution": {
     "iopub.execute_input": "2022-06-16T18:04:22.640843Z",
     "iopub.status.busy": "2022-06-16T18:04:22.639522Z",
     "iopub.status.idle": "2022-06-16T18:04:23.202610Z",
     "shell.execute_reply": "2022-06-16T18:04:23.201725Z"
    },
    "papermill": {
     "duration": 0.579698,
     "end_time": "2022-06-16T18:04:23.204487",
     "exception": false,
     "start_time": "2022-06-16T18:04:22.624789",
     "status": "completed"
    },
    "tags": []
   },
   "outputs": [
    {
     "name": "stderr",
     "output_type": "stream",
     "text": [
      "/opt/conda/lib/python3.7/site-packages/ipykernel_launcher.py:2: DeprecationWarning: `np.int` is a deprecated alias for the builtin `int`. To silence this warning, use `int` by itself. Doing this will not modify any behavior and is safe. When replacing `np.int`, you may wish to use e.g. `np.int64` or `np.int32` to specify the precision. If you wish to review your current use, check the release note link for additional information.\n",
      "Deprecated in NumPy 1.20; for more details and guidance: https://numpy.org/devdocs/release/1.20.0-notes.html#deprecations\n",
      "  \n"
     ]
    },
    {
     "data": {
      "image/png": "[encoded data removed]",
      "text/plain": [
       "<Figure size 576x432 with 9 Axes>"
      ]
     },
     "metadata": {
      "needs_background": "light"
     },
     "output_type": "display_data"
    }
   ],
   "source": [
    "num_images = 9 # choose a square number\n",
    "factor = np.int(np.sqrt(num_images))\n",
    "fig, ax = plt.subplots(nrows=factor, ncols=factor, figsize=(8,6))\n",
    "idx_offset = 0 # take \"num_images\" starting from the index \"idx_offset\"\n",
    "for i in range(factor):\n",
    "    index = idx_offset + i*factor\n",
    "    for j in range(factor):\n",
    "        ax[i,j].imshow(X[index+j].reshape(28,28), cmap='gray')\n",
    "        ax[i,j].set_title('Label: {0}'.format(str(y[index+j])))\n",
    "        ax[i,j].set_axis_off()"
   ]
  },
  {
   "cell_type": "markdown",
   "id": "8db5dcd9",
   "metadata": {
    "papermill": {
     "duration": 0.016813,
     "end_time": "2022-06-16T18:04:23.232546",
     "exception": false,
     "start_time": "2022-06-16T18:04:23.215733",
     "status": "completed"
    },
    "tags": []
   },
   "source": [
    "## Data Splitting\n",
    "- Split into train and test set in ratio: 60000/10000\n",
    "- Since the samples are already shuffled, we can skip `train_test_split()`."
   ]
  },
  {
   "cell_type": "code",
   "execution_count": 7,
   "id": "8bb8ee8c",
   "metadata": {
    "execution": {
     "iopub.execute_input": "2022-06-16T18:04:23.269232Z",
     "iopub.status.busy": "2022-06-16T18:04:23.268081Z",
     "iopub.status.idle": "2022-06-16T18:04:23.273017Z",
     "shell.execute_reply": "2022-06-16T18:04:23.272454Z"
    },
    "papermill": {
     "duration": 0.024641,
     "end_time": "2022-06-16T18:04:23.274947",
     "exception": false,
     "start_time": "2022-06-16T18:04:23.250306",
     "status": "completed"
    },
    "tags": []
   },
   "outputs": [],
   "source": [
    "x_train, x_test, y_train, y_test = X[:60000], X[60000:], y[:60000], y[60000:]"
   ]
  },
  {
   "cell_type": "markdown",
   "id": "e285cb77",
   "metadata": {
    "papermill": {
     "duration": 0.016493,
     "end_time": "2022-06-16T18:04:23.308394",
     "exception": false,
     "start_time": "2022-06-16T18:04:23.291901",
     "status": "completed"
    },
    "tags": []
   },
   "source": [
    "Before proceeding, we need to check whether the dataset is balanced or imbalanced."
   ]
  },
  {
   "cell_type": "code",
   "execution_count": 8,
   "id": "15c67fdb",
   "metadata": {
    "execution": {
     "iopub.execute_input": "2022-06-16T18:04:23.345390Z",
     "iopub.status.busy": "2022-06-16T18:04:23.344755Z",
     "iopub.status.idle": "2022-06-16T18:04:23.619701Z",
     "shell.execute_reply": "2022-06-16T18:04:23.618903Z"
    },
    "papermill": {
     "duration": 0.295961,
     "end_time": "2022-06-16T18:04:23.622054",
     "exception": false,
     "start_time": "2022-06-16T18:04:23.326093",
     "status": "completed"
    },
    "tags": []
   },
   "outputs": [
    {
     "data": {
      "image/png": "[encoded data removed]",
      "text/plain": [
       "<Figure size 720x288 with 1 Axes>"
      ]
     },
     "metadata": {
      "needs_background": "light"
     },
     "output_type": "display_data"
    }
   ],
   "source": [
    "plt.figure(figsize=(10,4))\n",
    "sns.histplot(data=np.int8(y_train),binwidth=0.45, bins=11)\n",
    "plt.xticks(ticks=[0,1,2,3,4,5,6,7,8,9], labels=[0,1,2,3,4,5,6,7,8,9])\n",
    "plt.xlabel('Class')\n",
    "plt.title('Distribution of Samples')\n",
    "plt.show()"
   ]
  },
  {
   "cell_type": "markdown",
   "id": "476f220d",
   "metadata": {
    "papermill": {
     "duration": 0.017472,
     "end_time": "2022-06-16T18:04:23.657173",
     "exception": false,
     "start_time": "2022-06-16T18:04:23.639701",
     "status": "completed"
    },
    "tags": []
   },
   "source": [
    "# Binary Classification: 0-Detector\n",
    "## Modifying labels\n",
    "- Since the original label vector contains 10 classes, we need to modify the number of classes to 2\n",
    "- Therefore, the label 0 will be changed to 1 and all other labels (1-9) will be changed to -1.\n",
    "- We name the label vector as y_train_0 and y_test_0."
   ]
  },
  {
   "cell_type": "code",
   "execution_count": 9,
   "id": "cbdb87d2",
   "metadata": {
    "execution": {
     "iopub.execute_input": "2022-06-16T18:04:23.693632Z",
     "iopub.status.busy": "2022-06-16T18:04:23.693024Z",
     "iopub.status.idle": "2022-06-16T18:04:23.703010Z",
     "shell.execute_reply": "2022-06-16T18:04:23.702293Z"
    },
    "papermill": {
     "duration": 0.03053,
     "end_time": "2022-06-16T18:04:23.705078",
     "exception": false,
     "start_time": "2022-06-16T18:04:23.674548",
     "status": "completed"
    },
    "tags": []
   },
   "outputs": [],
   "source": [
    "# initialize new vaiable names with all -1\n",
    "y_train_0 = -1*np.ones((len(y_train)))\n",
    "y_test_0 = -1*np.ones((len(y_test)))\n",
    "\n",
    "# find indices of digit 0 image\n",
    "indx_0 = np.where(y_train == '0') # since the original labels are of type str not int\n",
    "# use those indices to modify y_train_0 & y_test_0\n",
    "y_train_0[indx_0] = 1\n",
    "indx_0 = np.where(y_test == '0')\n",
    "y_test_0[indx_0] = 1"
   ]
  },
  {
   "cell_type": "markdown",
   "id": "0a1e8e71",
   "metadata": {
    "papermill": {
     "duration": 0.016513,
     "end_time": "2022-06-16T18:04:23.738957",
     "exception": false,
     "start_time": "2022-06-16T18:04:23.722444",
     "status": "completed"
    },
    "tags": []
   },
   "source": [
    "# Baseline Models"
   ]
  },
  {
   "cell_type": "code",
   "execution_count": 10,
   "id": "853c9d9a",
   "metadata": {
    "execution": {
     "iopub.execute_input": "2022-06-16T18:04:23.774623Z",
     "iopub.status.busy": "2022-06-16T18:04:23.773997Z",
     "iopub.status.idle": "2022-06-16T18:04:23.779950Z",
     "shell.execute_reply": "2022-06-16T18:04:23.779032Z"
    },
    "papermill": {
     "duration": 0.026184,
     "end_time": "2022-06-16T18:04:23.782136",
     "exception": false,
     "start_time": "2022-06-16T18:04:23.755952",
     "status": "completed"
    },
    "tags": []
   },
   "outputs": [
    {
     "name": "stdout",
     "output_type": "stream",
     "text": [
      "5923 54077\n"
     ]
    }
   ],
   "source": [
    "num_pos = len(np.where(y_train_0 == 1)[0])\n",
    "num_neg = len(np.where(y_train_0 == -1)[0])\n",
    "print(num_pos, num_neg)"
   ]
  },
  {
   "cell_type": "code",
   "execution_count": 11,
   "id": "3313d053",
   "metadata": {
    "execution": {
     "iopub.execute_input": "2022-06-16T18:04:23.814624Z",
     "iopub.status.busy": "2022-06-16T18:04:23.813964Z",
     "iopub.status.idle": "2022-06-16T18:04:23.818215Z",
     "shell.execute_reply": "2022-06-16T18:04:23.817503Z"
    },
    "papermill": {
     "duration": 0.02209,
     "end_time": "2022-06-16T18:04:23.819830",
     "exception": false,
     "start_time": "2022-06-16T18:04:23.797740",
     "status": "completed"
    },
    "tags": []
   },
   "outputs": [],
   "source": [
    "base_clf = DummyClassifier(strategy='most_frequent')\n",
    "# the model \"always outputs\" the class which has highest number of samples."
   ]
  },
  {
   "cell_type": "code",
   "execution_count": 12,
   "id": "67f9582c",
   "metadata": {
    "execution": {
     "iopub.execute_input": "2022-06-16T18:04:23.841149Z",
     "iopub.status.busy": "2022-06-16T18:04:23.840537Z",
     "iopub.status.idle": "2022-06-16T18:04:23.859655Z",
     "shell.execute_reply": "2022-06-16T18:04:23.858283Z"
    },
    "papermill": {
     "duration": 0.033419,
     "end_time": "2022-06-16T18:04:23.862942",
     "exception": false,
     "start_time": "2022-06-16T18:04:23.829523",
     "status": "completed"
    },
    "tags": []
   },
   "outputs": [
    {
     "name": "stdout",
     "output_type": "stream",
     "text": [
      "Training accuracy: 0.90\n",
      "Testing accuracy: 0.90\n"
     ]
    }
   ],
   "source": [
    "base_clf.fit(x_train, y_train_0)\n",
    "print('Training accuracy: {0:.2f}'.format(base_clf.score(x_train, y_train_0)))\n",
    "print('Testing accuracy: {0:.2f}'.format(base_clf.score(x_test, y_test_0)))"
   ]
  },
  {
   "cell_type": "markdown",
   "id": "78995cd0",
   "metadata": {
    "papermill": {
     "duration": 0.017107,
     "end_time": "2022-06-16T18:04:23.898057",
     "exception": false,
     "start_time": "2022-06-16T18:04:23.880950",
     "status": "completed"
    },
    "tags": []
   },
   "source": [
    "- Now the reason is obvious. The model would have predicted 54077 samples correctly just by outputing -1 for all the input samples. Therefore the accuracy will be $\\frac{54077}{60000} = 90.12\\%$.\n",
    "- This is the reason why \"accuracy\" alone is not always a good measure!"
   ]
  },
  {
   "cell_type": "markdown",
   "id": "d3b559d0",
   "metadata": {
    "papermill": {
     "duration": 0.016879,
     "end_time": "2022-06-16T18:04:23.932445",
     "exception": false,
     "start_time": "2022-06-16T18:04:23.915566",
     "status": "completed"
    },
    "tags": []
   },
   "source": [
    "# Perceptron model"
   ]
  },
  {
   "cell_type": "markdown",
   "id": "9cd352f5",
   "metadata": {
    "execution": {
     "iopub.execute_input": "2022-06-11T19:04:08.110367Z",
     "iopub.status.busy": "2022-06-11T19:04:08.109937Z",
     "iopub.status.idle": "2022-06-11T19:04:08.115627Z",
     "shell.execute_reply": "2022-06-11T19:04:08.114329Z",
     "shell.execute_reply.started": "2022-06-11T19:04:08.110332Z"
    },
    "papermill": {
     "duration": 0.016884,
     "end_time": "2022-06-16T18:04:23.966629",
     "exception": false,
     "start_time": "2022-06-16T18:04:23.949745",
     "status": "completed"
    },
    "tags": []
   },
   "source": [
    "## Instantiation"
   ]
  },
  {
   "cell_type": "code",
   "execution_count": 13,
   "id": "3740569f",
   "metadata": {
    "execution": {
     "iopub.execute_input": "2022-06-16T18:04:24.004104Z",
     "iopub.status.busy": "2022-06-16T18:04:24.003113Z",
     "iopub.status.idle": "2022-06-16T18:04:24.008179Z",
     "shell.execute_reply": "2022-06-16T18:04:24.007291Z"
    },
    "papermill": {
     "duration": 0.025993,
     "end_time": "2022-06-16T18:04:24.010436",
     "exception": false,
     "start_time": "2022-06-16T18:04:23.984443",
     "status": "completed"
    },
    "tags": []
   },
   "outputs": [],
   "source": [
    "bin_clf = Perceptron(max_iter=100, random_state=1729)"
   ]
  },
  {
   "cell_type": "markdown",
   "id": "f76d458d",
   "metadata": {
    "papermill": {
     "duration": 0.016779,
     "end_time": "2022-06-16T18:04:24.045299",
     "exception": false,
     "start_time": "2022-06-16T18:04:24.028520",
     "status": "completed"
    },
    "tags": []
   },
   "source": [
    "## Training and Prediction\n",
    "- Call the `fit` method to train the model\n",
    "- It would be nice to plot the iteration vs loss curve for the training. However sklearn does not have a direct function to plot it.\n",
    "- Nevertheless, we can workaround this using `partial_fit` method. (demonstrated at the end)"
   ]
  },
  {
   "cell_type": "code",
   "execution_count": 14,
   "id": "9297c994",
   "metadata": {
    "execution": {
     "iopub.execute_input": "2022-06-16T18:04:24.082654Z",
     "iopub.status.busy": "2022-06-16T18:04:24.081846Z",
     "iopub.status.idle": "2022-06-16T18:04:25.560952Z",
     "shell.execute_reply": "2022-06-16T18:04:25.559685Z"
    },
    "papermill": {
     "duration": 1.500659,
     "end_time": "2022-06-16T18:04:25.563585",
     "exception": false,
     "start_time": "2022-06-16T18:04:24.062926",
     "status": "completed"
    },
    "tags": []
   },
   "outputs": [
    {
     "name": "stdout",
     "output_type": "stream",
     "text": [
      "Dimension of Weights w: (1, 784)\n",
      "Bias: [-108.]\n",
      "The loss function: <sklearn.linear_model._sgd_fast.Hinge object at 0x7fa909550f30>\n"
     ]
    }
   ],
   "source": [
    "bin_clf.fit(x_train, y_train_0)\n",
    "print('Dimension of Weights w: {0}'.format(bin_clf.coef_.shape))\n",
    "print('Bias: {0}'.format(bin_clf.intercept_))\n",
    "print('The loss function: {0}'.format(bin_clf.loss_function_))"
   ]
  },
  {
   "cell_type": "markdown",
   "id": "e3d7efd6",
   "metadata": {
    "papermill": {
     "duration": 0.018542,
     "end_time": "2022-06-16T18:04:25.600840",
     "exception": false,
     "start_time": "2022-06-16T18:04:25.582298",
     "status": "completed"
    },
    "tags": []
   },
   "source": [
    "Let's make predictions on the train set and then calculate the training accuracy."
   ]
  },
  {
   "cell_type": "code",
   "execution_count": 15,
   "id": "f76afca8",
   "metadata": {
    "execution": {
     "iopub.execute_input": "2022-06-16T18:04:25.639022Z",
     "iopub.status.busy": "2022-06-16T18:04:25.638666Z",
     "iopub.status.idle": "2022-06-16T18:04:25.757255Z",
     "shell.execute_reply": "2022-06-16T18:04:25.756592Z"
    },
    "papermill": {
     "duration": 0.139658,
     "end_time": "2022-06-16T18:04:25.759140",
     "exception": false,
     "start_time": "2022-06-16T18:04:25.619482",
     "status": "completed"
    },
    "tags": []
   },
   "outputs": [
    {
     "name": "stdout",
     "output_type": "stream",
     "text": [
      "Training accuracy:  0.99095\n",
      "Test accuracy:  0.989\n"
     ]
    }
   ],
   "source": [
    "y_hat_train_0 = bin_clf.predict(x_train)\n",
    "print('Training accuracy: ', bin_clf.score(x_train, y_train_0))\n",
    "print('Test accuracy: ', bin_clf.score(x_test, y_test_0))"
   ]
  },
  {
   "cell_type": "markdown",
   "id": "c012ce75",
   "metadata": {
    "papermill": {
     "duration": 0.011439,
     "end_time": "2022-06-16T18:04:25.782705",
     "exception": false,
     "start_time": "2022-06-16T18:04:25.771266",
     "status": "completed"
    },
    "tags": []
   },
   "source": [
    "## Displaying predictions\n"
   ]
  },
  {
   "cell_type": "code",
   "execution_count": 16,
   "id": "7f7a12ba",
   "metadata": {
    "execution": {
     "iopub.execute_input": "2022-06-16T18:04:25.808343Z",
     "iopub.status.busy": "2022-06-16T18:04:25.807498Z",
     "iopub.status.idle": "2022-06-16T18:04:26.209566Z",
     "shell.execute_reply": "2022-06-16T18:04:26.208653Z"
    },
    "papermill": {
     "duration": 0.41659,
     "end_time": "2022-06-16T18:04:26.211234",
     "exception": false,
     "start_time": "2022-06-16T18:04:25.794644",
     "status": "completed"
    },
    "tags": []
   },
   "outputs": [
    {
     "name": "stderr",
     "output_type": "stream",
     "text": [
      "/opt/conda/lib/python3.7/site-packages/ipykernel_launcher.py:3: DeprecationWarning: `np.int` is a deprecated alias for the builtin `int`. To silence this warning, use `int` by itself. Doing this will not modify any behavior and is safe. When replacing `np.int`, you may wish to use e.g. `np.int64` or `np.int32` to specify the precision. If you wish to review your current use, check the release note link for additional information.\n",
      "Deprecated in NumPy 1.20; for more details and guidance: https://numpy.org/devdocs/release/1.20.0-notes.html#deprecations\n",
      "  This is separate from the ipykernel package so we can avoid doing imports until\n"
     ]
    },
    {
     "data": {
      "image/png": "[encoded data removed]",
      "text/plain": [
       "<Figure size 576x432 with 9 Axes>"
      ]
     },
     "metadata": {
      "needs_background": "light"
     },
     "output_type": "display_data"
    }
   ],
   "source": [
    "y_hat_test_0 = bin_clf.predict(x_test)\n",
    "num_images = 9 # choose a square number\n",
    "factor = np.int(np.sqrt(num_images))\n",
    "fig, ax = plt.subplots(nrows=factor, ncols=factor, figsize=(8,6))\n",
    "idx_offset = 0 # take \"num_images\" starting from the index \"idx_offset\"\n",
    "for i in range(factor):\n",
    "    index = idx_offset + i*factor\n",
    "    for j in range(factor):\n",
    "        ax[i,j].imshow(x_test[index+j].reshape(28,28), cmap='gray')\n",
    "        ax[i,j].set_title('Prediction: {0}'.format(str(y_hat_test_0[index+j])))\n",
    "        ax[i,j].set_axis_off()"
   ]
  },
  {
   "cell_type": "markdown",
   "id": "534116b2",
   "metadata": {
    "papermill": {
     "duration": 0.009563,
     "end_time": "2022-06-16T18:04:26.231673",
     "exception": false,
     "start_time": "2022-06-16T18:04:26.222110",
     "status": "completed"
    },
    "tags": []
   },
   "source": [
    "- Display images of positive class from testset along with their predictions."
   ]
  },
  {
   "cell_type": "code",
   "execution_count": 17,
   "id": "169e8a4d",
   "metadata": {
    "execution": {
     "iopub.execute_input": "2022-06-16T18:04:26.253099Z",
     "iopub.status.busy": "2022-06-16T18:04:26.252568Z",
     "iopub.status.idle": "2022-06-16T18:04:26.256761Z",
     "shell.execute_reply": "2022-06-16T18:04:26.256120Z"
    },
    "papermill": {
     "duration": 0.01737,
     "end_time": "2022-06-16T18:04:26.258803",
     "exception": false,
     "start_time": "2022-06-16T18:04:26.241433",
     "status": "completed"
    },
    "tags": []
   },
   "outputs": [],
   "source": [
    "indx_0 = np.where(y_test_0 == 1)"
   ]
  },
  {
   "cell_type": "code",
   "execution_count": null,
   "id": "7fd3f0d8",
   "metadata": {},
   "outputs": [],
   "source": []
  },
  {
   "cell_type": "code",
   "execution_count": 18,
   "id": "6ea7d57e",
   "metadata": {
    "execution": {
     "iopub.execute_input": "2022-06-16T18:04:26.298934Z",
     "iopub.status.busy": "2022-06-16T18:04:26.298330Z",
     "iopub.status.idle": "2022-06-16T18:04:26.911296Z",
     "shell.execute_reply": "2022-06-16T18:04:26.910309Z"
    },
    "papermill": {
     "duration": 0.635615,
     "end_time": "2022-06-16T18:04:26.913503",
     "exception": false,
     "start_time": "2022-06-16T18:04:26.277888",
     "status": "completed"
    },
    "tags": []
   },
   "outputs": [
    {
     "name": "stderr",
     "output_type": "stream",
     "text": [
      "/opt/conda/lib/python3.7/site-packages/ipykernel_launcher.py:4: DeprecationWarning: `np.int` is a deprecated alias for the builtin `int`. To silence this warning, use `int` by itself. Doing this will not modify any behavior and is safe. When replacing `np.int`, you may wish to use e.g. `np.int64` or `np.int32` to specify the precision. If you wish to review your current use, check the release note link for additional information.\n",
      "Deprecated in NumPy 1.20; for more details and guidance: https://numpy.org/devdocs/release/1.20.0-notes.html#deprecations\n",
      "  after removing the cwd from sys.path.\n"
     ]
    },
    {
     "data": {
      "image/png": "[encoded data removed]",
      "text/plain": [
       "<Figure size 576x432 with 9 Axes>"
      ]
     },
     "metadata": {
      "needs_background": "light"
     },
     "output_type": "display_data"
    }
   ],
   "source": [
    "zeroImgs = x_test[indx_0[0]]\n",
    "zeroLabls = y_hat_test_0[indx_0[0]]\n",
    "num_images = 9 # choose a square number\n",
    "factor = np.int(np.sqrt(num_images))\n",
    "fig, ax = plt.subplots(nrows=factor, ncols=factor, figsize=(8,6))\n",
    "idx_offset = 0 # take \"num_images\" starting from the index \"idx_offset\"\n",
    "for i in range(factor):\n",
    "    index = idx_offset + i*factor\n",
    "    for j in range(factor):\n",
    "        ax[i,j].imshow(zeroImgs[index+j].reshape(28,28), cmap='gray')\n",
    "        ax[i,j].set_title('Prediction: {0}'.format(str(zeroLabls[index+j])))\n",
    "        ax[i,j].set_axis_off()"
   ]
  },
  {
   "cell_type": "markdown",
   "id": "4168c214",
   "metadata": {
    "papermill": {
     "duration": 0.0159,
     "end_time": "2022-06-16T18:04:26.945817",
     "exception": false,
     "start_time": "2022-06-16T18:04:26.929917",
     "status": "completed"
    },
    "tags": []
   },
   "source": [
    "## Evaluation metrics"
   ]
  },
  {
   "cell_type": "code",
   "execution_count": 19,
   "id": "f79cee48",
   "metadata": {
    "execution": {
     "iopub.execute_input": "2022-06-16T18:04:26.979019Z",
     "iopub.status.busy": "2022-06-16T18:04:26.978622Z",
     "iopub.status.idle": "2022-06-16T18:04:26.984053Z",
     "shell.execute_reply": "2022-06-16T18:04:26.983288Z"
    },
    "papermill": {
     "duration": 0.024862,
     "end_time": "2022-06-16T18:04:26.986580",
     "exception": false,
     "start_time": "2022-06-16T18:04:26.961718",
     "status": "completed"
    },
    "tags": []
   },
   "outputs": [
    {
     "name": "stdout",
     "output_type": "stream",
     "text": [
      "0.9193877551020408\n"
     ]
    }
   ],
   "source": [
    "num_misclassified = np.count_nonzero(zeroLabls==-1)\n",
    "num_correctpred = len(zeroLabls)-num_misclassified\n",
    "accuracy = num_correctpred/len(zeroLabls)\n",
    "print(accuracy)"
   ]
  },
  {
   "cell_type": "markdown",
   "id": "9cc0a122",
   "metadata": {
    "papermill": {
     "duration": 0.015628,
     "end_time": "2022-06-16T18:04:27.018097",
     "exception": false,
     "start_time": "2022-06-16T18:04:27.002469",
     "status": "completed"
    },
    "tags": []
   },
   "source": [
    "Since accuracy is not a good evaluation metric in case of imbalanced data.\n",
    "### Confusion Matrix"
   ]
  },
  {
   "cell_type": "code",
   "execution_count": 20,
   "id": "4ee95d73",
   "metadata": {
    "execution": {
     "iopub.execute_input": "2022-06-16T18:04:27.052775Z",
     "iopub.status.busy": "2022-06-16T18:04:27.052374Z",
     "iopub.status.idle": "2022-06-16T18:04:27.372811Z",
     "shell.execute_reply": "2022-06-16T18:04:27.371911Z"
    },
    "papermill": {
     "duration": 0.34069,
     "end_time": "2022-06-16T18:04:27.374713",
     "exception": false,
     "start_time": "2022-06-16T18:04:27.034023",
     "status": "completed"
    },
    "tags": []
   },
   "outputs": [
    {
     "data": {
      "image/png": "[encoded data removed]",
      "text/plain": [
       "<Figure size 432x288 with 2 Axes>"
      ]
     },
     "metadata": {
      "needs_background": "light"
     },
     "output_type": "display_data"
    }
   ],
   "source": [
    "y_hat_train_0 = bin_clf.predict(x_train)\n",
    "cm_display = ConfusionMatrixDisplay.from_predictions(y_train_0, y_hat_train_0, values_format='.5g')\n",
    "plt.show()"
   ]
  },
  {
   "cell_type": "markdown",
   "id": "78c4165c",
   "metadata": {
    "papermill": {
     "duration": 0.016071,
     "end_time": "2022-06-16T18:04:27.407340",
     "exception": false,
     "start_time": "2022-06-16T18:04:27.391269",
     "status": "completed"
    },
    "tags": []
   },
   "source": [
    "### Precision and Recall"
   ]
  },
  {
   "cell_type": "code",
   "execution_count": 21,
   "id": "45706ee2",
   "metadata": {
    "execution": {
     "iopub.execute_input": "2022-06-16T18:04:27.442103Z",
     "iopub.status.busy": "2022-06-16T18:04:27.441023Z",
     "iopub.status.idle": "2022-06-16T18:04:27.446720Z",
     "shell.execute_reply": "2022-06-16T18:04:27.446058Z"
    },
    "papermill": {
     "duration": 0.025009,
     "end_time": "2022-06-16T18:04:27.448590",
     "exception": false,
     "start_time": "2022-06-16T18:04:27.423581",
     "status": "completed"
    },
    "tags": []
   },
   "outputs": [],
   "source": [
    "cf_matrix = cm_display.confusion_matrix\n",
    "tn = cf_matrix[0,0]\n",
    "fn = cf_matrix[1,0]\n",
    "fp = cf_matrix[0,1]\n",
    "tp = cf_matrix[1,1]"
   ]
  },
  {
   "cell_type": "code",
   "execution_count": 22,
   "id": "802f0180",
   "metadata": {
    "execution": {
     "iopub.execute_input": "2022-06-16T18:04:27.483022Z",
     "iopub.status.busy": "2022-06-16T18:04:27.482043Z",
     "iopub.status.idle": "2022-06-16T18:04:27.488486Z",
     "shell.execute_reply": "2022-06-16T18:04:27.487713Z"
    },
    "papermill": {
     "duration": 0.025743,
     "end_time": "2022-06-16T18:04:27.490642",
     "exception": false,
     "start_time": "2022-06-16T18:04:27.464899",
     "status": "completed"
    },
    "tags": []
   },
   "outputs": [
    {
     "name": "stdout",
     "output_type": "stream",
     "text": [
      "Precision:  0.9783072546230441\n",
      "Recall:  0.9289211548201924\n",
      "Accuracy:  0.99095\n"
     ]
    }
   ],
   "source": [
    "precision = tp/(tp+fp)\n",
    "print('Precision: ', precision)\n",
    "recall = tp/(tp+fn)\n",
    "print('Recall: ', recall)\n",
    "accuracy = (tn+tp)/(tn+tp+fn+fp)\n",
    "print('Accuracy: ', accuracy)"
   ]
  },
  {
   "cell_type": "markdown",
   "id": "c3652a1a",
   "metadata": {
    "papermill": {
     "duration": 0.015653,
     "end_time": "2022-06-16T18:04:27.522621",
     "exception": false,
     "start_time": "2022-06-16T18:04:27.506968",
     "status": "completed"
    },
    "tags": []
   },
   "source": [
    "Despite the precision is close to 0.98, we still want to increase the precision.\n",
    "\n",
    "## Cross Validation"
   ]
  },
  {
   "cell_type": "code",
   "execution_count": 23,
   "id": "6ec108d7",
   "metadata": {
    "execution": {
     "iopub.execute_input": "2022-06-16T18:04:27.556106Z",
     "iopub.status.busy": "2022-06-16T18:04:27.555725Z",
     "iopub.status.idle": "2022-06-16T18:04:33.235168Z",
     "shell.execute_reply": "2022-06-16T18:04:33.234193Z"
    },
    "papermill": {
     "duration": 5.699592,
     "end_time": "2022-06-16T18:04:33.238146",
     "exception": false,
     "start_time": "2022-06-16T18:04:27.538554",
     "status": "completed"
    },
    "tags": []
   },
   "outputs": [
    {
     "name": "stdout",
     "output_type": "stream",
     "text": [
      "{'estimator': [Perceptron(max_iter=100, random_state=1729),\n",
      "               Perceptron(max_iter=100, random_state=1729),\n",
      "               Perceptron(max_iter=100, random_state=1729),\n",
      "               Perceptron(max_iter=100, random_state=1729),\n",
      "               Perceptron(max_iter=100, random_state=1729)],\n",
      " 'fit_time': array([0.74776649, 1.50749898, 1.07574725, 0.94781208, 1.22139788]),\n",
      " 'score_time': array([0.02995753, 0.02965689, 0.02848744, 0.02866173, 0.0293119 ]),\n",
      " 'test_f1': array([0.95238095, 0.91666667, 0.94915254, 0.94117647, 0.95091763]),\n",
      " 'test_precision': array([0.95890411, 0.98828125, 0.95319149, 0.95090439, 0.96200345]),\n",
      " 'test_recall': array([0.94594595, 0.85472973, 0.94514768, 0.93164557, 0.94008439])}\n"
     ]
    }
   ],
   "source": [
    "bin_clf = Perceptron(max_iter=100, random_state=1729)\n",
    "scores = cross_validate(bin_clf, x_train, y_train_0, cv=5,\n",
    "                        scoring=['precision', 'recall', 'f1'],\n",
    "                        return_estimator=True)\n",
    "pprint(scores)"
   ]
  },
  {
   "cell_type": "code",
   "execution_count": 24,
   "id": "d5c32070",
   "metadata": {
    "execution": {
     "iopub.execute_input": "2022-06-16T18:04:33.280126Z",
     "iopub.status.busy": "2022-06-16T18:04:33.279217Z",
     "iopub.status.idle": "2022-06-16T18:04:33.490512Z",
     "shell.execute_reply": "2022-06-16T18:04:33.489779Z"
    },
    "papermill": {
     "duration": 0.234099,
     "end_time": "2022-06-16T18:04:33.492589",
     "exception": false,
     "start_time": "2022-06-16T18:04:33.258490",
     "status": "completed"
    },
    "tags": []
   },
   "outputs": [
    {
     "data": {
      "image/png": "[encoded data removed]",
      "text/plain": [
       "<Figure size 432x288 with 2 Axes>"
      ]
     },
     "metadata": {
      "needs_background": "light"
     },
     "output_type": "display_data"
    }
   ],
   "source": [
    "bin_clf = scores['estimator'][0]\n",
    "# since the first estimator has the best f1 score\n",
    "y_hat_test_0 = bin_clf.predict(x_test)\n",
    "cm_display = ConfusionMatrixDisplay.from_predictions(y_test_0, y_hat_test_0, values_format='.5g')"
   ]
  },
  {
   "cell_type": "code",
   "execution_count": 25,
   "id": "9e341be2",
   "metadata": {
    "execution": {
     "iopub.execute_input": "2022-06-16T18:04:33.528085Z",
     "iopub.status.busy": "2022-06-16T18:04:33.527483Z",
     "iopub.status.idle": "2022-06-16T18:04:33.541415Z",
     "shell.execute_reply": "2022-06-16T18:04:33.540635Z"
    },
    "papermill": {
     "duration": 0.033381,
     "end_time": "2022-06-16T18:04:33.543017",
     "exception": false,
     "start_time": "2022-06-16T18:04:33.509636",
     "status": "completed"
    },
    "tags": []
   },
   "outputs": [
    {
     "name": "stdout",
     "output_type": "stream",
     "text": [
      "Precision 0.95\n",
      "Recall 0.95\n"
     ]
    }
   ],
   "source": [
    "print('Precision %.2f'%precision_score(y_test_0, y_hat_test_0))\n",
    "print('Recall %.2f'%recall_score(y_test_0, y_hat_test_0))"
   ]
  },
  {
   "cell_type": "code",
   "execution_count": 26,
   "id": "ec3996b7",
   "metadata": {
    "execution": {
     "iopub.execute_input": "2022-06-16T18:04:33.566053Z",
     "iopub.status.busy": "2022-06-16T18:04:33.565658Z",
     "iopub.status.idle": "2022-06-16T18:04:33.666858Z",
     "shell.execute_reply": "2022-06-16T18:04:33.665981Z"
    },
    "papermill": {
     "duration": 0.115031,
     "end_time": "2022-06-16T18:04:33.668994",
     "exception": false,
     "start_time": "2022-06-16T18:04:33.553963",
     "status": "completed"
    },
    "tags": []
   },
   "outputs": [
    {
     "name": "stdout",
     "output_type": "stream",
     "text": [
      "              precision    recall  f1-score   support\n",
      "\n",
      "        -1.0       0.99      1.00      0.99     54077\n",
      "         1.0       0.98      0.93      0.95      5923\n",
      "\n",
      "    accuracy                           0.99     60000\n",
      "   macro avg       0.99      0.96      0.97     60000\n",
      "weighted avg       0.99      0.99      0.99     60000\n",
      "\n"
     ]
    }
   ],
   "source": [
    "print(classification_report(y_train_0,y_hat_train_0))"
   ]
  },
  {
   "cell_type": "markdown",
   "id": "5290bb22",
   "metadata": {
    "papermill": {
     "duration": 0.016655,
     "end_time": "2022-06-16T18:04:33.702875",
     "exception": false,
     "start_time": "2022-06-16T18:04:33.686220",
     "status": "completed"
    },
    "tags": []
   },
   "source": [
    "> - Precision/Recall trade off\n",
    "> - PR curve\n",
    "> - ROC curve"
   ]
  },
  {
   "cell_type": "markdown",
   "id": "5e741f63",
   "metadata": {
    "papermill": {
     "duration": 0.01635,
     "end_time": "2022-06-16T18:04:33.735961",
     "exception": false,
     "start_time": "2022-06-16T18:04:33.719611",
     "status": "completed"
    },
    "tags": []
   },
   "source": [
    "# Multiclass Perceptron\n",
    "1. Use `LabelBinarizer` to apply **One-hot encoding** on the label vector. The label vector will be converted to label matrix.\n",
    "2. After obtaining one-hot representation of the labels we exactly the same code that we used for the binary case and perform multiclass classification with Perceptron."
   ]
  },
  {
   "cell_type": "code",
   "execution_count": null,
   "id": "95ecb98a",
   "metadata": {
    "papermill": {
     "duration": 0.016264,
     "end_time": "2022-06-16T18:04:33.768818",
     "exception": false,
     "start_time": "2022-06-16T18:04:33.752554",
     "status": "completed"
    },
    "tags": []
   },
   "outputs": [],
   "source": []
  }
 ],
 "metadata": {
  "kernelspec": {
   "display_name": "Python 3",
   "language": "python",
   "name": "python3"
  },
  "language_info": {
   "codemirror_mode": {
    "name": "ipython",
    "version": 3
   },
   "file_extension": ".py",
   "mimetype": "text/x-python",
   "name": "python",
   "nbconvert_exporter": "python",
   "pygments_lexer": "ipython3",
   "version": "3.7.12"
  },
  "papermill": {
   "default_parameters": {},
   "duration": 93.146685,
   "end_time": "2022-06-16T18:04:34.605528",
   "environment_variables": {},
   "exception": null,
   "input_path": "__notebook__.ipynb",
   "output_path": "__notebook__.ipynb",
   "parameters": {},
   "start_time": "2022-06-16T18:03:01.458843",
   "version": "2.3.4"
  }
 },
 "nbformat": 4,
 "nbformat_minor": 5
}
