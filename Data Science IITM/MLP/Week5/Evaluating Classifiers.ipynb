{
 "cells": [
  {
   "cell_type": "markdown",
   "id": "a2570228",
   "metadata": {
    "papermill": {
     "duration": 0.002558,
     "end_time": "2022-06-11T00:38:11.223202",
     "exception": false,
     "start_time": "2022-06-11T00:38:11.220644",
     "status": "completed"
    },
    "tags": []
   },
   "source": [
    "## Use Stratified cross validation iterators\n",
    "\n",
    "There may be issues like **class imbalance** in classification, which tend to impact the cross validation folds.  \n",
    "\n",
    "The **overall class distribution** and the ones in folds may be **different** and this has implications in effective model training.  \n",
    "\n",
    "`sklearn.model_selection` module provides three **stratified APIs** to create folds such that the **overall class distribution is replicated in individual folds**."
   ]
  },
  {
   "cell_type": "markdown",
   "id": "56cd825d",
   "metadata": {
    "papermill": {
     "duration": 0.001122,
     "end_time": "2022-06-11T00:38:11.225999",
     "exception": false,
     "start_time": "2022-06-11T00:38:11.224877",
     "status": "completed"
    },
    "tags": []
   },
   "source": [
    "# Classification metrics\n",
    "sklearn.metrics implements a bunch of **classification scoring metrics** based on true label and predicted labels as inputs.\n",
    "- accuracy_score\n",
    "- balanced_accuracy_score\n",
    "- top_k_accuracy_score\n",
    "- roc_auc_score\n",
    "- precision_score\n",
    "- recall_score\n",
    "- f1_score"
   ]
  },
  {
   "cell_type": "markdown",
   "id": "345064cc",
   "metadata": {
    "papermill": {
     "duration": 0.001186,
     "end_time": "2022-06-11T00:38:11.228453",
     "exception": false,
     "start_time": "2022-06-11T00:38:11.227267",
     "status": "completed"
    },
    "tags": []
   },
   "source": [
    "## Confusion matrix\n",
    "```python\n",
    "from sklearn.metrics import confusion_matrix\n",
    "confusion_matrix(y_true, y_predicted)\n",
    "```\n",
    "Confusion matrix can be displayed with **ConfusionMatrixDisplay()**"
   ]
  }
 ],
 "metadata": {
  "kernelspec": {
   "display_name": "Python 3",
   "language": "python",
   "name": "python3"
  },
  "language_info": {
   "codemirror_mode": {
    "name": "ipython",
    "version": 3
   },
   "file_extension": ".py",
   "mimetype": "text/x-python",
   "name": "python",
   "nbconvert_exporter": "python",
   "pygments_lexer": "ipython3",
   "version": "3.7.12"
  },
  "papermill": {
   "default_parameters": {},
   "duration": 9.540961,
   "end_time": "2022-06-11T00:38:11.850431",
   "environment_variables": {},
   "exception": null,
   "input_path": "__notebook__.ipynb",
   "output_path": "__notebook__.ipynb",
   "parameters": {},
   "start_time": "2022-06-11T00:38:02.309470",
   "version": "2.3.4"
  }
 },
 "nbformat": 4,
 "nbformat_minor": 5
}
