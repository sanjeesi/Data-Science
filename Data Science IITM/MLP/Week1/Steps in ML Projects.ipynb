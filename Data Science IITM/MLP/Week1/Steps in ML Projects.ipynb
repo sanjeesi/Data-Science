{
 "cells": [
  {
   "cell_type": "markdown",
   "id": "480a1303-5f6e-4e3f-a6c1-e73e07673dd1",
   "metadata": {},
   "source": [
    "# Week 1  \n",
    "\n",
    "## Steps in ML projects\n",
    "1. Look at the big picture.\n",
    "2. Get the data.\n",
    "3. Discover and visualize the data to gain insights.\n",
    "4. Prepare the data for Machine Learning algorithms.\n",
    "5. Select a model and train it.\n",
    "6. Fine-tune your model.\n",
    "7. Present your solution.\n",
    "8. Launch, monitor and maintain your system."
   ]
  },
  {
   "cell_type": "markdown",
   "id": "b53b0531-1af5-4562-9b0b-996ad8f3a009",
   "metadata": {},
   "source": [
    "### Step 1: Look at the big picture\n",
    "1. Frame the problem\n",
    "2. Select a performance measure\n",
    "3. List and check the assumptions\n",
    "\n",
    "**1.1 Frame the problem**\n",
    "  * What is input and output?\n",
    "  * What is the business objective? How does company expects to use and benefit from the model?\n",
    "  * What is the current solution (if any)?\n",
    "  * provides a useful baseline\n",
    "\n",
    "> **Design consideration in problem framing**\n",
    "> * Is this a **supervised, unsupervised or a RL** problem?\n",
    "> * Is this a **classification, regression** or some other tast?\n",
    "> * What is the nature of the output: **single** or **multiple** outputs?\n",
    "> * Does system need **continuous learning** or **periodic updates**?\n",
    "> * What would be the learning style: **batch** or **online**?\n",
    "\n",
    "**1.2 Selection of performance measure**\n",
    "* Regression\n",
    "  * Mean Squared Error (MSE) or\n",
    "  * Mean Absolute Error (MAE)\n",
    "* Classification\n",
    "  * Precision\n",
    "  * Recall\n",
    "  * F1-score\n",
    "  * Accuracy\n",
    "  \n",
    "**1.3 Check the assumptions**\n",
    "* List down various assumptions about the task.\n",
    "* Review with domain experts and other teams that plan to consume ML output.\n",
    "* Make sure all assumptions are reviewed and approved before coding!\n",
    "\n",
    "> It's a good idea to understand significance of each feature by consulting the experts."
   ]
  },
  {
   "cell_type": "markdown",
   "id": "f2cf7d49-f974-462a-8bd5-b7e3956ed0fe",
   "metadata": {},
   "source": [
    "# Step 2: Get the data"
   ]
  },
  {
   "cell_type": "markdown",
   "id": "8b65c8ce-0c90-4ec1-bde7-0a9b5eb9cc1e",
   "metadata": {},
   "source": [
    "Load basic libraries"
   ]
  },
  {
   "cell_type": "code",
   "execution_count": 1,
   "id": "bc8e791e-c56a-424d-8124-b26140e0de99",
   "metadata": {},
   "outputs": [],
   "source": [
    "import pandas as pd\n",
    "import matplotlib.pyplot as plt\n",
    "import seaborn as sns\n",
    "import numpy as np"
   ]
  },
  {
   "cell_type": "code",
   "execution_count": 2,
   "id": "190c52ee-c3e6-49d8-9ceb-eed9e5ee0c6a",
   "metadata": {},
   "outputs": [],
   "source": [
    "# download data\n",
    "dataUrl = 'https://archive.ics.uci.edu/ml/machine-learning-databases/wine-quality/winequality-red.csv'\n",
    "data = pd.read_csv(dataUrl, sep=';')"
   ]
  },
  {
   "cell_type": "markdown",
   "id": "53e0ea44-d299-4c51-ae66-c0b4d50248fd",
   "metadata": {},
   "source": [
    "## Examine data"
   ]
  },
  {
   "cell_type": "code",
   "execution_count": 3,
   "id": "e1f4d1a2-22e1-4545-84b1-2c0f2ac4fea3",
   "metadata": {},
   "outputs": [
    {
     "data": {
      "text/html": [
       "<div>\n",
       "<style scoped>\n",
       "    .dataframe tbody tr th:only-of-type {\n",
       "        vertical-align: middle;\n",
       "    }\n",
       "\n",
       "    .dataframe tbody tr th {\n",
       "        vertical-align: top;\n",
       "    }\n",
       "\n",
       "    .dataframe thead th {\n",
       "        text-align: right;\n",
       "    }\n",
       "</style>\n",
       "<table border=\"1\" class=\"dataframe\">\n",
       "  <thead>\n",
       "    <tr style=\"text-align: right;\">\n",
       "      <th></th>\n",
       "      <th>fixed acidity</th>\n",
       "      <th>volatile acidity</th>\n",
       "      <th>citric acid</th>\n",
       "      <th>residual sugar</th>\n",
       "      <th>chlorides</th>\n",
       "      <th>free sulfur dioxide</th>\n",
       "      <th>total sulfur dioxide</th>\n",
       "      <th>density</th>\n",
       "      <th>pH</th>\n",
       "      <th>sulphates</th>\n",
       "      <th>alcohol</th>\n",
       "      <th>quality</th>\n",
       "    </tr>\n",
       "  </thead>\n",
       "  <tbody>\n",
       "    <tr>\n",
       "      <th>0</th>\n",
       "      <td>7.4</td>\n",
       "      <td>0.70</td>\n",
       "      <td>0.00</td>\n",
       "      <td>1.9</td>\n",
       "      <td>0.076</td>\n",
       "      <td>11.0</td>\n",
       "      <td>34.0</td>\n",
       "      <td>0.9978</td>\n",
       "      <td>3.51</td>\n",
       "      <td>0.56</td>\n",
       "      <td>9.4</td>\n",
       "      <td>5</td>\n",
       "    </tr>\n",
       "    <tr>\n",
       "      <th>1</th>\n",
       "      <td>7.8</td>\n",
       "      <td>0.88</td>\n",
       "      <td>0.00</td>\n",
       "      <td>2.6</td>\n",
       "      <td>0.098</td>\n",
       "      <td>25.0</td>\n",
       "      <td>67.0</td>\n",
       "      <td>0.9968</td>\n",
       "      <td>3.20</td>\n",
       "      <td>0.68</td>\n",
       "      <td>9.8</td>\n",
       "      <td>5</td>\n",
       "    </tr>\n",
       "    <tr>\n",
       "      <th>2</th>\n",
       "      <td>7.8</td>\n",
       "      <td>0.76</td>\n",
       "      <td>0.04</td>\n",
       "      <td>2.3</td>\n",
       "      <td>0.092</td>\n",
       "      <td>15.0</td>\n",
       "      <td>54.0</td>\n",
       "      <td>0.9970</td>\n",
       "      <td>3.26</td>\n",
       "      <td>0.65</td>\n",
       "      <td>9.8</td>\n",
       "      <td>5</td>\n",
       "    </tr>\n",
       "    <tr>\n",
       "      <th>3</th>\n",
       "      <td>11.2</td>\n",
       "      <td>0.28</td>\n",
       "      <td>0.56</td>\n",
       "      <td>1.9</td>\n",
       "      <td>0.075</td>\n",
       "      <td>17.0</td>\n",
       "      <td>60.0</td>\n",
       "      <td>0.9980</td>\n",
       "      <td>3.16</td>\n",
       "      <td>0.58</td>\n",
       "      <td>9.8</td>\n",
       "      <td>6</td>\n",
       "    </tr>\n",
       "    <tr>\n",
       "      <th>4</th>\n",
       "      <td>7.4</td>\n",
       "      <td>0.70</td>\n",
       "      <td>0.00</td>\n",
       "      <td>1.9</td>\n",
       "      <td>0.076</td>\n",
       "      <td>11.0</td>\n",
       "      <td>34.0</td>\n",
       "      <td>0.9978</td>\n",
       "      <td>3.51</td>\n",
       "      <td>0.56</td>\n",
       "      <td>9.4</td>\n",
       "      <td>5</td>\n",
       "    </tr>\n",
       "  </tbody>\n",
       "</table>\n",
       "</div>"
      ],
      "text/plain": [
       "   fixed acidity  volatile acidity  citric acid  residual sugar  chlorides  \\\n",
       "0            7.4              0.70         0.00             1.9      0.076   \n",
       "1            7.8              0.88         0.00             2.6      0.098   \n",
       "2            7.8              0.76         0.04             2.3      0.092   \n",
       "3           11.2              0.28         0.56             1.9      0.075   \n",
       "4            7.4              0.70         0.00             1.9      0.076   \n",
       "\n",
       "   free sulfur dioxide  total sulfur dioxide  density    pH  sulphates  \\\n",
       "0                 11.0                  34.0   0.9978  3.51       0.56   \n",
       "1                 25.0                  67.0   0.9968  3.20       0.68   \n",
       "2                 15.0                  54.0   0.9970  3.26       0.65   \n",
       "3                 17.0                  60.0   0.9980  3.16       0.58   \n",
       "4                 11.0                  34.0   0.9978  3.51       0.56   \n",
       "\n",
       "   alcohol  quality  \n",
       "0      9.4        5  \n",
       "1      9.8        5  \n",
       "2      9.8        5  \n",
       "3      9.8        6  \n",
       "4      9.4        5  "
      ]
     },
     "execution_count": 3,
     "metadata": {},
     "output_type": "execute_result"
    }
   ],
   "source": [
    "# check data samples\n",
    "data.head()"
   ]
  },
  {
   "cell_type": "code",
   "execution_count": 4,
   "id": "98fe722f-2a16-48aa-bdce-0b45f8f93f05",
   "metadata": {},
   "outputs": [
    {
     "name": "stdout",
     "output_type": "stream",
     "text": [
      "Feature list: ['fixed acidity' 'volatile acidity' 'citric acid' 'residual sugar'\n",
      " 'chlorides' 'free sulfur dioxide' 'total sulfur dioxide' 'density' 'pH'\n",
      " 'sulphates' 'alcohol']\n",
      "Label: ['quality']\n"
     ]
    }
   ],
   "source": [
    "feature_list = data.columns[:-1].values\n",
    "label = [data.columns[-1]]\n",
    "print('Feature list:', feature_list)\n",
    "print('Label:', label)"
   ]
  },
  {
   "cell_type": "markdown",
   "id": "8a852753-eeb1-42c3-b118-7f04b33ab2ba",
   "metadata": {},
   "source": [
    "### Data Statistics"
   ]
  },
  {
   "cell_type": "code",
   "execution_count": 5,
   "id": "452202fe-f21f-4b4a-a77c-c9476dd36182",
   "metadata": {},
   "outputs": [
    {
     "name": "stdout",
     "output_type": "stream",
     "text": [
      "<class 'pandas.core.frame.DataFrame'>\n",
      "RangeIndex: 1599 entries, 0 to 1598\n",
      "Data columns (total 12 columns):\n",
      " #   Column                Non-Null Count  Dtype  \n",
      "---  ------                --------------  -----  \n",
      " 0   fixed acidity         1599 non-null   float64\n",
      " 1   volatile acidity      1599 non-null   float64\n",
      " 2   citric acid           1599 non-null   float64\n",
      " 3   residual sugar        1599 non-null   float64\n",
      " 4   chlorides             1599 non-null   float64\n",
      " 5   free sulfur dioxide   1599 non-null   float64\n",
      " 6   total sulfur dioxide  1599 non-null   float64\n",
      " 7   density               1599 non-null   float64\n",
      " 8   pH                    1599 non-null   float64\n",
      " 9   sulphates             1599 non-null   float64\n",
      " 10  alcohol               1599 non-null   float64\n",
      " 11  quality               1599 non-null   int64  \n",
      "dtypes: float64(11), int64(1)\n",
      "memory usage: 150.0 KB\n"
     ]
    }
   ],
   "source": [
    "data.info()"
   ]
  },
  {
   "cell_type": "code",
   "execution_count": 6,
   "id": "a15d77c6-db42-409d-9e76-ea2aa8db1045",
   "metadata": {},
   "outputs": [
    {
     "data": {
      "text/html": [
       "<div>\n",
       "<style scoped>\n",
       "    .dataframe tbody tr th:only-of-type {\n",
       "        vertical-align: middle;\n",
       "    }\n",
       "\n",
       "    .dataframe tbody tr th {\n",
       "        vertical-align: top;\n",
       "    }\n",
       "\n",
       "    .dataframe thead th {\n",
       "        text-align: right;\n",
       "    }\n",
       "</style>\n",
       "<table border=\"1\" class=\"dataframe\">\n",
       "  <thead>\n",
       "    <tr style=\"text-align: right;\">\n",
       "      <th></th>\n",
       "      <th>fixed acidity</th>\n",
       "      <th>volatile acidity</th>\n",
       "      <th>citric acid</th>\n",
       "      <th>residual sugar</th>\n",
       "      <th>chlorides</th>\n",
       "      <th>free sulfur dioxide</th>\n",
       "      <th>total sulfur dioxide</th>\n",
       "      <th>density</th>\n",
       "      <th>pH</th>\n",
       "      <th>sulphates</th>\n",
       "      <th>alcohol</th>\n",
       "      <th>quality</th>\n",
       "    </tr>\n",
       "  </thead>\n",
       "  <tbody>\n",
       "    <tr>\n",
       "      <th>count</th>\n",
       "      <td>1599.000000</td>\n",
       "      <td>1599.000000</td>\n",
       "      <td>1599.000000</td>\n",
       "      <td>1599.000000</td>\n",
       "      <td>1599.000000</td>\n",
       "      <td>1599.000000</td>\n",
       "      <td>1599.000000</td>\n",
       "      <td>1599.000000</td>\n",
       "      <td>1599.000000</td>\n",
       "      <td>1599.000000</td>\n",
       "      <td>1599.000000</td>\n",
       "      <td>1599.000000</td>\n",
       "    </tr>\n",
       "    <tr>\n",
       "      <th>mean</th>\n",
       "      <td>8.319637</td>\n",
       "      <td>0.527821</td>\n",
       "      <td>0.270976</td>\n",
       "      <td>2.538806</td>\n",
       "      <td>0.087467</td>\n",
       "      <td>15.874922</td>\n",
       "      <td>46.467792</td>\n",
       "      <td>0.996747</td>\n",
       "      <td>3.311113</td>\n",
       "      <td>0.658149</td>\n",
       "      <td>10.422983</td>\n",
       "      <td>5.636023</td>\n",
       "    </tr>\n",
       "    <tr>\n",
       "      <th>std</th>\n",
       "      <td>1.741096</td>\n",
       "      <td>0.179060</td>\n",
       "      <td>0.194801</td>\n",
       "      <td>1.409928</td>\n",
       "      <td>0.047065</td>\n",
       "      <td>10.460157</td>\n",
       "      <td>32.895324</td>\n",
       "      <td>0.001887</td>\n",
       "      <td>0.154386</td>\n",
       "      <td>0.169507</td>\n",
       "      <td>1.065668</td>\n",
       "      <td>0.807569</td>\n",
       "    </tr>\n",
       "    <tr>\n",
       "      <th>min</th>\n",
       "      <td>4.600000</td>\n",
       "      <td>0.120000</td>\n",
       "      <td>0.000000</td>\n",
       "      <td>0.900000</td>\n",
       "      <td>0.012000</td>\n",
       "      <td>1.000000</td>\n",
       "      <td>6.000000</td>\n",
       "      <td>0.990070</td>\n",
       "      <td>2.740000</td>\n",
       "      <td>0.330000</td>\n",
       "      <td>8.400000</td>\n",
       "      <td>3.000000</td>\n",
       "    </tr>\n",
       "    <tr>\n",
       "      <th>25%</th>\n",
       "      <td>7.100000</td>\n",
       "      <td>0.390000</td>\n",
       "      <td>0.090000</td>\n",
       "      <td>1.900000</td>\n",
       "      <td>0.070000</td>\n",
       "      <td>7.000000</td>\n",
       "      <td>22.000000</td>\n",
       "      <td>0.995600</td>\n",
       "      <td>3.210000</td>\n",
       "      <td>0.550000</td>\n",
       "      <td>9.500000</td>\n",
       "      <td>5.000000</td>\n",
       "    </tr>\n",
       "    <tr>\n",
       "      <th>50%</th>\n",
       "      <td>7.900000</td>\n",
       "      <td>0.520000</td>\n",
       "      <td>0.260000</td>\n",
       "      <td>2.200000</td>\n",
       "      <td>0.079000</td>\n",
       "      <td>14.000000</td>\n",
       "      <td>38.000000</td>\n",
       "      <td>0.996750</td>\n",
       "      <td>3.310000</td>\n",
       "      <td>0.620000</td>\n",
       "      <td>10.200000</td>\n",
       "      <td>6.000000</td>\n",
       "    </tr>\n",
       "    <tr>\n",
       "      <th>75%</th>\n",
       "      <td>9.200000</td>\n",
       "      <td>0.640000</td>\n",
       "      <td>0.420000</td>\n",
       "      <td>2.600000</td>\n",
       "      <td>0.090000</td>\n",
       "      <td>21.000000</td>\n",
       "      <td>62.000000</td>\n",
       "      <td>0.997835</td>\n",
       "      <td>3.400000</td>\n",
       "      <td>0.730000</td>\n",
       "      <td>11.100000</td>\n",
       "      <td>6.000000</td>\n",
       "    </tr>\n",
       "    <tr>\n",
       "      <th>max</th>\n",
       "      <td>15.900000</td>\n",
       "      <td>1.580000</td>\n",
       "      <td>1.000000</td>\n",
       "      <td>15.500000</td>\n",
       "      <td>0.611000</td>\n",
       "      <td>72.000000</td>\n",
       "      <td>289.000000</td>\n",
       "      <td>1.003690</td>\n",
       "      <td>4.010000</td>\n",
       "      <td>2.000000</td>\n",
       "      <td>14.900000</td>\n",
       "      <td>8.000000</td>\n",
       "    </tr>\n",
       "  </tbody>\n",
       "</table>\n",
       "</div>"
      ],
      "text/plain": [
       "       fixed acidity  volatile acidity  citric acid  residual sugar  \\\n",
       "count    1599.000000       1599.000000  1599.000000     1599.000000   \n",
       "mean        8.319637          0.527821     0.270976        2.538806   \n",
       "std         1.741096          0.179060     0.194801        1.409928   \n",
       "min         4.600000          0.120000     0.000000        0.900000   \n",
       "25%         7.100000          0.390000     0.090000        1.900000   \n",
       "50%         7.900000          0.520000     0.260000        2.200000   \n",
       "75%         9.200000          0.640000     0.420000        2.600000   \n",
       "max        15.900000          1.580000     1.000000       15.500000   \n",
       "\n",
       "         chlorides  free sulfur dioxide  total sulfur dioxide      density  \\\n",
       "count  1599.000000          1599.000000           1599.000000  1599.000000   \n",
       "mean      0.087467            15.874922             46.467792     0.996747   \n",
       "std       0.047065            10.460157             32.895324     0.001887   \n",
       "min       0.012000             1.000000              6.000000     0.990070   \n",
       "25%       0.070000             7.000000             22.000000     0.995600   \n",
       "50%       0.079000            14.000000             38.000000     0.996750   \n",
       "75%       0.090000            21.000000             62.000000     0.997835   \n",
       "max       0.611000            72.000000            289.000000     1.003690   \n",
       "\n",
       "                pH    sulphates      alcohol      quality  \n",
       "count  1599.000000  1599.000000  1599.000000  1599.000000  \n",
       "mean      3.311113     0.658149    10.422983     5.636023  \n",
       "std       0.154386     0.169507     1.065668     0.807569  \n",
       "min       2.740000     0.330000     8.400000     3.000000  \n",
       "25%       3.210000     0.550000     9.500000     5.000000  \n",
       "50%       3.310000     0.620000    10.200000     6.000000  \n",
       "75%       3.400000     0.730000    11.100000     6.000000  \n",
       "max       4.010000     2.000000    14.900000     8.000000  "
      ]
     },
     "execution_count": 6,
     "metadata": {},
     "output_type": "execute_result"
    }
   ],
   "source": [
    "data.describe()"
   ]
  },
  {
   "cell_type": "code",
   "execution_count": 7,
   "id": "bdf29780-2c01-4fb1-b2cb-a1c5716224b6",
   "metadata": {},
   "outputs": [
    {
     "data": {
      "text/plain": [
       "5    681\n",
       "6    638\n",
       "7    199\n",
       "4     53\n",
       "8     18\n",
       "3     10\n",
       "Name: quality, dtype: int64"
      ]
     },
     "execution_count": 7,
     "metadata": {},
     "output_type": "execute_result"
    }
   ],
   "source": [
    "data['quality'].value_counts()"
   ]
  },
  {
   "cell_type": "code",
   "execution_count": 8,
   "id": "23e8ea92-2d34-4b85-85d7-650b418aa3a5",
   "metadata": {},
   "outputs": [
    {
     "data": {
      "text/plain": [
       "Text(0, 0.5, 'Count')"
      ]
     },
     "execution_count": 8,
     "metadata": {},
     "output_type": "execute_result"
    },
    {
     "data": {
      "image/png": "[encoded data removed]",
      "text/plain": [
       "<Figure size 432x288 with 1 Axes>"
      ]
     },
     "metadata": {
      "needs_background": "light"
     },
     "output_type": "display_data"
    }
   ],
   "source": [
    "sns.set()\n",
    "data.quality.hist()\n",
    "plt.xlabel('Wine Quality')\n",
    "plt.ylabel('Count')"
   ]
  },
  {
   "cell_type": "markdown",
   "id": "0d86b6c6-7e5f-424c-b309-a22ba16c693a",
   "metadata": {},
   "source": [
    "**Before any further exploration, it's a good idea to separate test set and do not look at it in order to have a clean evaluation set.**  \n",
    "Otherwise it may cause ***data snooping bias***"
   ]
  },
  {
   "cell_type": "markdown",
   "id": "4c6a9e6c-a39b-4dd7-ae92-37a2784b57cb",
   "metadata": {},
   "source": [
    "Scikit-Learn provides a few functions for creating test sets based on:\n",
    "1. **Random sampling**, which randomly selects k% points in the test set.\n",
    "2. **Stratified sampling**, which samples test examples such that they are representative of overall distribution."
   ]
  },
  {
   "cell_type": "code",
   "execution_count": 9,
   "id": "350a5cad-6aab-49aa-8dec-7227e81756dc",
   "metadata": {},
   "outputs": [],
   "source": [
    "from sklearn.model_selection import train_test_split"
   ]
  },
  {
   "cell_type": "code",
   "execution_count": 10,
   "id": "e02b26c6-c258-476f-9224-e2c03ffe4b60",
   "metadata": {},
   "outputs": [
    {
     "name": "stdout",
     "output_type": "stream",
     "text": [
      "Object ` train_test_split()` not found.\n"
     ]
    }
   ],
   "source": [
    "? train_test_split()"
   ]
  },
  {
   "cell_type": "code",
   "execution_count": 11,
   "id": "6a9073b9-739f-4b70-9fb8-d66ef08f7c1a",
   "metadata": {},
   "outputs": [],
   "source": [
    "train_set, test_set = train_test_split(data, test_size=0.2, random_state=42)"
   ]
  },
  {
   "cell_type": "markdown",
   "id": "5668fed8-85c4-4919-aff3-5befd7dbb5c4",
   "metadata": {
    "tags": []
   },
   "source": [
    "#### Statified Sampling\n",
    "* Data distribution may not be uniform in real world data.\n",
    "* Ramdom sampling - by its nature - introduces bias in such data sets.\n",
    "\n",
    "> Recall the label distribution in our dataset: It's not uniform  \n",
    "> hench with random sampling test distribution may not match with the overall distribution.\n",
    "\n",
    "How do we sample in such cases?\n",
    "* We divide the population into homogeneous groups called **strata**.\n",
    "* Data is sampled from each stratum so as to match it with the overall data distribution.\n",
    "* Scikit-Learn provides a class ***StratifiedShuffleSplit*** that helps us in stratified sampling."
   ]
  },
  {
   "cell_type": "code",
   "execution_count": 12,
   "id": "50926f82",
   "metadata": {},
   "outputs": [],
   "source": [
    "from sklearn.model_selection import StratifiedShuffleSplit\n",
    "split = StratifiedShuffleSplit(n_splits=1, test_size=0.2, random_state=42)\n",
    "for train_index, test_index in split.split(data, data['quality']):\n",
    "    strat_train_set = data.loc[train_index]\n",
    "    strat_test_set = data.loc[test_index]\n",
    "    \n",
    "strat_dist = strat_test_set['quality'].value_counts() / len(strat_test_set)"
   ]
  },
  {
   "cell_type": "markdown",
   "id": "9c8b039d-864e-43a1-bdeb-d4c9fa31af72",
   "metadata": {
    "tags": []
   },
   "source": [
    "# Step 3: Data Visualization\n",
    "* Performed on training set.\n",
    "* In case of large training set -\n",
    "  * Sample examples to form **exploration set**.\n",
    "* Enables to understand features and their relationship among themselves and with output label.\n",
    "\n",
    "*It's a good idea to create a copy of the training set so that we can freely manipulate it without worrying about the original dataset.*"
   ]
  },
  {
   "cell_type": "markdown",
   "id": "0f1d1ca5",
   "metadata": {},
   "source": [
    "## Scatter Visualization"
   ]
  },
  {
   "cell_type": "code",
   "execution_count": 13,
   "id": "f1311ba4",
   "metadata": {},
   "outputs": [
    {
     "data": {
      "text/plain": [
       "<AxesSubplot:xlabel='fixed acidity', ylabel='density'>"
      ]
     },
     "execution_count": 13,
     "metadata": {},
     "output_type": "execute_result"
    },
    {
     "data": {
      "image/png": "[encoded data removed]",
      "text/plain": [
       "<Figure size 432x288 with 1 Axes>"
      ]
     },
     "metadata": {
      "needs_background": "light"
     },
     "output_type": "display_data"
    }
   ],
   "source": [
    "# with seaborn library:\n",
    "exploration_set = train_set\n",
    "sns.scatterplot(x='fixed acidity', y='density', hue='quality', data=exploration_set)"
   ]
  },
  {
   "cell_type": "code",
   "execution_count": 14,
   "id": "3c7700f3",
   "metadata": {},
   "outputs": [
    {
     "data": {
      "text/plain": [
       "<AxesSubplot:xlabel='fixed acidity', ylabel='density'>"
      ]
     },
     "execution_count": 14,
     "metadata": {},
     "output_type": "execute_result"
    },
    {
     "data": {
      "image/png": "[encoded data removed]",
      "text/plain": [
       "<Figure size 432x288 with 2 Axes>"
      ]
     },
     "metadata": {
      "needs_background": "light"
     },
     "output_type": "display_data"
    }
   ],
   "source": [
    "# with matplotlib:\n",
    "exploration_set.plot(kind='scatter', x='fixed acidity', y='density', alpha=0.5, c='quality', cmap=plt.get_cmap('jet'))"
   ]
  },
  {
   "cell_type": "markdown",
   "id": "5b1ba651",
   "metadata": {},
   "source": [
    "## Relationship between features\n",
    "* **Standard correlation coefficient** between features.\n",
    "  * Ranges between -1 and 1.\n",
    "    * **Correlation = +1**: Strong positive correlation\n",
    "    * **Correlation = -1**: Strong negative correlation\n",
    "    * **Correlation = 0**: No linear correlation between features\n",
    "\n",
    "  * Visualization with heat map\n",
    "* Only captures linear relationships between features.\n",
    "  * For non-linear relationship, use **rank correlation**"
   ]
  },
  {
   "cell_type": "code",
   "execution_count": 15,
   "id": "4534e5d6",
   "metadata": {},
   "outputs": [],
   "source": [
    "# Let's calculate the correlation between our features\n",
    "corr_matrix = exploration_set.corr()"
   ]
  },
  {
   "cell_type": "code",
   "execution_count": 16,
   "id": "d28907b8",
   "metadata": {},
   "outputs": [
    {
     "data": {
      "text/plain": [
       "quality                 1.000000\n",
       "alcohol                 0.472676\n",
       "sulphates               0.242596\n",
       "citric acid             0.216115\n",
       "fixed acidity           0.122488\n",
       "residual sugar          0.005425\n",
       "pH                     -0.045185\n",
       "free sulfur dioxide    -0.055860\n",
       "chlorides              -0.126541\n",
       "density                -0.167091\n",
       "total sulfur dioxide   -0.200067\n",
       "volatile acidity       -0.378372\n",
       "Name: quality, dtype: float64"
      ]
     },
     "execution_count": 16,
     "metadata": {},
     "output_type": "execute_result"
    }
   ],
   "source": [
    "# Let's check features that are correlated with the label, which is quality in our case.\n",
    "corr_matrix['quality'].sort_values(ascending=False)"
   ]
  },
  {
   "cell_type": "code",
   "execution_count": 17,
   "id": "2162d9ca",
   "metadata": {},
   "outputs": [
    {
     "data": {
      "text/plain": [
       "<AxesSubplot:>"
      ]
     },
     "execution_count": 17,
     "metadata": {},
     "output_type": "execute_result"
    },
    {
     "data": {
      "image/png": "[encoded data removed]",
      "text/plain": [
       "<Figure size 1008x504 with 2 Axes>"
      ]
     },
     "metadata": {
      "needs_background": "light"
     },
     "output_type": "display_data"
    }
   ],
   "source": [
    "# Let's visualize the correlation matrix with heatmap:\n",
    "plt.figure(figsize=(14,7))\n",
    "sns.heatmap(corr_matrix, annot=True)"
   ]
  },
  {
   "cell_type": "code",
   "execution_count": 18,
   "id": "ac19f87e",
   "metadata": {},
   "outputs": [
    {
     "data": {
      "text/plain": [
       "array([[<AxesSubplot:xlabel='citric acid', ylabel='citric acid'>,\n",
       "        <AxesSubplot:xlabel='pH', ylabel='citric acid'>,\n",
       "        <AxesSubplot:xlabel='alcohol', ylabel='citric acid'>,\n",
       "        <AxesSubplot:xlabel='sulphates', ylabel='citric acid'>,\n",
       "        <AxesSubplot:xlabel='quality', ylabel='citric acid'>],\n",
       "       [<AxesSubplot:xlabel='citric acid', ylabel='pH'>,\n",
       "        <AxesSubplot:xlabel='pH', ylabel='pH'>,\n",
       "        <AxesSubplot:xlabel='alcohol', ylabel='pH'>,\n",
       "        <AxesSubplot:xlabel='sulphates', ylabel='pH'>,\n",
       "        <AxesSubplot:xlabel='quality', ylabel='pH'>],\n",
       "       [<AxesSubplot:xlabel='citric acid', ylabel='alcohol'>,\n",
       "        <AxesSubplot:xlabel='pH', ylabel='alcohol'>,\n",
       "        <AxesSubplot:xlabel='alcohol', ylabel='alcohol'>,\n",
       "        <AxesSubplot:xlabel='sulphates', ylabel='alcohol'>,\n",
       "        <AxesSubplot:xlabel='quality', ylabel='alcohol'>],\n",
       "       [<AxesSubplot:xlabel='citric acid', ylabel='sulphates'>,\n",
       "        <AxesSubplot:xlabel='pH', ylabel='sulphates'>,\n",
       "        <AxesSubplot:xlabel='alcohol', ylabel='sulphates'>,\n",
       "        <AxesSubplot:xlabel='sulphates', ylabel='sulphates'>,\n",
       "        <AxesSubplot:xlabel='quality', ylabel='sulphates'>],\n",
       "       [<AxesSubplot:xlabel='citric acid', ylabel='quality'>,\n",
       "        <AxesSubplot:xlabel='pH', ylabel='quality'>,\n",
       "        <AxesSubplot:xlabel='alcohol', ylabel='quality'>,\n",
       "        <AxesSubplot:xlabel='sulphates', ylabel='quality'>,\n",
       "        <AxesSubplot:xlabel='quality', ylabel='quality'>]], dtype=object)"
      ]
     },
     "execution_count": 18,
     "metadata": {},
     "output_type": "execute_result"
    },
    {
     "data": {
      "image/png": "[encoded data removed]",
      "text/plain": [
       "<Figure size 432x288 with 25 Axes>"
      ]
     },
     "metadata": {
      "needs_background": "light"
     },
     "output_type": "display_data"
    }
   ],
   "source": [
    "# Another option to visualize the relationship between the feature is with scatter matrix\n",
    "from pandas.plotting import scatter_matrix\n",
    "attribute_list = ['citric acid', 'pH', 'alcohol', 'sulphates', 'quality']\n",
    "scatter_matrix(exploration_set[attribute_list])"
   ]
  },
  {
   "cell_type": "markdown",
   "id": "8abc58ed",
   "metadata": {},
   "source": [
    "### Note of wisdom\n",
    "1. Visualization and data exploration do not have to be absolutely thorough.\n",
    "2. Objective is to get quick insight into features and its relationship with other features and labels.\n",
    "3. Exploration is an iterative process: Once we build model and obtain more insights, we can come back to this step."
   ]
  },
  {
   "cell_type": "markdown",
   "id": "85b541a5",
   "metadata": {},
   "source": [
    "# Step 4: Prepare data for ML algorithm\n",
    "We often need to preprocess the data before using it for model building due to variety of reasons:\n",
    "  * Due to errors in data capture, data may contain outliers or missing values.\n",
    "  * Different features may be at different scales.\n",
    "  * The current data distribution is not exactly amenable to learning.\n",
    "\n",
    "Typical steps in data preprocessing are as follows:\n",
    "  1. Separate features and labels.\n",
    "  2. Handling missing values and ourtliers.\n",
    "  3. Feature scaling to bring all features on the same scale.\n",
    "  4. Applying certain transformations like log, square root, etc. on the features.\n",
    "\n",
    "*It's a good practice to make a copy of the data and apply preprocessing on that copy. This ensures that in case something goes wrong, we will at leat have the original copy of the data intact.*\n",
    "\n",
    "### 4.1 Separate features and labels from the training set."
   ]
  },
  {
   "cell_type": "code",
   "execution_count": 19,
   "id": "5c132d8c",
   "metadata": {},
   "outputs": [],
   "source": [
    "# Copy all features leaving aside the label.\n",
    "wine_features = strat_train_set.drop('quality', axis=1)\n",
    "\n",
    "# Copy the label list\n",
    "wine_labels = strat_train_set['quality'].copy()"
   ]
  },
  {
   "cell_type": "markdown",
   "id": "d53f8a3f",
   "metadata": {},
   "source": [
    "### 4.2 Data Cleaning\n",
    "Let's first check if there are any missing values in feature set: One way to find that out is column-wise."
   ]
  },
  {
   "cell_type": "code",
   "execution_count": 20,
   "id": "fc065202",
   "metadata": {},
   "outputs": [
    {
     "data": {
      "text/plain": [
       "fixed acidity           0\n",
       "volatile acidity        0\n",
       "citric acid             0\n",
       "residual sugar          0\n",
       "chlorides               0\n",
       "free sulfur dioxide     0\n",
       "total sulfur dioxide    0\n",
       "density                 0\n",
       "pH                      0\n",
       "sulphates               0\n",
       "alcohol                 0\n",
       "dtype: int64"
      ]
     },
     "execution_count": 20,
     "metadata": {},
     "output_type": "execute_result"
    }
   ],
   "source": [
    "wine_features.isna().sum()\n",
    "# counts the number of NaN values in each column of wine_features"
   ]
  },
  {
   "cell_type": "markdown",
   "id": "0979d5ec",
   "metadata": {},
   "source": [
    "In case, we have non-zera numbers in any columns, we have a problem of missing values.\n",
    "  * These values are missing due to errors in recording or they do not exist.\n",
    "  * If they are not recorded:\n",
    "    * Use imputation technique to fill up the missing values.\n",
    "    * Drop the rows containing missing values.\n",
    "  * If they do not exists, it is better to keep it as NaN.\n",
    "\n",
    "  Sklearn provides the following methods to drop rows containing missing values:\n",
    "    * dropna()\n",
    "    * drop()\n",
    "\n",
    "> It provides *SimpleImputer* class for filling up missing values with say, median value."
   ]
  },
  {
   "cell_type": "code",
   "execution_count": 21,
   "id": "1974e99a-e5de-49f6-a4f6-ff5704035703",
   "metadata": {},
   "outputs": [],
   "source": [
    "from sklearn.impute import SimpleImputer\n",
    "imputer = SimpleImputer(strategy='median')"
   ]
  },
  {
   "cell_type": "code",
   "execution_count": 22,
   "id": "22b40861-72a7-4e5b-850e-05a1e0fe43a4",
   "metadata": {},
   "outputs": [
    {
     "data": {
      "text/plain": [
       "SimpleImputer(strategy='median')"
      ]
     },
     "execution_count": 22,
     "metadata": {},
     "output_type": "execute_result"
    }
   ],
   "source": [
    "imputer.fit(wine_features)"
   ]
  },
  {
   "cell_type": "code",
   "execution_count": 23,
   "id": "30785794-3902-40e3-9efb-e0deba88658c",
   "metadata": {},
   "outputs": [
    {
     "data": {
      "text/plain": [
       "array([ 7.9    ,  0.52   ,  0.26   ,  2.2    ,  0.08   , 14.     ,\n",
       "       39.     ,  0.99675,  3.31   ,  0.62   , 10.2    ])"
      ]
     },
     "execution_count": 23,
     "metadata": {},
     "output_type": "execute_result"
    }
   ],
   "source": [
    "imputer.statistics_"
   ]
  },
  {
   "cell_type": "code",
   "execution_count": 24,
   "id": "6efd8e3a-4bec-492c-bbaa-e5c36aa5ce08",
   "metadata": {},
   "outputs": [
    {
     "data": {
      "text/plain": [
       "fixed acidity            7.90000\n",
       "volatile acidity         0.52000\n",
       "citric acid              0.26000\n",
       "residual sugar           2.20000\n",
       "chlorides                0.08000\n",
       "free sulfur dioxide     14.00000\n",
       "total sulfur dioxide    39.00000\n",
       "density                  0.99675\n",
       "pH                       3.31000\n",
       "sulphates                0.62000\n",
       "alcohol                 10.20000\n",
       "dtype: float64"
      ]
     },
     "execution_count": 24,
     "metadata": {},
     "output_type": "execute_result"
    }
   ],
   "source": [
    "wine_features.median()"
   ]
  },
  {
   "cell_type": "code",
   "execution_count": 25,
   "id": "441c8001-7f72-4729-8297-ff3ff51f677b",
   "metadata": {},
   "outputs": [],
   "source": [
    "tr_features = imputer.transform(wine_features)\n",
    "# This returns a Numpy array and we can convert it to the dataframe if needed"
   ]
  },
  {
   "cell_type": "code",
   "execution_count": 26,
   "id": "4924e6f6-2e1a-4b83-8949-07682d51ab65",
   "metadata": {},
   "outputs": [
    {
     "data": {
      "text/plain": [
       "(1279, 11)"
      ]
     },
     "execution_count": 26,
     "metadata": {},
     "output_type": "execute_result"
    }
   ],
   "source": [
    "tr_features.shape"
   ]
  },
  {
   "cell_type": "code",
   "execution_count": 27,
   "id": "efb3e635-4e1d-4b82-a4da-920cca9e74ff",
   "metadata": {},
   "outputs": [],
   "source": [
    "wine_features_tr = pd.DataFrame(tr_features, columns=wine_features.columns)"
   ]
  },
  {
   "cell_type": "markdown",
   "id": "ecd08fde-0232-468f-af3b-bf74ffcadae9",
   "metadata": {},
   "source": [
    "### 4.3 Handling text and categorical attributes\n",
    "> Converting categories to numbers:"
   ]
  },
  {
   "cell_type": "code",
   "execution_count": 28,
   "id": "aeacc556-2bfd-4f84-b372-26b56670e641",
   "metadata": {},
   "outputs": [],
   "source": [
    "from sklearn.preprocessing import OrdinalEncoder\n",
    "ordinal_encoder = OrdinalEncoder()"
   ]
  },
  {
   "cell_type": "markdown",
   "id": "1dfdc4cc-873d-4f25-98ca-252e1f5adf9b",
   "metadata": {},
   "source": [
    "* Call fit_transform() method on ordinal_encoder object to convert text to numbers.\n",
    "* The list of categories can be obtained via categories_instance variable.\n",
    "\n",
    "***One issue with this representation is that the ML algorithm would assume that the two nearby values are closer than the distinct ones.***"
   ]
  },
  {
   "cell_type": "markdown",
   "id": "f61f9a90-3312-43ff-8104-6691e863f7ad",
   "metadata": {},
   "source": [
    "#### Using one hot encoding\n",
    "* Here we create one binary feature per category - the feature value is 1 when the category is present else it is 0.\n",
    "* Only one feature is 1 (hot) and rest are 0 (cold).\n",
    "* The new features are referred to as *dummy features*.\n",
    "* Scikit-Learn provides a **OneHotEncoder** class to convert categorical values into one-hot vectors."
   ]
  },
  {
   "cell_type": "code",
   "execution_count": 29,
   "id": "62060045-c22b-47c4-9ba1-36286eb201a5",
   "metadata": {},
   "outputs": [],
   "source": [
    "from sklearn.preprocessing import OneHotEncoder\n",
    "cat_encoder = OneHotEncoder()"
   ]
  },
  {
   "cell_type": "markdown",
   "id": "496bfee6-27db-4cb8-a556-493cd065cfbc",
   "metadata": {},
   "source": [
    "* We need to call `fit_transform()` method on `OneHotEncoder` object.\n",
    "* The output is a SciPy sparse matrix rather than NumPy array. This enables us to save space when we have a huge number of categories.\n",
    "* In case we want to convert it to dense representation, we can do so with `toarray()` method.\n",
    "* The list of categories can be obtained via `categories_` instance variable.\n",
    "* As we observed that when the number of categories are very large, the one-hot encoding would result in a very large number of features.\n",
    "  * This can be addressed with one of the following approaches:\n",
    "    * Replace with categorical numerical features\n",
    "    * Convert into low-dimensional learnable vectors called **embeddings**"
   ]
  },
  {
   "cell_type": "markdown",
   "id": "ede0494d-48e7-414f-9f27-42a13f373d3a",
   "metadata": {},
   "source": [
    "### 4.4 Feature Scaling\n",
    "* Min-max scaling or Normalization\n",
    "  * we subtract minimum value of a feature from the current value and divide it by the difference between the minimum and the maximum value of that feature.\n",
    "  * Values are shifted and scaled so that they range between 0 and 1.\n",
    "  * Scikit-Learn provides `MinMaxScalar` transformer for this.\n",
    "  * One can specify hyperparameter `feature_range` to specify the range of the feature.\n",
    "  \n",
    "* Standardization\n",
    "  * We subtract mean value of each feature from the current value and divide it by the standard deviation so that the resulting feature has a unit variance.\n",
    "  * While *normalization* bounds values between 0 and 1, *standardiztion* does not bound values to a specific range.\n",
    "  * Standardization is less affected by the outliers compared to the normalization.\n",
    "  * Scikit-Learn provides `StandardScaler` transformation for feature standardization.\n",
    "  * Note that all these transformers are learnt on the **training data** and then applied on the training and test data to transform them.\n",
    "  * **Never learn these transformers on the full dataset.**\n",
    "  \n"
   ]
  },
  {
   "cell_type": "markdown",
   "id": "27947091-962f-49ea-aa26-ad4291f73839",
   "metadata": {},
   "source": [
    "**Transformation pipeline**\n",
    "* Scikit-Learn provides a Pipeline class to line up transformations in an intended order.\n",
    "* Here is an example pipeline:"
   ]
  },
  {
   "cell_type": "code",
   "execution_count": 30,
   "id": "2da7695f-a2a1-4977-ba9b-5bf0f46ed9ea",
   "metadata": {},
   "outputs": [],
   "source": [
    "from sklearn.pipeline import Pipeline\n",
    "from sklearn.preprocessing import StandardScaler\n",
    "transform_pipeline = Pipeline([\n",
    "                                ('imputer', SimpleImputer(strategy='median')),\n",
    "                                ('std_scaler', StandardScaler()),])\n",
    "wine_features_tr = transform_pipeline.fit_transform(wine_features)"
   ]
  },
  {
   "cell_type": "markdown",
   "id": "63fbdae4-2a46-498d-aa2c-550d0e9f6a20",
   "metadata": {},
   "source": [
    "Let's understand what is happening here:\n",
    "* **Pipeline** has a sequence of transformations - misssing value imputaion followed by standardization.\n",
    "* Each step in the sequence is defined by **name, estimator** pair.\n",
    "* Each name should be unique and **should not contain** __ (double underscore).\n",
    "* The output of one step is passed on the next one in sequence untile it reaches the last step.\n",
    "  * Here the pipeline first performs imputation of the missing values and its result is passed for standardization.\n",
    "* Here *StandardScaler* is the last estimator and since it is a transformer, we call `fit_transform()` method on the **Pipeline** object."
   ]
  },
  {
   "cell_type": "markdown",
   "id": "c002dbda-0a59-456d-bcfa-4697f8a35e54",
   "metadata": {},
   "source": [
    "**How to transform mixed features?**\n",
    "* The real world data has both categorical as well as numerical features and we need to apply different transformations to them.\n",
    "* Scikit-Learn introduced `ColumnTransformer` for this purpose.\n",
    "\n",
    "Below is an example code snippet:\n",
    "```python\n",
    "from sklearn.compose import ColumnTransformer\n",
    "num_attribs = list(wine_features)\n",
    "cat_attribs = ['place_of_manufacturing']\n",
    "full_pipeline = ColumnTransformer([\n",
    "    ('num', num_pipeline, num_attribs),\n",
    "    ('cat', OneHotEncoder(), cat_attribs),\n",
    "     ])\n",
    "wine_features_tr = full_pipeline.fit_transform(wine_features)\n",
    "```\n",
    "* Here the `ColumnTransformer` applies each transformation to the appropriate columns and then concatenates the outputs along the columns.\n",
    "* Note all the transformers must return the same number of rows."
   ]
  },
  {
   "cell_type": "markdown",
   "id": "13d92a81-d2f7-4d58-bc75-fe9e9ae1d9ab",
   "metadata": {},
   "source": [
    "# Step 5: Select and train ML model\n",
    "* It's a good practice to build a quick baseline model on the preprocessed data and get an idea about model performance.\n",
    "\n",
    "*Since the quality is a number we can use Linear Regression model as a quick baseline*."
   ]
  },
  {
   "cell_type": "code",
   "execution_count": 31,
   "id": "d5160422-c2b8-4e14-a57a-b74c6e85aa07",
   "metadata": {},
   "outputs": [
    {
     "data": {
      "text/plain": [
       "LinearRegression()"
      ]
     },
     "execution_count": 31,
     "metadata": {},
     "output_type": "execute_result"
    }
   ],
   "source": [
    "from sklearn.linear_model import LinearRegression\n",
    "\n",
    "lin_reg = LinearRegression()\n",
    "lin_reg.fit(wine_features_tr, wine_labels)"
   ]
  },
  {
   "cell_type": "markdown",
   "id": "0866681d-89fa-4825-bb84-4526dd73b308",
   "metadata": {},
   "source": [
    "Now that we have a working model of a regression, let's evaluate performance of the model on training as well as test sets.\n",
    "  * For regression models, we can use mean squared error as an evaluation measure."
   ]
  },
  {
   "cell_type": "code",
   "execution_count": 32,
   "id": "7c53006c-8e5c-47b0-8867-e3879907f996",
   "metadata": {},
   "outputs": [
    {
     "data": {
      "text/plain": [
       "0.4206571060060278"
      ]
     },
     "execution_count": 32,
     "metadata": {},
     "output_type": "execute_result"
    }
   ],
   "source": [
    "from sklearn.metrics import mean_squared_error\n",
    "\n",
    "quality_predictions = lin_reg.predict(wine_features_tr)\n",
    "mean_squared_error(wine_labels, quality_predictions)"
   ]
  },
  {
   "cell_type": "markdown",
   "id": "f292aebb-8446-418c-a303-6b0394e9f514",
   "metadata": {},
   "source": [
    "Let's evaluate perfomance on the test set.\n",
    "* We need to first apply transformation on the test set and then apply the model prediction function."
   ]
  },
  {
   "cell_type": "code",
   "execution_count": 33,
   "id": "44bcc2e2-4018-46e9-a728-cf6067cedec3",
   "metadata": {},
   "outputs": [
    {
     "data": {
      "text/plain": [
       "0.3975913087501518"
      ]
     },
     "execution_count": 33,
     "metadata": {},
     "output_type": "execute_result"
    }
   ],
   "source": [
    "# copy all the features leaving aside the label.\n",
    "wine_features_test = strat_test_set.drop('quality', axis=1)\n",
    "\n",
    "# copy the label list\n",
    "wine_labels_test = strat_test_set['quality'].copy()\n",
    "\n",
    "# apply transformations\n",
    "wine_features_test_tr = transform_pipeline.fit_transform(wine_features_test)\n",
    "\n",
    "# call predict function and calculate MSE.\n",
    "quality_test_predictions = lin_reg.predict(wine_features_test_tr)\n",
    "mean_squared_error(wine_labels_test, quality_test_predictions)"
   ]
  },
  {
   "cell_type": "markdown",
   "id": "d33d9d6d-b955-49a9-a54f-d9f1c41fc012",
   "metadata": {},
   "source": [
    "Let's visualize the error between the actual and predicted values."
   ]
  },
  {
   "cell_type": "code",
   "execution_count": 34,
   "id": "ebd788b8-38e4-47e4-a037-a68126e708d9",
   "metadata": {},
   "outputs": [
    {
     "data": {
      "text/plain": [
       "Text(0, 0.5, 'Predicted quality')"
      ]
     },
     "execution_count": 34,
     "metadata": {},
     "output_type": "execute_result"
    },
    {
     "data": {
      "image/png": "[encoded data removed]",
      "text/plain": [
       "<Figure size 432x288 with 1 Axes>"
      ]
     },
     "metadata": {
      "needs_background": "light"
     },
     "output_type": "display_data"
    }
   ],
   "source": [
    "plt.scatter(wine_labels_test, quality_test_predictions)\n",
    "plt.plot(wine_labels_test, wine_labels_test, 'r-')\n",
    "plt.xlabel('Actual quality')\n",
    "plt.ylabel('Predicted quality')"
   ]
  },
  {
   "cell_type": "markdown",
   "id": "71c373db-aff0-40dd-bf68-b308183ee939",
   "metadata": {},
   "source": [
    "*The model seem to be making errors on the best and poor quality wines*.\n",
    "\n",
    "**Let's try another model: `DecisionTreeRegressor`**."
   ]
  },
  {
   "cell_type": "code",
   "execution_count": 35,
   "id": "149a7404-fdbe-4842-a23f-77eeadc47e42",
   "metadata": {},
   "outputs": [
    {
     "data": {
      "text/plain": [
       "DecisionTreeRegressor()"
      ]
     },
     "execution_count": 35,
     "metadata": {},
     "output_type": "execute_result"
    }
   ],
   "source": [
    "from sklearn.tree import DecisionTreeRegressor\n",
    "tree_reg = DecisionTreeRegressor()\n",
    "tree_reg.fit(wine_features_tr, wine_labels)"
   ]
  },
  {
   "cell_type": "code",
   "execution_count": 36,
   "id": "6745b998-d4c6-4bc2-9cb0-43782a2d8a2f",
   "metadata": {},
   "outputs": [
    {
     "data": {
      "text/plain": [
       "0.0"
      ]
     },
     "execution_count": 36,
     "metadata": {},
     "output_type": "execute_result"
    }
   ],
   "source": [
    "# training error\n",
    "quality_predictions = tree_reg.predict(wine_features_tr)\n",
    "mean_squared_error(wine_labels, quality_predictions)"
   ]
  },
  {
   "cell_type": "code",
   "execution_count": 37,
   "id": "9b8d5765-83ef-4501-ac2c-ae3781cd096c",
   "metadata": {},
   "outputs": [
    {
     "data": {
      "text/plain": [
       "0.640625"
      ]
     },
     "execution_count": 37,
     "metadata": {},
     "output_type": "execute_result"
    }
   ],
   "source": [
    "# test error\n",
    "quality_test_predictions = tree_reg.predict(wine_features_test_tr)\n",
    "mean_squared_error(wine_labels_test, quality_test_predictions)"
   ]
  },
  {
   "cell_type": "markdown",
   "id": "34df0b75-79fd-4af5-a963-562fd17da454",
   "metadata": {},
   "source": [
    "Note that the training error is 0, while the test error is 0.62.  \n",
    "This is an example of an overfitted model."
   ]
  },
  {
   "cell_type": "code",
   "execution_count": 38,
   "id": "855314f3-4d62-4a88-9966-e0f8d29c3eb8",
   "metadata": {},
   "outputs": [
    {
     "data": {
      "text/plain": [
       "Text(0, 0.5, 'Predicted quality')"
      ]
     },
     "execution_count": 38,
     "metadata": {},
     "output_type": "execute_result"
    },
    {
     "data": {
      "image/png": "[encoded data removed]",
      "text/plain": [
       "<Figure size 432x288 with 1 Axes>"
      ]
     },
     "metadata": {
      "needs_background": "light"
     },
     "output_type": "display_data"
    }
   ],
   "source": [
    "plt.scatter(wine_labels_test, quality_test_predictions)\n",
    "plt.plot(wine_labels_test, wine_labels_test, 'r-')\n",
    "plt.xlabel('Actual quality')\n",
    "plt.ylabel('Predicted quality')"
   ]
  },
  {
   "cell_type": "markdown",
   "id": "bdf59f46-9565-4901-aa09-db46a4e570ba",
   "metadata": {},
   "source": [
    "*You can see that the predictions are all over the place*"
   ]
  },
  {
   "cell_type": "markdown",
   "id": "6e14f218-18bc-445f-a8b9-475956d7a23f",
   "metadata": {},
   "source": [
    "#### We can use **cross-validation** (CV) for robust evaluation of model performance."
   ]
  },
  {
   "cell_type": "code",
   "execution_count": 39,
   "id": "e2f0aa3e-222c-4fbf-9643-4d3abcaa57d2",
   "metadata": {},
   "outputs": [],
   "source": [
    "from sklearn.model_selection import cross_val_score"
   ]
  },
  {
   "cell_type": "markdown",
   "id": "f5c6b81d-1f01-41e2-9bd5-030bea2892af",
   "metadata": {},
   "source": [
    "* Cross validation provides a separate MSE for each validation set, which we can use to get a mean estimation of MSE as well as the standard deviation, which helps us to determine how precise is the estimate\n",
    "* The additional cost we pay in cross validation is additional training runs, which may be too expensive in certain cases."
   ]
  },
  {
   "cell_type": "code",
   "execution_count": 40,
   "id": "1d84d931-5484-445d-bfbe-32c2a2f68140",
   "metadata": {},
   "outputs": [],
   "source": [
    "def display_scores(scores):\n",
    "    print(\"Scores: \", scores)\n",
    "    print(\"Mean: \", scores.mean())\n",
    "    print(\"Standard deviation: \", scores.std())"
   ]
  },
  {
   "cell_type": "code",
   "execution_count": 41,
   "id": "876a73d8-db43-4ec5-824d-2cb51c6b9e4f",
   "metadata": {},
   "outputs": [
    {
     "name": "stdout",
     "output_type": "stream",
     "text": [
      "Scores:  [0.56364537 0.4429824  0.38302744 0.40166681 0.29687635 0.37322622\n",
      " 0.33184855 0.50182048 0.51661311 0.50468542]\n",
      "Mean:  0.431639217212196\n",
      "Standard deviation:  0.08356359730413969\n"
     ]
    }
   ],
   "source": [
    "# Linear Regression CV\n",
    "scores = cross_val_score(lin_reg, wine_features_tr, wine_labels, scoring=\"neg_mean_squared_error\", cv=10)\n",
    "lin_reg_mse_scores = -scores\n",
    "display_scores(lin_reg_mse_scores)"
   ]
  },
  {
   "cell_type": "code",
   "execution_count": 42,
   "id": "0fad6d6d-7769-42a8-a4e1-f93a2ed4cb45",
   "metadata": {},
   "outputs": [
    {
     "name": "stdout",
     "output_type": "stream",
     "text": [
      "Scores:  [0.5625     0.71875    0.6171875  0.5546875  0.4296875  0.515625\n",
      " 0.6015625  0.734375   0.8515625  0.97637795]\n",
      "Mean:  0.6562315452755906\n",
      "Standard deviation:  0.15664137496561015\n"
     ]
    }
   ],
   "source": [
    "# Decision Tree CV\n",
    "scores = cross_val_score(tree_reg, wine_features_tr, wine_labels, scoring='neg_mean_squared_error', cv=10)\n",
    "tree_mse_scores = -scores\n",
    "display_scores(tree_mse_scores)"
   ]
  },
  {
   "cell_type": "markdown",
   "id": "ff97c682-c183-4d59-a2f2-2db044b0e3fc",
   "metadata": {},
   "source": [
    "***Since the mean and standard deviation of LinReg is smaller than that of DT, LinReg has better MSE and more precise estimation compared to DT.***"
   ]
  },
  {
   "cell_type": "markdown",
   "id": "22ab37a9-a4aa-488c-8946-72fb216abe5d",
   "metadata": {},
   "source": [
    "#### Random forest CV\n",
    "Ensemble learning methods have often found to improve the performance of ML models."
   ]
  },
  {
   "cell_type": "code",
   "execution_count": 43,
   "id": "acb8eae4-639f-4527-a549-53a1c8b84cd3",
   "metadata": {},
   "outputs": [
    {
     "name": "stdout",
     "output_type": "stream",
     "text": [
      "Scores:  [0.5625     0.71875    0.6171875  0.5546875  0.4296875  0.515625\n",
      " 0.6015625  0.734375   0.8515625  0.97637795]\n",
      "Mean:  0.6562315452755906\n",
      "Standard deviation:  0.15664137496561015\n"
     ]
    }
   ],
   "source": [
    "from sklearn.ensemble import RandomForestRegressor\n",
    "\n",
    "forest_reg = RandomForestRegressor()\n",
    "forest_reg.fit(wine_features_tr, wine_labels)\n",
    "\n",
    "scores = cross_val_score(forest_reg, wine_features_tr, wine_labels, scoring='neg_mean_squared_error', cv=10)\n",
    "forest_mse_scores = -scores\n",
    "display_scores(tree_mse_scores)"
   ]
  },
  {
   "cell_type": "markdown",
   "id": "f15a3dd5-d109-4e8f-be0e-fc1d1d12966c",
   "metadata": {},
   "source": [
    "*There could be some error in this case, but you'll see that the MSE and variability is less than the previous 2 models*"
   ]
  },
  {
   "cell_type": "code",
   "execution_count": 44,
   "id": "61a4453e-7829-4a1a-9ecd-96d7f619b92a",
   "metadata": {},
   "outputs": [
    {
     "data": {
      "text/plain": [
       "0.341285625"
      ]
     },
     "execution_count": 44,
     "metadata": {},
     "output_type": "execute_result"
    }
   ],
   "source": [
    "# Calulate and plot the MSE on test set\n",
    "quality_test_predictions = forest_reg.predict(wine_features_test_tr)\n",
    "mean_squared_error(wine_labels_test, quality_test_predictions)"
   ]
  },
  {
   "cell_type": "code",
   "execution_count": 45,
   "id": "06c8fcba-aefd-4664-ad0d-5fdcfbf03904",
   "metadata": {},
   "outputs": [
    {
     "data": {
      "text/plain": [
       "Text(0, 0.5, 'Predicted quality')"
      ]
     },
     "execution_count": 45,
     "metadata": {},
     "output_type": "execute_result"
    },
    {
     "data": {
      "image/png": "[encoded data removed]",
      "text/plain": [
       "<Figure size 432x288 with 1 Axes>"
      ]
     },
     "metadata": {
      "needs_background": "light"
     },
     "output_type": "display_data"
    }
   ],
   "source": [
    "plt.scatter(wine_labels_test, quality_test_predictions)\n",
    "plt.plot(wine_labels_test, wine_labels_test, 'r-')\n",
    "plt.xlabel('Actual quality')\n",
    "plt.ylabel('Predicted quality')"
   ]
  },
  {
   "cell_type": "markdown",
   "id": "33e8edd4-36d6-470f-86b6-42b2c08fb293",
   "metadata": {},
   "source": [
    "Random forest looks more promising than the other two models.\n",
    "* It's a good practice to build a few such models quickly without tuning their hyperparameters and shortlist a few promising models among them.\n",
    "* Also save the models to the disk in Python ***pickle*** format."
   ]
  },
  {
   "cell_type": "markdown",
   "id": "9b9c885e-3509-4244-9c98-fb67f38a2167",
   "metadata": {},
   "source": [
    "# Step 6: Finetune your model\n",
    "* Usually there are a number of hyperparameters in the model, which are set manually.\n",
    "* Tuning these hyperparameters leads to better accuracy of ML models.\n",
    "* Finding the best combination of hyperparameters is a search problem in the huge space of hyperparameters."
   ]
  },
  {
   "cell_type": "markdown",
   "id": "bfcc0625-8996-43d2-9e9d-ba78d57f94de",
   "metadata": {},
   "source": [
    "#### Grid search\n",
    "* Scikit-Learn provides a class `GridSearchCV` that helps us in this pursuit.\n",
    "* We need to specify a list of hyperparameters along with the range of values to try.\n",
    "* It automatically evaluates all possible combinations of hyperparameter values using cross-validation.\n",
    "\n",
    "Let's perform Grid search in **RandomForest regression**:  \n",
    "There are number of hyperparameters in RandomForest regression such as:\n",
    "  * Number of estimators\n",
    "  * Maximum number of features"
   ]
  },
  {
   "cell_type": "code",
   "execution_count": 46,
   "id": "ed54afac-cafd-4fba-9eb2-fa2e5be87d73",
   "metadata": {},
   "outputs": [],
   "source": [
    "from sklearn.model_selection import GridSearchCV\n",
    "\n",
    "param_grid = [\n",
    "    {'n_estimators': [3, 10, 30], 'max_features': [2, 4, 6, 8]},\n",
    "    {'bootstrap': [False], 'n_estimators':[3, 10], 'max_features': [2, 3, 4]},\n",
    "]"
   ]
  },
  {
   "cell_type": "markdown",
   "id": "abedf05a-03e9-4bcd-a5f6-3713b94bab63",
   "metadata": {},
   "source": [
    "Here the parameter grid contains two combinations:\n",
    "1. This first combination contains *n_estimators* with 3 values and max_features with 4 values.\n",
    "2. The second combination has an additional *bootstrap* parameter, which is set to False. Note that is was set to its default value, which is True, in the first grid.\n",
    "\n",
    "Let's compute the total combinations evaluated here:\n",
    "1. The first one results in 3x4 = 12 combinations\n",
    "2. The second one has 2x3 = 6 combinations\n",
    "Total number of combinations evaluated by the parameter grid 12+6 = 18"
   ]
  },
  {
   "cell_type": "code",
   "execution_count": 47,
   "id": "c7772b47-96b4-41aa-9234-31799f77b086",
   "metadata": {},
   "outputs": [],
   "source": [
    "grid_search = GridSearchCV(forest_reg, param_grid, cv=5, scoring='neg_mean_squared_error', return_train_score=True)"
   ]
  },
  {
   "cell_type": "markdown",
   "id": "2d9470d6-6363-465d-b410-4bf61faa5b5f",
   "metadata": {},
   "source": [
    "* In this case, we set cv=5 i.e. using 5 fold cross validation for training the model.\n",
    "* The total model training runs = 18x5 = 90"
   ]
  },
  {
   "cell_type": "code",
   "execution_count": 48,
   "id": "0f7ca42c-8fff-4af7-b6ac-f3678a92e467",
   "metadata": {},
   "outputs": [
    {
     "data": {
      "text/plain": [
       "GridSearchCV(cv=5, estimator=RandomForestRegressor(),\n",
       "             param_grid=[{'max_features': [2, 4, 6, 8],\n",
       "                          'n_estimators': [3, 10, 30]},\n",
       "                         {'bootstrap': [False], 'max_features': [2, 3, 4],\n",
       "                          'n_estimators': [3, 10]}],\n",
       "             return_train_score=True, scoring='neg_mean_squared_error')"
      ]
     },
     "execution_count": 48,
     "metadata": {},
     "output_type": "execute_result"
    }
   ],
   "source": [
    "grid_search.fit(wine_features_tr, wine_labels)"
   ]
  },
  {
   "cell_type": "code",
   "execution_count": 49,
   "id": "1ece968f-20cd-4486-87a3-789e9cdafc06",
   "metadata": {},
   "outputs": [
    {
     "data": {
      "text/plain": [
       "{'max_features': 2, 'n_estimators': 30}"
      ]
     },
     "execution_count": 49,
     "metadata": {},
     "output_type": "execute_result"
    }
   ],
   "source": [
    "# The best parameter combination can be obtained as follows:\n",
    "grid_search.best_params_"
   ]
  },
  {
   "cell_type": "code",
   "execution_count": 50,
   "id": "abd4fe1d-01a7-4dc4-8934-a45625332410",
   "metadata": {
    "tags": []
   },
   "outputs": [
    {
     "name": "stdout",
     "output_type": "stream",
     "text": [
      "0.4919580610021786 {'max_features': 2, 'n_estimators': 3}\n",
      "0.3814335784313725 {'max_features': 2, 'n_estimators': 10}\n",
      "0.3547548883442265 {'max_features': 2, 'n_estimators': 30}\n",
      "0.44697269880174284 {'max_features': 4, 'n_estimators': 3}\n",
      "0.3772690870098038 {'max_features': 4, 'n_estimators': 10}\n",
      "0.3604897399237473 {'max_features': 4, 'n_estimators': 30}\n",
      "0.4968433415032679 {'max_features': 6, 'n_estimators': 3}\n",
      "0.3867770526960784 {'max_features': 6, 'n_estimators': 10}\n",
      "0.3676872344771242 {'max_features': 6, 'n_estimators': 30}\n",
      "0.48534211601307187 {'max_features': 8, 'n_estimators': 3}\n",
      "0.3875621323529411 {'max_features': 8, 'n_estimators': 10}\n",
      "0.36646243872549017 {'max_features': 8, 'n_estimators': 30}\n",
      "0.4557223583877995 {'bootstrap': False, 'max_features': 2, 'n_estimators': 3}\n",
      "0.368733118872549 {'bootstrap': False, 'max_features': 2, 'n_estimators': 10}\n",
      "0.47380276416121997 {'bootstrap': False, 'max_features': 3, 'n_estimators': 3}\n",
      "0.38538455882352946 {'bootstrap': False, 'max_features': 3, 'n_estimators': 10}\n",
      "0.465962350217865 {'bootstrap': False, 'max_features': 4, 'n_estimators': 3}\n",
      "0.3744747549019608 {'bootstrap': False, 'max_features': 4, 'n_estimators': 10}\n"
     ]
    }
   ],
   "source": [
    "# The error at different parameter settings:\n",
    "cvres = grid_search.cv_results_\n",
    "for mean_score, params in zip(cvres['mean_test_score'], cvres['params']):\n",
    "    print(-mean_score, params)"
   ]
  },
  {
   "cell_type": "code",
   "execution_count": 51,
   "id": "70a00c4c-b3e9-44e5-b7be-66b5138a632a",
   "metadata": {},
   "outputs": [
    {
     "data": {
      "text/plain": [
       "RandomForestRegressor(max_features=2, n_estimators=30)"
      ]
     },
     "execution_count": 51,
     "metadata": {},
     "output_type": "execute_result"
    }
   ],
   "source": [
    "# Obtain the best estimator as follows:\n",
    "grid_search.best_estimator_"
   ]
  },
  {
   "cell_type": "markdown",
   "id": "bd706693-732c-4b7d-988d-f0ea1e2ee95d",
   "metadata": {
    "tags": []
   },
   "source": [
    "**Note**: `GridSearchCV` is initialised with *refit=True* option, which retrains the best estimator on the full training set. This is likely to lead us to a better model as it is trained on a larger dataset."
   ]
  },
  {
   "cell_type": "markdown",
   "id": "eb371436-7561-486a-8b28-ac5f6f603ff3",
   "metadata": {},
   "source": [
    "#### Randomized Search\n",
    "* When we have a large hyperparameter space, it is desirable to try `RandomizedSearchCV`.\n",
    "* It selects a random value for each hyperparameter at the start of each iteration and repeats the process for a given number of random combinations.\n",
    "* It enables us to search hyperparameter space with appropriate budget control.\n",
    "\n",
    "```python\n",
    "from sklearn.model_selection import RandomizedSearchCV\n",
    "```"
   ]
  },
  {
   "cell_type": "markdown",
   "id": "f21e3afc-2249-425e-b29a-b48da7ccb8bb",
   "metadata": {},
   "source": [
    "#### Analysis of best model and its error\n",
    "Analysis of model provides useful insights about features.  \n",
    "Let's obtain the feature importance as learnt by the model:"
   ]
  },
  {
   "cell_type": "code",
   "execution_count": 52,
   "id": "5dec7d80-58fd-4200-beec-e16b017466fe",
   "metadata": {},
   "outputs": [
    {
     "data": {
      "text/plain": [
       "[(0.17610605293048073, 'alcohol'),\n",
       " (0.1335115343175319, 'sulphates'),\n",
       " (0.11611009204742148, 'volatile acidity'),\n",
       " (0.0917087389284074, 'total sulfur dioxide'),\n",
       " (0.08869818255047993, 'density'),\n",
       " (0.07219389366912266, 'chlorides'),\n",
       " (0.07109664589754003, 'citric acid'),\n",
       " (0.07050036282038287, 'fixed acidity'),\n",
       " (0.06468204452841878, 'pH'),\n",
       " (0.05936426311452416, 'residual sugar'),\n",
       " (0.05602818919569005, 'free sulfur dioxide')]"
      ]
     },
     "execution_count": 52,
     "metadata": {},
     "output_type": "execute_result"
    }
   ],
   "source": [
    "feature_importances = grid_search.best_estimator_.feature_importances_\n",
    "\n",
    "sorted(zip(feature_importances, feature_list), reverse=True)"
   ]
  },
  {
   "cell_type": "markdown",
   "id": "09ab2ae9-ac72-4010-af21-ede5572e4d8f",
   "metadata": {},
   "source": [
    "* Based on this information, we may drop features that are not so important, and repeat the entire process on the reduced feature set.\n",
    "* It is also useful to analyze the errors in prediction and understand its causes and fix them. (take help from domain experts)"
   ]
  },
  {
   "cell_type": "markdown",
   "id": "fcbc7dc5-ba24-4ba4-85d0-42b3aad26321",
   "metadata": {},
   "source": [
    "#### Evaluation on test set\n",
    "Now that we have a reasonable model, we evaluate its performance based on the test set.  \n",
    "The following steps are involved in the process:"
   ]
  },
  {
   "cell_type": "markdown",
   "id": "a4da25e6-d791-4d83-b38b-a847b43ede7b",
   "metadata": {},
   "source": [
    "1. Transform the test features."
   ]
  },
  {
   "cell_type": "code",
   "execution_count": 53,
   "id": "75bf563f-ed7a-4c93-98d3-d58bb685480b",
   "metadata": {},
   "outputs": [],
   "source": [
    "# Copy all the features leaving aside the label.\n",
    "wine_features_test = strat_test_set.drop('quality', axis=1)\n",
    "\n",
    "# Copyt the label list\n",
    "wine_labels_test = strat_test_set['quality'].copy()\n",
    "\n",
    "# Apply transformations\n",
    "wine_features_test_tr = transform_pipeline.fit_transform(wine_features_test)"
   ]
  },
  {
   "cell_type": "markdown",
   "id": "916385f9-11c1-445f-94bb-e1374a1ffe4b",
   "metadata": {},
   "source": [
    "2. Use the predict method with the trained model and the transformed test set."
   ]
  },
  {
   "cell_type": "code",
   "execution_count": 54,
   "id": "744f91df-56ff-4013-bb10-fb4d0d4625ab",
   "metadata": {},
   "outputs": [],
   "source": [
    "quality_test_predictions = grid_search.best_estimator_.predict(wine_features_test_tr)"
   ]
  },
  {
   "cell_type": "markdown",
   "id": "83188103-6906-47a1-9317-6e59669615cf",
   "metadata": {},
   "source": [
    "3. Compare the predicted labels with the actual ones and report the evaluation metrics."
   ]
  },
  {
   "cell_type": "code",
   "execution_count": 55,
   "id": "13f2ce54-49ef-43a6-8ca1-6b24b415d87b",
   "metadata": {},
   "outputs": [
    {
     "data": {
      "text/plain": [
       "0.3481006944444444"
      ]
     },
     "execution_count": 55,
     "metadata": {},
     "output_type": "execute_result"
    }
   ],
   "source": [
    "mean_squared_error(wine_labels_test, quality_test_predictions)"
   ]
  },
  {
   "cell_type": "markdown",
   "id": "d212ecd9-d0aa-4afe-beb1-480dcd33798d",
   "metadata": {},
   "source": [
    "4. It is a good idea to get 95% confidence interval of the evaluation metric. It can be obtained by the following code:"
   ]
  },
  {
   "cell_type": "code",
   "execution_count": 56,
   "id": "f2915a56-f97e-430f-9442-70967f95b03e",
   "metadata": {},
   "outputs": [
    {
     "data": {
      "text/plain": [
       "(0.2838823609261543, 0.4123190279627345)"
      ]
     },
     "execution_count": 56,
     "metadata": {},
     "output_type": "execute_result"
    }
   ],
   "source": [
    "from scipy import stats\n",
    "confidence = 0.95\n",
    "squared_errors = (wine_labels_test - quality_test_predictions) ** 2\n",
    "stats.t.interval(confidence, len(squared_errors)-1, loc=squared_errors.mean(), scale=stats.sem(squared_errors))"
   ]
  },
  {
   "cell_type": "markdown",
   "id": "7f8b861c-867e-4094-867c-0455b9625809",
   "metadata": {},
   "source": [
    "# Step 7: Present your solution\n",
    "Once we have a satisfactory model based on its performance on the test set, we reach the prelaunch phase.\n",
    "1. Before launch we need to present our solution which highlights learnings, assumptions and systems limitation.\n",
    "2. Document everything, create clear visualizations and present the model.\n",
    "3. In case, the model does not work better than the experts, it may still be a good idea to launch it and free up bandwidths of human experts."
   ]
  },
  {
   "cell_type": "markdown",
   "id": "8b1dddaa-d7fe-40b1-b42d-3c4c8fe92e43",
   "metadata": {},
   "source": [
    "# Step 8: Launch, monitor and maintain your system\n",
    "Launch\n",
    "* Plug in input sources and\n",
    "* write test cases\n",
    "\n",
    "Monitoring\n",
    "* System outages\n",
    "* Degradation of model performance\n",
    "* Sampling predictions for human evaluation\n",
    "* Regular assessment of data quality, which is critical for model perfomance\n",
    "\n",
    "Maintainance\n",
    "* Train model regularly every fixed interval with fresh data.\n",
    "* Production roll out of the model."
   ]
  },
  {
   "cell_type": "code",
   "execution_count": null,
   "id": "c23e0438-11e6-4583-9aa2-fee5b227e5bf",
   "metadata": {},
   "outputs": [],
   "source": []
  }
 ],
 "metadata": {
  "interpreter": {
   "hash": "aee8b7b246df8f9039afb4144a1f6fd8d2ca17a180786b69acc140d282b71a49"
  },
  "kernelspec": {
   "display_name": "Python 3.10.4 64-bit",
   "language": "python",
   "name": "python3"
  },
  "language_info": {
   "codemirror_mode": {
    "name": "ipython",
    "version": 3
   },
   "file_extension": ".py",
   "mimetype": "text/x-python",
   "name": "python",
   "nbconvert_exporter": "python",
   "pygments_lexer": "ipython3",
   "version": "3.10.4"
  }
 },
 "nbformat": 4,
 "nbformat_minor": 5
}
