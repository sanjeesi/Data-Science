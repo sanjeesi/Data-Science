{
 "cells": [
  {
   "cell_type": "markdown",
   "id": "8cabad2c-971a-4656-b98a-65bf0399c56a",
   "metadata": {},
   "source": [
    "# Introduction to Scikit-Learn (sklearn)"
   ]
  },
  {
   "cell_type": "markdown",
   "id": "68c65390-18df-45fc-b31a-bbceb8d71766",
   "metadata": {},
   "source": [
    "## `sklearn` dataset API\n",
    "The objective of this notebook is to demonstrate `sklearn` dataset API.\n",
    "It has three APIs:\n",
    "1. Loaders (`load_*`) load small standard datasets bundled with `sklearn`.\n",
    "2. Fetchers (`fetch_*`) fetch large datasets from the internet and loads them in memory.\n",
    "3. Generators (`generate_*`) generate controlled synthetic datasets.\n",
    "\n",
    "Loaders and fetchers return a `bunch` object and generators return a tuple of feature matrix and label vector (or matrix).\n",
    "Loaders and fetchers can also return a tuple of feature matrix and label vector if we set the agrument `return_X_y=True`"
   ]
  },
  {
   "cell_type": "markdown",
   "id": "5565e126-0464-4d01-9ff5-cd0c9dda1e74",
   "metadata": {},
   "source": [
    "## Loaders\n",
    "### Loading iris dataset"
   ]
  },
  {
   "cell_type": "code",
   "execution_count": 1,
   "id": "1fce62d6-5aef-4eb5-a8f4-92555ab19ca6",
   "metadata": {},
   "outputs": [],
   "source": [
    "from sklearn.datasets import load_iris\n",
    "data = load_iris()"
   ]
  },
  {
   "cell_type": "markdown",
   "id": "025122d4-0ac4-42aa-82d4-8307bae27502",
   "metadata": {},
   "source": [
    "This returns a `Bunch` object `data` which is a dictionary like object with the following attributes:\n",
    "* `data`, which has the feature matrix.\n",
    "* `target`, which has the label vector.\n",
    "* `feature_names` contain the names of the features.\n",
    "* `target_names` contain the names of the classes.\n",
    "* `DESCR` has the full description of the dataset.\n",
    "* `filename` has the path to the location of the data."
   ]
  },
  {
   "cell_type": "code",
   "execution_count": 2,
   "id": "1aa61047-7c17-492c-99b9-eb03e0d48a78",
   "metadata": {},
   "outputs": [
    {
     "data": {
      "text/plain": [
       "sklearn.utils.Bunch"
      ]
     },
     "execution_count": 2,
     "metadata": {},
     "output_type": "execute_result"
    }
   ],
   "source": [
    "type(data)"
   ]
  },
  {
   "cell_type": "markdown",
   "id": "09b88c2d-f360-478c-8a94-5dbb93105608",
   "metadata": {},
   "source": [
    "We can access them one by one and examine their contents:"
   ]
  },
  {
   "cell_type": "code",
   "execution_count": 3,
   "id": "323ef068-476a-4433-88f3-d0399eebe78e",
   "metadata": {},
   "outputs": [
    {
     "data": {
      "text/plain": [
       "['sepal length (cm)',\n",
       " 'sepal width (cm)',\n",
       " 'petal length (cm)',\n",
       " 'petal width (cm)']"
      ]
     },
     "execution_count": 3,
     "metadata": {},
     "output_type": "execute_result"
    }
   ],
   "source": [
    "data.feature_names"
   ]
  },
  {
   "cell_type": "code",
   "execution_count": 4,
   "id": "80e0865e-48e3-479b-8281-ef7ba867a90f",
   "metadata": {},
   "outputs": [
    {
     "data": {
      "text/plain": [
       "array(['setosa', 'versicolor', 'virginica'], dtype='<U10')"
      ]
     },
     "execution_count": 4,
     "metadata": {},
     "output_type": "execute_result"
    }
   ],
   "source": [
    "data.target_names"
   ]
  },
  {
   "cell_type": "code",
   "execution_count": 6,
   "id": "43d094f7-3f71-4ba8-9e50-ce00b8e78d55",
   "metadata": {},
   "outputs": [
    {
     "data": {
      "text/plain": [
       "array([[5.1, 3.5, 1.4, 0.2],\n",
       "       [4.9, 3. , 1.4, 0.2],\n",
       "       [4.7, 3.2, 1.3, 0.2],\n",
       "       [4.6, 3.1, 1.5, 0.2],\n",
       "       [5. , 3.6, 1.4, 0.2]])"
      ]
     },
     "execution_count": 6,
     "metadata": {},
     "output_type": "execute_result"
    }
   ],
   "source": [
    "# Let's look at the first five examples in feature matrix\n",
    "data.data[:5]"
   ]
  },
  {
   "cell_type": "markdown",
   "id": "82acb482-dcfe-4fc4-849f-b298d0a632b5",
   "metadata": {},
   "source": [
    "We can observe 4 features per example"
   ]
  },
  {
   "cell_type": "code",
   "execution_count": 7,
   "id": "d661dbd5-9294-4291-a065-cee382028fbb",
   "metadata": {},
   "outputs": [
    {
     "data": {
      "text/plain": [
       "(150, 4)"
      ]
     },
     "execution_count": 7,
     "metadata": {},
     "output_type": "execute_result"
    }
   ],
   "source": [
    "data.data.shape"
   ]
  },
  {
   "cell_type": "code",
   "execution_count": 8,
   "id": "07e7bb8c-16f2-491c-a2d0-75a3ea78b613",
   "metadata": {},
   "outputs": [
    {
     "data": {
      "text/plain": [
       "array([0, 0, 0, 0, 0, 0, 0, 0, 0, 0, 0, 0, 0, 0, 0, 0, 0, 0, 0, 0, 0, 0,\n",
       "       0, 0, 0, 0, 0, 0, 0, 0, 0, 0, 0, 0, 0, 0, 0, 0, 0, 0, 0, 0, 0, 0,\n",
       "       0, 0, 0, 0, 0, 0, 1, 1, 1, 1, 1, 1, 1, 1, 1, 1, 1, 1, 1, 1, 1, 1,\n",
       "       1, 1, 1, 1, 1, 1, 1, 1, 1, 1, 1, 1, 1, 1, 1, 1, 1, 1, 1, 1, 1, 1,\n",
       "       1, 1, 1, 1, 1, 1, 1, 1, 1, 1, 1, 1, 2, 2, 2, 2, 2, 2, 2, 2, 2, 2,\n",
       "       2, 2, 2, 2, 2, 2, 2, 2, 2, 2, 2, 2, 2, 2, 2, 2, 2, 2, 2, 2, 2, 2,\n",
       "       2, 2, 2, 2, 2, 2, 2, 2, 2, 2, 2, 2, 2, 2, 2, 2, 2, 2])"
      ]
     },
     "execution_count": 8,
     "metadata": {},
     "output_type": "execute_result"
    }
   ],
   "source": [
    "data.target"
   ]
  },
  {
   "cell_type": "code",
   "execution_count": 9,
   "id": "ce3ac300-2112-46ea-89e3-700087ad6a64",
   "metadata": {},
   "outputs": [
    {
     "data": {
      "text/plain": [
       "(150,)"
      ]
     },
     "execution_count": 9,
     "metadata": {},
     "output_type": "execute_result"
    }
   ],
   "source": [
    "data.target.shape"
   ]
  },
  {
   "cell_type": "markdown",
   "id": "cdb02cbb-9815-41a1-80ee-f0bc474124c7",
   "metadata": {},
   "source": [
    "We can read addition documentation about `load_iris` in the following manner:"
   ]
  },
  {
   "cell_type": "code",
   "execution_count": 12,
   "id": "9ef42528-7430-4da6-bb94-5bbb8f8a4399",
   "metadata": {},
   "outputs": [
    {
     "data": {
      "text/plain": [
       "'.. _iris_dataset:\\n\\nIris plants dataset\\n--------------------\\n\\n**Data Set Characteristics:**\\n\\n    :Number of Instances: 150 (50 in each of three classes)\\n    :Number of Attributes: 4 numeric, predictive attributes and the class\\n    :Attribute Information:\\n        - sepal length in cm\\n        - sepal width in cm\\n        - petal length in cm\\n        - petal width in cm\\n        - class:\\n                - Iris-Setosa\\n                - Iris-Versicolour\\n                - Iris-Virginica\\n                \\n    :Summary Statistics:\\n\\n    ============== ==== ==== ======= ===== ====================\\n                    Min  Max   Mean    SD   Class Correlation\\n    ============== ==== ==== ======= ===== ====================\\n    sepal length:   4.3  7.9   5.84   0.83    0.7826\\n    sepal width:    2.0  4.4   3.05   0.43   -0.4194\\n    petal length:   1.0  6.9   3.76   1.76    0.9490  (high!)\\n    petal width:    0.1  2.5   1.20   0.76    0.9565  (high!)\\n    ============== ==== ==== ======= ===== ====================\\n\\n    :Missing Attribute Values: None\\n    :Class Distribution: 33.3% for each of 3 classes.\\n    :Creator: R.A. Fisher\\n    :Donor: Michael Marshall (MARSHALL%PLU@io.arc.nasa.gov)\\n    :Date: July, 1988\\n\\nThe famous Iris database, first used by Sir R.A. Fisher. The dataset is taken\\nfrom Fisher\\'s paper. Note that it\\'s the same as in R, but not as in the UCI\\nMachine Learning Repository, which has two wrong data points.\\n\\nThis is perhaps the best known database to be found in the\\npattern recognition literature.  Fisher\\'s paper is a classic in the field and\\nis referenced frequently to this day.  (See Duda & Hart, for example.)  The\\ndata set contains 3 classes of 50 instances each, where each class refers to a\\ntype of iris plant.  One class is linearly separable from the other 2; the\\nlatter are NOT linearly separable from each other.\\n\\n.. topic:: References\\n\\n   - Fisher, R.A. \"The use of multiple measurements in taxonomic problems\"\\n     Annual Eugenics, 7, Part II, 179-188 (1936); also in \"Contributions to\\n     Mathematical Statistics\" (John Wiley, NY, 1950).\\n   - Duda, R.O., & Hart, P.E. (1973) Pattern Classification and Scene Analysis.\\n     (Q327.D83) John Wiley & Sons.  ISBN 0-471-22361-1.  See page 218.\\n   - Dasarathy, B.V. (1980) \"Nosing Around the Neighborhood: A New System\\n     Structure and Classification Rule for Recognition in Partially Exposed\\n     Environments\".  IEEE Transactions on Pattern Analysis and Machine\\n     Intelligence, Vol. PAMI-2, No. 1, 67-71.\\n   - Gates, G.W. (1972) \"The Reduced Nearest Neighbor Rule\".  IEEE Transactions\\n     on Information Theory, May 1972, 431-433.\\n   - See also: 1988 MLC Proceedings, 54-64.  Cheeseman et al\"s AUTOCLASS II\\n     conceptual clustering system finds 3 classes in the data.\\n   - Many, many more ...'"
      ]
     },
     "execution_count": 12,
     "metadata": {},
     "output_type": "execute_result"
    }
   ],
   "source": [
    "data.DESCR"
   ]
  },
  {
   "cell_type": "code",
   "execution_count": 10,
   "id": "e5e8c6e3-b051-4a4a-a242-3a1b50d1b7ef",
   "metadata": {},
   "outputs": [
    {
     "data": {
      "text/plain": [
       "\u001b[0;31mSignature:\u001b[0m  \u001b[0mload_iris\u001b[0m\u001b[0;34m(\u001b[0m\u001b[0;34m*\u001b[0m\u001b[0;34m,\u001b[0m \u001b[0mreturn_X_y\u001b[0m\u001b[0;34m=\u001b[0m\u001b[0;32mFalse\u001b[0m\u001b[0;34m,\u001b[0m \u001b[0mas_frame\u001b[0m\u001b[0;34m=\u001b[0m\u001b[0;32mFalse\u001b[0m\u001b[0;34m)\u001b[0m\u001b[0;34m\u001b[0m\u001b[0;34m\u001b[0m\u001b[0m\n",
       "\u001b[0;31mDocstring:\u001b[0m\n",
       "Load and return the iris dataset (classification).\n",
       "\n",
       "The iris dataset is a classic and very easy multi-class classification\n",
       "dataset.\n",
       "\n",
       "=================   ==============\n",
       "Classes                          3\n",
       "Samples per class               50\n",
       "Samples total                  150\n",
       "Dimensionality                   4\n",
       "Features            real, positive\n",
       "=================   ==============\n",
       "\n",
       "Read more in the :ref:`User Guide <iris_dataset>`.\n",
       "\n",
       "Parameters\n",
       "----------\n",
       "return_X_y : bool, default=False\n",
       "    If True, returns ``(data, target)`` instead of a Bunch object. See\n",
       "    below for more information about the `data` and `target` object.\n",
       "\n",
       "    .. versionadded:: 0.18\n",
       "\n",
       "as_frame : bool, default=False\n",
       "    If True, the data is a pandas DataFrame including columns with\n",
       "    appropriate dtypes (numeric). The target is\n",
       "    a pandas DataFrame or Series depending on the number of target columns.\n",
       "    If `return_X_y` is True, then (`data`, `target`) will be pandas\n",
       "    DataFrames or Series as described below.\n",
       "\n",
       "    .. versionadded:: 0.23\n",
       "\n",
       "Returns\n",
       "-------\n",
       "data : :class:`~sklearn.utils.Bunch`\n",
       "    Dictionary-like object, with the following attributes.\n",
       "\n",
       "    data : {ndarray, dataframe} of shape (150, 4)\n",
       "        The data matrix. If `as_frame=True`, `data` will be a pandas\n",
       "        DataFrame.\n",
       "    target: {ndarray, Series} of shape (150,)\n",
       "        The classification target. If `as_frame=True`, `target` will be\n",
       "        a pandas Series.\n",
       "    feature_names: list\n",
       "        The names of the dataset columns.\n",
       "    target_names: list\n",
       "        The names of target classes.\n",
       "    frame: DataFrame of shape (150, 5)\n",
       "        Only present when `as_frame=True`. DataFrame with `data` and\n",
       "        `target`.\n",
       "\n",
       "        .. versionadded:: 0.23\n",
       "    DESCR: str\n",
       "        The full description of the dataset.\n",
       "    filename: str\n",
       "        The path to the location of the data.\n",
       "\n",
       "        .. versionadded:: 0.20\n",
       "\n",
       "(data, target) : tuple if ``return_X_y`` is True\n",
       "\n",
       "    .. versionadded:: 0.18\n",
       "\n",
       "Notes\n",
       "-----\n",
       "    .. versionchanged:: 0.20\n",
       "        Fixed two wrong data points according to Fisher's paper.\n",
       "        The new version is the same as in R, but not as in the UCI\n",
       "        Machine Learning Repository.\n",
       "\n",
       "Examples\n",
       "--------\n",
       "Let's say you are interested in the samples 10, 25, and 50, and want to\n",
       "know their class name.\n",
       "\n",
       ">>> from sklearn.datasets import load_iris\n",
       ">>> data = load_iris()\n",
       ">>> data.target[[10, 25, 50]]\n",
       "array([0, 0, 1])\n",
       ">>> list(data.target_names)\n",
       "['setosa', 'versicolor', 'virginica']\n",
       "\u001b[0;31mFile:\u001b[0m      /Library/Frameworks/Python.framework/Versions/3.9/lib/python3.9/site-packages/sklearn/datasets/_base.py\n",
       "\u001b[0;31mType:\u001b[0m      function\n"
      ]
     },
     "metadata": {},
     "output_type": "display_data"
    }
   ],
   "source": [
    "? load_iris"
   ]
  },
  {
   "cell_type": "markdown",
   "id": "dfce7a3a-acf1-4efb-ad1b-b5384e875a20",
   "metadata": {},
   "source": [
    "We can obtain feature matrix and label or target from `load_iris` and other loaders in general by setting `return_X_y` argument to `True`."
   ]
  },
  {
   "cell_type": "code",
   "execution_count": 11,
   "id": "7c50f4ee-1501-4d32-a238-cd06e83df11e",
   "metadata": {},
   "outputs": [
    {
     "name": "stdout",
     "output_type": "stream",
     "text": [
      "Shape of feature matrix:  (150, 4)\n",
      "Shape of label vector:  (150,)\n"
     ]
    }
   ],
   "source": [
    "feature_matrix, label_vector = load_iris(return_X_y=True)\n",
    "print('Shape of feature matrix: ', feature_matrix.shape)\n",
    "print('Shape of label vector: ', label_vector.shape)"
   ]
  },
  {
   "cell_type": "markdown",
   "id": "463a7138-f766-4df7-859f-f12328ed465d",
   "metadata": {},
   "source": [
    "***In this way, we can load and examine different datasets.***  \n",
    "e.g.:  \n",
    "> load_diabetes, load_digits, load_wine, load_breast_cancer, load_linnerud etc."
   ]
  },
  {
   "cell_type": "markdown",
   "id": "7d1bcdac-6cb5-4c21-81f5-a7405abedba8",
   "metadata": {},
   "source": [
    "## Fetchers\n",
    "### `fetch_california_housing`\n",
    "\n",
    "**Step 1**: Import the library and access the documentation."
   ]
  },
  {
   "cell_type": "code",
   "execution_count": 13,
   "id": "99fd77a5-3cfa-430f-896b-46527da307c3",
   "metadata": {
    "collapsed": true,
    "jupyter": {
     "outputs_hidden": true
    },
    "tags": []
   },
   "outputs": [
    {
     "data": {
      "text/plain": [
       "\u001b[0;31mSignature:\u001b[0m\n",
       "\u001b[0mfetch_california_housing\u001b[0m\u001b[0;34m(\u001b[0m\u001b[0;34m\u001b[0m\n",
       "\u001b[0;34m\u001b[0m    \u001b[0;34m*\u001b[0m\u001b[0;34m,\u001b[0m\u001b[0;34m\u001b[0m\n",
       "\u001b[0;34m\u001b[0m    \u001b[0mdata_home\u001b[0m\u001b[0;34m=\u001b[0m\u001b[0;32mNone\u001b[0m\u001b[0;34m,\u001b[0m\u001b[0;34m\u001b[0m\n",
       "\u001b[0;34m\u001b[0m    \u001b[0mdownload_if_missing\u001b[0m\u001b[0;34m=\u001b[0m\u001b[0;32mTrue\u001b[0m\u001b[0;34m,\u001b[0m\u001b[0;34m\u001b[0m\n",
       "\u001b[0;34m\u001b[0m    \u001b[0mreturn_X_y\u001b[0m\u001b[0;34m=\u001b[0m\u001b[0;32mFalse\u001b[0m\u001b[0;34m,\u001b[0m\u001b[0;34m\u001b[0m\n",
       "\u001b[0;34m\u001b[0m    \u001b[0mas_frame\u001b[0m\u001b[0;34m=\u001b[0m\u001b[0;32mFalse\u001b[0m\u001b[0;34m,\u001b[0m\u001b[0;34m\u001b[0m\n",
       "\u001b[0;34m\u001b[0m\u001b[0;34m)\u001b[0m\u001b[0;34m\u001b[0m\u001b[0;34m\u001b[0m\u001b[0m\n",
       "\u001b[0;31mDocstring:\u001b[0m\n",
       "Load the California housing dataset (regression).\n",
       "\n",
       "==============   ==============\n",
       "Samples total             20640\n",
       "Dimensionality                8\n",
       "Features                   real\n",
       "Target           real 0.15 - 5.\n",
       "==============   ==============\n",
       "\n",
       "Read more in the :ref:`User Guide <california_housing_dataset>`.\n",
       "\n",
       "Parameters\n",
       "----------\n",
       "data_home : str, default=None\n",
       "    Specify another download and cache folder for the datasets. By default\n",
       "    all scikit-learn data is stored in '~/scikit_learn_data' subfolders.\n",
       "\n",
       "download_if_missing : bool, default=True\n",
       "    If False, raise a IOError if the data is not locally available\n",
       "    instead of trying to download the data from the source site.\n",
       "\n",
       "\n",
       "return_X_y : bool, default=False.\n",
       "    If True, returns ``(data.data, data.target)`` instead of a Bunch\n",
       "    object.\n",
       "\n",
       "    .. versionadded:: 0.20\n",
       "\n",
       "as_frame : bool, default=False\n",
       "    If True, the data is a pandas DataFrame including columns with\n",
       "    appropriate dtypes (numeric, string or categorical). The target is\n",
       "    a pandas DataFrame or Series depending on the number of target_columns.\n",
       "\n",
       "    .. versionadded:: 0.23\n",
       "\n",
       "Returns\n",
       "-------\n",
       "dataset : :class:`~sklearn.utils.Bunch`\n",
       "    Dictionary-like object, with the following attributes.\n",
       "\n",
       "    data : ndarray, shape (20640, 8)\n",
       "        Each row corresponding to the 8 feature values in order.\n",
       "        If ``as_frame`` is True, ``data`` is a pandas object.\n",
       "    target : numpy array of shape (20640,)\n",
       "        Each value corresponds to the average\n",
       "        house value in units of 100,000.\n",
       "        If ``as_frame`` is True, ``target`` is a pandas object.\n",
       "    feature_names : list of length 8\n",
       "        Array of ordered feature names used in the dataset.\n",
       "    DESCR : string\n",
       "        Description of the California housing dataset.\n",
       "    frame : pandas DataFrame\n",
       "        Only present when `as_frame=True`. DataFrame with ``data`` and\n",
       "        ``target``.\n",
       "\n",
       "        .. versionadded:: 0.23\n",
       "\n",
       "(data, target) : tuple if ``return_X_y`` is True\n",
       "\n",
       "    .. versionadded:: 0.20\n",
       "\n",
       "Notes\n",
       "-----\n",
       "\n",
       "This dataset consists of 20,640 samples and 9 features.\n",
       "\u001b[0;31mFile:\u001b[0m      /Library/Frameworks/Python.framework/Versions/3.9/lib/python3.9/site-packages/sklearn/datasets/_california_housing.py\n",
       "\u001b[0;31mType:\u001b[0m      function\n"
      ]
     },
     "metadata": {},
     "output_type": "display_data"
    }
   ],
   "source": [
    "from sklearn.datasets import fetch_california_housing\n",
    "?fetch_california_housing"
   ]
  },
  {
   "cell_type": "markdown",
   "id": "68fa1e83-f17c-4a43-8db4-90308bcfc8fd",
   "metadata": {},
   "source": [
    "**Step 2**: Call the loader and obtain the `Bunch` object."
   ]
  },
  {
   "cell_type": "code",
   "execution_count": 15,
   "id": "b821ec03-61a7-4423-bd62-0d65fa6e17c1",
   "metadata": {
    "tags": []
   },
   "outputs": [],
   "source": [
    "housing_data = fetch_california_housing()"
   ]
  },
  {
   "cell_type": "markdown",
   "id": "7abdcbae-339f-492e-a735-fef0a6cb1146",
   "metadata": {},
   "source": [
    "**Step 3**: Examine the bunch object."
   ]
  },
  {
   "cell_type": "code",
   "execution_count": 16,
   "id": "e92cc911-ce67-431d-907f-7ea4b661ad11",
   "metadata": {},
   "outputs": [
    {
     "data": {
      "text/plain": [
       "'.. _california_housing_dataset:\\n\\nCalifornia Housing dataset\\n--------------------------\\n\\n**Data Set Characteristics:**\\n\\n    :Number of Instances: 20640\\n\\n    :Number of Attributes: 8 numeric, predictive attributes and the target\\n\\n    :Attribute Information:\\n        - MedInc        median income in block\\n        - HouseAge      median house age in block\\n        - AveRooms      average number of rooms\\n        - AveBedrms     average number of bedrooms\\n        - Population    block population\\n        - AveOccup      average house occupancy\\n        - Latitude      house block latitude\\n        - Longitude     house block longitude\\n\\n    :Missing Attribute Values: None\\n\\nThis dataset was obtained from the StatLib repository.\\nhttp://lib.stat.cmu.edu/datasets/\\n\\nThe target variable is the median house value for California districts.\\n\\nThis dataset was derived from the 1990 U.S. census, using one row per census\\nblock group. A block group is the smallest geographical unit for which the U.S.\\nCensus Bureau publishes sample data (a block group typically has a population\\nof 600 to 3,000 people).\\n\\nIt can be downloaded/loaded using the\\n:func:`sklearn.datasets.fetch_california_housing` function.\\n\\n.. topic:: References\\n\\n    - Pace, R. Kelley and Ronald Barry, Sparse Spatial Autoregressions,\\n      Statistics and Probability Letters, 33 (1997) 291-297\\n'"
      ]
     },
     "execution_count": 16,
     "metadata": {},
     "output_type": "execute_result"
    }
   ],
   "source": [
    "housing_data.DESCR"
   ]
  },
  {
   "cell_type": "code",
   "execution_count": 18,
   "id": "04733331-4953-456f-9787-77cbc2611505",
   "metadata": {},
   "outputs": [
    {
     "data": {
      "text/plain": [
       "(20640, 8)"
      ]
     },
     "execution_count": 18,
     "metadata": {},
     "output_type": "execute_result"
    }
   ],
   "source": [
    "housing_data.data.shape"
   ]
  },
  {
   "cell_type": "code",
   "execution_count": 19,
   "id": "1701e5c1-367a-46a4-9156-1449039217f4",
   "metadata": {},
   "outputs": [
    {
     "data": {
      "text/plain": [
       "array([[ 8.32520000e+00,  4.10000000e+01,  6.98412698e+00,\n",
       "         1.02380952e+00,  3.22000000e+02,  2.55555556e+00,\n",
       "         3.78800000e+01, -1.22230000e+02],\n",
       "       [ 8.30140000e+00,  2.10000000e+01,  6.23813708e+00,\n",
       "         9.71880492e-01,  2.40100000e+03,  2.10984183e+00,\n",
       "         3.78600000e+01, -1.22220000e+02],\n",
       "       [ 7.25740000e+00,  5.20000000e+01,  8.28813559e+00,\n",
       "         1.07344633e+00,  4.96000000e+02,  2.80225989e+00,\n",
       "         3.78500000e+01, -1.22240000e+02],\n",
       "       [ 5.64310000e+00,  5.20000000e+01,  5.81735160e+00,\n",
       "         1.07305936e+00,  5.58000000e+02,  2.54794521e+00,\n",
       "         3.78500000e+01, -1.22250000e+02],\n",
       "       [ 3.84620000e+00,  5.20000000e+01,  6.28185328e+00,\n",
       "         1.08108108e+00,  5.65000000e+02,  2.18146718e+00,\n",
       "         3.78500000e+01, -1.22250000e+02]])"
      ]
     },
     "execution_count": 19,
     "metadata": {},
     "output_type": "execute_result"
    }
   ],
   "source": [
    "housing_data.data[:5]"
   ]
  },
  {
   "cell_type": "code",
   "execution_count": 21,
   "id": "13bde178-d80e-4fcf-9acf-90395159206d",
   "metadata": {},
   "outputs": [
    {
     "data": {
      "text/plain": [
       "(20640,)"
      ]
     },
     "execution_count": 21,
     "metadata": {},
     "output_type": "execute_result"
    }
   ],
   "source": [
    "housing_data.target.shape"
   ]
  },
  {
   "cell_type": "code",
   "execution_count": 22,
   "id": "c6dc8c62-d76e-4aab-8874-8a51391d3de4",
   "metadata": {},
   "outputs": [
    {
     "data": {
      "text/plain": [
       "array([4.526, 3.585, 3.521, 3.413, 3.422])"
      ]
     },
     "execution_count": 22,
     "metadata": {},
     "output_type": "execute_result"
    }
   ],
   "source": [
    "housing_data.target[:5]"
   ]
  },
  {
   "cell_type": "markdown",
   "id": "1d9a380e-d6f6-4f20-9e99-e749f31a113f",
   "metadata": {},
   "source": [
    "*Note that the labels seem to be real numbers*."
   ]
  },
  {
   "cell_type": "code",
   "execution_count": 23,
   "id": "f6639548-6028-42ad-bea4-8f3d9c8d910b",
   "metadata": {},
   "outputs": [
    {
     "data": {
      "text/plain": [
       "['MedInc',\n",
       " 'HouseAge',\n",
       " 'AveRooms',\n",
       " 'AveBedrms',\n",
       " 'Population',\n",
       " 'AveOccup',\n",
       " 'Latitude',\n",
       " 'Longitude']"
      ]
     },
     "execution_count": 23,
     "metadata": {},
     "output_type": "execute_result"
    }
   ],
   "source": [
    "housing_data.feature_names"
   ]
  },
  {
   "cell_type": "code",
   "execution_count": 24,
   "id": "b71c572f-8225-45d3-92b8-2234bc365339",
   "metadata": {},
   "outputs": [
    {
     "data": {
      "text/plain": [
       "['MedHouseVal']"
      ]
     },
     "execution_count": 24,
     "metadata": {},
     "output_type": "execute_result"
    }
   ],
   "source": [
    "housing_data.target_names"
   ]
  },
  {
   "cell_type": "markdown",
   "id": "06212a7a-029a-4389-9a0a-325bd348b42e",
   "metadata": {},
   "source": [
    "### `fetch_openml`\n",
    "[openml.org](https://www.openml.org \"OpenML\") is a public repository for machine learning data and experiments, that allows everybody to upload open datasets."
   ]
  },
  {
   "cell_type": "code",
   "execution_count": 25,
   "id": "a5b2e9c2-68f3-4de9-97d0-6ab532a9cf08",
   "metadata": {
    "collapsed": true,
    "jupyter": {
     "outputs_hidden": true
    },
    "tags": []
   },
   "outputs": [
    {
     "data": {
      "text/plain": [
       "\u001b[0;31mSignature:\u001b[0m\n",
       "\u001b[0mfetch_openml\u001b[0m\u001b[0;34m(\u001b[0m\u001b[0;34m\u001b[0m\n",
       "\u001b[0;34m\u001b[0m    \u001b[0mname\u001b[0m\u001b[0;34m:\u001b[0m \u001b[0mOptional\u001b[0m\u001b[0;34m[\u001b[0m\u001b[0mstr\u001b[0m\u001b[0;34m]\u001b[0m \u001b[0;34m=\u001b[0m \u001b[0;32mNone\u001b[0m\u001b[0;34m,\u001b[0m\u001b[0;34m\u001b[0m\n",
       "\u001b[0;34m\u001b[0m    \u001b[0;34m*\u001b[0m\u001b[0;34m,\u001b[0m\u001b[0;34m\u001b[0m\n",
       "\u001b[0;34m\u001b[0m    \u001b[0mversion\u001b[0m\u001b[0;34m:\u001b[0m \u001b[0mUnion\u001b[0m\u001b[0;34m[\u001b[0m\u001b[0mstr\u001b[0m\u001b[0;34m,\u001b[0m \u001b[0mint\u001b[0m\u001b[0;34m]\u001b[0m \u001b[0;34m=\u001b[0m \u001b[0;34m'active'\u001b[0m\u001b[0;34m,\u001b[0m\u001b[0;34m\u001b[0m\n",
       "\u001b[0;34m\u001b[0m    \u001b[0mdata_id\u001b[0m\u001b[0;34m:\u001b[0m \u001b[0mOptional\u001b[0m\u001b[0;34m[\u001b[0m\u001b[0mint\u001b[0m\u001b[0;34m]\u001b[0m \u001b[0;34m=\u001b[0m \u001b[0;32mNone\u001b[0m\u001b[0;34m,\u001b[0m\u001b[0;34m\u001b[0m\n",
       "\u001b[0;34m\u001b[0m    \u001b[0mdata_home\u001b[0m\u001b[0;34m:\u001b[0m \u001b[0mOptional\u001b[0m\u001b[0;34m[\u001b[0m\u001b[0mstr\u001b[0m\u001b[0;34m]\u001b[0m \u001b[0;34m=\u001b[0m \u001b[0;32mNone\u001b[0m\u001b[0;34m,\u001b[0m\u001b[0;34m\u001b[0m\n",
       "\u001b[0;34m\u001b[0m    \u001b[0mtarget_column\u001b[0m\u001b[0;34m:\u001b[0m \u001b[0mUnion\u001b[0m\u001b[0;34m[\u001b[0m\u001b[0mstr\u001b[0m\u001b[0;34m,\u001b[0m \u001b[0mList\u001b[0m\u001b[0;34m,\u001b[0m \u001b[0mNoneType\u001b[0m\u001b[0;34m]\u001b[0m \u001b[0;34m=\u001b[0m \u001b[0;34m'default-target'\u001b[0m\u001b[0;34m,\u001b[0m\u001b[0;34m\u001b[0m\n",
       "\u001b[0;34m\u001b[0m    \u001b[0mcache\u001b[0m\u001b[0;34m:\u001b[0m \u001b[0mbool\u001b[0m \u001b[0;34m=\u001b[0m \u001b[0;32mTrue\u001b[0m\u001b[0;34m,\u001b[0m\u001b[0;34m\u001b[0m\n",
       "\u001b[0;34m\u001b[0m    \u001b[0mreturn_X_y\u001b[0m\u001b[0;34m:\u001b[0m \u001b[0mbool\u001b[0m \u001b[0;34m=\u001b[0m \u001b[0;32mFalse\u001b[0m\u001b[0;34m,\u001b[0m\u001b[0;34m\u001b[0m\n",
       "\u001b[0;34m\u001b[0m    \u001b[0mas_frame\u001b[0m\u001b[0;34m:\u001b[0m \u001b[0mUnion\u001b[0m\u001b[0;34m[\u001b[0m\u001b[0mstr\u001b[0m\u001b[0;34m,\u001b[0m \u001b[0mbool\u001b[0m\u001b[0;34m]\u001b[0m \u001b[0;34m=\u001b[0m \u001b[0;34m'auto'\u001b[0m\u001b[0;34m,\u001b[0m\u001b[0;34m\u001b[0m\n",
       "\u001b[0;34m\u001b[0m\u001b[0;34m)\u001b[0m\u001b[0;34m\u001b[0m\u001b[0;34m\u001b[0m\u001b[0m\n",
       "\u001b[0;31mDocstring:\u001b[0m\n",
       "Fetch dataset from openml by name or dataset id.\n",
       "\n",
       "Datasets are uniquely identified by either an integer ID or by a\n",
       "combination of name and version (i.e. there might be multiple\n",
       "versions of the 'iris' dataset). Please give either name or data_id\n",
       "(not both). In case a name is given, a version can also be\n",
       "provided.\n",
       "\n",
       "Read more in the :ref:`User Guide <openml>`.\n",
       "\n",
       ".. versionadded:: 0.20\n",
       "\n",
       ".. note:: EXPERIMENTAL\n",
       "\n",
       "    The API is experimental (particularly the return value structure),\n",
       "    and might have small backward-incompatible changes without notice\n",
       "    or warning in future releases.\n",
       "\n",
       "Parameters\n",
       "----------\n",
       "name : str, default=None\n",
       "    String identifier of the dataset. Note that OpenML can have multiple\n",
       "    datasets with the same name.\n",
       "\n",
       "version : int or 'active', default='active'\n",
       "    Version of the dataset. Can only be provided if also ``name`` is given.\n",
       "    If 'active' the oldest version that's still active is used. Since\n",
       "    there may be more than one active version of a dataset, and those\n",
       "    versions may fundamentally be different from one another, setting an\n",
       "    exact version is highly recommended.\n",
       "\n",
       "data_id : int, default=None\n",
       "    OpenML ID of the dataset. The most specific way of retrieving a\n",
       "    dataset. If data_id is not given, name (and potential version) are\n",
       "    used to obtain a dataset.\n",
       "\n",
       "data_home : str, default=None\n",
       "    Specify another download and cache folder for the data sets. By default\n",
       "    all scikit-learn data is stored in '~/scikit_learn_data' subfolders.\n",
       "\n",
       "target_column : str, list or None, default='default-target'\n",
       "    Specify the column name in the data to use as target. If\n",
       "    'default-target', the standard target column a stored on the server\n",
       "    is used. If ``None``, all columns are returned as data and the\n",
       "    target is ``None``. If list (of strings), all columns with these names\n",
       "    are returned as multi-target (Note: not all scikit-learn classifiers\n",
       "    can handle all types of multi-output combinations)\n",
       "\n",
       "cache : bool, default=True\n",
       "    Whether to cache downloaded datasets using joblib.\n",
       "\n",
       "return_X_y : bool, default=False\n",
       "    If True, returns ``(data, target)`` instead of a Bunch object. See\n",
       "    below for more information about the `data` and `target` objects.\n",
       "\n",
       "as_frame : bool or 'auto', default='auto'\n",
       "    If True, the data is a pandas DataFrame including columns with\n",
       "    appropriate dtypes (numeric, string or categorical). The target is\n",
       "    a pandas DataFrame or Series depending on the number of target_columns.\n",
       "    The Bunch will contain a ``frame`` attribute with the target and the\n",
       "    data. If ``return_X_y`` is True, then ``(data, target)`` will be pandas\n",
       "    DataFrames or Series as describe above.\n",
       "\n",
       "    If as_frame is 'auto', the data and target will be converted to\n",
       "    DataFrame or Series as if as_frame is set to True, unless the dataset\n",
       "    is stored in sparse format.\n",
       "\n",
       "    .. versionchanged:: 0.24\n",
       "       The default value of `as_frame` changed from `False` to `'auto'`\n",
       "       in 0.24.\n",
       "\n",
       "Returns\n",
       "-------\n",
       "\n",
       "data : :class:`~sklearn.utils.Bunch`\n",
       "    Dictionary-like object, with the following attributes.\n",
       "\n",
       "    data : np.array, scipy.sparse.csr_matrix of floats, or pandas DataFrame\n",
       "        The feature matrix. Categorical features are encoded as ordinals.\n",
       "    target : np.array, pandas Series or DataFrame\n",
       "        The regression target or classification labels, if applicable.\n",
       "        Dtype is float if numeric, and object if categorical. If\n",
       "        ``as_frame`` is True, ``target`` is a pandas object.\n",
       "    DESCR : str\n",
       "        The full description of the dataset\n",
       "    feature_names : list\n",
       "        The names of the dataset columns\n",
       "    target_names: list\n",
       "        The names of the target columns\n",
       "\n",
       "    .. versionadded:: 0.22\n",
       "\n",
       "    categories : dict or None\n",
       "        Maps each categorical feature name to a list of values, such\n",
       "        that the value encoded as i is ith in the list. If ``as_frame``\n",
       "        is True, this is None.\n",
       "    details : dict\n",
       "        More metadata from OpenML\n",
       "    frame : pandas DataFrame\n",
       "        Only present when `as_frame=True`. DataFrame with ``data`` and\n",
       "        ``target``.\n",
       "\n",
       "(data, target) : tuple if ``return_X_y`` is True\n",
       "\n",
       "    .. note:: EXPERIMENTAL\n",
       "\n",
       "        This interface is **experimental** and subsequent releases may\n",
       "        change attributes without notice (although there should only be\n",
       "        minor changes to ``data`` and ``target``).\n",
       "\n",
       "    Missing values in the 'data' are represented as NaN's. Missing values\n",
       "    in 'target' are represented as NaN's (numerical target) or None\n",
       "    (categorical target)\n",
       "\u001b[0;31mFile:\u001b[0m      /Library/Frameworks/Python.framework/Versions/3.9/lib/python3.9/site-packages/sklearn/datasets/_openml.py\n",
       "\u001b[0;31mType:\u001b[0m      function\n"
      ]
     },
     "metadata": {},
     "output_type": "display_data"
    }
   ],
   "source": [
    "from sklearn.datasets import fetch_openml\n",
    "?fetch_openml"
   ]
  },
  {
   "cell_type": "markdown",
   "id": "bad1375e-63e4-41e9-a55b-58327043d71d",
   "metadata": {},
   "source": [
    "*Note that this is an experimental API and is likely to change in the future releases.*  \n",
    "\n",
    "Let's use this API for loading MNIST dataset.  \n",
    ">MNIST is a large database of handwritten digits that is commonly used for training various image processing systems."
   ]
  },
  {
   "cell_type": "code",
   "execution_count": null,
   "id": "929ec343-4d5e-462c-86be-762a2ca828ee",
   "metadata": {},
   "outputs": [],
   "source": [
    "# fetching as feature matrix and label vector\n",
    "X, y = fetch_openml('mnist_784', version=1, return_X_y=True)\n",
    "print('Feature matrix shape: ', X.shape)\n",
    "print('Label shape: ', y.shape)"
   ]
  },
  {
   "cell_type": "markdown",
   "id": "416c50d6-19fb-4192-bd26-bbc644bbd367",
   "metadata": {},
   "source": [
    "## Generators\n",
    "### `make_regression`"
   ]
  },
  {
   "cell_type": "code",
   "execution_count": 28,
   "id": "6eecb632-d6f7-4964-a87a-b514bae2fd13",
   "metadata": {
    "collapsed": true,
    "jupyter": {
     "outputs_hidden": true
    },
    "tags": []
   },
   "outputs": [
    {
     "data": {
      "text/plain": [
       "\u001b[0;31mSignature:\u001b[0m\n",
       "\u001b[0mmake_regression\u001b[0m\u001b[0;34m(\u001b[0m\u001b[0;34m\u001b[0m\n",
       "\u001b[0;34m\u001b[0m    \u001b[0mn_samples\u001b[0m\u001b[0;34m=\u001b[0m\u001b[0;36m100\u001b[0m\u001b[0;34m,\u001b[0m\u001b[0;34m\u001b[0m\n",
       "\u001b[0;34m\u001b[0m    \u001b[0mn_features\u001b[0m\u001b[0;34m=\u001b[0m\u001b[0;36m100\u001b[0m\u001b[0;34m,\u001b[0m\u001b[0;34m\u001b[0m\n",
       "\u001b[0;34m\u001b[0m    \u001b[0;34m*\u001b[0m\u001b[0;34m,\u001b[0m\u001b[0;34m\u001b[0m\n",
       "\u001b[0;34m\u001b[0m    \u001b[0mn_informative\u001b[0m\u001b[0;34m=\u001b[0m\u001b[0;36m10\u001b[0m\u001b[0;34m,\u001b[0m\u001b[0;34m\u001b[0m\n",
       "\u001b[0;34m\u001b[0m    \u001b[0mn_targets\u001b[0m\u001b[0;34m=\u001b[0m\u001b[0;36m1\u001b[0m\u001b[0;34m,\u001b[0m\u001b[0;34m\u001b[0m\n",
       "\u001b[0;34m\u001b[0m    \u001b[0mbias\u001b[0m\u001b[0;34m=\u001b[0m\u001b[0;36m0.0\u001b[0m\u001b[0;34m,\u001b[0m\u001b[0;34m\u001b[0m\n",
       "\u001b[0;34m\u001b[0m    \u001b[0meffective_rank\u001b[0m\u001b[0;34m=\u001b[0m\u001b[0;32mNone\u001b[0m\u001b[0;34m,\u001b[0m\u001b[0;34m\u001b[0m\n",
       "\u001b[0;34m\u001b[0m    \u001b[0mtail_strength\u001b[0m\u001b[0;34m=\u001b[0m\u001b[0;36m0.5\u001b[0m\u001b[0;34m,\u001b[0m\u001b[0;34m\u001b[0m\n",
       "\u001b[0;34m\u001b[0m    \u001b[0mnoise\u001b[0m\u001b[0;34m=\u001b[0m\u001b[0;36m0.0\u001b[0m\u001b[0;34m,\u001b[0m\u001b[0;34m\u001b[0m\n",
       "\u001b[0;34m\u001b[0m    \u001b[0mshuffle\u001b[0m\u001b[0;34m=\u001b[0m\u001b[0;32mTrue\u001b[0m\u001b[0;34m,\u001b[0m\u001b[0;34m\u001b[0m\n",
       "\u001b[0;34m\u001b[0m    \u001b[0mcoef\u001b[0m\u001b[0;34m=\u001b[0m\u001b[0;32mFalse\u001b[0m\u001b[0;34m,\u001b[0m\u001b[0;34m\u001b[0m\n",
       "\u001b[0;34m\u001b[0m    \u001b[0mrandom_state\u001b[0m\u001b[0;34m=\u001b[0m\u001b[0;32mNone\u001b[0m\u001b[0;34m,\u001b[0m\u001b[0;34m\u001b[0m\n",
       "\u001b[0;34m\u001b[0m\u001b[0;34m)\u001b[0m\u001b[0;34m\u001b[0m\u001b[0;34m\u001b[0m\u001b[0m\n",
       "\u001b[0;31mDocstring:\u001b[0m\n",
       "Generate a random regression problem.\n",
       "\n",
       "The input set can either be well conditioned (by default) or have a low\n",
       "rank-fat tail singular profile. See :func:`make_low_rank_matrix` for\n",
       "more details.\n",
       "\n",
       "The output is generated by applying a (potentially biased) random linear\n",
       "regression model with `n_informative` nonzero regressors to the previously\n",
       "generated input and some gaussian centered noise with some adjustable\n",
       "scale.\n",
       "\n",
       "Read more in the :ref:`User Guide <sample_generators>`.\n",
       "\n",
       "Parameters\n",
       "----------\n",
       "n_samples : int, default=100\n",
       "    The number of samples.\n",
       "\n",
       "n_features : int, default=100\n",
       "    The number of features.\n",
       "\n",
       "n_informative : int, default=10\n",
       "    The number of informative features, i.e., the number of features used\n",
       "    to build the linear model used to generate the output.\n",
       "\n",
       "n_targets : int, default=1\n",
       "    The number of regression targets, i.e., the dimension of the y output\n",
       "    vector associated with a sample. By default, the output is a scalar.\n",
       "\n",
       "bias : float, default=0.0\n",
       "    The bias term in the underlying linear model.\n",
       "\n",
       "effective_rank : int, default=None\n",
       "    if not None:\n",
       "        The approximate number of singular vectors required to explain most\n",
       "        of the input data by linear combinations. Using this kind of\n",
       "        singular spectrum in the input allows the generator to reproduce\n",
       "        the correlations often observed in practice.\n",
       "    if None:\n",
       "        The input set is well conditioned, centered and gaussian with\n",
       "        unit variance.\n",
       "\n",
       "tail_strength : float, default=0.5\n",
       "    The relative importance of the fat noisy tail of the singular values\n",
       "    profile if `effective_rank` is not None. When a float, it should be\n",
       "    between 0 and 1.\n",
       "\n",
       "noise : float, default=0.0\n",
       "    The standard deviation of the gaussian noise applied to the output.\n",
       "\n",
       "shuffle : bool, default=True\n",
       "    Shuffle the samples and the features.\n",
       "\n",
       "coef : bool, default=False\n",
       "    If True, the coefficients of the underlying linear model are returned.\n",
       "\n",
       "random_state : int, RandomState instance or None, default=None\n",
       "    Determines random number generation for dataset creation. Pass an int\n",
       "    for reproducible output across multiple function calls.\n",
       "    See :term:`Glossary <random_state>`.\n",
       "\n",
       "Returns\n",
       "-------\n",
       "X : ndarray of shape (n_samples, n_features)\n",
       "    The input samples.\n",
       "\n",
       "y : ndarray of shape (n_samples,) or (n_samples, n_targets)\n",
       "    The output values.\n",
       "\n",
       "coef : ndarray of shape (n_features,) or (n_features, n_targets)\n",
       "    The coefficient of the underlying linear model. It is returned only if\n",
       "    coef is True.\n",
       "\u001b[0;31mFile:\u001b[0m      /Library/Frameworks/Python.framework/Versions/3.9/lib/python3.9/site-packages/sklearn/datasets/_samples_generator.py\n",
       "\u001b[0;31mType:\u001b[0m      function\n"
      ]
     },
     "metadata": {},
     "output_type": "display_data"
    }
   ],
   "source": [
    "from sklearn.datasets import make_regression\n",
    "?make_regression"
   ]
  },
  {
   "cell_type": "markdown",
   "id": "1185da3b-4f35-4cf8-a2f5-b0582eca72f7",
   "metadata": {},
   "source": [
    "#### Example 1\n",
    "Let's generate 100 samples with 5 features for a single label regression problem."
   ]
  },
  {
   "cell_type": "code",
   "execution_count": 29,
   "id": "7800deee-0161-44f5-8139-a0a8a7a52713",
   "metadata": {},
   "outputs": [],
   "source": [
    "X, y = make_regression(n_samples=100, n_features=5, n_targets=1, shuffle=True, random_state=42)"
   ]
  },
  {
   "cell_type": "code",
   "execution_count": 30,
   "id": "ff4089bd-7e08-4a5d-996c-3a770d63c7c7",
   "metadata": {},
   "outputs": [
    {
     "data": {
      "text/plain": [
       "(100, 5)"
      ]
     },
     "execution_count": 30,
     "metadata": {},
     "output_type": "execute_result"
    }
   ],
   "source": [
    "X.shape"
   ]
  },
  {
   "cell_type": "code",
   "execution_count": 31,
   "id": "59c032a0-bb23-414f-b4f9-eabf8e15b89e",
   "metadata": {},
   "outputs": [
    {
     "data": {
      "text/plain": [
       "(100,)"
      ]
     },
     "execution_count": 31,
     "metadata": {},
     "output_type": "execute_result"
    }
   ],
   "source": [
    "y.shape"
   ]
  },
  {
   "cell_type": "markdown",
   "id": "ad3a7035-30ca-4364-aa21-207e9ba7e7b5",
   "metadata": {},
   "source": [
    "#### Example 2\n",
    "Let's generate 100 samples with 5 features for multiple regression problem with 5 outputs."
   ]
  },
  {
   "cell_type": "code",
   "execution_count": 32,
   "id": "4622edf9-5c72-49ce-b61c-798e339d951a",
   "metadata": {},
   "outputs": [],
   "source": [
    "X, y = make_regression(n_samples=100, n_features=5, n_targets=5, shuffle=True, random_state=42)"
   ]
  },
  {
   "cell_type": "code",
   "execution_count": 33,
   "id": "3337809d-9c5f-4264-a2fc-9769e8b0e286",
   "metadata": {},
   "outputs": [
    {
     "data": {
      "text/plain": [
       "(100, 5)"
      ]
     },
     "execution_count": 33,
     "metadata": {},
     "output_type": "execute_result"
    }
   ],
   "source": [
    "X.shape"
   ]
  },
  {
   "cell_type": "code",
   "execution_count": 34,
   "id": "b4e80c7f-00cc-45e7-b603-4edc7440deb9",
   "metadata": {},
   "outputs": [
    {
     "data": {
      "text/plain": [
       "(100, 5)"
      ]
     },
     "execution_count": 34,
     "metadata": {},
     "output_type": "execute_result"
    }
   ],
   "source": [
    "y.shape"
   ]
  },
  {
   "cell_type": "markdown",
   "id": "a6a8fded-5411-44b6-aaeb-2d8e17b0ee30",
   "metadata": {},
   "source": [
    "### `make_classification`\n",
    "Generate a random n-class classification problem set up."
   ]
  },
  {
   "cell_type": "code",
   "execution_count": 35,
   "id": "d4d32c6b-86d7-4875-a7a6-af9e71685ce3",
   "metadata": {
    "collapsed": true,
    "jupyter": {
     "outputs_hidden": true
    },
    "tags": []
   },
   "outputs": [
    {
     "data": {
      "text/plain": [
       "\u001b[0;31mSignature:\u001b[0m\n",
       "\u001b[0mmake_classification\u001b[0m\u001b[0;34m(\u001b[0m\u001b[0;34m\u001b[0m\n",
       "\u001b[0;34m\u001b[0m    \u001b[0mn_samples\u001b[0m\u001b[0;34m=\u001b[0m\u001b[0;36m100\u001b[0m\u001b[0;34m,\u001b[0m\u001b[0;34m\u001b[0m\n",
       "\u001b[0;34m\u001b[0m    \u001b[0mn_features\u001b[0m\u001b[0;34m=\u001b[0m\u001b[0;36m20\u001b[0m\u001b[0;34m,\u001b[0m\u001b[0;34m\u001b[0m\n",
       "\u001b[0;34m\u001b[0m    \u001b[0;34m*\u001b[0m\u001b[0;34m,\u001b[0m\u001b[0;34m\u001b[0m\n",
       "\u001b[0;34m\u001b[0m    \u001b[0mn_informative\u001b[0m\u001b[0;34m=\u001b[0m\u001b[0;36m2\u001b[0m\u001b[0;34m,\u001b[0m\u001b[0;34m\u001b[0m\n",
       "\u001b[0;34m\u001b[0m    \u001b[0mn_redundant\u001b[0m\u001b[0;34m=\u001b[0m\u001b[0;36m2\u001b[0m\u001b[0;34m,\u001b[0m\u001b[0;34m\u001b[0m\n",
       "\u001b[0;34m\u001b[0m    \u001b[0mn_repeated\u001b[0m\u001b[0;34m=\u001b[0m\u001b[0;36m0\u001b[0m\u001b[0;34m,\u001b[0m\u001b[0;34m\u001b[0m\n",
       "\u001b[0;34m\u001b[0m    \u001b[0mn_classes\u001b[0m\u001b[0;34m=\u001b[0m\u001b[0;36m2\u001b[0m\u001b[0;34m,\u001b[0m\u001b[0;34m\u001b[0m\n",
       "\u001b[0;34m\u001b[0m    \u001b[0mn_clusters_per_class\u001b[0m\u001b[0;34m=\u001b[0m\u001b[0;36m2\u001b[0m\u001b[0;34m,\u001b[0m\u001b[0;34m\u001b[0m\n",
       "\u001b[0;34m\u001b[0m    \u001b[0mweights\u001b[0m\u001b[0;34m=\u001b[0m\u001b[0;32mNone\u001b[0m\u001b[0;34m,\u001b[0m\u001b[0;34m\u001b[0m\n",
       "\u001b[0;34m\u001b[0m    \u001b[0mflip_y\u001b[0m\u001b[0;34m=\u001b[0m\u001b[0;36m0.01\u001b[0m\u001b[0;34m,\u001b[0m\u001b[0;34m\u001b[0m\n",
       "\u001b[0;34m\u001b[0m    \u001b[0mclass_sep\u001b[0m\u001b[0;34m=\u001b[0m\u001b[0;36m1.0\u001b[0m\u001b[0;34m,\u001b[0m\u001b[0;34m\u001b[0m\n",
       "\u001b[0;34m\u001b[0m    \u001b[0mhypercube\u001b[0m\u001b[0;34m=\u001b[0m\u001b[0;32mTrue\u001b[0m\u001b[0;34m,\u001b[0m\u001b[0;34m\u001b[0m\n",
       "\u001b[0;34m\u001b[0m    \u001b[0mshift\u001b[0m\u001b[0;34m=\u001b[0m\u001b[0;36m0.0\u001b[0m\u001b[0;34m,\u001b[0m\u001b[0;34m\u001b[0m\n",
       "\u001b[0;34m\u001b[0m    \u001b[0mscale\u001b[0m\u001b[0;34m=\u001b[0m\u001b[0;36m1.0\u001b[0m\u001b[0;34m,\u001b[0m\u001b[0;34m\u001b[0m\n",
       "\u001b[0;34m\u001b[0m    \u001b[0mshuffle\u001b[0m\u001b[0;34m=\u001b[0m\u001b[0;32mTrue\u001b[0m\u001b[0;34m,\u001b[0m\u001b[0;34m\u001b[0m\n",
       "\u001b[0;34m\u001b[0m    \u001b[0mrandom_state\u001b[0m\u001b[0;34m=\u001b[0m\u001b[0;32mNone\u001b[0m\u001b[0;34m,\u001b[0m\u001b[0;34m\u001b[0m\n",
       "\u001b[0;34m\u001b[0m\u001b[0;34m)\u001b[0m\u001b[0;34m\u001b[0m\u001b[0;34m\u001b[0m\u001b[0m\n",
       "\u001b[0;31mDocstring:\u001b[0m\n",
       "Generate a random n-class classification problem.\n",
       "\n",
       "This initially creates clusters of points normally distributed (std=1)\n",
       "about vertices of an ``n_informative``-dimensional hypercube with sides of\n",
       "length ``2*class_sep`` and assigns an equal number of clusters to each\n",
       "class. It introduces interdependence between these features and adds\n",
       "various types of further noise to the data.\n",
       "\n",
       "Without shuffling, ``X`` horizontally stacks features in the following\n",
       "order: the primary ``n_informative`` features, followed by ``n_redundant``\n",
       "linear combinations of the informative features, followed by ``n_repeated``\n",
       "duplicates, drawn randomly with replacement from the informative and\n",
       "redundant features. The remaining features are filled with random noise.\n",
       "Thus, without shuffling, all useful features are contained in the columns\n",
       "``X[:, :n_informative + n_redundant + n_repeated]``.\n",
       "\n",
       "Read more in the :ref:`User Guide <sample_generators>`.\n",
       "\n",
       "Parameters\n",
       "----------\n",
       "n_samples : int, default=100\n",
       "    The number of samples.\n",
       "\n",
       "n_features : int, default=20\n",
       "    The total number of features. These comprise ``n_informative``\n",
       "    informative features, ``n_redundant`` redundant features,\n",
       "    ``n_repeated`` duplicated features and\n",
       "    ``n_features-n_informative-n_redundant-n_repeated`` useless features\n",
       "    drawn at random.\n",
       "\n",
       "n_informative : int, default=2\n",
       "    The number of informative features. Each class is composed of a number\n",
       "    of gaussian clusters each located around the vertices of a hypercube\n",
       "    in a subspace of dimension ``n_informative``. For each cluster,\n",
       "    informative features are drawn independently from  N(0, 1) and then\n",
       "    randomly linearly combined within each cluster in order to add\n",
       "    covariance. The clusters are then placed on the vertices of the\n",
       "    hypercube.\n",
       "\n",
       "n_redundant : int, default=2\n",
       "    The number of redundant features. These features are generated as\n",
       "    random linear combinations of the informative features.\n",
       "\n",
       "n_repeated : int, default=0\n",
       "    The number of duplicated features, drawn randomly from the informative\n",
       "    and the redundant features.\n",
       "\n",
       "n_classes : int, default=2\n",
       "    The number of classes (or labels) of the classification problem.\n",
       "\n",
       "n_clusters_per_class : int, default=2\n",
       "    The number of clusters per class.\n",
       "\n",
       "weights : array-like of shape (n_classes,) or (n_classes - 1,),              default=None\n",
       "    The proportions of samples assigned to each class. If None, then\n",
       "    classes are balanced. Note that if ``len(weights) == n_classes - 1``,\n",
       "    then the last class weight is automatically inferred.\n",
       "    More than ``n_samples`` samples may be returned if the sum of\n",
       "    ``weights`` exceeds 1. Note that the actual class proportions will\n",
       "    not exactly match ``weights`` when ``flip_y`` isn't 0.\n",
       "\n",
       "flip_y : float, default=0.01\n",
       "    The fraction of samples whose class is assigned randomly. Larger\n",
       "    values introduce noise in the labels and make the classification\n",
       "    task harder. Note that the default setting flip_y > 0 might lead\n",
       "    to less than ``n_classes`` in y in some cases.\n",
       "\n",
       "class_sep : float, default=1.0\n",
       "    The factor multiplying the hypercube size.  Larger values spread\n",
       "    out the clusters/classes and make the classification task easier.\n",
       "\n",
       "hypercube : bool, default=True\n",
       "    If True, the clusters are put on the vertices of a hypercube. If\n",
       "    False, the clusters are put on the vertices of a random polytope.\n",
       "\n",
       "shift : float, ndarray of shape (n_features,) or None, default=0.0\n",
       "    Shift features by the specified value. If None, then features\n",
       "    are shifted by a random value drawn in [-class_sep, class_sep].\n",
       "\n",
       "scale : float, ndarray of shape (n_features,) or None, default=1.0\n",
       "    Multiply features by the specified value. If None, then features\n",
       "    are scaled by a random value drawn in [1, 100]. Note that scaling\n",
       "    happens after shifting.\n",
       "\n",
       "shuffle : bool, default=True\n",
       "    Shuffle the samples and the features.\n",
       "\n",
       "random_state : int, RandomState instance or None, default=None\n",
       "    Determines random number generation for dataset creation. Pass an int\n",
       "    for reproducible output across multiple function calls.\n",
       "    See :term:`Glossary <random_state>`.\n",
       "\n",
       "Returns\n",
       "-------\n",
       "X : ndarray of shape (n_samples, n_features)\n",
       "    The generated samples.\n",
       "\n",
       "y : ndarray of shape (n_samples,)\n",
       "    The integer labels for class membership of each sample.\n",
       "\n",
       "Notes\n",
       "-----\n",
       "The algorithm is adapted from Guyon [1] and was designed to generate\n",
       "the \"Madelon\" dataset.\n",
       "\n",
       "References\n",
       "----------\n",
       ".. [1] I. Guyon, \"Design of experiments for the NIPS 2003 variable\n",
       "       selection benchmark\", 2003.\n",
       "\n",
       "See Also\n",
       "--------\n",
       "make_blobs : Simplified variant.\n",
       "make_multilabel_classification : Unrelated generator for multilabel tasks.\n",
       "\u001b[0;31mFile:\u001b[0m      /Library/Frameworks/Python.framework/Versions/3.9/lib/python3.9/site-packages/sklearn/datasets/_samples_generator.py\n",
       "\u001b[0;31mType:\u001b[0m      function\n"
      ]
     },
     "metadata": {},
     "output_type": "display_data"
    }
   ],
   "source": [
    "from sklearn.datasets import make_classification\n",
    "?make_classification"
   ]
  },
  {
   "cell_type": "markdown",
   "id": "a07d767b-75fe-4eb2-88dc-2da74cca0538",
   "metadata": {},
   "source": [
    "Let's generate a binary classification problem with 10 features and 100 samples."
   ]
  },
  {
   "cell_type": "code",
   "execution_count": 36,
   "id": "9f9f0748-98df-4bd3-aec2-a569cf1f5f7a",
   "metadata": {},
   "outputs": [],
   "source": [
    "X, y = make_classification(n_samples=100, n_features=10, n_classes=2, n_clusters_per_class=1, random_state=42)"
   ]
  },
  {
   "cell_type": "code",
   "execution_count": 37,
   "id": "87c1ff0f-9046-46f2-bb8c-c52cf353d230",
   "metadata": {},
   "outputs": [
    {
     "data": {
      "text/plain": [
       "(100, 10)"
      ]
     },
     "execution_count": 37,
     "metadata": {},
     "output_type": "execute_result"
    }
   ],
   "source": [
    "X.shape"
   ]
  },
  {
   "cell_type": "code",
   "execution_count": 38,
   "id": "61b922e7-e181-4691-bbea-8d4778638007",
   "metadata": {},
   "outputs": [
    {
     "data": {
      "text/plain": [
       "(100,)"
      ]
     },
     "execution_count": 38,
     "metadata": {},
     "output_type": "execute_result"
    }
   ],
   "source": [
    "y.shape"
   ]
  },
  {
   "cell_type": "code",
   "execution_count": 39,
   "id": "d699dbd1-226e-4d83-93be-5643c0436b9b",
   "metadata": {},
   "outputs": [
    {
     "data": {
      "text/plain": [
       "array([[ 0.11422765, -1.71016839, -0.06822216, -0.14928517,  0.30780177,\n",
       "         0.15030176, -0.05694562, -0.22595246, -0.36361221, -0.13818757],\n",
       "       [ 0.70775194, -1.57022472, -0.23503183, -0.63604713,  0.62180996,\n",
       "        -0.56246678,  0.97255445, -0.77719676,  0.63240774, -0.47809669],\n",
       "       [ 0.63859246,  0.04739867,  0.33273433,  1.1046981 , -0.65183611,\n",
       "        -1.66152006, -1.2110162 ,  1.09821151, -0.0660798 ,  0.68024225],\n",
       "       [-0.23894805, -0.97755524,  0.0379061 ,  0.19896733,  0.50091719,\n",
       "        -0.90756366,  0.75539123,  0.12437227, -0.57677133,  0.07871283],\n",
       "       [-0.59239392, -0.05023811,  0.17573204, -1.43949185,  0.27045683,\n",
       "        -0.86399077, -0.83095012,  0.60046915,  0.04852163,  0.32557953]])"
      ]
     },
     "execution_count": 39,
     "metadata": {},
     "output_type": "execute_result"
    }
   ],
   "source": [
    "X[:5]"
   ]
  },
  {
   "cell_type": "code",
   "execution_count": 40,
   "id": "cf789de6-c757-4a0f-a6b7-5d470714e8ed",
   "metadata": {},
   "outputs": [
    {
     "data": {
      "text/plain": [
       "array([1, 1, 1, 1, 0])"
      ]
     },
     "execution_count": 40,
     "metadata": {},
     "output_type": "execute_result"
    }
   ],
   "source": [
    "y[:5]"
   ]
  },
  {
   "cell_type": "markdown",
   "id": "b53fdb82-dea7-4ebc-a6d5-468c6985a6ed",
   "metadata": {},
   "source": [
    "For multiclass classification set-up:"
   ]
  },
  {
   "cell_type": "code",
   "execution_count": 41,
   "id": "1a07ddfb-8352-4dcb-9e0f-a8871c541cec",
   "metadata": {},
   "outputs": [],
   "source": [
    "X, y = make_classification(n_samples=100, n_features=10, n_classes=3, n_clusters_per_class=1, random_state=42)"
   ]
  },
  {
   "cell_type": "code",
   "execution_count": 42,
   "id": "f3a08989-3460-4068-90c2-16f7f642806e",
   "metadata": {},
   "outputs": [
    {
     "data": {
      "text/plain": [
       "(100,)"
      ]
     },
     "execution_count": 42,
     "metadata": {},
     "output_type": "execute_result"
    }
   ],
   "source": [
    "y.shape"
   ]
  },
  {
   "cell_type": "code",
   "execution_count": 43,
   "id": "5a9b0ca4-1f3c-4d90-a13c-3bff1a4c7e86",
   "metadata": {},
   "outputs": [
    {
     "data": {
      "text/plain": [
       "array([2, 0, 1, 0, 0])"
      ]
     },
     "execution_count": 43,
     "metadata": {},
     "output_type": "execute_result"
    }
   ],
   "source": [
    "y[:5]"
   ]
  },
  {
   "cell_type": "markdown",
   "id": "539738e3-e405-47b0-b4d1-78933430c533",
   "metadata": {},
   "source": [
    "### `make_multilabel_classification`"
   ]
  },
  {
   "cell_type": "code",
   "execution_count": 45,
   "id": "2e453cf9-37ea-44fe-92b2-ecbcf2b4fc93",
   "metadata": {},
   "outputs": [],
   "source": [
    "from sklearn.datasets import make_multilabel_classification\n",
    "\n",
    "X, y = make_multilabel_classification(n_samples=100, n_features=20, n_classes=5, n_labels=2)"
   ]
  },
  {
   "cell_type": "code",
   "execution_count": 47,
   "id": "e542ad0b-4a9e-4933-bfd8-ff57e349ad20",
   "metadata": {},
   "outputs": [
    {
     "data": {
      "text/plain": [
       "(100, 20)"
      ]
     },
     "execution_count": 47,
     "metadata": {},
     "output_type": "execute_result"
    }
   ],
   "source": [
    "X.shape"
   ]
  },
  {
   "cell_type": "code",
   "execution_count": 48,
   "id": "e35fa216-4102-4edc-9bb1-ff233e42f6ae",
   "metadata": {},
   "outputs": [
    {
     "data": {
      "text/plain": [
       "(100, 5)"
      ]
     },
     "execution_count": 48,
     "metadata": {},
     "output_type": "execute_result"
    }
   ],
   "source": [
    "y.shape"
   ]
  },
  {
   "cell_type": "code",
   "execution_count": 49,
   "id": "9f29e092-cf6b-4f45-a096-5cc18e2fe3d7",
   "metadata": {},
   "outputs": [
    {
     "data": {
      "text/plain": [
       "array([[2., 0., 3., 1., 3., 3., 0., 1., 0., 1., 1., 4., 1., 4., 1., 8.,\n",
       "        0., 2., 0., 2.],\n",
       "       [3., 3., 2., 0., 5., 0., 4., 0., 2., 0., 5., 0., 3., 5., 2., 2.,\n",
       "        4., 3., 4., 2.],\n",
       "       [3., 0., 1., 1., 2., 2., 1., 2., 0., 0., 2., 1., 5., 3., 1., 2.,\n",
       "        0., 4., 2., 1.]])"
      ]
     },
     "execution_count": 49,
     "metadata": {},
     "output_type": "execute_result"
    }
   ],
   "source": [
    "X[:3]"
   ]
  },
  {
   "cell_type": "code",
   "execution_count": 50,
   "id": "367c3323-8935-435d-8554-1ff2efdca30d",
   "metadata": {},
   "outputs": [
    {
     "data": {
      "text/plain": [
       "array([[1, 1, 1, 0, 1],\n",
       "       [0, 0, 1, 0, 0],\n",
       "       [1, 1, 0, 1, 1]])"
      ]
     },
     "execution_count": 50,
     "metadata": {},
     "output_type": "execute_result"
    }
   ],
   "source": [
    "y[:3]"
   ]
  },
  {
   "cell_type": "markdown",
   "id": "f85f0ed2-42ef-4bbe-b170-143fc52bac76",
   "metadata": {},
   "source": [
    "### `make_blobs`\n",
    "`make_blobs` enables us to generate random data for clustering.  \n",
    "\n",
    "Let's generate a random dataset of 10 samples with 2 features each for clustering"
   ]
  },
  {
   "cell_type": "code",
   "execution_count": 51,
   "id": "8e72c1c2-41b1-4eca-8164-71ccd54770ff",
   "metadata": {},
   "outputs": [
    {
     "name": "stdout",
     "output_type": "stream",
     "text": [
      "Feature matrix shape:  (10, 2)\n",
      "Label shape:  (10,)\n"
     ]
    }
   ],
   "source": [
    "from sklearn.datasets import make_blobs\n",
    "\n",
    "X, y = make_blobs(n_samples=10, n_features=2, centers=3, random_state=42)\n",
    "print('Feature matrix shape: ', X.shape)\n",
    "print('Label shape: ', y.shape)"
   ]
  },
  {
   "cell_type": "markdown",
   "id": "5be40acb-c629-44bc-8ee6-f4cb208d4cf3",
   "metadata": {},
   "source": [
    "We can find the cluster membership of each point in `y`."
   ]
  },
  {
   "cell_type": "code",
   "execution_count": 52,
   "id": "2e7e4316-0b0b-4f35-9952-b2b9271e1ef4",
   "metadata": {},
   "outputs": [
    {
     "data": {
      "text/plain": [
       "array([2, 2, 1, 2, 0, 0, 0, 1, 1, 0])"
      ]
     },
     "execution_count": 52,
     "metadata": {},
     "output_type": "execute_result"
    }
   ],
   "source": [
    "y"
   ]
  },
  {
   "cell_type": "code",
   "execution_count": null,
   "id": "092175d9-d056-4215-93ae-109e5cc5af17",
   "metadata": {},
   "outputs": [],
   "source": []
  }
 ],
 "metadata": {
  "kernelspec": {
   "display_name": "Python 3 (ipykernel)",
   "language": "python",
   "name": "python3"
  },
  "language_info": {
   "codemirror_mode": {
    "name": "ipython",
    "version": 3
   },
   "file_extension": ".py",
   "mimetype": "text/x-python",
   "name": "python",
   "nbconvert_exporter": "python",
   "pygments_lexer": "ipython3",
   "version": "3.9.1"
  }
 },
 "nbformat": 4,
 "nbformat_minor": 5
}
