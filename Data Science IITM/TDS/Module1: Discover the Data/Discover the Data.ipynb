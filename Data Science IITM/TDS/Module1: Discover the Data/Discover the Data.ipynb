{
 "cells": [
  {
   "cell_type": "markdown",
   "metadata": {},
   "source": [
    "# Module 1: Discover the Data"
   ]
  },
  {
   "cell_type": "markdown",
   "metadata": {},
   "source": [
    "## Sources of Data\n",
    "* Public Data\n",
    "* Private Data\n",
    "* Personal Data\n",
    "\n",
    "### Public Data\n",
    "* [Awesome Data](https://github.com/awesomedata/awesome-public-datasets \"Github Repo\")\n",
    "  * e.g. [Global Administrative Areas Database (GADM) - Geospatial data organized](https://gadm.org/ \"Maps Data\")\n",
    "* [Google Dataset Search Engine](https://datasetsearch.research.google.com \"Google Dataset Search\")\n",
    "* [Kaggle](https://www.kaggle.com/datasets/ \"Kaggle\")\n",
    "* Data.gov:\n",
    "  * [Data.gov](https://www.data.gov/ \"Data.gov\")\n",
    "  * [Data.gov.in](https://data.gov.in/ \"Data.gov.in\")\n",
    "* [Datameet](https://datameet.org/ \"Datameet\") : Data Science Community\n",
    "\n",
    "### Private Data\n",
    "* Corporate\n",
    "* Paid\n",
    "\n",
    "### Personal Data\n",
    "* Mobile app datasets\n",
    "* Personal Logging\n",
    "\n",
    "## Types of Datasets\n",
    "* Structured\n",
    "  * For which we know the schema\n",
    "  * e.g. Table\n",
    "* Semi-Structured\n",
    "  * e.g. pdf, html\n",
    "* Unstructured\n",
    "  * e.g. image, piece of text\n",
    "\n",
    "## Types of values\n",
    "* Categorical\n",
    "  * Boolean\n",
    "  * Unordered(Red, Blue, Green)\n",
    "  * Ordered(Short, Medium, Long)\n",
    "  * Unstructured(Text, Binary)\n",
    "* Numerical\n",
    "  * Integer\n",
    "  * Real\n",
    "* Composite\n",
    "  * Date / Time\n",
    "  * Spatial (Lat/Long, Shapes)\n",
    "  * Structured (JSON, XML)\n",
    "  * Specialized (IP, currency)"
   ]
  },
  {
   "cell_type": "markdown",
   "metadata": {},
   "source": []
  }
 ],
 "metadata": {
  "language_info": {
   "name": "python"
  },
  "orig_nbformat": 4
 },
 "nbformat": 4,
 "nbformat_minor": 2
}
