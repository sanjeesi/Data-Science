{
  "nbformat": 4,
  "nbformat_minor": 0,
  "metadata": {
    "colab": {
      "name": "Web Scrapping.ipynb",
      "provenance": [],
      "authorship_tag": "ABX9TyMMapSn9wJ7cK/ef9FcgL+B",
      "include_colab_link": true
    },
    "kernelspec": {
      "name": "python3",
      "display_name": "Python 3"
    },
    "language_info": {
      "name": "python"
    }
  },
  "cells": [
    {
      "cell_type": "markdown",
      "metadata": {
        "id": "view-in-github",
        "colab_type": "text"
      },
      "source": [
        "<a href=\"https://colab.research.google.com/github/sanjeesi/Notes-Notebooks/blob/master/Data%20Science%20IITM/TDS/Module2%3A%20Get%20the%20Data/Web_Scrapping.ipynb\" target=\"_parent\"><img src=\"https://colab.research.google.com/assets/colab-badge.svg\" alt=\"Open In Colab\"/></a>"
      ]
    },
    {
      "cell_type": "markdown",
      "source": [
        "# Scraping with Excel\n",
        "Import data from Web -> Set up **ETL** pipeline -> Refresh to get the latest data.  \n",
        "> Keep the URL which has contains the table.  \n",
        "\n",
        "1. Data Tab -> Query (New Query) -> From Other Sources -> From Web\n",
        "2. Paste URL\n",
        "3. Select the table which you want (**Extract**)\n",
        "4. **Load** the data\n",
        "5. Edit the query (**Transform**)\n",
        "6. Close and load.\n"
      ],
      "metadata": {
        "id": "KrL319j0Z44Q"
      }
    },
    {
      "cell_type": "markdown",
      "source": [
        "# BBC Weather location API with Python\n",
        "\n",
        "Every set of (lat, long) is tagged to a location ID.  \n",
        "Once we have the ID it's very easy to hit the database and pull the weather information for that particular location ID.  \n",
        "If we scrape the location ID, we would be able to scrape the weather details of that city.  \n",
        "> Get the API URL from the Network Inspector."
      ],
      "metadata": {
        "id": "bwmfp3cGSrAt"
      }
    },
    {
      "cell_type": "code",
      "source": [
        "import os\n",
        "\n",
        "import requests     # to get the webpage\n",
        "import json         # to convert API to json format\n",
        "\n",
        "from urllib.parse import urlencode\n",
        "import numpy as np\n",
        "import pandas as pd\n",
        "import re           # regular expression operators"
      ],
      "metadata": {
        "id": "qlLDrPOjZ3i5"
      },
      "execution_count": 71,
      "outputs": []
    },
    {
      "cell_type": "code",
      "source": [
        "test_city = \"Haridwar\"\n",
        "location_url = 'https://locator-service.api.bbci.co.uk/locations?' + urlencode({\n",
        "    'api_key': 'AGbFAKx58hyjQScCXIYrxuEwJh2W2cmv',\n",
        "    's': test_city,\n",
        "    'stack': 'aws',\n",
        "    'locale': 'en',\n",
        "    'filter': 'international',\n",
        "    'place-types': 'settlement,airport,district',\n",
        "    'order': 'importance',\n",
        "    'a': 'true',\n",
        "    'format': 'json'\n",
        "})\n",
        "location_url"
      ],
      "metadata": {
        "colab": {
          "base_uri": "https://localhost:8080/",
          "height": 53
        },
        "id": "r_byBgovdqeO",
        "outputId": "e650c20f-f40a-441d-a064-52dc2b3f415f"
      },
      "execution_count": 72,
      "outputs": [
        {
          "output_type": "execute_result",
          "data": {
            "text/plain": [
              "'https://locator-service.api.bbci.co.uk/locations?api_key=AGbFAKx58hyjQScCXIYrxuEwJh2W2cmv&s=Haridwar&stack=aws&locale=en&filter=international&place-types=settlement%2Cairport%2Cdistrict&order=importance&a=true&format=json'"
            ],
            "application/vnd.google.colaboratory.intrinsic+json": {
              "type": "string"
            }
          },
          "metadata": {},
          "execution_count": 72
        }
      ]
    },
    {
      "cell_type": "code",
      "source": [
        "result = requests.get(location_url).json()\n",
        "result"
      ],
      "metadata": {
        "colab": {
          "base_uri": "https://localhost:8080/"
        },
        "id": "N_h1ShwPdwJp",
        "outputId": "9dd73949-e582-4327-d4cd-a1911caabdf0"
      },
      "execution_count": 73,
      "outputs": [
        {
          "output_type": "execute_result",
          "data": {
            "text/plain": [
              "{'response': {'results': {'results': [{'container': 'India',\n",
              "     'containerId': 1269750,\n",
              "     'country': 'IN',\n",
              "     'id': '1270351',\n",
              "     'language': 'en',\n",
              "     'latitude': 29.94791,\n",
              "     'longitude': 78.16025,\n",
              "     'name': 'Haridwar',\n",
              "     'placeType': 'settlement',\n",
              "     'timezone': 'Asia/Kolkata'}],\n",
              "   'totalResults': 1}}}"
            ]
          },
          "metadata": {},
          "execution_count": 73
        }
      ]
    },
    {
      "cell_type": "code",
      "source": [
        "# Print location id\n",
        "result['response']['results']['results'][0]['id']"
      ],
      "metadata": {
        "colab": {
          "base_uri": "https://localhost:8080/",
          "height": 36
        },
        "id": "uCg_jwlXhomb",
        "outputId": "58c2227e-33c2-40c9-81be-176ddf3a8065"
      },
      "execution_count": 74,
      "outputs": [
        {
          "output_type": "execute_result",
          "data": {
            "text/plain": [
              "'1270351'"
            ],
            "application/vnd.google.colaboratory.intrinsic+json": {
              "type": "string"
            }
          },
          "metadata": {},
          "execution_count": 74
        }
      ]
    },
    {
      "cell_type": "code",
      "source": [
        "def getlocid(city):\n",
        "  city = city.lower()     # to standardize format\n",
        "  # Convert into an API call using URL encoding\n",
        "  location_url = 'https://locator-service.api.bbci.co.uk/locations?' + urlencode({\n",
        "    'api_key': 'AGbFAKx58hyjQScCXIYrxuEwJh2W2cmv',\n",
        "    's': city,\n",
        "    'stack': 'aws',\n",
        "    'locale': 'en',\n",
        "    'filter': 'international',\n",
        "    'place-types': 'settlement,airport,district',\n",
        "    'order': 'importance',\n",
        "    'a': 'true',\n",
        "    'format': 'json'\n",
        "  })\n",
        "  result = requests.get(location_url).json()\n",
        "  locid = result['response']['results']['results'][0]['id']\n",
        "  return locid"
      ],
      "metadata": {
        "id": "rQTGvFzAiGb_"
      },
      "execution_count": 75,
      "outputs": []
    },
    {
      "cell_type": "code",
      "source": [
        "getlocid('Jamshedpur')"
      ],
      "metadata": {
        "colab": {
          "base_uri": "https://localhost:8080/",
          "height": 36
        },
        "id": "bywL76q_i4Yh",
        "outputId": "a3914079-e4a8-4819-e3ba-80634d3fc5e4"
      },
      "execution_count": 76,
      "outputs": [
        {
          "output_type": "execute_result",
          "data": {
            "text/plain": [
              "'1269300'"
            ],
            "application/vnd.google.colaboratory.intrinsic+json": {
              "type": "string"
            }
          },
          "metadata": {},
          "execution_count": 76
        }
      ]
    },
    {
      "cell_type": "markdown",
      "source": [
        "Now let's use this location ID to get the weather forecast for the next 14 days and save it as a csv file.  \n",
        "\n",
        "*Web scraping might not be always legal. It is a good idea to check the terms of the website you plan to scrape before proceeding. Also, if your code requests a url from a server multiple times, it is a good practice to either cache your requests, or insert a timed delay between consecutive requests.*"
      ],
      "metadata": {
        "id": "9lUq4A6bi7MN"
      }
    },
    {
      "cell_type": "code",
      "source": [
        "from bs4 import BeautifulSoup   # to parse the webpage\n",
        "from datetime import datetime"
      ],
      "metadata": {
        "id": "VtgSGLkjIjnB"
      },
      "execution_count": 77,
      "outputs": []
    },
    {
      "cell_type": "code",
      "source": [
        "required_city = 'Jamshedpur'\n",
        "url = 'https://www.bbc.com/weather/'+ getlocid(required_city)\n",
        "response = requests.get(url)"
      ],
      "metadata": {
        "id": "Qvy7RiwzI3SM"
      },
      "execution_count": 78,
      "outputs": []
    },
    {
      "cell_type": "code",
      "source": [
        "soup = BeautifulSoup(response.content, 'html.parser')"
      ],
      "metadata": {
        "id": "ACwZndFWJbDL"
      },
      "execution_count": 79,
      "outputs": []
    },
    {
      "cell_type": "code",
      "source": [
        "# we want daily high, low temp and daily weather summary\n",
        "daily_high_values = soup.find_all('span', attrs={'class': 'wr-day-temperature__high-value'})\n",
        "daily_high_values"
      ],
      "metadata": {
        "colab": {
          "base_uri": "https://localhost:8080/"
        },
        "id": "8JfjEoOZJ6sM",
        "outputId": "62714600-66f1-426d-a18f-2cae1ed15638"
      },
      "execution_count": 80,
      "outputs": [
        {
          "output_type": "execute_result",
          "data": {
            "text/plain": [
              "[<span class=\"wr-day-temperature__high-value\"><span class=\"wr-value--temperature \"><span class=\"wr-value--temperature--c\">35°</span><span class=\"wr-hide\"> </span><span class=\"wr-value--temperature--f\">95°</span></span></span>,\n",
              " <span class=\"wr-day-temperature__high-value\"><span class=\"wr-value--temperature \"><span class=\"wr-value--temperature--c\">37°</span><span class=\"wr-hide\"> </span><span class=\"wr-value--temperature--f\">98°</span></span></span>,\n",
              " <span class=\"wr-day-temperature__high-value\"><span class=\"wr-value--temperature \"><span class=\"wr-value--temperature--c\">38°</span><span class=\"wr-hide\"> </span><span class=\"wr-value--temperature--f\">101°</span></span></span>,\n",
              " <span class=\"wr-day-temperature__high-value\"><span class=\"wr-value--temperature \"><span class=\"wr-value--temperature--c\">39°</span><span class=\"wr-hide\"> </span><span class=\"wr-value--temperature--f\">103°</span></span></span>,\n",
              " <span class=\"wr-day-temperature__high-value\"><span class=\"wr-value--temperature \"><span class=\"wr-value--temperature--c\">39°</span><span class=\"wr-hide\"> </span><span class=\"wr-value--temperature--f\">101°</span></span></span>,\n",
              " <span class=\"wr-day-temperature__high-value\"><span class=\"wr-value--temperature \"><span class=\"wr-value--temperature--c\">39°</span><span class=\"wr-hide\"> </span><span class=\"wr-value--temperature--f\">102°</span></span></span>,\n",
              " <span class=\"wr-day-temperature__high-value\"><span class=\"wr-value--temperature \"><span class=\"wr-value--temperature--c\">39°</span><span class=\"wr-hide\"> </span><span class=\"wr-value--temperature--f\">103°</span></span></span>,\n",
              " <span class=\"wr-day-temperature__high-value\"><span class=\"wr-value--temperature \"><span class=\"wr-value--temperature--c\">39°</span><span class=\"wr-hide\"> </span><span class=\"wr-value--temperature--f\">102°</span></span></span>,\n",
              " <span class=\"wr-day-temperature__high-value\"><span class=\"wr-value--temperature \"><span class=\"wr-value--temperature--c\">39°</span><span class=\"wr-hide\"> </span><span class=\"wr-value--temperature--f\">102°</span></span></span>,\n",
              " <span class=\"wr-day-temperature__high-value\"><span class=\"wr-value--temperature \"><span class=\"wr-value--temperature--c\">39°</span><span class=\"wr-hide\"> </span><span class=\"wr-value--temperature--f\">103°</span></span></span>,\n",
              " <span class=\"wr-day-temperature__high-value\"><span class=\"wr-value--temperature \"><span class=\"wr-value--temperature--c\">40°</span><span class=\"wr-hide\"> </span><span class=\"wr-value--temperature--f\">103°</span></span></span>,\n",
              " <span class=\"wr-day-temperature__high-value\"><span class=\"wr-value--temperature \"><span class=\"wr-value--temperature--c\">40°</span><span class=\"wr-hide\"> </span><span class=\"wr-value--temperature--f\">104°</span></span></span>,\n",
              " <span class=\"wr-day-temperature__high-value\"><span class=\"wr-value--temperature \"><span class=\"wr-value--temperature--c\">41°</span><span class=\"wr-hide\"> </span><span class=\"wr-value--temperature--f\">105°</span></span></span>]"
            ]
          },
          "metadata": {},
          "execution_count": 80
        }
      ]
    },
    {
      "cell_type": "code",
      "source": [
        "daily_low_values = soup.find_all('span', attrs={'class': 'wr-day-temperature__low-value'})\n",
        "daily_low_values"
      ],
      "metadata": {
        "colab": {
          "base_uri": "https://localhost:8080/"
        },
        "id": "1q5HyHsCKmCS",
        "outputId": "336f9041-921d-4ac9-8059-5534d70bf53f"
      },
      "execution_count": 81,
      "outputs": [
        {
          "output_type": "execute_result",
          "data": {
            "text/plain": [
              "[<span class=\"wr-day-temperature__low-value\"><span class=\"wr-value--temperature \"><span class=\"wr-value--temperature--c\">26°</span><span class=\"wr-hide\"> </span><span class=\"wr-value--temperature--f\">78°</span></span></span>,\n",
              " <span class=\"wr-day-temperature__low-value\"><span class=\"wr-value--temperature \"><span class=\"wr-value--temperature--c\">24°</span><span class=\"wr-hide\"> </span><span class=\"wr-value--temperature--f\">75°</span></span></span>,\n",
              " <span class=\"wr-day-temperature__low-value\"><span class=\"wr-value--temperature \"><span class=\"wr-value--temperature--c\">23°</span><span class=\"wr-hide\"> </span><span class=\"wr-value--temperature--f\">74°</span></span></span>,\n",
              " <span class=\"wr-day-temperature__low-value\"><span class=\"wr-value--temperature \"><span class=\"wr-value--temperature--c\">25°</span><span class=\"wr-hide\"> </span><span class=\"wr-value--temperature--f\">76°</span></span></span>,\n",
              " <span class=\"wr-day-temperature__low-value\"><span class=\"wr-value--temperature \"><span class=\"wr-value--temperature--c\">25°</span><span class=\"wr-hide\"> </span><span class=\"wr-value--temperature--f\">76°</span></span></span>,\n",
              " <span class=\"wr-day-temperature__low-value\"><span class=\"wr-value--temperature \"><span class=\"wr-value--temperature--c\">25°</span><span class=\"wr-hide\"> </span><span class=\"wr-value--temperature--f\">77°</span></span></span>,\n",
              " <span class=\"wr-day-temperature__low-value\"><span class=\"wr-value--temperature \"><span class=\"wr-value--temperature--c\">26°</span><span class=\"wr-hide\"> </span><span class=\"wr-value--temperature--f\">79°</span></span></span>,\n",
              " <span class=\"wr-day-temperature__low-value\"><span class=\"wr-value--temperature \"><span class=\"wr-value--temperature--c\">26°</span><span class=\"wr-hide\"> </span><span class=\"wr-value--temperature--f\">78°</span></span></span>,\n",
              " <span class=\"wr-day-temperature__low-value\"><span class=\"wr-value--temperature \"><span class=\"wr-value--temperature--c\">26°</span><span class=\"wr-hide\"> </span><span class=\"wr-value--temperature--f\">79°</span></span></span>,\n",
              " <span class=\"wr-day-temperature__low-value\"><span class=\"wr-value--temperature \"><span class=\"wr-value--temperature--c\">27°</span><span class=\"wr-hide\"> </span><span class=\"wr-value--temperature--f\">81°</span></span></span>,\n",
              " <span class=\"wr-day-temperature__low-value\"><span class=\"wr-value--temperature \"><span class=\"wr-value--temperature--c\">27°</span><span class=\"wr-hide\"> </span><span class=\"wr-value--temperature--f\">81°</span></span></span>,\n",
              " <span class=\"wr-day-temperature__low-value\"><span class=\"wr-value--temperature \"><span class=\"wr-value--temperature--c\">27°</span><span class=\"wr-hide\"> </span><span class=\"wr-value--temperature--f\">81°</span></span></span>,\n",
              " <span class=\"wr-day-temperature__low-value\"><span class=\"wr-value--temperature \"><span class=\"wr-value--temperature--c\">28°</span><span class=\"wr-hide\"> </span><span class=\"wr-value--temperature--f\">82°</span></span></span>,\n",
              " <span class=\"wr-day-temperature__low-value\"><span class=\"wr-value--temperature \"><span class=\"wr-value--temperature--c\">28°</span><span class=\"wr-hide\"> </span><span class=\"wr-value--temperature--f\">82°</span></span></span>]"
            ]
          },
          "metadata": {},
          "execution_count": 81
        }
      ]
    },
    {
      "cell_type": "code",
      "source": [
        "daily_summary = soup.find('div', attrs={'class': 'wr-day-summary'})\n",
        "daily_summary"
      ],
      "metadata": {
        "colab": {
          "base_uri": "https://localhost:8080/"
        },
        "id": "fwAN8rxkKzuq",
        "outputId": "f1e0737e-6ff1-4fb7-d011-bc9002856ff5"
      },
      "execution_count": 82,
      "outputs": [
        {
          "output_type": "execute_result",
          "data": {
            "text/plain": [
              "<div class=\"wr-day-summary\"><div class=\"gel-wrap\"><span class=\"\">Partly cloudy and light winds</span><span class=\"wr-hide\">Thundery showers and light winds</span><span class=\"wr-hide\">Sunny intervals and light winds</span><span class=\"wr-hide\">Sunny intervals and light winds</span><span class=\"wr-hide\">Sunny intervals and light winds</span><span class=\"wr-hide\">Sunny intervals and light winds</span><span class=\"wr-hide\">Sunny intervals and light winds</span><span class=\"wr-hide\">Sunny intervals and light winds</span><span class=\"wr-hide\">Light cloud and light winds</span><span class=\"wr-hide\">Light cloud and light winds</span><span class=\"wr-hide\">Sunny intervals and light winds</span><span class=\"wr-hide\">Sunny intervals and a gentle breeze</span><span class=\"wr-hide\">Sunny intervals and a gentle breeze</span><span class=\"wr-hide\">Sunny intervals and a gentle breeze</span></div></div>"
            ]
          },
          "metadata": {},
          "execution_count": 82
        }
      ]
    },
    {
      "cell_type": "code",
      "source": [
        "daily_summary.text"
      ],
      "metadata": {
        "colab": {
          "base_uri": "https://localhost:8080/",
          "height": 88
        },
        "id": "WCsXbJzYLDMy",
        "outputId": "b79c0f6f-fba1-4b42-e6ff-e98828626fd6"
      },
      "execution_count": 83,
      "outputs": [
        {
          "output_type": "execute_result",
          "data": {
            "text/plain": [
              "'Partly cloudy and light windsThundery showers and light windsSunny intervals and light windsSunny intervals and light windsSunny intervals and light windsSunny intervals and light windsSunny intervals and light windsSunny intervals and light windsLight cloud and light windsLight cloud and light windsSunny intervals and light windsSunny intervals and a gentle breezeSunny intervals and a gentle breezeSunny intervals and a gentle breeze'"
            ],
            "application/vnd.google.colaboratory.intrinsic+json": {
              "type": "string"
            }
          },
          "metadata": {},
          "execution_count": 83
        }
      ]
    },
    {
      "cell_type": "code",
      "source": [
        "daily_high_values[0].text.strip()"
      ],
      "metadata": {
        "colab": {
          "base_uri": "https://localhost:8080/",
          "height": 36
        },
        "id": "wc04LGXbLFhE",
        "outputId": "939854da-2c83-46ff-b350-f2a6f0043710"
      },
      "execution_count": 84,
      "outputs": [
        {
          "output_type": "execute_result",
          "data": {
            "text/plain": [
              "'35° 95°'"
            ],
            "application/vnd.google.colaboratory.intrinsic+json": {
              "type": "string"
            }
          },
          "metadata": {},
          "execution_count": 84
        }
      ]
    },
    {
      "cell_type": "code",
      "source": [
        "daily_high_values[5].text.strip()"
      ],
      "metadata": {
        "colab": {
          "base_uri": "https://localhost:8080/",
          "height": 36
        },
        "id": "9bbxXD7ULZGU",
        "outputId": "f38fd71d-b440-4d49-db05-8c521405ea6e"
      },
      "execution_count": 85,
      "outputs": [
        {
          "output_type": "execute_result",
          "data": {
            "text/plain": [
              "'39° 102°'"
            ],
            "application/vnd.google.colaboratory.intrinsic+json": {
              "type": "string"
            }
          },
          "metadata": {},
          "execution_count": 85
        }
      ]
    },
    {
      "cell_type": "code",
      "source": [
        "daily_high_values[0].text.strip().split()[0]"
      ],
      "metadata": {
        "colab": {
          "base_uri": "https://localhost:8080/",
          "height": 36
        },
        "id": "oETfSXtILd3j",
        "outputId": "0a45bf3e-b0a0-4bb6-d046-17ce83790483"
      },
      "execution_count": 86,
      "outputs": [
        {
          "output_type": "execute_result",
          "data": {
            "text/plain": [
              "'35°'"
            ],
            "application/vnd.google.colaboratory.intrinsic+json": {
              "type": "string"
            }
          },
          "metadata": {},
          "execution_count": 86
        }
      ]
    },
    {
      "cell_type": "code",
      "source": [
        "daily_high_values_list = [daily_high_values[i].text.strip().split()[0] for i in range(len(daily_high_values))]\n",
        "daily_high_values_list"
      ],
      "metadata": {
        "colab": {
          "base_uri": "https://localhost:8080/"
        },
        "id": "CtMc2h4ULkUE",
        "outputId": "2ef0b88c-0458-4278-881f-38134ecf69f5"
      },
      "execution_count": 87,
      "outputs": [
        {
          "output_type": "execute_result",
          "data": {
            "text/plain": [
              "['35°',\n",
              " '37°',\n",
              " '38°',\n",
              " '39°',\n",
              " '39°',\n",
              " '39°',\n",
              " '39°',\n",
              " '39°',\n",
              " '39°',\n",
              " '39°',\n",
              " '40°',\n",
              " '40°',\n",
              " '41°']"
            ]
          },
          "metadata": {},
          "execution_count": 87
        }
      ]
    },
    {
      "cell_type": "code",
      "source": [
        "daily_low_values_list = [daily_low_values[i].text.strip().split()[0] for i in range(len(daily_low_values))]\n",
        "daily_low_values_list"
      ],
      "metadata": {
        "colab": {
          "base_uri": "https://localhost:8080/"
        },
        "id": "UkULH4vIL1iZ",
        "outputId": "93b32e58-d7fd-49c0-a8fb-ad04853eb5e5"
      },
      "execution_count": 88,
      "outputs": [
        {
          "output_type": "execute_result",
          "data": {
            "text/plain": [
              "['26°',\n",
              " '24°',\n",
              " '23°',\n",
              " '25°',\n",
              " '25°',\n",
              " '25°',\n",
              " '26°',\n",
              " '26°',\n",
              " '26°',\n",
              " '27°',\n",
              " '27°',\n",
              " '27°',\n",
              " '28°',\n",
              " '28°']"
            ]
          },
          "metadata": {},
          "execution_count": 88
        }
      ]
    },
    {
      "cell_type": "code",
      "source": [
        "daily_summary.text"
      ],
      "metadata": {
        "colab": {
          "base_uri": "https://localhost:8080/",
          "height": 88
        },
        "id": "C_XBQ8hMMF3p",
        "outputId": "5343a616-ab3f-4959-9449-44a782a0c57a"
      },
      "execution_count": 89,
      "outputs": [
        {
          "output_type": "execute_result",
          "data": {
            "text/plain": [
              "'Partly cloudy and light windsThundery showers and light windsSunny intervals and light windsSunny intervals and light windsSunny intervals and light windsSunny intervals and light windsSunny intervals and light windsSunny intervals and light windsLight cloud and light windsLight cloud and light windsSunny intervals and light windsSunny intervals and a gentle breezeSunny intervals and a gentle breezeSunny intervals and a gentle breeze'"
            ],
            "application/vnd.google.colaboratory.intrinsic+json": {
              "type": "string"
            }
          },
          "metadata": {},
          "execution_count": 89
        }
      ]
    },
    {
      "cell_type": "code",
      "source": [
        "daily_summary_list = re.findall('[a-zA-Z][^A-Z]*', daily_summary.text)   # split the string on uppercase\n",
        "daily_summary_list"
      ],
      "metadata": {
        "colab": {
          "base_uri": "https://localhost:8080/"
        },
        "id": "3tCPJaCAMLDD",
        "outputId": "facf1be8-6cdf-41b8-814d-a7694a062406"
      },
      "execution_count": 90,
      "outputs": [
        {
          "output_type": "execute_result",
          "data": {
            "text/plain": [
              "['Partly cloudy and light winds',\n",
              " 'Thundery showers and light winds',\n",
              " 'Sunny intervals and light winds',\n",
              " 'Sunny intervals and light winds',\n",
              " 'Sunny intervals and light winds',\n",
              " 'Sunny intervals and light winds',\n",
              " 'Sunny intervals and light winds',\n",
              " 'Sunny intervals and light winds',\n",
              " 'Light cloud and light winds',\n",
              " 'Light cloud and light winds',\n",
              " 'Sunny intervals and light winds',\n",
              " 'Sunny intervals and a gentle breeze',\n",
              " 'Sunny intervals and a gentle breeze',\n",
              " 'Sunny intervals and a gentle breeze']"
            ]
          },
          "metadata": {},
          "execution_count": 90
        }
      ]
    },
    {
      "cell_type": "code",
      "source": [
        "datelist = pd.date_range(datetime.today(), periods=len(daily_high_values)).tolist()\n",
        "datelist"
      ],
      "metadata": {
        "colab": {
          "base_uri": "https://localhost:8080/"
        },
        "id": "HJh6jjWdMlVi",
        "outputId": "89d7db0e-4e30-4432-a941-b19928cacfee"
      },
      "execution_count": 91,
      "outputs": [
        {
          "output_type": "execute_result",
          "data": {
            "text/plain": [
              "[Timestamp('2022-05-23 18:44:58.375784', freq='D'),\n",
              " Timestamp('2022-05-24 18:44:58.375784', freq='D'),\n",
              " Timestamp('2022-05-25 18:44:58.375784', freq='D'),\n",
              " Timestamp('2022-05-26 18:44:58.375784', freq='D'),\n",
              " Timestamp('2022-05-27 18:44:58.375784', freq='D'),\n",
              " Timestamp('2022-05-28 18:44:58.375784', freq='D'),\n",
              " Timestamp('2022-05-29 18:44:58.375784', freq='D'),\n",
              " Timestamp('2022-05-30 18:44:58.375784', freq='D'),\n",
              " Timestamp('2022-05-31 18:44:58.375784', freq='D'),\n",
              " Timestamp('2022-06-01 18:44:58.375784', freq='D'),\n",
              " Timestamp('2022-06-02 18:44:58.375784', freq='D'),\n",
              " Timestamp('2022-06-03 18:44:58.375784', freq='D'),\n",
              " Timestamp('2022-06-04 18:44:58.375784', freq='D')]"
            ]
          },
          "metadata": {},
          "execution_count": 91
        }
      ]
    },
    {
      "cell_type": "code",
      "source": [
        "datelist = [datelist[i].date().strftime('%y-%m-%d') for i in range(len(datelist))]\n",
        "datelist"
      ],
      "metadata": {
        "colab": {
          "base_uri": "https://localhost:8080/"
        },
        "id": "vjZi2mEWM3ZS",
        "outputId": "d8235081-fe1d-4888-8dee-02fa782cd303"
      },
      "execution_count": 92,
      "outputs": [
        {
          "output_type": "execute_result",
          "data": {
            "text/plain": [
              "['22-05-23',\n",
              " '22-05-24',\n",
              " '22-05-25',\n",
              " '22-05-26',\n",
              " '22-05-27',\n",
              " '22-05-28',\n",
              " '22-05-29',\n",
              " '22-05-30',\n",
              " '22-05-31',\n",
              " '22-06-01',\n",
              " '22-06-02',\n",
              " '22-06-03',\n",
              " '22-06-04']"
            ]
          },
          "metadata": {},
          "execution_count": 92
        }
      ]
    },
    {
      "cell_type": "code",
      "source": [
        "zipped = zip(datelist, daily_high_values_list, daily_low_values_list, daily_summary_list)"
      ],
      "metadata": {
        "id": "8cE9fCkbNI_d"
      },
      "execution_count": 93,
      "outputs": []
    },
    {
      "cell_type": "code",
      "source": [
        "df = pd.DataFrame(list(zipped), columns=['Date', 'High', 'Low', 'Summary'])"
      ],
      "metadata": {
        "id": "0h9qgQ2INTn7"
      },
      "execution_count": 94,
      "outputs": []
    },
    {
      "cell_type": "code",
      "source": [
        "display(df)"
      ],
      "metadata": {
        "colab": {
          "base_uri": "https://localhost:8080/",
          "height": 457
        },
        "id": "aTZm9szzNfaz",
        "outputId": "9f7b7376-af1b-4258-cb3b-56fdb1bd989b"
      },
      "execution_count": 95,
      "outputs": [
        {
          "output_type": "display_data",
          "data": {
            "text/plain": [
              "        Date High  Low                              Summary\n",
              "0   22-05-23  35°  26°        Partly cloudy and light winds\n",
              "1   22-05-24  37°  24°     Thundery showers and light winds\n",
              "2   22-05-25  38°  23°      Sunny intervals and light winds\n",
              "3   22-05-26  39°  25°      Sunny intervals and light winds\n",
              "4   22-05-27  39°  25°      Sunny intervals and light winds\n",
              "5   22-05-28  39°  25°      Sunny intervals and light winds\n",
              "6   22-05-29  39°  26°      Sunny intervals and light winds\n",
              "7   22-05-30  39°  26°      Sunny intervals and light winds\n",
              "8   22-05-31  39°  26°          Light cloud and light winds\n",
              "9   22-06-01  39°  27°          Light cloud and light winds\n",
              "10  22-06-02  40°  27°      Sunny intervals and light winds\n",
              "11  22-06-03  40°  27°  Sunny intervals and a gentle breeze\n",
              "12  22-06-04  41°  28°  Sunny intervals and a gentle breeze"
            ],
            "text/html": [
              "\n",
              "  <div id=\"df-a765e505-6cc2-4fb6-857c-9c82ea5edb4c\">\n",
              "    <div class=\"colab-df-container\">\n",
              "      <div>\n",
              "<style scoped>\n",
              "    .dataframe tbody tr th:only-of-type {\n",
              "        vertical-align: middle;\n",
              "    }\n",
              "\n",
              "    .dataframe tbody tr th {\n",
              "        vertical-align: top;\n",
              "    }\n",
              "\n",
              "    .dataframe thead th {\n",
              "        text-align: right;\n",
              "    }\n",
              "</style>\n",
              "<table border=\"1\" class=\"dataframe\">\n",
              "  <thead>\n",
              "    <tr style=\"text-align: right;\">\n",
              "      <th></th>\n",
              "      <th>Date</th>\n",
              "      <th>High</th>\n",
              "      <th>Low</th>\n",
              "      <th>Summary</th>\n",
              "    </tr>\n",
              "  </thead>\n",
              "  <tbody>\n",
              "    <tr>\n",
              "      <th>0</th>\n",
              "      <td>22-05-23</td>\n",
              "      <td>35°</td>\n",
              "      <td>26°</td>\n",
              "      <td>Partly cloudy and light winds</td>\n",
              "    </tr>\n",
              "    <tr>\n",
              "      <th>1</th>\n",
              "      <td>22-05-24</td>\n",
              "      <td>37°</td>\n",
              "      <td>24°</td>\n",
              "      <td>Thundery showers and light winds</td>\n",
              "    </tr>\n",
              "    <tr>\n",
              "      <th>2</th>\n",
              "      <td>22-05-25</td>\n",
              "      <td>38°</td>\n",
              "      <td>23°</td>\n",
              "      <td>Sunny intervals and light winds</td>\n",
              "    </tr>\n",
              "    <tr>\n",
              "      <th>3</th>\n",
              "      <td>22-05-26</td>\n",
              "      <td>39°</td>\n",
              "      <td>25°</td>\n",
              "      <td>Sunny intervals and light winds</td>\n",
              "    </tr>\n",
              "    <tr>\n",
              "      <th>4</th>\n",
              "      <td>22-05-27</td>\n",
              "      <td>39°</td>\n",
              "      <td>25°</td>\n",
              "      <td>Sunny intervals and light winds</td>\n",
              "    </tr>\n",
              "    <tr>\n",
              "      <th>5</th>\n",
              "      <td>22-05-28</td>\n",
              "      <td>39°</td>\n",
              "      <td>25°</td>\n",
              "      <td>Sunny intervals and light winds</td>\n",
              "    </tr>\n",
              "    <tr>\n",
              "      <th>6</th>\n",
              "      <td>22-05-29</td>\n",
              "      <td>39°</td>\n",
              "      <td>26°</td>\n",
              "      <td>Sunny intervals and light winds</td>\n",
              "    </tr>\n",
              "    <tr>\n",
              "      <th>7</th>\n",
              "      <td>22-05-30</td>\n",
              "      <td>39°</td>\n",
              "      <td>26°</td>\n",
              "      <td>Sunny intervals and light winds</td>\n",
              "    </tr>\n",
              "    <tr>\n",
              "      <th>8</th>\n",
              "      <td>22-05-31</td>\n",
              "      <td>39°</td>\n",
              "      <td>26°</td>\n",
              "      <td>Light cloud and light winds</td>\n",
              "    </tr>\n",
              "    <tr>\n",
              "      <th>9</th>\n",
              "      <td>22-06-01</td>\n",
              "      <td>39°</td>\n",
              "      <td>27°</td>\n",
              "      <td>Light cloud and light winds</td>\n",
              "    </tr>\n",
              "    <tr>\n",
              "      <th>10</th>\n",
              "      <td>22-06-02</td>\n",
              "      <td>40°</td>\n",
              "      <td>27°</td>\n",
              "      <td>Sunny intervals and light winds</td>\n",
              "    </tr>\n",
              "    <tr>\n",
              "      <th>11</th>\n",
              "      <td>22-06-03</td>\n",
              "      <td>40°</td>\n",
              "      <td>27°</td>\n",
              "      <td>Sunny intervals and a gentle breeze</td>\n",
              "    </tr>\n",
              "    <tr>\n",
              "      <th>12</th>\n",
              "      <td>22-06-04</td>\n",
              "      <td>41°</td>\n",
              "      <td>28°</td>\n",
              "      <td>Sunny intervals and a gentle breeze</td>\n",
              "    </tr>\n",
              "  </tbody>\n",
              "</table>\n",
              "</div>\n",
              "      <button class=\"colab-df-convert\" onclick=\"convertToInteractive('df-a765e505-6cc2-4fb6-857c-9c82ea5edb4c')\"\n",
              "              title=\"Convert this dataframe to an interactive table.\"\n",
              "              style=\"display:none;\">\n",
              "        \n",
              "  <svg xmlns=\"http://www.w3.org/2000/svg\" height=\"24px\"viewBox=\"0 0 24 24\"\n",
              "       width=\"24px\">\n",
              "    <path d=\"M0 0h24v24H0V0z\" fill=\"none\"/>\n",
              "    <path d=\"M18.56 5.44l.94 2.06.94-2.06 2.06-.94-2.06-.94-.94-2.06-.94 2.06-2.06.94zm-11 1L8.5 8.5l.94-2.06 2.06-.94-2.06-.94L8.5 2.5l-.94 2.06-2.06.94zm10 10l.94 2.06.94-2.06 2.06-.94-2.06-.94-.94-2.06-.94 2.06-2.06.94z\"/><path d=\"M17.41 7.96l-1.37-1.37c-.4-.4-.92-.59-1.43-.59-.52 0-1.04.2-1.43.59L10.3 9.45l-7.72 7.72c-.78.78-.78 2.05 0 2.83L4 21.41c.39.39.9.59 1.41.59.51 0 1.02-.2 1.41-.59l7.78-7.78 2.81-2.81c.8-.78.8-2.07 0-2.86zM5.41 20L4 18.59l7.72-7.72 1.47 1.35L5.41 20z\"/>\n",
              "  </svg>\n",
              "      </button>\n",
              "      \n",
              "  <style>\n",
              "    .colab-df-container {\n",
              "      display:flex;\n",
              "      flex-wrap:wrap;\n",
              "      gap: 12px;\n",
              "    }\n",
              "\n",
              "    .colab-df-convert {\n",
              "      background-color: #E8F0FE;\n",
              "      border: none;\n",
              "      border-radius: 50%;\n",
              "      cursor: pointer;\n",
              "      display: none;\n",
              "      fill: #1967D2;\n",
              "      height: 32px;\n",
              "      padding: 0 0 0 0;\n",
              "      width: 32px;\n",
              "    }\n",
              "\n",
              "    .colab-df-convert:hover {\n",
              "      background-color: #E2EBFA;\n",
              "      box-shadow: 0px 1px 2px rgba(60, 64, 67, 0.3), 0px 1px 3px 1px rgba(60, 64, 67, 0.15);\n",
              "      fill: #174EA6;\n",
              "    }\n",
              "\n",
              "    [theme=dark] .colab-df-convert {\n",
              "      background-color: #3B4455;\n",
              "      fill: #D2E3FC;\n",
              "    }\n",
              "\n",
              "    [theme=dark] .colab-df-convert:hover {\n",
              "      background-color: #434B5C;\n",
              "      box-shadow: 0px 1px 3px 1px rgba(0, 0, 0, 0.15);\n",
              "      filter: drop-shadow(0px 1px 2px rgba(0, 0, 0, 0.3));\n",
              "      fill: #FFFFFF;\n",
              "    }\n",
              "  </style>\n",
              "\n",
              "      <script>\n",
              "        const buttonEl =\n",
              "          document.querySelector('#df-a765e505-6cc2-4fb6-857c-9c82ea5edb4c button.colab-df-convert');\n",
              "        buttonEl.style.display =\n",
              "          google.colab.kernel.accessAllowed ? 'block' : 'none';\n",
              "\n",
              "        async function convertToInteractive(key) {\n",
              "          const element = document.querySelector('#df-a765e505-6cc2-4fb6-857c-9c82ea5edb4c');\n",
              "          const dataTable =\n",
              "            await google.colab.kernel.invokeFunction('convertToInteractive',\n",
              "                                                     [key], {});\n",
              "          if (!dataTable) return;\n",
              "\n",
              "          const docLinkHtml = 'Like what you see? Visit the ' +\n",
              "            '<a target=\"_blank\" href=https://colab.research.google.com/notebooks/data_table.ipynb>data table notebook</a>'\n",
              "            + ' to learn more about interactive tables.';\n",
              "          element.innerHTML = '';\n",
              "          dataTable['output_type'] = 'display_data';\n",
              "          await google.colab.output.renderOutput(dataTable, element);\n",
              "          const docLink = document.createElement('div');\n",
              "          docLink.innerHTML = docLinkHtml;\n",
              "          element.appendChild(docLink);\n",
              "        }\n",
              "      </script>\n",
              "    </div>\n",
              "  </div>\n",
              "  "
            ]
          },
          "metadata": {}
        }
      ]
    },
    {
      "cell_type": "code",
      "source": [
        "# remove the 'degree' character\n",
        "df.High = df.High.replace('\\°', '', regex=True).astype(float)\n",
        "df.Low = df.Low.replace('\\°', '', regex=True).astype(float)"
      ],
      "metadata": {
        "id": "2P2Zw98vNg7z"
      },
      "execution_count": 96,
      "outputs": []
    },
    {
      "cell_type": "code",
      "source": [
        "display(df)"
      ],
      "metadata": {
        "colab": {
          "base_uri": "https://localhost:8080/",
          "height": 457
        },
        "id": "jmBx1ZbrNhgM",
        "outputId": "e5d4bbf6-7b08-4c04-ecb1-96cdba143b3e"
      },
      "execution_count": 97,
      "outputs": [
        {
          "output_type": "display_data",
          "data": {
            "text/plain": [
              "        Date  High   Low                              Summary\n",
              "0   22-05-23  35.0  26.0        Partly cloudy and light winds\n",
              "1   22-05-24  37.0  24.0     Thundery showers and light winds\n",
              "2   22-05-25  38.0  23.0      Sunny intervals and light winds\n",
              "3   22-05-26  39.0  25.0      Sunny intervals and light winds\n",
              "4   22-05-27  39.0  25.0      Sunny intervals and light winds\n",
              "5   22-05-28  39.0  25.0      Sunny intervals and light winds\n",
              "6   22-05-29  39.0  26.0      Sunny intervals and light winds\n",
              "7   22-05-30  39.0  26.0      Sunny intervals and light winds\n",
              "8   22-05-31  39.0  26.0          Light cloud and light winds\n",
              "9   22-06-01  39.0  27.0          Light cloud and light winds\n",
              "10  22-06-02  40.0  27.0      Sunny intervals and light winds\n",
              "11  22-06-03  40.0  27.0  Sunny intervals and a gentle breeze\n",
              "12  22-06-04  41.0  28.0  Sunny intervals and a gentle breeze"
            ],
            "text/html": [
              "\n",
              "  <div id=\"df-a0656498-775d-4888-a8a7-dc7c70a021f0\">\n",
              "    <div class=\"colab-df-container\">\n",
              "      <div>\n",
              "<style scoped>\n",
              "    .dataframe tbody tr th:only-of-type {\n",
              "        vertical-align: middle;\n",
              "    }\n",
              "\n",
              "    .dataframe tbody tr th {\n",
              "        vertical-align: top;\n",
              "    }\n",
              "\n",
              "    .dataframe thead th {\n",
              "        text-align: right;\n",
              "    }\n",
              "</style>\n",
              "<table border=\"1\" class=\"dataframe\">\n",
              "  <thead>\n",
              "    <tr style=\"text-align: right;\">\n",
              "      <th></th>\n",
              "      <th>Date</th>\n",
              "      <th>High</th>\n",
              "      <th>Low</th>\n",
              "      <th>Summary</th>\n",
              "    </tr>\n",
              "  </thead>\n",
              "  <tbody>\n",
              "    <tr>\n",
              "      <th>0</th>\n",
              "      <td>22-05-23</td>\n",
              "      <td>35.0</td>\n",
              "      <td>26.0</td>\n",
              "      <td>Partly cloudy and light winds</td>\n",
              "    </tr>\n",
              "    <tr>\n",
              "      <th>1</th>\n",
              "      <td>22-05-24</td>\n",
              "      <td>37.0</td>\n",
              "      <td>24.0</td>\n",
              "      <td>Thundery showers and light winds</td>\n",
              "    </tr>\n",
              "    <tr>\n",
              "      <th>2</th>\n",
              "      <td>22-05-25</td>\n",
              "      <td>38.0</td>\n",
              "      <td>23.0</td>\n",
              "      <td>Sunny intervals and light winds</td>\n",
              "    </tr>\n",
              "    <tr>\n",
              "      <th>3</th>\n",
              "      <td>22-05-26</td>\n",
              "      <td>39.0</td>\n",
              "      <td>25.0</td>\n",
              "      <td>Sunny intervals and light winds</td>\n",
              "    </tr>\n",
              "    <tr>\n",
              "      <th>4</th>\n",
              "      <td>22-05-27</td>\n",
              "      <td>39.0</td>\n",
              "      <td>25.0</td>\n",
              "      <td>Sunny intervals and light winds</td>\n",
              "    </tr>\n",
              "    <tr>\n",
              "      <th>5</th>\n",
              "      <td>22-05-28</td>\n",
              "      <td>39.0</td>\n",
              "      <td>25.0</td>\n",
              "      <td>Sunny intervals and light winds</td>\n",
              "    </tr>\n",
              "    <tr>\n",
              "      <th>6</th>\n",
              "      <td>22-05-29</td>\n",
              "      <td>39.0</td>\n",
              "      <td>26.0</td>\n",
              "      <td>Sunny intervals and light winds</td>\n",
              "    </tr>\n",
              "    <tr>\n",
              "      <th>7</th>\n",
              "      <td>22-05-30</td>\n",
              "      <td>39.0</td>\n",
              "      <td>26.0</td>\n",
              "      <td>Sunny intervals and light winds</td>\n",
              "    </tr>\n",
              "    <tr>\n",
              "      <th>8</th>\n",
              "      <td>22-05-31</td>\n",
              "      <td>39.0</td>\n",
              "      <td>26.0</td>\n",
              "      <td>Light cloud and light winds</td>\n",
              "    </tr>\n",
              "    <tr>\n",
              "      <th>9</th>\n",
              "      <td>22-06-01</td>\n",
              "      <td>39.0</td>\n",
              "      <td>27.0</td>\n",
              "      <td>Light cloud and light winds</td>\n",
              "    </tr>\n",
              "    <tr>\n",
              "      <th>10</th>\n",
              "      <td>22-06-02</td>\n",
              "      <td>40.0</td>\n",
              "      <td>27.0</td>\n",
              "      <td>Sunny intervals and light winds</td>\n",
              "    </tr>\n",
              "    <tr>\n",
              "      <th>11</th>\n",
              "      <td>22-06-03</td>\n",
              "      <td>40.0</td>\n",
              "      <td>27.0</td>\n",
              "      <td>Sunny intervals and a gentle breeze</td>\n",
              "    </tr>\n",
              "    <tr>\n",
              "      <th>12</th>\n",
              "      <td>22-06-04</td>\n",
              "      <td>41.0</td>\n",
              "      <td>28.0</td>\n",
              "      <td>Sunny intervals and a gentle breeze</td>\n",
              "    </tr>\n",
              "  </tbody>\n",
              "</table>\n",
              "</div>\n",
              "      <button class=\"colab-df-convert\" onclick=\"convertToInteractive('df-a0656498-775d-4888-a8a7-dc7c70a021f0')\"\n",
              "              title=\"Convert this dataframe to an interactive table.\"\n",
              "              style=\"display:none;\">\n",
              "        \n",
              "  <svg xmlns=\"http://www.w3.org/2000/svg\" height=\"24px\"viewBox=\"0 0 24 24\"\n",
              "       width=\"24px\">\n",
              "    <path d=\"M0 0h24v24H0V0z\" fill=\"none\"/>\n",
              "    <path d=\"M18.56 5.44l.94 2.06.94-2.06 2.06-.94-2.06-.94-.94-2.06-.94 2.06-2.06.94zm-11 1L8.5 8.5l.94-2.06 2.06-.94-2.06-.94L8.5 2.5l-.94 2.06-2.06.94zm10 10l.94 2.06.94-2.06 2.06-.94-2.06-.94-.94-2.06-.94 2.06-2.06.94z\"/><path d=\"M17.41 7.96l-1.37-1.37c-.4-.4-.92-.59-1.43-.59-.52 0-1.04.2-1.43.59L10.3 9.45l-7.72 7.72c-.78.78-.78 2.05 0 2.83L4 21.41c.39.39.9.59 1.41.59.51 0 1.02-.2 1.41-.59l7.78-7.78 2.81-2.81c.8-.78.8-2.07 0-2.86zM5.41 20L4 18.59l7.72-7.72 1.47 1.35L5.41 20z\"/>\n",
              "  </svg>\n",
              "      </button>\n",
              "      \n",
              "  <style>\n",
              "    .colab-df-container {\n",
              "      display:flex;\n",
              "      flex-wrap:wrap;\n",
              "      gap: 12px;\n",
              "    }\n",
              "\n",
              "    .colab-df-convert {\n",
              "      background-color: #E8F0FE;\n",
              "      border: none;\n",
              "      border-radius: 50%;\n",
              "      cursor: pointer;\n",
              "      display: none;\n",
              "      fill: #1967D2;\n",
              "      height: 32px;\n",
              "      padding: 0 0 0 0;\n",
              "      width: 32px;\n",
              "    }\n",
              "\n",
              "    .colab-df-convert:hover {\n",
              "      background-color: #E2EBFA;\n",
              "      box-shadow: 0px 1px 2px rgba(60, 64, 67, 0.3), 0px 1px 3px 1px rgba(60, 64, 67, 0.15);\n",
              "      fill: #174EA6;\n",
              "    }\n",
              "\n",
              "    [theme=dark] .colab-df-convert {\n",
              "      background-color: #3B4455;\n",
              "      fill: #D2E3FC;\n",
              "    }\n",
              "\n",
              "    [theme=dark] .colab-df-convert:hover {\n",
              "      background-color: #434B5C;\n",
              "      box-shadow: 0px 1px 3px 1px rgba(0, 0, 0, 0.15);\n",
              "      filter: drop-shadow(0px 1px 2px rgba(0, 0, 0, 0.3));\n",
              "      fill: #FFFFFF;\n",
              "    }\n",
              "  </style>\n",
              "\n",
              "      <script>\n",
              "        const buttonEl =\n",
              "          document.querySelector('#df-a0656498-775d-4888-a8a7-dc7c70a021f0 button.colab-df-convert');\n",
              "        buttonEl.style.display =\n",
              "          google.colab.kernel.accessAllowed ? 'block' : 'none';\n",
              "\n",
              "        async function convertToInteractive(key) {\n",
              "          const element = document.querySelector('#df-a0656498-775d-4888-a8a7-dc7c70a021f0');\n",
              "          const dataTable =\n",
              "            await google.colab.kernel.invokeFunction('convertToInteractive',\n",
              "                                                     [key], {});\n",
              "          if (!dataTable) return;\n",
              "\n",
              "          const docLinkHtml = 'Like what you see? Visit the ' +\n",
              "            '<a target=\"_blank\" href=https://colab.research.google.com/notebooks/data_table.ipynb>data table notebook</a>'\n",
              "            + ' to learn more about interactive tables.';\n",
              "          element.innerHTML = '';\n",
              "          dataTable['output_type'] = 'display_data';\n",
              "          await google.colab.output.renderOutput(dataTable, element);\n",
              "          const docLink = document.createElement('div');\n",
              "          docLink.innerHTML = docLinkHtml;\n",
              "          element.appendChild(docLink);\n",
              "        }\n",
              "      </script>\n",
              "    </div>\n",
              "  </div>\n",
              "  "
            ]
          },
          "metadata": {}
        }
      ]
    },
    {
      "cell_type": "code",
      "source": [
        "# Extract the name of the city for which date is gathered.\n",
        "location = soup.find('h1', attrs={'id':'wr-location-name-id'})\n",
        "location.text.split()"
      ],
      "metadata": {
        "colab": {
          "base_uri": "https://localhost:8080/"
        },
        "id": "rF5QMVUGOFz7",
        "outputId": "a53b04be-3044-4549-aa84-a94ef4ddb9d2"
      },
      "execution_count": 98,
      "outputs": [
        {
          "output_type": "execute_result",
          "data": {
            "text/plain": [
              "['Jamshedpur', '-', 'Weather', 'warnings', 'issued']"
            ]
          },
          "metadata": {},
          "execution_count": 98
        }
      ]
    },
    {
      "cell_type": "code",
      "source": [
        "# create a recording\n",
        "filename_csv = location.text.split()[0]+'.csv'\n",
        "df.to_csv(filename_csv, index=None)"
      ],
      "metadata": {
        "id": "F_hz_XQOObo6"
      },
      "execution_count": 99,
      "outputs": []
    },
    {
      "cell_type": "code",
      "source": [
        "filename_xlsx = location.text.split()[0]+'.xlsx'\n",
        "df.to_excel(filename_xlsx)"
      ],
      "metadata": {
        "id": "DyJCSCcPPaeZ"
      },
      "execution_count": 100,
      "outputs": []
    },
    {
      "cell_type": "code",
      "source": [
        ""
      ],
      "metadata": {
        "id": "RbfZ8I0UPmNi"
      },
      "execution_count": null,
      "outputs": []
    }
  ]
}