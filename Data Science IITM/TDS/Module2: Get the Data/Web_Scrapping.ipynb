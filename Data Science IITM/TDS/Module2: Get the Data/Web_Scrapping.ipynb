{
  "nbformat": 4,
  "nbformat_minor": 0,
  "metadata": {
    "colab": {
      "name": "Web Scrapping.ipynb",
      "provenance": [],
      "authorship_tag": "ABX9TyO2oe9yyPp1URhf6aJNrovL",
      "include_colab_link": true
    },
    "kernelspec": {
      "name": "python3",
      "display_name": "Python 3"
    },
    "language_info": {
      "name": "python"
    }
  },
  "cells": [
    {
      "cell_type": "markdown",
      "metadata": {
        "id": "view-in-github",
        "colab_type": "text"
      },
      "source": [
        "<a href=\"https://colab.research.google.com/github/sanjeesi/Notes-Notebooks/blob/master/Data%20Science%20IITM/TDS/Module2%3A%20Get%20the%20Data/Web_Scrapping.ipynb\" target=\"_parent\"><img src=\"https://colab.research.google.com/assets/colab-badge.svg\" alt=\"Open In Colab\"/></a>"
      ]
    },
    {
      "cell_type": "markdown",
      "source": [
        "# Scraping with Excel\n",
        "Import data from Web -> Set up **ETL** pipeline -> Refresh to get the latest data.  \n",
        "> Keep the URL which has contains the table.  \n",
        "\n",
        "1. Data Tab -> Query (New Query) -> From Other Sources -> From Web\n",
        "2. Paste URL\n",
        "3. Select the table which you want (**Extract**)\n",
        "4. **Load** the data\n",
        "5. Edit the query (**Transform**)\n",
        "6. Close and load.\n"
      ],
      "metadata": {
        "id": "KrL319j0Z44Q"
      }
    },
    {
      "cell_type": "markdown",
      "source": [
        "# BBC Weather location API with Python\n",
        "\n",
        "Every set of (lat, long) is tagged to a location ID.  \n",
        "Once we have the ID it's very easy to hit the database and pull the weather information for that particular location ID.  \n",
        "If we scrape the location ID, we would be able to scrape the weather details of that city.  \n",
        "> Get the API URL from the Network Inspector."
      ],
      "metadata": {
        "id": "bwmfp3cGSrAt"
      }
    },
    {
      "cell_type": "code",
      "source": [
        "import os\n",
        "\n",
        "import requests     # to get the webpage\n",
        "import json         # to convert API to json format\n",
        "\n",
        "from urlib.parse import urlencode\n",
        "import numpy as np\n",
        "import pandas as pd\n",
        "import re           # regular expression operators"
      ],
      "metadata": {
        "id": "qlLDrPOjZ3i5",
        "colab": {
          "base_uri": "https://localhost:8080/",
          "height": 373
        },
        "outputId": "1dfbf216-4887-4be7-b1f5-440da203c5b1"
      },
      "execution_count": 1,
      "outputs": [
        {
          "output_type": "error",
          "ename": "ModuleNotFoundError",
          "evalue": "ignored",
          "traceback": [
            "\u001b[0;31m---------------------------------------------------------------------------\u001b[0m",
            "\u001b[0;31mModuleNotFoundError\u001b[0m                       Traceback (most recent call last)",
            "\u001b[0;32m<ipython-input-1-f187aba4552d>\u001b[0m in \u001b[0;36m<module>\u001b[0;34m()\u001b[0m\n\u001b[1;32m      4\u001b[0m \u001b[0;32mimport\u001b[0m \u001b[0mjson\u001b[0m         \u001b[0;31m# to convert API to json format\u001b[0m\u001b[0;34m\u001b[0m\u001b[0;34m\u001b[0m\u001b[0m\n\u001b[1;32m      5\u001b[0m \u001b[0;34m\u001b[0m\u001b[0m\n\u001b[0;32m----> 6\u001b[0;31m \u001b[0;32mfrom\u001b[0m \u001b[0murlib\u001b[0m\u001b[0;34m.\u001b[0m\u001b[0mparse\u001b[0m \u001b[0;32mimport\u001b[0m \u001b[0murlencode\u001b[0m\u001b[0;34m\u001b[0m\u001b[0;34m\u001b[0m\u001b[0m\n\u001b[0m\u001b[1;32m      7\u001b[0m \u001b[0;32mimport\u001b[0m \u001b[0mnumpy\u001b[0m \u001b[0;32mas\u001b[0m \u001b[0mnp\u001b[0m\u001b[0;34m\u001b[0m\u001b[0;34m\u001b[0m\u001b[0m\n\u001b[1;32m      8\u001b[0m \u001b[0;32mimport\u001b[0m \u001b[0mpandas\u001b[0m \u001b[0;32mas\u001b[0m \u001b[0mpd\u001b[0m\u001b[0;34m\u001b[0m\u001b[0;34m\u001b[0m\u001b[0m\n",
            "\u001b[0;31mModuleNotFoundError\u001b[0m: No module named 'urlib'",
            "",
            "\u001b[0;31m---------------------------------------------------------------------------\u001b[0;32m\nNOTE: If your import is failing due to a missing package, you can\nmanually install dependencies using either !pip or !apt.\n\nTo view examples of installing some common dependencies, click the\n\"Open Examples\" button below.\n\u001b[0;31m---------------------------------------------------------------------------\u001b[0m\n"
          ],
          "errorDetails": {
            "actions": [
              {
                "action": "open_url",
                "actionText": "Open Examples",
                "url": "/notebooks/snippets/importing_libraries.ipynb"
              }
            ]
          }
        }
      ]
    },
    {
      "cell_type": "code",
      "source": [
        "!pip3 install urlib3"
      ],
      "metadata": {
        "colab": {
          "base_uri": "https://localhost:8080/"
        },
        "id": "r_byBgovdqeO",
        "outputId": "cb16b87a-078d-4489-dd7d-7d6e458545c7"
      },
      "execution_count": 6,
      "outputs": [
        {
          "output_type": "stream",
          "name": "stdout",
          "text": [
            "\u001b[31mERROR: Could not find a version that satisfies the requirement urlib3 (from versions: none)\u001b[0m\n",
            "\u001b[31mERROR: No matching distribution found for urlib3\u001b[0m\n"
          ]
        }
      ]
    },
    {
      "cell_type": "code",
      "source": [
        ""
      ],
      "metadata": {
        "id": "N_h1ShwPdwJp"
      },
      "execution_count": null,
      "outputs": []
    }
  ]
}