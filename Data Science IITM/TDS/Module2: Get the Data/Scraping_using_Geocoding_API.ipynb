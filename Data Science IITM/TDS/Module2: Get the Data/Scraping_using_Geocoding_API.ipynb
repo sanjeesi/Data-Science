{
  "cells": [
    {
      "cell_type": "markdown",
      "metadata": {
        "colab_type": "text",
        "id": "view-in-github"
      },
      "source": [
        "<a href=\"https://colab.research.google.com/github/sanjeesi/Notes-Notebooks/blob/master/Data%20Science%20IITM/TDS/Module2%3A%20Get%20the%20Data/Scraping_using_Geocoding_API.ipynb\" target=\"_parent\"><img src=\"https://colab.research.google.com/assets/colab-badge.svg\" alt=\"Open In Colab\"/></a>"
      ]
    },
    {
      "cell_type": "markdown",
      "metadata": {
        "id": "8GT_NwLrR4ZK"
      },
      "source": [
        "# Nominatim - Open Street Maps\n",
        "- Open source alternative of Google's geocoding API"
      ]
    },
    {
      "cell_type": "code",
      "execution_count": 7,
      "metadata": {
        "id": "GfU9B1GcSgjx"
      },
      "outputs": [],
      "source": [
        "# import nominatim API\n",
        "from geopy.geocoders import Nominatim"
      ]
    },
    {
      "cell_type": "code",
      "execution_count": 8,
      "metadata": {
        "id": "Tr2j57XJSoU5"
      },
      "outputs": [],
      "source": [
        "# activate nominatim geocoder\n",
        "locator = Nominatim(user_agent=\"my-application1\")\n",
        "# type any address text\n",
        "location = locator.geocode(\"Taj Mahal\")"
      ]
    },
    {
      "cell_type": "code",
      "execution_count": 9,
      "metadata": {
        "colab": {
          "base_uri": "https://localhost:8080/"
        },
        "id": "bb5kJ_dmTsdr",
        "outputId": "e09cd0b9-a218-42d1-ae95-45101121e1b2"
      },
      "outputs": [
        {
          "name": "stdout",
          "output_type": "stream",
          "text": [
            "Latitude: 27.1750123, Longitude: 78.04209683661315\n"
          ]
        }
      ],
      "source": [
        "print('Latitude: {}, Longitude: {}'.format(location.latitude, location.longitude))"
      ]
    },
    {
      "cell_type": "code",
      "execution_count": 10,
      "metadata": {
        "colab": {
          "base_uri": "https://localhost:8080/"
        },
        "id": "6B1gs6-HU1Dj",
        "outputId": "c0e1a991-6d92-4408-e47f-de4b589d87c2"
      },
      "outputs": [
        {
          "data": {
            "text/plain": [
              "({'place_id': 188987579,\n",
              "  'licence': 'Data © OpenStreetMap contributors, ODbL 1.0. https://osm.org/copyright',\n",
              "  'osm_type': 'way',\n",
              "  'osm_id': 375257537,\n",
              "  'boundingbox': ['27.1745358', '27.1754823', '78.0415593', '78.0426212'],\n",
              "  'lat': '27.1750123',\n",
              "  'lon': '78.04209683661315',\n",
              "  'display_name': 'Taj Mahal, Taj Mahal Internal Path, Taj Ganj, Agra, Uttar Pradesh, 282006, India',\n",
              "  'class': 'tourism',\n",
              "  'type': 'attraction',\n",
              "  'importance': 0.748905688357262,\n",
              "  'icon': 'https://nominatim.openstreetmap.org/ui/mapicons/poi_point_of_interest.p.20.png'},\n",
              " Point(27.1750123, 78.04209683661315, 0.0),\n",
              " 0.0,\n",
              " 'Taj Mahal, Taj Mahal Internal Path, Taj Ganj, Agra, Uttar Pradesh, 282006, India')"
            ]
          },
          "execution_count": 10,
          "metadata": {},
          "output_type": "execute_result"
        }
      ],
      "source": [
        "# the API output has multiple other details as a json like altitude, correct raw address, etc.\n",
        "location.raw, location.point, location.altitude, location.address"
      ]
    },
    {
      "cell_type": "markdown",
      "metadata": {
        "id": "tgIaBP9OVNkB"
      },
      "source": [
        "## Other scraping assignments\n",
        "1. IMDB top 250 movies\n",
        "2. `import wikipedia as wk`\n",
        "3. Scraping PDFs embedded in a url\n",
        "  - use tabula:\n",
        "    - tabula has read_pdf just like pandas has read_csv"
      ]
    },
    {
      "cell_type": "code",
      "execution_count": null,
      "metadata": {
        "id": "aX_pRDsiZ_Oh"
      },
      "outputs": [],
      "source": []
    }
  ],
  "metadata": {
    "colab": {
      "authorship_tag": "ABX9TyMHNdmIWCl38BaZXNYjwEP8",
      "collapsed_sections": [],
      "include_colab_link": true,
      "name": "Scraping using Geocoding API.ipynb",
      "provenance": []
    },
    "kernelspec": {
      "display_name": "Python 3.10.4 64-bit",
      "language": "python",
      "name": "python3"
    },
    "language_info": {
      "codemirror_mode": {
        "name": "ipython",
        "version": 3
      },
      "file_extension": ".py",
      "mimetype": "text/x-python",
      "name": "python",
      "nbconvert_exporter": "python",
      "pygments_lexer": "ipython3",
      "version": "3.10.4"
    },
    "vscode": {
      "interpreter": {
        "hash": "aee8b7b246df8f9039afb4144a1f6fd8d2ca17a180786b69acc140d282b71a49"
      }
    }
  },
  "nbformat": 4,
  "nbformat_minor": 0
}
