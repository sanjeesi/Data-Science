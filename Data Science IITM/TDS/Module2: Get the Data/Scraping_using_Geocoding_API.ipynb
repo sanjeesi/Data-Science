{
  "nbformat": 4,
  "nbformat_minor": 0,
  "metadata": {
    "colab": {
      "name": "Scraping using Geocoding API.ipynb",
      "provenance": [],
      "collapsed_sections": [],
      "authorship_tag": "ABX9TyMHNdmIWCl38BaZXNYjwEP8",
      "include_colab_link": true
    },
    "kernelspec": {
      "name": "python3",
      "display_name": "Python 3"
    },
    "language_info": {
      "name": "python"
    }
  },
  "cells": [
    {
      "cell_type": "markdown",
      "metadata": {
        "id": "view-in-github",
        "colab_type": "text"
      },
      "source": [
        "<a href=\"https://colab.research.google.com/github/sanjeesi/Notes-Notebooks/blob/master/Data%20Science%20IITM/TDS/Module2%3A%20Get%20the%20Data/Scraping_using_Geocoding_API.ipynb\" target=\"_parent\"><img src=\"https://colab.research.google.com/assets/colab-badge.svg\" alt=\"Open In Colab\"/></a>"
      ]
    },
    {
      "cell_type": "markdown",
      "source": [
        "# Nominatim - Open Street Maps\n",
        "- Open source alternative of Google's geocoding API"
      ],
      "metadata": {
        "id": "8GT_NwLrR4ZK"
      }
    },
    {
      "cell_type": "code",
      "source": [
        "# import nominatim API\n",
        "from geopy.geocoders import Nominatim"
      ],
      "metadata": {
        "id": "GfU9B1GcSgjx"
      },
      "execution_count": 1,
      "outputs": []
    },
    {
      "cell_type": "code",
      "source": [
        "# activate nominatim geocoder\n",
        "locator = Nominatim(user_agent=\"my-application\")\n",
        "# type any address text\n",
        "location = locator.geocode(\"Tata Steel\")"
      ],
      "metadata": {
        "id": "Tr2j57XJSoU5"
      },
      "execution_count": 22,
      "outputs": []
    },
    {
      "cell_type": "code",
      "source": [
        "print('Latitude: {}, Longitude: {}'.format(location.latitude, location.longitude))"
      ],
      "metadata": {
        "colab": {
          "base_uri": "https://localhost:8080/"
        },
        "id": "bb5kJ_dmTsdr",
        "outputId": "e09cd0b9-a218-42d1-ae95-45101121e1b2"
      },
      "execution_count": 23,
      "outputs": [
        {
          "output_type": "stream",
          "name": "stdout",
          "text": [
            "Latitude: 53.456578050000005, Longitude: -1.325548424472593\n"
          ]
        }
      ]
    },
    {
      "cell_type": "code",
      "source": [
        "# the API output has multiple other details as a json like altitude, correct raw address, etc.\n",
        "location.raw, location.point, location.altitude, location.address"
      ],
      "metadata": {
        "colab": {
          "base_uri": "https://localhost:8080/"
        },
        "id": "6B1gs6-HU1Dj",
        "outputId": "c0e1a991-6d92-4408-e47f-de4b589d87c2"
      },
      "execution_count": 25,
      "outputs": [
        {
          "output_type": "execute_result",
          "data": {
            "text/plain": [
              "({'boundingbox': ['53.4504142', '53.4625773', '-1.3372938', '-1.3189398'],\n",
              "  'class': 'man_made',\n",
              "  'display_name': 'Tata Steel, Boundary Green, Parkgate, Rawmarsh, Rotherham, Yorkshire and the Humber, England, S62 6JN, United Kingdom',\n",
              "  'importance': 0.6131335668641502,\n",
              "  'lat': '53.456578050000005',\n",
              "  'licence': 'Data © OpenStreetMap contributors, ODbL 1.0. https://osm.org/copyright',\n",
              "  'lon': '-1.325548424472593',\n",
              "  'osm_id': 60418148,\n",
              "  'osm_type': 'way',\n",
              "  'place_id': 116552428,\n",
              "  'type': 'works'},\n",
              " Point(53.456578050000005, -1.325548424472593, 0.0),\n",
              " 0.0,\n",
              " 'Tata Steel, Boundary Green, Parkgate, Rawmarsh, Rotherham, Yorkshire and the Humber, England, S62 6JN, United Kingdom')"
            ]
          },
          "metadata": {},
          "execution_count": 25
        }
      ]
    },
    {
      "cell_type": "markdown",
      "source": [
        "## Other scraping assignments\n",
        "1. IMDB top 250 movies\n",
        "2. `import wikipedia as wk`\n",
        "3. Scraping PDFs embedded in a url\n",
        "  - use tabula:\n",
        "    - tabula has read_pdf just like pandas has read_csv"
      ],
      "metadata": {
        "id": "tgIaBP9OVNkB"
      }
    },
    {
      "cell_type": "code",
      "source": [
        ""
      ],
      "metadata": {
        "id": "aX_pRDsiZ_Oh"
      },
      "execution_count": null,
      "outputs": []
    }
  ]
}