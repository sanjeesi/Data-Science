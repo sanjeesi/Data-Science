{
 "cells": [
  {
   "cell_type": "markdown",
   "metadata": {},
   "source": [
    "#### FILES:\n",
    "- **ratings.csv** contains ratings sorted by time.Ratings go from one to five. Both book IDs and user IDs are contiguous. For books, they are 1-10000, for users, 1-53424.\n",
    "- **to_read.csv** provides IDs of the books marked \"to read\" by each user, as user_id,book_id pairs, sorted by time.\n",
    "- **books.csv** has metadata for each book (goodreads IDs, authors, title, average rating, etc.). The metadata has been extracted from goodreads XML files.\n",
    "- **book_tags.csv** contains tags/shelves/genres assigned by users to books. Tags in this file are represented by their IDs. Each book_id  has multiple tag_id.The field \"count\" denotes ‘user records’ (the number of users tagged the given tag_id with the goodreads_book_id)."
   ]
  },
  {
   "cell_type": "markdown",
   "metadata": {},
   "source": [
    "#### QUESTIONS :\n",
    "1. How many books do not have an original title [books.csv] ? N\n",
    "2. How many unique books are present in the dataset ? Evaluate based on the 'book_id' [books.csv]  N\n",
    "3. How many unique users are present in the dataset [ratings.csv] ? N\n",
    "4. Which book (title) has the maximum number of ratings based on ‘work_ratings_count’  [books.csv] ? S\n",
    "5. Which tag_id  is the most frequently used ie. mapped with the highest number of books [book_tags.csv]  ? (In case of more than one tag, mention the tag id with the least numerical value) N\n",
    "6. Which book (title) has the most number of counts of tags given by the user [book_tags.csv,books.csv]  ? S\n",
    "7. Which book (goodreads_book_id) is marked as to-read by most users [books.csv,toread.csv] ? N\n",
    "8. Which is the least used tag, i.e. mapped with the lowest number of books [book_tags.csv]   ? (In case of more than one tag, mention the tag id with the least numerical value)  N\n",
    "9. Which book (title) has the minimum ‘average_rating’  [books.csv] ? S\n",
    "10. Which book (goodreads_book_id) has the least number of count of tags given by the user  [book_tags.csv,books.csv] ? N\n",
    "11. How many tags are there in the dataset [book_tags.csv]  ? N\n",
    "12. What is the average rating of all the books in the dataset based on ‘average_rating’  [books.csv]  ? N\n",
    "13. Find the number of books published in the year ‘2000’ based on the ‘original_publication_year’ [books.csv] ? N\n",
    "14. Predict sentiment using Textblob. How many positive titles (title) are there [books.csv] ? (cut-off >0) N\n",
    "(3 marks)\n",
    "15. Plot a bar chart in Flourish with top 20 unique tags  in descending order of ‘user records’ (the number of users tagged the given tag_id with the goodreads_book_id) [book_tags.csv] and share the published link.\n",
    "(2 marks)\n",
    "16. Bucket the average_rating of books into 6 buckets [0,1,2,3,4,5] with 0.5 decimal rounding (eg: average_rating 3.5 to 4.4 will fall in bucket 4). Plot bar graph in Flourish to show total number of books in each rating bucket. [books.csv] and share the published link.\n",
    "(2 marks)"
   ]
  },
  {
   "cell_type": "code",
   "execution_count": 284,
   "metadata": {},
   "outputs": [
    {
     "name": "stdout",
     "output_type": "stream",
     "text": [
      "/Users/sanjeesi/Documents/Workspace/Data Science/Data Science IITM/TDS/Projects/Project2/Dataset/book_tags.csv\n",
      "/Users/sanjeesi/Documents/Workspace/Data Science/Data Science IITM/TDS/Projects/Project2/Dataset/ratings.csv\n",
      "/Users/sanjeesi/Documents/Workspace/Data Science/Data Science IITM/TDS/Projects/Project2/Dataset/toread.csv\n",
      "/Users/sanjeesi/Documents/Workspace/Data Science/Data Science IITM/TDS/Projects/Project2/Dataset/books.csv\n"
     ]
    }
   ],
   "source": [
    "# Here's several helpful packages to load\n",
    "\n",
    "import numpy as np # linear algebra\n",
    "import pandas as pd # data processing, CSV file I/O (e.g. pd.read_csv)\n",
    "\n",
    "# Input data files are available in the read-only \"../input/\" directory\n",
    "# For example, running this (by clicking run or pressing Shift+Enter) will list all files under the input directory\n",
    "\n",
    "import os\n",
    "# print(os.getcwd())\n",
    "for dirname, _, filenames in os.walk(os.getcwd()+'/Dataset'):\n",
    "    for filename in filenames:\n",
    "        print(os.path.join(dirname, filename))"
   ]
  },
  {
   "cell_type": "markdown",
   "metadata": {},
   "source": [
    "### Load datasets"
   ]
  },
  {
   "cell_type": "code",
   "execution_count": 285,
   "metadata": {},
   "outputs": [
    {
     "data": {
      "text/html": [
       "<div>\n",
       "<style scoped>\n",
       "    .dataframe tbody tr th:only-of-type {\n",
       "        vertical-align: middle;\n",
       "    }\n",
       "\n",
       "    .dataframe tbody tr th {\n",
       "        vertical-align: top;\n",
       "    }\n",
       "\n",
       "    .dataframe thead th {\n",
       "        text-align: right;\n",
       "    }\n",
       "</style>\n",
       "<table border=\"1\" class=\"dataframe\">\n",
       "  <thead>\n",
       "    <tr style=\"text-align: right;\">\n",
       "      <th></th>\n",
       "      <th>book_id</th>\n",
       "      <th>goodreads_book_id</th>\n",
       "      <th>best_book_id</th>\n",
       "      <th>work_id</th>\n",
       "      <th>books_count</th>\n",
       "      <th>isbn</th>\n",
       "      <th>isbn13</th>\n",
       "      <th>authors</th>\n",
       "      <th>original_publication_year</th>\n",
       "      <th>original_title</th>\n",
       "      <th>...</th>\n",
       "      <th>work_ratings_count</th>\n",
       "      <th>work_text_reviews_count</th>\n",
       "      <th>ratings_1</th>\n",
       "      <th>ratings_2</th>\n",
       "      <th>ratings_3</th>\n",
       "      <th>ratings_4</th>\n",
       "      <th>ratings_5</th>\n",
       "      <th>image_url</th>\n",
       "      <th>small_image_url</th>\n",
       "      <th>NonEnglish</th>\n",
       "    </tr>\n",
       "  </thead>\n",
       "  <tbody>\n",
       "    <tr>\n",
       "      <th>0</th>\n",
       "      <td>61</td>\n",
       "      <td>22557272</td>\n",
       "      <td>22557272</td>\n",
       "      <td>41107568</td>\n",
       "      <td>14</td>\n",
       "      <td>1594633665</td>\n",
       "      <td>9.781595e+12</td>\n",
       "      <td>Paula Hawkins</td>\n",
       "      <td>2015.0</td>\n",
       "      <td>The Girl on the Train</td>\n",
       "      <td>...</td>\n",
       "      <td>1226485</td>\n",
       "      <td>93600</td>\n",
       "      <td>27773</td>\n",
       "      <td>73897</td>\n",
       "      <td>273817</td>\n",
       "      <td>488447</td>\n",
       "      <td>362551</td>\n",
       "      <td>https://images.gr-assets.com/books/1490903702m...</td>\n",
       "      <td>https://images.gr-assets.com/books/1490903702s...</td>\n",
       "      <td>0</td>\n",
       "    </tr>\n",
       "    <tr>\n",
       "      <th>1</th>\n",
       "      <td>106</td>\n",
       "      <td>9418327</td>\n",
       "      <td>9418327</td>\n",
       "      <td>14302659</td>\n",
       "      <td>48</td>\n",
       "      <td>NaN</td>\n",
       "      <td>NaN</td>\n",
       "      <td>Tina Fey</td>\n",
       "      <td>2011.0</td>\n",
       "      <td>Bossypants</td>\n",
       "      <td>...</td>\n",
       "      <td>609260</td>\n",
       "      <td>35142</td>\n",
       "      <td>14842</td>\n",
       "      <td>31761</td>\n",
       "      <td>129390</td>\n",
       "      <td>230080</td>\n",
       "      <td>203187</td>\n",
       "      <td>https://images.gr-assets.com/books/1481509554m...</td>\n",
       "      <td>https://images.gr-assets.com/books/1481509554s...</td>\n",
       "      <td>0</td>\n",
       "    </tr>\n",
       "    <tr>\n",
       "      <th>2</th>\n",
       "      <td>124</td>\n",
       "      <td>7937843</td>\n",
       "      <td>7937843</td>\n",
       "      <td>9585076</td>\n",
       "      <td>151</td>\n",
       "      <td>316098337</td>\n",
       "      <td>9.780316e+12</td>\n",
       "      <td>Emma Donoghue</td>\n",
       "      <td>2010.0</td>\n",
       "      <td>Room</td>\n",
       "      <td>...</td>\n",
       "      <td>556327</td>\n",
       "      <td>42254</td>\n",
       "      <td>11020</td>\n",
       "      <td>26079</td>\n",
       "      <td>99831</td>\n",
       "      <td>217995</td>\n",
       "      <td>201402</td>\n",
       "      <td>https://images.gr-assets.com/books/1344265419m...</td>\n",
       "      <td>https://images.gr-assets.com/books/1344265419s...</td>\n",
       "      <td>0</td>\n",
       "    </tr>\n",
       "    <tr>\n",
       "      <th>3</th>\n",
       "      <td>141</td>\n",
       "      <td>18007564</td>\n",
       "      <td>18007564</td>\n",
       "      <td>21825181</td>\n",
       "      <td>148</td>\n",
       "      <td>804139024</td>\n",
       "      <td>9.780804e+12</td>\n",
       "      <td>Andy Weir</td>\n",
       "      <td>2012.0</td>\n",
       "      <td>The Martian</td>\n",
       "      <td>...</td>\n",
       "      <td>529702</td>\n",
       "      <td>61298</td>\n",
       "      <td>4114</td>\n",
       "      <td>10856</td>\n",
       "      <td>49200</td>\n",
       "      <td>173861</td>\n",
       "      <td>291671</td>\n",
       "      <td>https://images.gr-assets.com/books/1413706054m...</td>\n",
       "      <td>https://images.gr-assets.com/books/1413706054s...</td>\n",
       "      <td>0</td>\n",
       "    </tr>\n",
       "    <tr>\n",
       "      <th>4</th>\n",
       "      <td>143</td>\n",
       "      <td>18143977</td>\n",
       "      <td>18143977</td>\n",
       "      <td>25491300</td>\n",
       "      <td>139</td>\n",
       "      <td>1476746583</td>\n",
       "      <td>9.781477e+12</td>\n",
       "      <td>Anthony Doerr</td>\n",
       "      <td>2014.0</td>\n",
       "      <td>NaN</td>\n",
       "      <td>...</td>\n",
       "      <td>547827</td>\n",
       "      <td>53413</td>\n",
       "      <td>6209</td>\n",
       "      <td>14527</td>\n",
       "      <td>61020</td>\n",
       "      <td>185239</td>\n",
       "      <td>280832</td>\n",
       "      <td>https://images.gr-assets.com/books/1451445646m...</td>\n",
       "      <td>https://images.gr-assets.com/books/1451445646s...</td>\n",
       "      <td>0</td>\n",
       "    </tr>\n",
       "  </tbody>\n",
       "</table>\n",
       "<p>5 rows × 24 columns</p>\n",
       "</div>"
      ],
      "text/plain": [
       "   book_id  goodreads_book_id  best_book_id   work_id  books_count  \\\n",
       "0       61           22557272      22557272  41107568           14   \n",
       "1      106            9418327       9418327  14302659           48   \n",
       "2      124            7937843       7937843   9585076          151   \n",
       "3      141           18007564      18007564  21825181          148   \n",
       "4      143           18143977      18143977  25491300          139   \n",
       "\n",
       "         isbn        isbn13        authors  original_publication_year  \\\n",
       "0  1594633665  9.781595e+12  Paula Hawkins                     2015.0   \n",
       "1         NaN           NaN       Tina Fey                     2011.0   \n",
       "2   316098337  9.780316e+12  Emma Donoghue                     2010.0   \n",
       "3   804139024  9.780804e+12      Andy Weir                     2012.0   \n",
       "4  1476746583  9.781477e+12  Anthony Doerr                     2014.0   \n",
       "\n",
       "          original_title  ... work_ratings_count work_text_reviews_count  \\\n",
       "0  The Girl on the Train  ...            1226485                   93600   \n",
       "1             Bossypants  ...             609260                   35142   \n",
       "2                   Room  ...             556327                   42254   \n",
       "3            The Martian  ...             529702                   61298   \n",
       "4                    NaN  ...             547827                   53413   \n",
       "\n",
       "   ratings_1  ratings_2  ratings_3  ratings_4  ratings_5  \\\n",
       "0      27773      73897     273817     488447     362551   \n",
       "1      14842      31761     129390     230080     203187   \n",
       "2      11020      26079      99831     217995     201402   \n",
       "3       4114      10856      49200     173861     291671   \n",
       "4       6209      14527      61020     185239     280832   \n",
       "\n",
       "                                           image_url  \\\n",
       "0  https://images.gr-assets.com/books/1490903702m...   \n",
       "1  https://images.gr-assets.com/books/1481509554m...   \n",
       "2  https://images.gr-assets.com/books/1344265419m...   \n",
       "3  https://images.gr-assets.com/books/1413706054m...   \n",
       "4  https://images.gr-assets.com/books/1451445646m...   \n",
       "\n",
       "                                     small_image_url  NonEnglish  \n",
       "0  https://images.gr-assets.com/books/1490903702s...           0  \n",
       "1  https://images.gr-assets.com/books/1481509554s...           0  \n",
       "2  https://images.gr-assets.com/books/1344265419s...           0  \n",
       "3  https://images.gr-assets.com/books/1413706054s...           0  \n",
       "4  https://images.gr-assets.com/books/1451445646s...           0  \n",
       "\n",
       "[5 rows x 24 columns]"
      ]
     },
     "execution_count": 285,
     "metadata": {},
     "output_type": "execute_result"
    }
   ],
   "source": [
    "books = pd.read_csv('Dataset/books.csv')\n",
    "books.head()"
   ]
  },
  {
   "cell_type": "code",
   "execution_count": 286,
   "metadata": {},
   "outputs": [
    {
     "data": {
      "text/html": [
       "<div>\n",
       "<style scoped>\n",
       "    .dataframe tbody tr th:only-of-type {\n",
       "        vertical-align: middle;\n",
       "    }\n",
       "\n",
       "    .dataframe tbody tr th {\n",
       "        vertical-align: top;\n",
       "    }\n",
       "\n",
       "    .dataframe thead th {\n",
       "        text-align: right;\n",
       "    }\n",
       "</style>\n",
       "<table border=\"1\" class=\"dataframe\">\n",
       "  <thead>\n",
       "    <tr style=\"text-align: right;\">\n",
       "      <th></th>\n",
       "      <th>user_id</th>\n",
       "      <th>book_id</th>\n",
       "      <th>rating</th>\n",
       "    </tr>\n",
       "  </thead>\n",
       "  <tbody>\n",
       "    <tr>\n",
       "      <th>0</th>\n",
       "      <td>4</td>\n",
       "      <td>200</td>\n",
       "      <td>4</td>\n",
       "    </tr>\n",
       "    <tr>\n",
       "      <th>1</th>\n",
       "      <td>4</td>\n",
       "      <td>373</td>\n",
       "      <td>4</td>\n",
       "    </tr>\n",
       "    <tr>\n",
       "      <th>2</th>\n",
       "      <td>24</td>\n",
       "      <td>7770</td>\n",
       "      <td>4</td>\n",
       "    </tr>\n",
       "    <tr>\n",
       "      <th>3</th>\n",
       "      <td>32</td>\n",
       "      <td>373</td>\n",
       "      <td>5</td>\n",
       "    </tr>\n",
       "    <tr>\n",
       "      <th>4</th>\n",
       "      <td>40</td>\n",
       "      <td>659</td>\n",
       "      <td>3</td>\n",
       "    </tr>\n",
       "  </tbody>\n",
       "</table>\n",
       "</div>"
      ],
      "text/plain": [
       "   user_id  book_id  rating\n",
       "0        4      200       4\n",
       "1        4      373       4\n",
       "2       24     7770       4\n",
       "3       32      373       5\n",
       "4       40      659       3"
      ]
     },
     "execution_count": 286,
     "metadata": {},
     "output_type": "execute_result"
    }
   ],
   "source": [
    "ratings = pd.read_csv('Dataset/ratings.csv')\n",
    "ratings.head()"
   ]
  },
  {
   "cell_type": "code",
   "execution_count": 287,
   "metadata": {},
   "outputs": [
    {
     "data": {
      "text/html": [
       "<div>\n",
       "<style scoped>\n",
       "    .dataframe tbody tr th:only-of-type {\n",
       "        vertical-align: middle;\n",
       "    }\n",
       "\n",
       "    .dataframe tbody tr th {\n",
       "        vertical-align: top;\n",
       "    }\n",
       "\n",
       "    .dataframe thead th {\n",
       "        text-align: right;\n",
       "    }\n",
       "</style>\n",
       "<table border=\"1\" class=\"dataframe\">\n",
       "  <thead>\n",
       "    <tr style=\"text-align: right;\">\n",
       "      <th></th>\n",
       "      <th>user_id</th>\n",
       "      <th>book_id</th>\n",
       "    </tr>\n",
       "  </thead>\n",
       "  <tbody>\n",
       "    <tr>\n",
       "      <th>0</th>\n",
       "      <td>112</td>\n",
       "      <td>217</td>\n",
       "    </tr>\n",
       "    <tr>\n",
       "      <th>1</th>\n",
       "      <td>162</td>\n",
       "      <td>200</td>\n",
       "    </tr>\n",
       "    <tr>\n",
       "      <th>2</th>\n",
       "      <td>256</td>\n",
       "      <td>1514</td>\n",
       "    </tr>\n",
       "    <tr>\n",
       "      <th>3</th>\n",
       "      <td>332</td>\n",
       "      <td>2637</td>\n",
       "    </tr>\n",
       "    <tr>\n",
       "      <th>4</th>\n",
       "      <td>360</td>\n",
       "      <td>217</td>\n",
       "    </tr>\n",
       "  </tbody>\n",
       "</table>\n",
       "</div>"
      ],
      "text/plain": [
       "   user_id  book_id\n",
       "0      112      217\n",
       "1      162      200\n",
       "2      256     1514\n",
       "3      332     2637\n",
       "4      360      217"
      ]
     },
     "execution_count": 287,
     "metadata": {},
     "output_type": "execute_result"
    }
   ],
   "source": [
    "toread = pd.read_csv('Dataset/toread.csv')\n",
    "toread.head()"
   ]
  },
  {
   "cell_type": "code",
   "execution_count": 288,
   "metadata": {},
   "outputs": [
    {
     "data": {
      "text/html": [
       "<div>\n",
       "<style scoped>\n",
       "    .dataframe tbody tr th:only-of-type {\n",
       "        vertical-align: middle;\n",
       "    }\n",
       "\n",
       "    .dataframe tbody tr th {\n",
       "        vertical-align: top;\n",
       "    }\n",
       "\n",
       "    .dataframe thead th {\n",
       "        text-align: right;\n",
       "    }\n",
       "</style>\n",
       "<table border=\"1\" class=\"dataframe\">\n",
       "  <thead>\n",
       "    <tr style=\"text-align: right;\">\n",
       "      <th></th>\n",
       "      <th>goodreads_book_id</th>\n",
       "      <th>tag_id</th>\n",
       "      <th>count</th>\n",
       "    </tr>\n",
       "  </thead>\n",
       "  <tbody>\n",
       "    <tr>\n",
       "      <th>0</th>\n",
       "      <td>2371</td>\n",
       "      <td>30574</td>\n",
       "      <td>3162</td>\n",
       "    </tr>\n",
       "    <tr>\n",
       "      <th>1</th>\n",
       "      <td>2371</td>\n",
       "      <td>14552</td>\n",
       "      <td>238</td>\n",
       "    </tr>\n",
       "    <tr>\n",
       "      <th>2</th>\n",
       "      <td>2371</td>\n",
       "      <td>21773</td>\n",
       "      <td>183</td>\n",
       "    </tr>\n",
       "    <tr>\n",
       "      <th>3</th>\n",
       "      <td>2371</td>\n",
       "      <td>21689</td>\n",
       "      <td>160</td>\n",
       "    </tr>\n",
       "    <tr>\n",
       "      <th>4</th>\n",
       "      <td>2371</td>\n",
       "      <td>8717</td>\n",
       "      <td>154</td>\n",
       "    </tr>\n",
       "  </tbody>\n",
       "</table>\n",
       "</div>"
      ],
      "text/plain": [
       "   goodreads_book_id  tag_id  count\n",
       "0               2371   30574   3162\n",
       "1               2371   14552    238\n",
       "2               2371   21773    183\n",
       "3               2371   21689    160\n",
       "4               2371    8717    154"
      ]
     },
     "execution_count": 288,
     "metadata": {},
     "output_type": "execute_result"
    }
   ],
   "source": [
    "book_tags = pd.read_csv('Dataset/book_tags.csv')\n",
    "book_tags.head()"
   ]
  },
  {
   "cell_type": "markdown",
   "metadata": {},
   "source": [
    "1. How many books do not have an original title [books.csv] ? N"
   ]
  },
  {
   "cell_type": "code",
   "execution_count": 289,
   "metadata": {},
   "outputs": [
    {
     "data": {
      "text/plain": [
       "book_id                       0\n",
       "goodreads_book_id             0\n",
       "best_book_id                  0\n",
       "work_id                       0\n",
       "books_count                   0\n",
       "isbn                         79\n",
       "isbn13                       77\n",
       "authors                       0\n",
       "original_publication_year     0\n",
       "original_title               71\n",
       "title                         0\n",
       "language_code                51\n",
       "average_rating                0\n",
       "ratings_count                 0\n",
       "work_ratings_count            0\n",
       "work_text_reviews_count       0\n",
       "ratings_1                     0\n",
       "ratings_2                     0\n",
       "ratings_3                     0\n",
       "ratings_4                     0\n",
       "ratings_5                     0\n",
       "image_url                     0\n",
       "small_image_url               0\n",
       "NonEnglish                    0\n",
       "dtype: int64"
      ]
     },
     "execution_count": 289,
     "metadata": {},
     "output_type": "execute_result"
    }
   ],
   "source": [
    "books.isna().sum()"
   ]
  },
  {
   "cell_type": "code",
   "execution_count": 290,
   "metadata": {},
   "outputs": [
    {
     "data": {
      "text/plain": [
       "71"
      ]
     },
     "execution_count": 290,
     "metadata": {},
     "output_type": "execute_result"
    }
   ],
   "source": [
    "71"
   ]
  },
  {
   "cell_type": "code",
   "execution_count": 291,
   "metadata": {},
   "outputs": [],
   "source": [
    "# Remove books with original_title = NaN\n",
    "removedBooks = books[books['original_title'].isna()][['book_id', 'goodreads_book_id']]\n",
    "books = books[books['original_title'].notna()]"
   ]
  },
  {
   "cell_type": "code",
   "execution_count": 292,
   "metadata": {},
   "outputs": [],
   "source": [
    "# Remove removedBooks from other datasets\n",
    "ratings = ratings[~ratings['book_id'].isin(removedBooks['book_id'])]\n",
    "toread = toread[~toread['book_id'].isin(removedBooks['book_id'])]\n",
    "book_tags = book_tags[~book_tags['goodreads_book_id'].isin(removedBooks['goodreads_book_id'])]"
   ]
  },
  {
   "cell_type": "markdown",
   "metadata": {},
   "source": [
    "2. How many unique books are present in the dataset ? Evaluate based on the 'book_id' [books.csv]  N"
   ]
  },
  {
   "cell_type": "code",
   "execution_count": 293,
   "metadata": {},
   "outputs": [
    {
     "data": {
      "text/plain": [
       "book_id                      486\n",
       "goodreads_book_id            486\n",
       "best_book_id                 486\n",
       "work_id                      486\n",
       "books_count                  116\n",
       "isbn                         436\n",
       "isbn13                       438\n",
       "authors                      407\n",
       "original_publication_year     58\n",
       "original_title               486\n",
       "title                        485\n",
       "language_code                  5\n",
       "average_rating               113\n",
       "ratings_count                483\n",
       "work_ratings_count           486\n",
       "work_text_reviews_count      473\n",
       "ratings_1                    410\n",
       "ratings_2                    456\n",
       "ratings_3                    471\n",
       "ratings_4                    480\n",
       "ratings_5                    476\n",
       "image_url                    434\n",
       "small_image_url              434\n",
       "NonEnglish                     1\n",
       "dtype: int64"
      ]
     },
     "execution_count": 293,
     "metadata": {},
     "output_type": "execute_result"
    }
   ],
   "source": [
    "books.nunique()"
   ]
  },
  {
   "cell_type": "markdown",
   "metadata": {},
   "source": [
    "3. How many unique users are present in the dataset [ratings.csv] ? N"
   ]
  },
  {
   "cell_type": "code",
   "execution_count": 294,
   "metadata": {},
   "outputs": [
    {
     "data": {
      "text/html": [
       "<div>\n",
       "<style scoped>\n",
       "    .dataframe tbody tr th:only-of-type {\n",
       "        vertical-align: middle;\n",
       "    }\n",
       "\n",
       "    .dataframe tbody tr th {\n",
       "        vertical-align: top;\n",
       "    }\n",
       "\n",
       "    .dataframe thead th {\n",
       "        text-align: right;\n",
       "    }\n",
       "</style>\n",
       "<table border=\"1\" class=\"dataframe\">\n",
       "  <thead>\n",
       "    <tr style=\"text-align: right;\">\n",
       "      <th></th>\n",
       "      <th>user_id</th>\n",
       "      <th>book_id</th>\n",
       "      <th>rating</th>\n",
       "    </tr>\n",
       "  </thead>\n",
       "  <tbody>\n",
       "    <tr>\n",
       "      <th>0</th>\n",
       "      <td>4</td>\n",
       "      <td>200</td>\n",
       "      <td>4</td>\n",
       "    </tr>\n",
       "    <tr>\n",
       "      <th>1</th>\n",
       "      <td>4</td>\n",
       "      <td>373</td>\n",
       "      <td>4</td>\n",
       "    </tr>\n",
       "    <tr>\n",
       "      <th>2</th>\n",
       "      <td>24</td>\n",
       "      <td>7770</td>\n",
       "      <td>4</td>\n",
       "    </tr>\n",
       "    <tr>\n",
       "      <th>3</th>\n",
       "      <td>32</td>\n",
       "      <td>373</td>\n",
       "      <td>5</td>\n",
       "    </tr>\n",
       "    <tr>\n",
       "      <th>4</th>\n",
       "      <td>40</td>\n",
       "      <td>659</td>\n",
       "      <td>3</td>\n",
       "    </tr>\n",
       "  </tbody>\n",
       "</table>\n",
       "</div>"
      ],
      "text/plain": [
       "   user_id  book_id  rating\n",
       "0        4      200       4\n",
       "1        4      373       4\n",
       "2       24     7770       4\n",
       "3       32      373       5\n",
       "4       40      659       3"
      ]
     },
     "execution_count": 294,
     "metadata": {},
     "output_type": "execute_result"
    }
   ],
   "source": [
    "ratings.head()"
   ]
  },
  {
   "cell_type": "code",
   "execution_count": 295,
   "metadata": {},
   "outputs": [
    {
     "data": {
      "text/plain": [
       "user_id    43944\n",
       "book_id      486\n",
       "rating         5\n",
       "dtype: int64"
      ]
     },
     "execution_count": 295,
     "metadata": {},
     "output_type": "execute_result"
    }
   ],
   "source": [
    "ratings.nunique()"
   ]
  },
  {
   "cell_type": "markdown",
   "metadata": {},
   "source": [
    "4. Which book (title) has the maximum number of ratings based on ‘work_ratings_count’  [books.csv] ? S"
   ]
  },
  {
   "cell_type": "code",
   "execution_count": 296,
   "metadata": {},
   "outputs": [
    {
     "data": {
      "text/plain": [
       "'The Girl on the Train'"
      ]
     },
     "execution_count": 296,
     "metadata": {},
     "output_type": "execute_result"
    }
   ],
   "source": [
    "books.iloc[books['work_ratings_count'].idxmax()]['title']"
   ]
  },
  {
   "cell_type": "markdown",
   "metadata": {},
   "source": [
    "5. Which tag_id  is the most frequently used ie. mapped with the highest number of books [book_tags.csv]  ? (In case of more than one tag, mention the tag id with the least numerical value) N"
   ]
  },
  {
   "cell_type": "code",
   "execution_count": 316,
   "metadata": {},
   "outputs": [
    {
     "data": {
      "text/html": [
       "<div>\n",
       "<style scoped>\n",
       "    .dataframe tbody tr th:only-of-type {\n",
       "        vertical-align: middle;\n",
       "    }\n",
       "\n",
       "    .dataframe tbody tr th {\n",
       "        vertical-align: top;\n",
       "    }\n",
       "\n",
       "    .dataframe thead th {\n",
       "        text-align: right;\n",
       "    }\n",
       "</style>\n",
       "<table border=\"1\" class=\"dataframe\">\n",
       "  <thead>\n",
       "    <tr style=\"text-align: right;\">\n",
       "      <th></th>\n",
       "      <th>goodreads_book_id</th>\n",
       "      <th>tag_id</th>\n",
       "      <th>count</th>\n",
       "    </tr>\n",
       "  </thead>\n",
       "  <tbody>\n",
       "    <tr>\n",
       "      <th>0</th>\n",
       "      <td>2371</td>\n",
       "      <td>30574</td>\n",
       "      <td>3162</td>\n",
       "    </tr>\n",
       "    <tr>\n",
       "      <th>1</th>\n",
       "      <td>2371</td>\n",
       "      <td>14552</td>\n",
       "      <td>238</td>\n",
       "    </tr>\n",
       "    <tr>\n",
       "      <th>2</th>\n",
       "      <td>2371</td>\n",
       "      <td>21773</td>\n",
       "      <td>183</td>\n",
       "    </tr>\n",
       "    <tr>\n",
       "      <th>3</th>\n",
       "      <td>2371</td>\n",
       "      <td>21689</td>\n",
       "      <td>160</td>\n",
       "    </tr>\n",
       "    <tr>\n",
       "      <th>4</th>\n",
       "      <td>2371</td>\n",
       "      <td>8717</td>\n",
       "      <td>154</td>\n",
       "    </tr>\n",
       "  </tbody>\n",
       "</table>\n",
       "</div>"
      ],
      "text/plain": [
       "   goodreads_book_id  tag_id  count\n",
       "0               2371   30574   3162\n",
       "1               2371   14552    238\n",
       "2               2371   21773    183\n",
       "3               2371   21689    160\n",
       "4               2371    8717    154"
      ]
     },
     "execution_count": 316,
     "metadata": {},
     "output_type": "execute_result"
    }
   ],
   "source": [
    "book_tags.head()"
   ]
  },
  {
   "cell_type": "code",
   "execution_count": 298,
   "metadata": {},
   "outputs": [
    {
     "data": {
      "text/plain": [
       "0      829\n",
       "1    30574\n",
       "Name: tag_id, dtype: int64"
      ]
     },
     "execution_count": 298,
     "metadata": {},
     "output_type": "execute_result"
    }
   ],
   "source": [
    "book_tags['tag_id'].mode()"
   ]
  },
  {
   "cell_type": "markdown",
   "metadata": {},
   "source": [
    "6. Which book (title) has the most number of counts of tags given by the user [book_tags.csv,books.csv]  ? S"
   ]
  },
  {
   "cell_type": "code",
   "execution_count": 299,
   "metadata": {},
   "outputs": [
    {
     "data": {
      "text/html": [
       "<div>\n",
       "<style scoped>\n",
       "    .dataframe tbody tr th:only-of-type {\n",
       "        vertical-align: middle;\n",
       "    }\n",
       "\n",
       "    .dataframe tbody tr th {\n",
       "        vertical-align: top;\n",
       "    }\n",
       "\n",
       "    .dataframe thead th {\n",
       "        text-align: right;\n",
       "    }\n",
       "</style>\n",
       "<table border=\"1\" class=\"dataframe\">\n",
       "  <thead>\n",
       "    <tr style=\"text-align: right;\">\n",
       "      <th></th>\n",
       "      <th>tag_id</th>\n",
       "      <th>count</th>\n",
       "    </tr>\n",
       "    <tr>\n",
       "      <th>goodreads_book_id</th>\n",
       "      <th></th>\n",
       "      <th></th>\n",
       "    </tr>\n",
       "  </thead>\n",
       "  <tbody>\n",
       "    <tr>\n",
       "      <th>11235712</th>\n",
       "      <td>1733817</td>\n",
       "      <td>558626</td>\n",
       "    </tr>\n",
       "    <tr>\n",
       "      <th>9418327</th>\n",
       "      <td>1368578</td>\n",
       "      <td>387679</td>\n",
       "    </tr>\n",
       "    <tr>\n",
       "      <th>7937843</th>\n",
       "      <td>1467012</td>\n",
       "      <td>344959</td>\n",
       "    </tr>\n",
       "    <tr>\n",
       "      <th>16101128</th>\n",
       "      <td>1677935</td>\n",
       "      <td>330142</td>\n",
       "    </tr>\n",
       "    <tr>\n",
       "      <th>20910157</th>\n",
       "      <td>1186704</td>\n",
       "      <td>329692</td>\n",
       "    </tr>\n",
       "    <tr>\n",
       "      <th>...</th>\n",
       "      <td>...</td>\n",
       "      <td>...</td>\n",
       "    </tr>\n",
       "    <tr>\n",
       "      <th>15818278</th>\n",
       "      <td>1735668</td>\n",
       "      <td>1404</td>\n",
       "    </tr>\n",
       "    <tr>\n",
       "      <th>10843036</th>\n",
       "      <td>1775798</td>\n",
       "      <td>1078</td>\n",
       "    </tr>\n",
       "    <tr>\n",
       "      <th>525488</th>\n",
       "      <td>1690899</td>\n",
       "      <td>932</td>\n",
       "    </tr>\n",
       "    <tr>\n",
       "      <th>10374638</th>\n",
       "      <td>1396587</td>\n",
       "      <td>921</td>\n",
       "    </tr>\n",
       "    <tr>\n",
       "      <th>25801299</th>\n",
       "      <td>1664432</td>\n",
       "      <td>696</td>\n",
       "    </tr>\n",
       "  </tbody>\n",
       "</table>\n",
       "<p>488 rows × 2 columns</p>\n",
       "</div>"
      ],
      "text/plain": [
       "                    tag_id   count\n",
       "goodreads_book_id                 \n",
       "11235712           1733817  558626\n",
       "9418327            1368578  387679\n",
       "7937843            1467012  344959\n",
       "16101128           1677935  330142\n",
       "20910157           1186704  329692\n",
       "...                    ...     ...\n",
       "15818278           1735668    1404\n",
       "10843036           1775798    1078\n",
       "525488             1690899     932\n",
       "10374638           1396587     921\n",
       "25801299           1664432     696\n",
       "\n",
       "[488 rows x 2 columns]"
      ]
     },
     "execution_count": 299,
     "metadata": {},
     "output_type": "execute_result"
    }
   ],
   "source": [
    "book_tags.groupby(['goodreads_book_id']).sum().sort_values(['count'], ascending=False)\n",
    "# books[books['goodreads_book_id']==11235712]['title']"
   ]
  },
  {
   "cell_type": "code",
   "execution_count": 300,
   "metadata": {},
   "outputs": [
    {
     "data": {
      "text/plain": [
       "11    Cinder (The Lunar Chronicles, #1)\n",
       "Name: title, dtype: object"
      ]
     },
     "execution_count": 300,
     "metadata": {},
     "output_type": "execute_result"
    }
   ],
   "source": [
    "books[books['goodreads_book_id']==book_tags.groupby(['goodreads_book_id'])['count'].sum().idxmax()]['title']"
   ]
  },
  {
   "cell_type": "markdown",
   "metadata": {},
   "source": [
    "7. Which book (goodreads_book_id) is marked as to-read by most users [books.csv,toread.csv] ? N"
   ]
  },
  {
   "cell_type": "code",
   "execution_count": 301,
   "metadata": {},
   "outputs": [
    {
     "data": {
      "text/html": [
       "<div>\n",
       "<style scoped>\n",
       "    .dataframe tbody tr th:only-of-type {\n",
       "        vertical-align: middle;\n",
       "    }\n",
       "\n",
       "    .dataframe tbody tr th {\n",
       "        vertical-align: top;\n",
       "    }\n",
       "\n",
       "    .dataframe thead th {\n",
       "        text-align: right;\n",
       "    }\n",
       "</style>\n",
       "<table border=\"1\" class=\"dataframe\">\n",
       "  <thead>\n",
       "    <tr style=\"text-align: right;\">\n",
       "      <th></th>\n",
       "      <th>user_id</th>\n",
       "      <th>book_id</th>\n",
       "    </tr>\n",
       "  </thead>\n",
       "  <tbody>\n",
       "    <tr>\n",
       "      <th>0</th>\n",
       "      <td>112</td>\n",
       "      <td>217</td>\n",
       "    </tr>\n",
       "    <tr>\n",
       "      <th>1</th>\n",
       "      <td>162</td>\n",
       "      <td>200</td>\n",
       "    </tr>\n",
       "    <tr>\n",
       "      <th>2</th>\n",
       "      <td>256</td>\n",
       "      <td>1514</td>\n",
       "    </tr>\n",
       "    <tr>\n",
       "      <th>3</th>\n",
       "      <td>332</td>\n",
       "      <td>2637</td>\n",
       "    </tr>\n",
       "    <tr>\n",
       "      <th>4</th>\n",
       "      <td>360</td>\n",
       "      <td>217</td>\n",
       "    </tr>\n",
       "  </tbody>\n",
       "</table>\n",
       "</div>"
      ],
      "text/plain": [
       "   user_id  book_id\n",
       "0      112      217\n",
       "1      162      200\n",
       "2      256     1514\n",
       "3      332     2637\n",
       "4      360      217"
      ]
     },
     "execution_count": 301,
     "metadata": {},
     "output_type": "execute_result"
    }
   ],
   "source": [
    "toread.head()"
   ]
  },
  {
   "cell_type": "code",
   "execution_count": 302,
   "metadata": {},
   "outputs": [
    {
     "data": {
      "text/plain": [
       "user_id    25417\n",
       "book_id      486\n",
       "dtype: int64"
      ]
     },
     "execution_count": 302,
     "metadata": {},
     "output_type": "execute_result"
    }
   ],
   "source": [
    "toread.nunique()"
   ]
  },
  {
   "cell_type": "code",
   "execution_count": 303,
   "metadata": {},
   "outputs": [
    {
     "data": {
      "text/plain": [
       "0    22557272\n",
       "Name: goodreads_book_id, dtype: int64"
      ]
     },
     "execution_count": 303,
     "metadata": {},
     "output_type": "execute_result"
    }
   ],
   "source": [
    "books[books['book_id'] == toread['book_id'].mode()[0]]['goodreads_book_id']"
   ]
  },
  {
   "cell_type": "markdown",
   "metadata": {},
   "source": [
    "8. Which is the least used tag, i.e. mapped with the lowest number of books [book_tags.csv]   ? (In case of more than one tag, mention the tag id with the least numerical value)  N"
   ]
  },
  {
   "cell_type": "code",
   "execution_count": 304,
   "metadata": {},
   "outputs": [
    {
     "data": {
      "text/plain": [
       "46       1\n",
       "47       1\n",
       "73       1\n",
       "134      6\n",
       "156      1\n",
       "        ..\n",
       "33966    1\n",
       "33968    1\n",
       "34125    1\n",
       "34126    1\n",
       "34247    1\n",
       "Name: tag_id, Length: 4264, dtype: int64"
      ]
     },
     "execution_count": 304,
     "metadata": {},
     "output_type": "execute_result"
    }
   ],
   "source": [
    "book_tags['tag_id'].value_counts().sort_index()"
   ]
  },
  {
   "cell_type": "markdown",
   "metadata": {},
   "source": [
    "9. Which book (title) has the minimum ‘average_rating’  [books.csv] ? S"
   ]
  },
  {
   "cell_type": "code",
   "execution_count": 305,
   "metadata": {},
   "outputs": [
    {
     "data": {
      "text/plain": [
       "'Beautiful Day'"
      ]
     },
     "execution_count": 305,
     "metadata": {},
     "output_type": "execute_result"
    }
   ],
   "source": [
    "books.iloc[books['average_rating'].idxmin()]['title']"
   ]
  },
  {
   "cell_type": "markdown",
   "metadata": {},
   "source": [
    "10. Which book (goodreads_book_id) has the least number of count of tags given by the user  [book_tags.csv] ? N"
   ]
  },
  {
   "cell_type": "code",
   "execution_count": 320,
   "metadata": {},
   "outputs": [
    {
     "data": {
      "text/plain": [
       "25801299"
      ]
     },
     "execution_count": 320,
     "metadata": {},
     "output_type": "execute_result"
    }
   ],
   "source": [
    "book_tags.groupby(['goodreads_book_id'])['count'].sum().idxmin()"
   ]
  },
  {
   "cell_type": "markdown",
   "metadata": {},
   "source": [
    "11. How many tags are there in the dataset [book_tags.csv]  ? N"
   ]
  },
  {
   "cell_type": "code",
   "execution_count": 307,
   "metadata": {},
   "outputs": [
    {
     "data": {
      "text/plain": [
       "goodreads_book_id     488\n",
       "tag_id               4264\n",
       "count                1762\n",
       "dtype: int64"
      ]
     },
     "execution_count": 307,
     "metadata": {},
     "output_type": "execute_result"
    }
   ],
   "source": [
    "book_tags.nunique()"
   ]
  },
  {
   "cell_type": "markdown",
   "metadata": {},
   "source": [
    "12. What is the average rating of all the books in the dataset based on ‘average_rating’  [books.csv]  ? N"
   ]
  },
  {
   "cell_type": "code",
   "execution_count": 308,
   "metadata": {},
   "outputs": [
    {
     "data": {
      "text/plain": [
       "3.9595679012345677"
      ]
     },
     "execution_count": 308,
     "metadata": {},
     "output_type": "execute_result"
    }
   ],
   "source": [
    "books['average_rating'].mean()"
   ]
  },
  {
   "cell_type": "markdown",
   "metadata": {},
   "source": [
    "13. Find the number of books published in the year ‘2000’ based on the ‘original_publication_year’ [books.csv] ? N"
   ]
  },
  {
   "cell_type": "code",
   "execution_count": 309,
   "metadata": {},
   "outputs": [
    {
     "data": {
      "text/html": [
       "<div>\n",
       "<style scoped>\n",
       "    .dataframe tbody tr th:only-of-type {\n",
       "        vertical-align: middle;\n",
       "    }\n",
       "\n",
       "    .dataframe tbody tr th {\n",
       "        vertical-align: top;\n",
       "    }\n",
       "\n",
       "    .dataframe thead th {\n",
       "        text-align: right;\n",
       "    }\n",
       "</style>\n",
       "<table border=\"1\" class=\"dataframe\">\n",
       "  <thead>\n",
       "    <tr style=\"text-align: right;\">\n",
       "      <th></th>\n",
       "      <th>book_id</th>\n",
       "      <th>goodreads_book_id</th>\n",
       "      <th>best_book_id</th>\n",
       "      <th>work_id</th>\n",
       "      <th>books_count</th>\n",
       "      <th>isbn</th>\n",
       "      <th>isbn13</th>\n",
       "      <th>authors</th>\n",
       "      <th>original_publication_year</th>\n",
       "      <th>original_title</th>\n",
       "      <th>...</th>\n",
       "      <th>work_ratings_count</th>\n",
       "      <th>work_text_reviews_count</th>\n",
       "      <th>ratings_1</th>\n",
       "      <th>ratings_2</th>\n",
       "      <th>ratings_3</th>\n",
       "      <th>ratings_4</th>\n",
       "      <th>ratings_5</th>\n",
       "      <th>image_url</th>\n",
       "      <th>small_image_url</th>\n",
       "      <th>NonEnglish</th>\n",
       "    </tr>\n",
       "  </thead>\n",
       "  <tbody>\n",
       "    <tr>\n",
       "      <th>109</th>\n",
       "      <td>2087</td>\n",
       "      <td>5190</td>\n",
       "      <td>5190</td>\n",
       "      <td>1070015</td>\n",
       "      <td>37</td>\n",
       "      <td>345435168</td>\n",
       "      <td>9.780345e+12</td>\n",
       "      <td>Elizabeth Berg</td>\n",
       "      <td>2000.0</td>\n",
       "      <td>Open House</td>\n",
       "      <td>...</td>\n",
       "      <td>49330</td>\n",
       "      <td>1417</td>\n",
       "      <td>714</td>\n",
       "      <td>3699</td>\n",
       "      <td>16410</td>\n",
       "      <td>18155</td>\n",
       "      <td>10352</td>\n",
       "      <td>https://s.gr-assets.com/assets/nophoto/book/11...</td>\n",
       "      <td>https://s.gr-assets.com/assets/nophoto/book/50...</td>\n",
       "      <td>0</td>\n",
       "    </tr>\n",
       "    <tr>\n",
       "      <th>442</th>\n",
       "      <td>8138</td>\n",
       "      <td>27864391</td>\n",
       "      <td>27864391</td>\n",
       "      <td>83062</td>\n",
       "      <td>62</td>\n",
       "      <td>NaN</td>\n",
       "      <td>9.781475e+12</td>\n",
       "      <td>David Ebershoff</td>\n",
       "      <td>2000.0</td>\n",
       "      <td>The Danish Girl</td>\n",
       "      <td>...</td>\n",
       "      <td>13984</td>\n",
       "      <td>1700</td>\n",
       "      <td>239</td>\n",
       "      <td>927</td>\n",
       "      <td>4006</td>\n",
       "      <td>5842</td>\n",
       "      <td>2970</td>\n",
       "      <td>https://images.gr-assets.com/books/1451790312m...</td>\n",
       "      <td>https://images.gr-assets.com/books/1451790312s...</td>\n",
       "      <td>0</td>\n",
       "    </tr>\n",
       "  </tbody>\n",
       "</table>\n",
       "<p>2 rows × 24 columns</p>\n",
       "</div>"
      ],
      "text/plain": [
       "     book_id  goodreads_book_id  best_book_id  work_id  books_count  \\\n",
       "109     2087               5190          5190  1070015           37   \n",
       "442     8138           27864391      27864391    83062           62   \n",
       "\n",
       "          isbn        isbn13          authors  original_publication_year  \\\n",
       "109  345435168  9.780345e+12   Elizabeth Berg                     2000.0   \n",
       "442        NaN  9.781475e+12  David Ebershoff                     2000.0   \n",
       "\n",
       "      original_title  ... work_ratings_count work_text_reviews_count  \\\n",
       "109       Open House  ...              49330                    1417   \n",
       "442  The Danish Girl  ...              13984                    1700   \n",
       "\n",
       "     ratings_1  ratings_2  ratings_3  ratings_4  ratings_5  \\\n",
       "109        714       3699      16410      18155      10352   \n",
       "442        239        927       4006       5842       2970   \n",
       "\n",
       "                                             image_url  \\\n",
       "109  https://s.gr-assets.com/assets/nophoto/book/11...   \n",
       "442  https://images.gr-assets.com/books/1451790312m...   \n",
       "\n",
       "                                       small_image_url  NonEnglish  \n",
       "109  https://s.gr-assets.com/assets/nophoto/book/50...           0  \n",
       "442  https://images.gr-assets.com/books/1451790312s...           0  \n",
       "\n",
       "[2 rows x 24 columns]"
      ]
     },
     "execution_count": 309,
     "metadata": {},
     "output_type": "execute_result"
    }
   ],
   "source": [
    "books[books['original_publication_year']==2000]"
   ]
  },
  {
   "cell_type": "markdown",
   "metadata": {},
   "source": [
    "14. Predict sentiment using Textblob. How many positive titles (title) are there [books.csv] ? (cut-off >0) N"
   ]
  },
  {
   "cell_type": "code",
   "execution_count": 310,
   "metadata": {},
   "outputs": [],
   "source": [
    "from textblob import TextBlob"
   ]
  },
  {
   "cell_type": "code",
   "execution_count": 311,
   "metadata": {},
   "outputs": [],
   "source": [
    "def getSentiment(text):\n",
    "    return \"Positive\" if TextBlob(text).sentiment.polarity > 0 else \"Negative\"\n",
    "# getSentiment(\"Wild: From Lost to Found on the Pacific Crest\")"
   ]
  },
  {
   "cell_type": "code",
   "execution_count": 312,
   "metadata": {},
   "outputs": [],
   "source": [
    "books['Sentiment'] = books['title'].apply(getSentiment)"
   ]
  },
  {
   "cell_type": "code",
   "execution_count": 313,
   "metadata": {},
   "outputs": [
    {
     "data": {
      "text/plain": [
       "84"
      ]
     },
     "execution_count": 313,
     "metadata": {},
     "output_type": "execute_result"
    }
   ],
   "source": [
    "len(books[books['Sentiment'] == \"Positive\"])"
   ]
  },
  {
   "cell_type": "code",
   "execution_count": null,
   "metadata": {},
   "outputs": [],
   "source": []
  }
 ],
 "metadata": {
  "kernelspec": {
   "display_name": "Python 3.10.4 64-bit",
   "language": "python",
   "name": "python3"
  },
  "language_info": {
   "codemirror_mode": {
    "name": "ipython",
    "version": 3
   },
   "file_extension": ".py",
   "mimetype": "text/x-python",
   "name": "python",
   "nbconvert_exporter": "python",
   "pygments_lexer": "ipython3",
   "version": "3.10.4"
  },
  "orig_nbformat": 4,
  "vscode": {
   "interpreter": {
    "hash": "aee8b7b246df8f9039afb4144a1f6fd8d2ca17a180786b69acc140d282b71a49"
   }
  }
 },
 "nbformat": 4,
 "nbformat_minor": 2
}
