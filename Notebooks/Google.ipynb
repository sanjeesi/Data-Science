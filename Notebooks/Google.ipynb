{
 "cells": [
  {
   "cell_type": "markdown",
   "metadata": {},
   "source": [
    "### Sentiment Analysis using TextBlob\n",
    "(cut-off >0)"
   ]
  },
  {
   "cell_type": "code",
   "execution_count": 8,
   "metadata": {},
   "outputs": [
    {
     "data": {
      "text/plain": [
       "'Positive'"
      ]
     },
     "execution_count": 8,
     "metadata": {},
     "output_type": "execute_result"
    }
   ],
   "source": [
    "from textblob import TextBlob\n",
    "\n",
    "def getSentiment(text):\n",
    "    return \"Positive\" if TextBlob(text).sentiment.polarity > 0 else \"Negative\"\n",
    "\n",
    "getSentiment(\"Thanks\")"
   ]
  },
  {
   "cell_type": "markdown",
   "metadata": {},
   "source": [
    "### Pandas\n",
    "```cpp\n",
    "books.nunique() : Count column-wise unique values\n",
    "books.isna().sum() : count column-wise NaN values\n",
    "books.iloc[books['work_ratings_count'].idxmax()] : row having max in one column\n",
    "book_tags['tag_id'].mode() : most frequent\n",
    "books[books['original_title'].notna()] : drop rows with null values in a column\n",
    "```"
   ]
  },
  {
   "cell_type": "markdown",
   "metadata": {},
   "source": [
    "### pandas remove rows with value in another dataframe\n",
    "how to delete rows from a Data Frame based on another Data Frame?\n",
    "USERS[~USERS.email.isin(EXCLUDE.email)]  \n",
    "\n",
    "Alternatively use: `pd.merge()`"
   ]
  },
  {
   "cell_type": "markdown",
   "metadata": {},
   "source": []
  }
 ],
 "metadata": {
  "kernelspec": {
   "display_name": "Python 3.10.4 64-bit",
   "language": "python",
   "name": "python3"
  },
  "language_info": {
   "codemirror_mode": {
    "name": "ipython",
    "version": 3
   },
   "file_extension": ".py",
   "mimetype": "text/x-python",
   "name": "python",
   "nbconvert_exporter": "python",
   "pygments_lexer": "ipython3",
   "version": "3.10.4"
  },
  "orig_nbformat": 4,
  "vscode": {
   "interpreter": {
    "hash": "aee8b7b246df8f9039afb4144a1f6fd8d2ca17a180786b69acc140d282b71a49"
   }
  }
 },
 "nbformat": 4,
 "nbformat_minor": 2
}
